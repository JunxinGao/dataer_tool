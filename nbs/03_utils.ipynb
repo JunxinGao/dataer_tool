{
 "cells": [
  {
   "cell_type": "code",
   "execution_count": 1,
   "source": [
    "# default_exp utils"
   ],
   "outputs": [],
   "metadata": {}
  },
  {
   "cell_type": "markdown",
   "source": [
    "# Utils\n",
    "\n",
    "> help functions"
   ],
   "metadata": {}
  },
  {
   "cell_type": "code",
   "execution_count": 2,
   "source": [
    "#hide\n",
    "from nbdev.showdoc import *"
   ],
   "outputs": [],
   "metadata": {}
  },
  {
   "cell_type": "code",
   "execution_count": 3,
   "source": [
    "#export\n",
    "from dataer_tool.imports import *"
   ],
   "outputs": [],
   "metadata": {}
  },
  {
   "cell_type": "code",
   "execution_count": 4,
   "source": [
    "#export\n",
    "def get_count_data_datetime(input_df, count_column, date_time_column:str=None, agg_method='sum', cumsum:bool=False, resample_mode:str='d', extra_meta_column:str=None):\n",
    "    date_df = input_df\n",
    "    extra_meta_keys = list(date_df[extra_meta_column].value_counts().index) if extra_meta_column is not None else None\n",
    "    if date_time_column is not None:\n",
    "        if 'int' in str(date_df[date_time_column].dtype).lower(): date_df[date_time_column] = date_df[date_time_column].astype(\"string\")\n",
    "        date_df[date_time_column] = pd.to_datetime(date_df[date_time_column])\n",
    "        date_df = date_df.set_index(date_time_column)\n",
    "    if date_time_column is None: date_time_column = date_df.index.name = \"_index_column_title\"\n",
    "    if resample_mode in ['d', 'w', 'm', 'y']:\n",
    "        date_df_iter = date_df.resample(resample_mode)\n",
    "    else:\n",
    "        date_df_iter = date_df.groupby(date_time_column)\n",
    "    agg_row = date_df_iter[count_column].agg(agg_method)\n",
    "    if cumsum: agg_row = agg_row.cumsum()\n",
    "    count_data = agg_row.to_dict()\n",
    "    if extra_meta_column is not None:\n",
    "        extra_output_data = {k: [] for k in extra_meta_keys}\n",
    "        for o in date_df_iter:\n",
    "            extra_data_item = o[1].groupby(extra_meta_column)[count_column].sum().to_dict()\n",
    "            for extra_meta_key in extra_meta_keys:\n",
    "                extra_output_data[extra_meta_key].append(extra_data_item.get(extra_meta_key, 0))\n",
    "    else:\n",
    "        extra_output_data = None\n",
    "    return (count_data, extra_output_data) if extra_output_data is not None else count_data"
   ],
   "outputs": [],
   "metadata": {}
  },
  {
   "cell_type": "code",
   "execution_count": 5,
   "source": [
    "df = pd.DataFrame({\n",
    " 'date': {0: '2000-03-01',\n",
    "          1: '2000-03-02',\n",
    "          2: '2000-03-03',\n",
    "          3: '2000-03-06',\n",
    "          4: '2000-03-07',\n",
    "          5: '2000-03-08',\n",
    "          6: '2000-03-09',\n",
    "          7: '2000-03-10'},\n",
    " 'open': {0: 118.56,\n",
    "          1: 127.0,\n",
    "          2: 124.87,\n",
    "          3: 126.0,\n",
    "          4: 126.44,\n",
    "          5: 122.87,\n",
    "          6: 120.87,\n",
    "          7: 121.69},\n",
    " 'cat': {0: 'A',\n",
    "         1: 'B',\n",
    "         2: 'C',\n",
    "         3: 'B',\n",
    "         4: 'A',\n",
    "         5: 'A',\n",
    "         6: 'C',\n",
    "         7: 'C'}\n",
    "  })"
   ],
   "outputs": [],
   "metadata": {}
  },
  {
   "cell_type": "code",
   "execution_count": 6,
   "source": [
    "from dataer_tool.visualize.bokeh import line_figure_datetime\n",
    "from bokeh.io import show, output_notebook\n",
    "output_notebook()"
   ],
   "outputs": [
    {
     "output_type": "display_data",
     "data": {
      "text/html": [
       "\n",
       "    <div class=\"bk-root\">\n",
       "        <a href=\"https://bokeh.org\" target=\"_blank\" class=\"bk-logo bk-logo-small bk-logo-notebook\"></a>\n",
       "        <span id=\"1002\">Loading BokehJS ...</span>\n",
       "    </div>"
      ]
     },
     "metadata": {}
    },
    {
     "output_type": "display_data",
     "data": {
      "application/vnd.bokehjs_load.v0+json": "",
      "application/javascript": "\n(function(root) {\n  function now() {\n    return new Date();\n  }\n\n  const force = true;\n\n  if (typeof root._bokeh_onload_callbacks === \"undefined\" || force === true) {\n    root._bokeh_onload_callbacks = [];\n    root._bokeh_is_loading = undefined;\n  }\n\n  const JS_MIME_TYPE = 'application/javascript';\n  const HTML_MIME_TYPE = 'text/html';\n  const EXEC_MIME_TYPE = 'application/vnd.bokehjs_exec.v0+json';\n  const CLASS_NAME = 'output_bokeh rendered_html';\n\n  /**\n   * Render data to the DOM node\n   */\n  function render(props, node) {\n    const script = document.createElement(\"script\");\n    node.appendChild(script);\n  }\n\n  /**\n   * Handle when an output is cleared or removed\n   */\n  function handleClearOutput(event, handle) {\n    const cell = handle.cell;\n\n    const id = cell.output_area._bokeh_element_id;\n    const server_id = cell.output_area._bokeh_server_id;\n    // Clean up Bokeh references\n    if (id != null && id in Bokeh.index) {\n      Bokeh.index[id].model.document.clear();\n      delete Bokeh.index[id];\n    }\n\n    if (server_id !== undefined) {\n      // Clean up Bokeh references\n      const cmd_clean = \"from bokeh.io.state import curstate; print(curstate().uuid_to_server['\" + server_id + \"'].get_sessions()[0].document.roots[0]._id)\";\n      cell.notebook.kernel.execute(cmd_clean, {\n        iopub: {\n          output: function(msg) {\n            const id = msg.content.text.trim();\n            if (id in Bokeh.index) {\n              Bokeh.index[id].model.document.clear();\n              delete Bokeh.index[id];\n            }\n          }\n        }\n      });\n      // Destroy server and session\n      const cmd_destroy = \"import bokeh.io.notebook as ion; ion.destroy_server('\" + server_id + \"')\";\n      cell.notebook.kernel.execute(cmd_destroy);\n    }\n  }\n\n  /**\n   * Handle when a new output is added\n   */\n  function handleAddOutput(event, handle) {\n    const output_area = handle.output_area;\n    const output = handle.output;\n\n    // limit handleAddOutput to display_data with EXEC_MIME_TYPE content only\n    if ((output.output_type != \"display_data\") || (!Object.prototype.hasOwnProperty.call(output.data, EXEC_MIME_TYPE))) {\n      return\n    }\n\n    const toinsert = output_area.element.find(\".\" + CLASS_NAME.split(' ')[0]);\n\n    if (output.metadata[EXEC_MIME_TYPE][\"id\"] !== undefined) {\n      toinsert[toinsert.length - 1].firstChild.textContent = output.data[JS_MIME_TYPE];\n      // store reference to embed id on output_area\n      output_area._bokeh_element_id = output.metadata[EXEC_MIME_TYPE][\"id\"];\n    }\n    if (output.metadata[EXEC_MIME_TYPE][\"server_id\"] !== undefined) {\n      const bk_div = document.createElement(\"div\");\n      bk_div.innerHTML = output.data[HTML_MIME_TYPE];\n      const script_attrs = bk_div.children[0].attributes;\n      for (let i = 0; i < script_attrs.length; i++) {\n        toinsert[toinsert.length - 1].firstChild.setAttribute(script_attrs[i].name, script_attrs[i].value);\n        toinsert[toinsert.length - 1].firstChild.textContent = bk_div.children[0].textContent\n      }\n      // store reference to server id on output_area\n      output_area._bokeh_server_id = output.metadata[EXEC_MIME_TYPE][\"server_id\"];\n    }\n  }\n\n  function register_renderer(events, OutputArea) {\n\n    function append_mime(data, metadata, element) {\n      // create a DOM node to render to\n      const toinsert = this.create_output_subarea(\n        metadata,\n        CLASS_NAME,\n        EXEC_MIME_TYPE\n      );\n      this.keyboard_manager.register_events(toinsert);\n      // Render to node\n      const props = {data: data, metadata: metadata[EXEC_MIME_TYPE]};\n      render(props, toinsert[toinsert.length - 1]);\n      element.append(toinsert);\n      return toinsert\n    }\n\n    /* Handle when an output is cleared or removed */\n    events.on('clear_output.CodeCell', handleClearOutput);\n    events.on('delete.Cell', handleClearOutput);\n\n    /* Handle when a new output is added */\n    events.on('output_added.OutputArea', handleAddOutput);\n\n    /**\n     * Register the mime type and append_mime function with output_area\n     */\n    OutputArea.prototype.register_mime_type(EXEC_MIME_TYPE, append_mime, {\n      /* Is output safe? */\n      safe: true,\n      /* Index of renderer in `output_area.display_order` */\n      index: 0\n    });\n  }\n\n  // register the mime type if in Jupyter Notebook environment and previously unregistered\n  if (root.Jupyter !== undefined) {\n    const events = require('base/js/events');\n    const OutputArea = require('notebook/js/outputarea').OutputArea;\n\n    if (OutputArea.prototype.mime_types().indexOf(EXEC_MIME_TYPE) == -1) {\n      register_renderer(events, OutputArea);\n    }\n  }\n\n  \n  if (typeof (root._bokeh_timeout) === \"undefined\" || force === true) {\n    root._bokeh_timeout = Date.now() + 5000;\n    root._bokeh_failed_load = false;\n  }\n\n  const NB_LOAD_WARNING = {'data': {'text/html':\n     \"<div style='background-color: #fdd'>\\n\"+\n     \"<p>\\n\"+\n     \"BokehJS does not appear to have successfully loaded. If loading BokehJS from CDN, this \\n\"+\n     \"may be due to a slow or bad network connection. Possible fixes:\\n\"+\n     \"</p>\\n\"+\n     \"<ul>\\n\"+\n     \"<li>re-rerun `output_notebook()` to attempt to load from CDN again, or</li>\\n\"+\n     \"<li>use INLINE resources instead, as so:</li>\\n\"+\n     \"</ul>\\n\"+\n     \"<code>\\n\"+\n     \"from bokeh.resources import INLINE\\n\"+\n     \"output_notebook(resources=INLINE)\\n\"+\n     \"</code>\\n\"+\n     \"</div>\"}};\n\n  function display_loaded() {\n    const el = document.getElementById(\"1002\");\n    if (el != null) {\n      el.textContent = \"BokehJS is loading...\";\n    }\n    if (root.Bokeh !== undefined) {\n      if (el != null) {\n        el.textContent = \"BokehJS \" + root.Bokeh.version + \" successfully loaded.\";\n      }\n    } else if (Date.now() < root._bokeh_timeout) {\n      setTimeout(display_loaded, 100)\n    }\n  }\n\n\n  function run_callbacks() {\n    try {\n      root._bokeh_onload_callbacks.forEach(function(callback) {\n        if (callback != null)\n          callback();\n      });\n    } finally {\n      delete root._bokeh_onload_callbacks\n    }\n    console.debug(\"Bokeh: all callbacks have finished\");\n  }\n\n  function load_libs(css_urls, js_urls, callback) {\n    if (css_urls == null) css_urls = [];\n    if (js_urls == null) js_urls = [];\n\n    root._bokeh_onload_callbacks.push(callback);\n    if (root._bokeh_is_loading > 0) {\n      console.debug(\"Bokeh: BokehJS is being loaded, scheduling callback at\", now());\n      return null;\n    }\n    if (js_urls == null || js_urls.length === 0) {\n      run_callbacks();\n      return null;\n    }\n    console.debug(\"Bokeh: BokehJS not loaded, scheduling load and callback at\", now());\n    root._bokeh_is_loading = css_urls.length + js_urls.length;\n\n    function on_load() {\n      root._bokeh_is_loading--;\n      if (root._bokeh_is_loading === 0) {\n        console.debug(\"Bokeh: all BokehJS libraries/stylesheets loaded\");\n        run_callbacks()\n      }\n    }\n\n    function on_error(url) {\n      console.error(\"failed to load \" + url);\n    }\n\n    for (let i = 0; i < css_urls.length; i++) {\n      const url = css_urls[i];\n      const element = document.createElement(\"link\");\n      element.onload = on_load;\n      element.onerror = on_error.bind(null, url);\n      element.rel = \"stylesheet\";\n      element.type = \"text/css\";\n      element.href = url;\n      console.debug(\"Bokeh: injecting link tag for BokehJS stylesheet: \", url);\n      document.body.appendChild(element);\n    }\n\n    for (let i = 0; i < js_urls.length; i++) {\n      const url = js_urls[i];\n      const element = document.createElement('script');\n      element.onload = on_load;\n      element.onerror = on_error.bind(null, url);\n      element.async = false;\n      element.src = url;\n      console.debug(\"Bokeh: injecting script tag for BokehJS library: \", url);\n      document.head.appendChild(element);\n    }\n  };\n\n  function inject_raw_css(css) {\n    const element = document.createElement(\"style\");\n    element.appendChild(document.createTextNode(css));\n    document.body.appendChild(element);\n  }\n\n  \n  const js_urls = [\"https://cdn.bokeh.org/bokeh/release/bokeh-2.4.0.min.js\", \"https://cdn.bokeh.org/bokeh/release/bokeh-gl-2.4.0.min.js\", \"https://cdn.bokeh.org/bokeh/release/bokeh-widgets-2.4.0.min.js\", \"https://cdn.bokeh.org/bokeh/release/bokeh-tables-2.4.0.min.js\", \"https://cdn.bokeh.org/bokeh/release/bokeh-mathjax-2.4.0.min.js\"];\n  const css_urls = [];\n  \n\n  const inline_js = [\n    function(Bokeh) {\n      Bokeh.set_log_level(\"info\");\n    },\n    function(Bokeh) {\n    \n    \n    }\n  ];\n\n  function run_inline_js() {\n    \n    if (root.Bokeh !== undefined || force === true) {\n      \n    for (let i = 0; i < inline_js.length; i++) {\n      inline_js[i].call(root, root.Bokeh);\n    }\n    if (force === true) {\n        display_loaded();\n      }} else if (Date.now() < root._bokeh_timeout) {\n      setTimeout(run_inline_js, 100);\n    } else if (!root._bokeh_failed_load) {\n      console.log(\"Bokeh: BokehJS failed to load within specified timeout.\");\n      root._bokeh_failed_load = true;\n    } else if (force !== true) {\n      const cell = $(document.getElementById(\"1002\")).parents('.cell').data().cell;\n      cell.output_area.append_execute_result(NB_LOAD_WARNING)\n    }\n\n  }\n\n  if (root._bokeh_is_loading === 0) {\n    console.debug(\"Bokeh: BokehJS loaded, going straight to plotting\");\n    run_inline_js();\n  } else {\n    load_libs(css_urls, js_urls, function() {\n      console.debug(\"Bokeh: BokehJS plotting callback run at\", now());\n      run_inline_js();\n    });\n  }\n}(window));"
     },
     "metadata": {}
    }
   ],
   "metadata": {}
  },
  {
   "cell_type": "code",
   "execution_count": 7,
   "source": [
    "data = get_count_data_datetime(df, count_column='open', date_time_column='date')\n",
    "\n",
    "p = line_figure_datetime(data, title=\"趋势图\", draw_circle=True)\n",
    "show(p)"
   ],
   "outputs": [
    {
     "output_type": "stream",
     "name": "stderr",
     "text": [
      "/media/storage_0x00/ENV/miniconda3/envs/dataer_tool/lib/python3.9/site-packages/bokeh/models/plots.py:815: UserWarning: \n",
      "You are attempting to set `plot.legend.background_fill_alpha` on a plot that has zero legends added, this will have no effect.\n",
      "\n",
      "Before legend properties can be set, you must add a Legend explicitly, or call a glyph method with a legend parameter set.\n",
      "\n",
      "  warnings.warn(_LEGEND_EMPTY_WARNING % attr)\n",
      "/media/storage_0x00/ENV/miniconda3/envs/dataer_tool/lib/python3.9/site-packages/bokeh/models/plots.py:815: UserWarning: \n",
      "You are attempting to set `plot.legend.orientation` on a plot that has zero legends added, this will have no effect.\n",
      "\n",
      "Before legend properties can be set, you must add a Legend explicitly, or call a glyph method with a legend parameter set.\n",
      "\n",
      "  warnings.warn(_LEGEND_EMPTY_WARNING % attr)\n",
      "/media/storage_0x00/ENV/miniconda3/envs/dataer_tool/lib/python3.9/site-packages/bokeh/models/plots.py:815: UserWarning: \n",
      "You are attempting to set `plot.legend.location` on a plot that has zero legends added, this will have no effect.\n",
      "\n",
      "Before legend properties can be set, you must add a Legend explicitly, or call a glyph method with a legend parameter set.\n",
      "\n",
      "  warnings.warn(_LEGEND_EMPTY_WARNING % attr)\n"
     ]
    },
    {
     "output_type": "display_data",
     "data": {
      "text/html": [
       "\n",
       "\n",
       "\n",
       "\n",
       "\n",
       "\n",
       "  <div class=\"bk-root\" id=\"99579dd0-dc1a-44f1-aba8-132efcf45618\" data-root-id=\"1078\"></div>\n"
      ]
     },
     "metadata": {}
    },
    {
     "output_type": "display_data",
     "data": {
      "application/javascript": "(function(root) {\n  function embed_document(root) {\n    \n  const docs_json = {\"45c470fd-9652-4dda-aea0-e9c212aab95a\":{\"defs\":[],\"roots\":{\"references\":[{\"attributes\":{\"children\":[{\"id\":\"1003\"},{\"id\":\"1029\"}]},\"id\":\"1078\",\"type\":\"Column\"},{\"attributes\":{\"coordinates\":null,\"data_source\":{\"id\":\"1050\"},\"glyph\":{\"id\":\"1066\"},\"group\":null,\"hover_glyph\":null,\"muted_glyph\":{\"id\":\"1068\"},\"nonselection_glyph\":{\"id\":\"1067\"},\"view\":{\"id\":\"1070\"}},\"id\":\"1069\",\"type\":\"GlyphRenderer\"},{\"attributes\":{\"mantissas\":[1,2,5],\"max_interval\":500.0,\"num_minor_ticks\":0},\"id\":\"1092\",\"type\":\"AdaptiveTicker\"},{\"attributes\":{\"coordinates\":null,\"data_source\":{\"id\":\"1050\"},\"glyph\":{\"id\":\"1058\"},\"group\":null,\"hover_glyph\":null,\"muted_glyph\":{\"id\":\"1060\"},\"nonselection_glyph\":{\"id\":\"1059\"},\"view\":{\"id\":\"1062\"}},\"id\":\"1061\",\"type\":\"GlyphRenderer\"},{\"attributes\":{\"fill_alpha\":{\"value\":0.1},\"fill_color\":{\"value\":\"white\"},\"hatch_alpha\":{\"value\":0.1},\"line_alpha\":{\"value\":0.1},\"line_color\":{\"value\":\"#66c2a5\"},\"size\":{\"value\":6},\"x\":{\"field\":\"x\"},\"y\":{\"field\":\"y\"}},\"id\":\"1059\",\"type\":\"Circle\"},{\"attributes\":{\"line_alpha\":0.1,\"line_color\":\"#66c2a5\",\"x\":{\"field\":\"x\"},\"y\":{\"field\":\"y\"}},\"id\":\"1067\",\"type\":\"Line\"},{\"attributes\":{\"base\":60,\"mantissas\":[1,2,5,10,15,20,30],\"max_interval\":1800000.0,\"min_interval\":1000.0,\"num_minor_ticks\":0},\"id\":\"1093\",\"type\":\"AdaptiveTicker\"},{\"attributes\":{\"days\":[1,8,15,22]},\"id\":\"1097\",\"type\":\"DaysTicker\"},{\"attributes\":{\"fill_alpha\":{\"value\":0.2},\"fill_color\":{\"value\":\"white\"},\"hatch_alpha\":{\"value\":0.2},\"line_alpha\":{\"value\":0.2},\"line_color\":{\"value\":\"#66c2a5\"},\"size\":{\"value\":6},\"x\":{\"field\":\"x\"},\"y\":{\"field\":\"y\"}},\"id\":\"1060\",\"type\":\"Circle\"},{\"attributes\":{\"base\":24,\"mantissas\":[1,2,4,6,8,12],\"max_interval\":43200000.0,\"min_interval\":3600000.0,\"num_minor_ticks\":0},\"id\":\"1094\",\"type\":\"AdaptiveTicker\"},{\"attributes\":{\"line_color\":\"#66c2a5\",\"x\":{\"field\":\"x\"},\"y\":{\"field\":\"y\"}},\"id\":\"1066\",\"type\":\"Line\"},{\"attributes\":{},\"id\":\"1103\",\"type\":\"YearsTicker\"},{\"attributes\":{\"source\":{\"id\":\"1050\"}},\"id\":\"1062\",\"type\":\"CDSView\"},{\"attributes\":{\"days\":[1,4,7,10,13,16,19,22,25,28]},\"id\":\"1096\",\"type\":\"DaysTicker\"},{\"attributes\":{\"callback\":null,\"formatters\":{\"@{x}\":\"datetime\"},\"tooltips\":[[\"x\",\"@{x}{%F}\"],[\"y\",\"@{y}\"]]},\"id\":\"1063\",\"type\":\"HoverTool\"},{\"attributes\":{\"days\":[1,2,3,4,5,6,7,8,9,10,11,12,13,14,15,16,17,18,19,20,21,22,23,24,25,26,27,28,29,30,31]},\"id\":\"1095\",\"type\":\"DaysTicker\"},{\"attributes\":{\"months\":[0,6]},\"id\":\"1102\",\"type\":\"MonthsTicker\"},{\"attributes\":{\"days\":[1,15]},\"id\":\"1098\",\"type\":\"DaysTicker\"},{\"attributes\":{\"source\":{\"id\":\"1050\"}},\"id\":\"1070\",\"type\":\"CDSView\"},{\"attributes\":{\"months\":[0,1,2,3,4,5,6,7,8,9,10,11]},\"id\":\"1099\",\"type\":\"MonthsTicker\"},{\"attributes\":{},\"id\":\"1086\",\"type\":\"AllLabels\"},{\"attributes\":{\"months\":[0,2,4,6,8,10]},\"id\":\"1100\",\"type\":\"MonthsTicker\"},{\"attributes\":{\"line_alpha\":0.2,\"line_color\":\"#66c2a5\",\"x\":{\"field\":\"x\"},\"y\":{\"field\":\"y\"}},\"id\":\"1068\",\"type\":\"Line\"},{\"attributes\":{\"months\":[0,4,8]},\"id\":\"1101\",\"type\":\"MonthsTicker\"},{\"attributes\":{},\"id\":\"1088\",\"type\":\"DatetimeTickFormatter\"},{\"attributes\":{\"end\":952387200000.0,\"start\":952214400000.0},\"id\":\"1072\",\"type\":\"Range1d\"},{\"attributes\":{},\"id\":\"1089\",\"type\":\"AllLabels\"},{\"attributes\":{\"coordinates\":null,\"fill_alpha\":0.2,\"fill_color\":\"navy\",\"group\":null,\"level\":\"overlay\",\"line_alpha\":1.0,\"line_color\":\"black\",\"line_dash\":[2,2],\"line_width\":0.5,\"syncable\":false},\"id\":\"1074\",\"type\":\"BoxAnnotation\"},{\"attributes\":{\"num_minor_ticks\":5,\"tickers\":[{\"id\":\"1105\"},{\"id\":\"1106\"},{\"id\":\"1107\"},{\"id\":\"1108\"},{\"id\":\"1109\"},{\"id\":\"1110\"},{\"id\":\"1111\"},{\"id\":\"1112\"},{\"id\":\"1113\"},{\"id\":\"1114\"},{\"id\":\"1115\"},{\"id\":\"1116\"}]},\"id\":\"1040\",\"type\":\"DatetimeTicker\"},{\"attributes\":{},\"id\":\"1090\",\"type\":\"UnionRenderers\"},{\"attributes\":{\"line_alpha\":0.2,\"line_color\":\"#66c2a5\",\"x\":{\"field\":\"x\"},\"y\":{\"field\":\"y\"}},\"id\":\"1054\",\"type\":\"Line\"},{\"attributes\":{},\"id\":\"1091\",\"type\":\"Selection\"},{\"attributes\":{},\"id\":\"1035\",\"type\":\"LinearScale\"},{\"attributes\":{\"line_color\":\"#66c2a5\",\"x\":{\"field\":\"x\"},\"y\":{\"field\":\"y\"}},\"id\":\"1052\",\"type\":\"Line\"},{\"attributes\":{\"base\":60,\"mantissas\":[1,2,5,10,15,20,30],\"max_interval\":1800000.0,\"min_interval\":1000.0,\"num_minor_ticks\":0},\"id\":\"1106\",\"type\":\"AdaptiveTicker\"},{\"attributes\":{\"mantissas\":[1,2,5],\"max_interval\":500.0,\"num_minor_ticks\":0},\"id\":\"1105\",\"type\":\"AdaptiveTicker\"},{\"attributes\":{},\"id\":\"1037\",\"type\":\"LinearScale\"},{\"attributes\":{\"base\":24,\"mantissas\":[1,2,4,6,8,12],\"max_interval\":43200000.0,\"min_interval\":3600000.0,\"num_minor_ticks\":0},\"id\":\"1107\",\"type\":\"AdaptiveTicker\"},{\"attributes\":{},\"id\":\"1116\",\"type\":\"YearsTicker\"},{\"attributes\":{\"months\":[0,1,2,3,4,5,6,7,8,9,10,11]},\"id\":\"1112\",\"type\":\"MonthsTicker\"},{\"attributes\":{\"data\":{\"x\":[951868800000.0,951955200000.0,952041600000.0,952128000000.0,952214400000.0,952300800000.0,952387200000.0,952473600000.0,952560000000.0,952646400000.0],\"y\":[118.56,127.0,124.87,0.0,0.0,126.0,126.44,122.87,120.87,121.69]},\"selected\":{\"id\":\"1091\"},\"selection_policy\":{\"id\":\"1090\"}},\"id\":\"1050\",\"type\":\"ColumnDataSource\"},{\"attributes\":{\"days\":[1,15]},\"id\":\"1111\",\"type\":\"DaysTicker\"},{\"attributes\":{\"days\":[1,2,3,4,5,6,7,8,9,10,11,12,13,14,15,16,17,18,19,20,21,22,23,24,25,26,27,28,29,30,31]},\"id\":\"1108\",\"type\":\"DaysTicker\"},{\"attributes\":{\"days\":[1,4,7,10,13,16,19,22,25,28]},\"id\":\"1109\",\"type\":\"DaysTicker\"},{\"attributes\":{\"days\":[1,8,15,22]},\"id\":\"1110\",\"type\":\"DaysTicker\"},{\"attributes\":{\"months\":[0,6]},\"id\":\"1115\",\"type\":\"MonthsTicker\"},{\"attributes\":{\"axis\":{\"id\":\"1039\"},\"coordinates\":null,\"group\":null,\"ticker\":null},\"id\":\"1042\",\"type\":\"Grid\"},{\"attributes\":{\"months\":[0,2,4,6,8,10]},\"id\":\"1113\",\"type\":\"MonthsTicker\"},{\"attributes\":{\"active_multi\":{\"id\":\"1073\"},\"tools\":[{\"id\":\"1043\"},{\"id\":\"1044\"},{\"id\":\"1045\"},{\"id\":\"1073\"}]},\"id\":\"1046\",\"type\":\"Toolbar\"},{\"attributes\":{\"tools\":[{\"id\":\"1022\"},{\"id\":\"1023\"},{\"id\":\"1024\"},{\"id\":\"1063\"}]},\"id\":\"1025\",\"type\":\"Toolbar\"},{\"attributes\":{\"months\":[0,4,8]},\"id\":\"1114\",\"type\":\"MonthsTicker\"},{\"attributes\":{\"source\":{\"id\":\"1050\"}},\"id\":\"1056\",\"type\":\"CDSView\"},{\"attributes\":{\"line_alpha\":0.1,\"line_color\":\"#66c2a5\",\"x\":{\"field\":\"x\"},\"y\":{\"field\":\"y\"}},\"id\":\"1053\",\"type\":\"Line\"},{\"attributes\":{},\"id\":\"1071\",\"type\":\"LinearScale\"},{\"attributes\":{},\"id\":\"1032\",\"type\":\"DataRange1d\"},{\"attributes\":{},\"id\":\"1045\",\"type\":\"PanTool\"},{\"attributes\":{\"coordinates\":null,\"formatter\":{\"id\":\"1088\"},\"group\":null,\"major_label_policy\":{\"id\":\"1089\"},\"ticker\":{\"id\":\"1040\"}},\"id\":\"1039\",\"type\":\"DatetimeAxis\"},{\"attributes\":{},\"id\":\"1082\",\"type\":\"BasicTickFormatter\"},{\"attributes\":{\"fill_color\":{\"value\":\"white\"},\"line_color\":{\"value\":\"#66c2a5\"},\"size\":{\"value\":6},\"x\":{\"field\":\"x\"},\"y\":{\"field\":\"y\"}},\"id\":\"1058\",\"type\":\"Circle\"},{\"attributes\":{},\"id\":\"1083\",\"type\":\"AllLabels\"},{\"attributes\":{\"coordinates\":null,\"group\":null,\"text\":\"\\u62d6\\u52a8\\u9009\\u62e9 x \\u533a\\u95f4\"},\"id\":\"1030\",\"type\":\"Title\"},{\"attributes\":{},\"id\":\"1043\",\"type\":\"SaveTool\"},{\"attributes\":{},\"id\":\"1085\",\"type\":\"DatetimeTickFormatter\"},{\"attributes\":{},\"id\":\"1044\",\"type\":\"ResetTool\"},{\"attributes\":{\"coordinates\":null,\"data_source\":{\"id\":\"1050\"},\"glyph\":{\"id\":\"1052\"},\"group\":null,\"hover_glyph\":null,\"muted_glyph\":{\"id\":\"1054\"},\"nonselection_glyph\":{\"id\":\"1053\"},\"view\":{\"id\":\"1056\"}},\"id\":\"1055\",\"type\":\"GlyphRenderer\"},{\"attributes\":{\"above\":[{\"id\":\"1014\"}],\"background_fill_color\":\"#efefef\",\"center\":[{\"id\":\"1017\"},{\"id\":\"1021\"}],\"height\":325,\"left\":[{\"id\":\"1018\"}],\"renderers\":[{\"id\":\"1055\"},{\"id\":\"1061\"}],\"title\":{\"id\":\"1004\"},\"toolbar\":{\"id\":\"1025\"},\"toolbar_location\":\"above\",\"width\":800,\"x_range\":{\"id\":\"1072\"},\"x_scale\":{\"id\":\"1071\"},\"y_range\":{\"id\":\"1008\"},\"y_scale\":{\"id\":\"1012\"}},\"id\":\"1003\",\"subtype\":\"Figure\",\"type\":\"Plot\"},{\"attributes\":{\"overlay\":{\"id\":\"1074\"},\"x_range\":{\"id\":\"1072\"},\"y_range\":null},\"id\":\"1073\",\"type\":\"RangeTool\"},{\"attributes\":{},\"id\":\"1008\",\"type\":\"DataRange1d\"},{\"attributes\":{\"axis_label\":\"y\",\"coordinates\":null,\"formatter\":{\"id\":\"1082\"},\"group\":null,\"major_label_policy\":{\"id\":\"1083\"},\"ticker\":{\"id\":\"1019\"}},\"id\":\"1018\",\"type\":\"LinearAxis\"},{\"attributes\":{\"axis\":{\"id\":\"1014\"},\"coordinates\":null,\"group\":null,\"ticker\":null},\"id\":\"1017\",\"type\":\"Grid\"},{\"attributes\":{\"num_minor_ticks\":5,\"tickers\":[{\"id\":\"1092\"},{\"id\":\"1093\"},{\"id\":\"1094\"},{\"id\":\"1095\"},{\"id\":\"1096\"},{\"id\":\"1097\"},{\"id\":\"1098\"},{\"id\":\"1099\"},{\"id\":\"1100\"},{\"id\":\"1101\"},{\"id\":\"1102\"},{\"id\":\"1103\"}]},\"id\":\"1015\",\"type\":\"DatetimeTicker\"},{\"attributes\":{\"background_fill_color\":\"#efefef\",\"below\":[{\"id\":\"1039\"}],\"center\":[{\"id\":\"1042\"}],\"height\":175,\"renderers\":[{\"id\":\"1069\"}],\"title\":{\"id\":\"1030\"},\"toolbar\":{\"id\":\"1046\"},\"toolbar_location\":\"above\",\"width\":800,\"x_range\":{\"id\":\"1032\"},\"x_scale\":{\"id\":\"1035\"},\"y_range\":{\"id\":\"1008\"},\"y_scale\":{\"id\":\"1037\"}},\"id\":\"1029\",\"subtype\":\"Figure\",\"type\":\"Plot\"},{\"attributes\":{},\"id\":\"1019\",\"type\":\"BasicTicker\"},{\"attributes\":{\"coordinates\":null,\"group\":null,\"text\":\"\\u8d8b\\u52bf\\u56fe\"},\"id\":\"1004\",\"type\":\"Title\"},{\"attributes\":{\"axis_label\":\"x\",\"coordinates\":null,\"formatter\":{\"id\":\"1085\"},\"group\":null,\"major_label_policy\":{\"id\":\"1086\"},\"ticker\":{\"id\":\"1015\"}},\"id\":\"1014\",\"type\":\"DatetimeAxis\"},{\"attributes\":{},\"id\":\"1023\",\"type\":\"ResetTool\"},{\"attributes\":{\"axis\":{\"id\":\"1018\"},\"coordinates\":null,\"dimension\":1,\"group\":null,\"ticker\":null},\"id\":\"1021\",\"type\":\"Grid\"},{\"attributes\":{},\"id\":\"1024\",\"type\":\"PanTool\"},{\"attributes\":{},\"id\":\"1022\",\"type\":\"SaveTool\"},{\"attributes\":{},\"id\":\"1012\",\"type\":\"LinearScale\"}],\"root_ids\":[\"1078\"]},\"title\":\"Bokeh Application\",\"version\":\"2.4.0\"}};\n  const render_items = [{\"docid\":\"45c470fd-9652-4dda-aea0-e9c212aab95a\",\"root_ids\":[\"1078\"],\"roots\":{\"1078\":\"99579dd0-dc1a-44f1-aba8-132efcf45618\"}}];\n  root.Bokeh.embed.embed_items_notebook(docs_json, render_items);\n\n  }\n  if (root.Bokeh !== undefined) {\n    embed_document(root);\n  } else {\n    let attempts = 0;\n    const timer = setInterval(function(root) {\n      if (root.Bokeh !== undefined) {\n        clearInterval(timer);\n        embed_document(root);\n      } else {\n        attempts++;\n        if (attempts > 100) {\n          clearInterval(timer);\n          console.log(\"Bokeh: ERROR: Unable to run BokehJS code because BokehJS library is missing\");\n        }\n      }\n    }, 10, root)\n  }\n})(window);",
      "application/vnd.bokehjs_exec.v0+json": ""
     },
     "metadata": {
      "application/vnd.bokehjs_exec.v0+json": {
       "id": "1078"
      }
     }
    }
   ],
   "metadata": {}
  },
  {
   "cell_type": "code",
   "execution_count": 8,
   "source": [
    "data = get_count_data_datetime(df, count_column='open', date_time_column='date', extra_meta_column='cat')\n",
    "\n",
    "p = line_figure_datetime(data[0], title=\"趋势图\", draw_circle=True, tooltips_metadata=data[1])\n",
    "show(p)"
   ],
   "outputs": [
    {
     "output_type": "stream",
     "name": "stderr",
     "text": [
      "/media/storage_0x00/ENV/miniconda3/envs/dataer_tool/lib/python3.9/site-packages/bokeh/models/plots.py:815: UserWarning: \n",
      "You are attempting to set `plot.legend.background_fill_alpha` on a plot that has zero legends added, this will have no effect.\n",
      "\n",
      "Before legend properties can be set, you must add a Legend explicitly, or call a glyph method with a legend parameter set.\n",
      "\n",
      "  warnings.warn(_LEGEND_EMPTY_WARNING % attr)\n",
      "/media/storage_0x00/ENV/miniconda3/envs/dataer_tool/lib/python3.9/site-packages/bokeh/models/plots.py:815: UserWarning: \n",
      "You are attempting to set `plot.legend.orientation` on a plot that has zero legends added, this will have no effect.\n",
      "\n",
      "Before legend properties can be set, you must add a Legend explicitly, or call a glyph method with a legend parameter set.\n",
      "\n",
      "  warnings.warn(_LEGEND_EMPTY_WARNING % attr)\n",
      "/media/storage_0x00/ENV/miniconda3/envs/dataer_tool/lib/python3.9/site-packages/bokeh/models/plots.py:815: UserWarning: \n",
      "You are attempting to set `plot.legend.location` on a plot that has zero legends added, this will have no effect.\n",
      "\n",
      "Before legend properties can be set, you must add a Legend explicitly, or call a glyph method with a legend parameter set.\n",
      "\n",
      "  warnings.warn(_LEGEND_EMPTY_WARNING % attr)\n"
     ]
    },
    {
     "output_type": "display_data",
     "data": {
      "text/html": [
       "\n",
       "\n",
       "\n",
       "\n",
       "\n",
       "\n",
       "  <div class=\"bk-root\" id=\"61882279-3b62-4518-ad1a-58e0123318fc\" data-root-id=\"1382\"></div>\n"
      ]
     },
     "metadata": {}
    },
    {
     "output_type": "display_data",
     "data": {
      "application/javascript": "(function(root) {\n  function embed_document(root) {\n    \n  const docs_json = {\"266d410e-6998-473a-97d8-e99e7d568c59\":{\"defs\":[],\"roots\":{\"references\":[{\"attributes\":{\"children\":[{\"id\":\"1307\"},{\"id\":\"1333\"}]},\"id\":\"1382\",\"type\":\"Column\"},{\"attributes\":{},\"id\":\"1427\",\"type\":\"DatetimeTickFormatter\"},{\"attributes\":{\"line_alpha\":0.2,\"line_color\":\"#66c2a5\",\"x\":{\"field\":\"x\"},\"y\":{\"field\":\"y\"}},\"id\":\"1358\",\"type\":\"Line\"},{\"attributes\":{},\"id\":\"1428\",\"type\":\"AllLabels\"},{\"attributes\":{\"mantissas\":[1,2,5],\"max_interval\":500.0,\"num_minor_ticks\":0},\"id\":\"1434\",\"type\":\"AdaptiveTicker\"},{\"attributes\":{\"base\":60,\"mantissas\":[1,2,5,10,15,20,30],\"max_interval\":1800000.0,\"min_interval\":1000.0,\"num_minor_ticks\":0},\"id\":\"1435\",\"type\":\"AdaptiveTicker\"},{\"attributes\":{\"base\":24,\"mantissas\":[1,2,4,6,8,12],\"max_interval\":43200000.0,\"min_interval\":3600000.0,\"num_minor_ticks\":0},\"id\":\"1436\",\"type\":\"AdaptiveTicker\"},{\"attributes\":{\"months\":[0,6]},\"id\":\"1444\",\"type\":\"MonthsTicker\"},{\"attributes\":{},\"id\":\"1445\",\"type\":\"YearsTicker\"},{\"attributes\":{\"days\":[1,2,3,4,5,6,7,8,9,10,11,12,13,14,15,16,17,18,19,20,21,22,23,24,25,26,27,28,29,30,31]},\"id\":\"1437\",\"type\":\"DaysTicker\"},{\"attributes\":{\"days\":[1,4,7,10,13,16,19,22,25,28]},\"id\":\"1438\",\"type\":\"DaysTicker\"},{\"attributes\":{\"days\":[1,8,15,22]},\"id\":\"1439\",\"type\":\"DaysTicker\"},{\"attributes\":{\"coordinates\":null,\"data_source\":{\"id\":\"1354\"},\"glyph\":{\"id\":\"1356\"},\"group\":null,\"hover_glyph\":null,\"muted_glyph\":{\"id\":\"1358\"},\"nonselection_glyph\":{\"id\":\"1357\"},\"view\":{\"id\":\"1360\"}},\"id\":\"1359\",\"type\":\"GlyphRenderer\"},{\"attributes\":{\"months\":[0,4,8]},\"id\":\"1443\",\"type\":\"MonthsTicker\"},{\"attributes\":{\"background_fill_color\":\"#efefef\",\"below\":[{\"id\":\"1343\"}],\"center\":[{\"id\":\"1346\"}],\"height\":175,\"renderers\":[{\"id\":\"1373\"}],\"title\":{\"id\":\"1334\"},\"toolbar\":{\"id\":\"1350\"},\"toolbar_location\":\"above\",\"width\":800,\"x_range\":{\"id\":\"1336\"},\"x_scale\":{\"id\":\"1339\"},\"y_range\":{\"id\":\"1312\"},\"y_scale\":{\"id\":\"1341\"}},\"id\":\"1333\",\"subtype\":\"Figure\",\"type\":\"Plot\"},{\"attributes\":{\"fill_alpha\":{\"value\":0.1},\"fill_color\":{\"value\":\"white\"},\"hatch_alpha\":{\"value\":0.1},\"line_alpha\":{\"value\":0.1},\"line_color\":{\"value\":\"#66c2a5\"},\"size\":{\"value\":6},\"x\":{\"field\":\"x\"},\"y\":{\"field\":\"y\"}},\"id\":\"1363\",\"type\":\"Circle\"},{\"attributes\":{\"data\":{\"A\":[118.56,0,0,0,0,0,126.44,122.87,0,0],\"B\":[0,127.0,0,0,0,126.0,0,0,0,0],\"C\":[0,0,124.87,0,0,0,0,0,120.87,121.69],\"x\":[951868800000.0,951955200000.0,952041600000.0,952128000000.0,952214400000.0,952300800000.0,952387200000.0,952473600000.0,952560000000.0,952646400000.0],\"y\":[118.56,127.0,124.87,0.0,0.0,126.0,126.44,122.87,120.87,121.69]},\"selected\":{\"id\":\"1433\"},\"selection_policy\":{\"id\":\"1432\"}},\"id\":\"1354\",\"type\":\"ColumnDataSource\"},{\"attributes\":{\"source\":{\"id\":\"1354\"}},\"id\":\"1360\",\"type\":\"CDSView\"},{\"attributes\":{\"callback\":null,\"formatters\":{\"@{x}\":\"datetime\"},\"tooltips\":[[\"x\",\"@{x}{%F}\"],[\"y\",\"@{y}\"],[\"A\",\"@{A}\"],[\"C\",\"@{C}\"],[\"B\",\"@{B}\"]]},\"id\":\"1367\",\"type\":\"HoverTool\"},{\"attributes\":{\"active_multi\":{\"id\":\"1377\"},\"tools\":[{\"id\":\"1347\"},{\"id\":\"1348\"},{\"id\":\"1349\"},{\"id\":\"1377\"}]},\"id\":\"1350\",\"type\":\"Toolbar\"},{\"attributes\":{},\"id\":\"1430\",\"type\":\"DatetimeTickFormatter\"},{\"attributes\":{},\"id\":\"1431\",\"type\":\"AllLabels\"},{\"attributes\":{\"line_alpha\":0.1,\"line_color\":\"#66c2a5\",\"x\":{\"field\":\"x\"},\"y\":{\"field\":\"y\"}},\"id\":\"1357\",\"type\":\"Line\"},{\"attributes\":{\"mantissas\":[1,2,5],\"max_interval\":500.0,\"num_minor_ticks\":0},\"id\":\"1447\",\"type\":\"AdaptiveTicker\"},{\"attributes\":{\"base\":60,\"mantissas\":[1,2,5,10,15,20,30],\"max_interval\":1800000.0,\"min_interval\":1000.0,\"num_minor_ticks\":0},\"id\":\"1448\",\"type\":\"AdaptiveTicker\"},{\"attributes\":{\"source\":{\"id\":\"1354\"}},\"id\":\"1366\",\"type\":\"CDSView\"},{\"attributes\":{\"base\":24,\"mantissas\":[1,2,4,6,8,12],\"max_interval\":43200000.0,\"min_interval\":3600000.0,\"num_minor_ticks\":0},\"id\":\"1449\",\"type\":\"AdaptiveTicker\"},{\"attributes\":{\"line_color\":\"#66c2a5\",\"x\":{\"field\":\"x\"},\"y\":{\"field\":\"y\"}},\"id\":\"1370\",\"type\":\"Line\"},{\"attributes\":{\"fill_alpha\":{\"value\":0.2},\"fill_color\":{\"value\":\"white\"},\"hatch_alpha\":{\"value\":0.2},\"line_alpha\":{\"value\":0.2},\"line_color\":{\"value\":\"#66c2a5\"},\"size\":{\"value\":6},\"x\":{\"field\":\"x\"},\"y\":{\"field\":\"y\"}},\"id\":\"1364\",\"type\":\"Circle\"},{\"attributes\":{},\"id\":\"1432\",\"type\":\"UnionRenderers\"},{\"attributes\":{\"coordinates\":null,\"data_source\":{\"id\":\"1354\"},\"glyph\":{\"id\":\"1370\"},\"group\":null,\"hover_glyph\":null,\"muted_glyph\":{\"id\":\"1372\"},\"nonselection_glyph\":{\"id\":\"1371\"},\"view\":{\"id\":\"1374\"}},\"id\":\"1373\",\"type\":\"GlyphRenderer\"},{\"attributes\":{},\"id\":\"1458\",\"type\":\"YearsTicker\"},{\"attributes\":{\"line_alpha\":0.1,\"line_color\":\"#66c2a5\",\"x\":{\"field\":\"x\"},\"y\":{\"field\":\"y\"}},\"id\":\"1371\",\"type\":\"Line\"},{\"attributes\":{\"months\":[0,1,2,3,4,5,6,7,8,9,10,11]},\"id\":\"1454\",\"type\":\"MonthsTicker\"},{\"attributes\":{\"coordinates\":null,\"data_source\":{\"id\":\"1354\"},\"glyph\":{\"id\":\"1362\"},\"group\":null,\"hover_glyph\":null,\"muted_glyph\":{\"id\":\"1364\"},\"nonselection_glyph\":{\"id\":\"1363\"},\"view\":{\"id\":\"1366\"}},\"id\":\"1365\",\"type\":\"GlyphRenderer\"},{\"attributes\":{},\"id\":\"1433\",\"type\":\"Selection\"},{\"attributes\":{\"days\":[1,15]},\"id\":\"1453\",\"type\":\"DaysTicker\"},{\"attributes\":{\"source\":{\"id\":\"1354\"}},\"id\":\"1374\",\"type\":\"CDSView\"},{\"attributes\":{\"days\":[1,15]},\"id\":\"1440\",\"type\":\"DaysTicker\"},{\"attributes\":{\"days\":[1,2,3,4,5,6,7,8,9,10,11,12,13,14,15,16,17,18,19,20,21,22,23,24,25,26,27,28,29,30,31]},\"id\":\"1450\",\"type\":\"DaysTicker\"},{\"attributes\":{\"days\":[1,4,7,10,13,16,19,22,25,28]},\"id\":\"1451\",\"type\":\"DaysTicker\"},{\"attributes\":{\"days\":[1,8,15,22]},\"id\":\"1452\",\"type\":\"DaysTicker\"},{\"attributes\":{\"months\":[0,6]},\"id\":\"1457\",\"type\":\"MonthsTicker\"},{\"attributes\":{\"months\":[0,2,4,6,8,10]},\"id\":\"1455\",\"type\":\"MonthsTicker\"},{\"attributes\":{\"months\":[0,2,4,6,8,10]},\"id\":\"1442\",\"type\":\"MonthsTicker\"},{\"attributes\":{\"months\":[0,4,8]},\"id\":\"1456\",\"type\":\"MonthsTicker\"},{\"attributes\":{\"months\":[0,1,2,3,4,5,6,7,8,9,10,11]},\"id\":\"1441\",\"type\":\"MonthsTicker\"},{\"attributes\":{\"fill_color\":{\"value\":\"white\"},\"line_color\":{\"value\":\"#66c2a5\"},\"size\":{\"value\":6},\"x\":{\"field\":\"x\"},\"y\":{\"field\":\"y\"}},\"id\":\"1362\",\"type\":\"Circle\"},{\"attributes\":{\"line_color\":\"#66c2a5\",\"x\":{\"field\":\"x\"},\"y\":{\"field\":\"y\"}},\"id\":\"1356\",\"type\":\"Line\"},{\"attributes\":{},\"id\":\"1349\",\"type\":\"PanTool\"},{\"attributes\":{\"coordinates\":null,\"fill_alpha\":0.2,\"fill_color\":\"navy\",\"group\":null,\"level\":\"overlay\",\"line_alpha\":1.0,\"line_color\":\"black\",\"line_dash\":[2,2],\"line_width\":0.5,\"syncable\":false},\"id\":\"1378\",\"type\":\"BoxAnnotation\"},{\"attributes\":{\"end\":952387200000.0,\"start\":952214400000.0},\"id\":\"1376\",\"type\":\"Range1d\"},{\"attributes\":{},\"id\":\"1348\",\"type\":\"ResetTool\"},{\"attributes\":{\"line_alpha\":0.2,\"line_color\":\"#66c2a5\",\"x\":{\"field\":\"x\"},\"y\":{\"field\":\"y\"}},\"id\":\"1372\",\"type\":\"Line\"},{\"attributes\":{\"axis\":{\"id\":\"1343\"},\"coordinates\":null,\"group\":null,\"ticker\":null},\"id\":\"1346\",\"type\":\"Grid\"},{\"attributes\":{},\"id\":\"1339\",\"type\":\"LinearScale\"},{\"attributes\":{},\"id\":\"1425\",\"type\":\"AllLabels\"},{\"attributes\":{\"above\":[{\"id\":\"1318\"}],\"background_fill_color\":\"#efefef\",\"center\":[{\"id\":\"1321\"},{\"id\":\"1325\"}],\"height\":325,\"left\":[{\"id\":\"1322\"}],\"renderers\":[{\"id\":\"1359\"},{\"id\":\"1365\"}],\"title\":{\"id\":\"1308\"},\"toolbar\":{\"id\":\"1329\"},\"toolbar_location\":\"above\",\"width\":800,\"x_range\":{\"id\":\"1376\"},\"x_scale\":{\"id\":\"1375\"},\"y_range\":{\"id\":\"1312\"},\"y_scale\":{\"id\":\"1316\"}},\"id\":\"1307\",\"subtype\":\"Figure\",\"type\":\"Plot\"},{\"attributes\":{\"coordinates\":null,\"group\":null,\"text\":\"\\u62d6\\u52a8\\u9009\\u62e9 x \\u533a\\u95f4\"},\"id\":\"1334\",\"type\":\"Title\"},{\"attributes\":{},\"id\":\"1326\",\"type\":\"SaveTool\"},{\"attributes\":{\"axis\":{\"id\":\"1322\"},\"coordinates\":null,\"dimension\":1,\"group\":null,\"ticker\":null},\"id\":\"1325\",\"type\":\"Grid\"},{\"attributes\":{},\"id\":\"1316\",\"type\":\"LinearScale\"},{\"attributes\":{},\"id\":\"1312\",\"type\":\"DataRange1d\"},{\"attributes\":{},\"id\":\"1327\",\"type\":\"ResetTool\"},{\"attributes\":{\"num_minor_ticks\":5,\"tickers\":[{\"id\":\"1434\"},{\"id\":\"1435\"},{\"id\":\"1436\"},{\"id\":\"1437\"},{\"id\":\"1438\"},{\"id\":\"1439\"},{\"id\":\"1440\"},{\"id\":\"1441\"},{\"id\":\"1442\"},{\"id\":\"1443\"},{\"id\":\"1444\"},{\"id\":\"1445\"}]},\"id\":\"1319\",\"type\":\"DatetimeTicker\"},{\"attributes\":{\"axis\":{\"id\":\"1318\"},\"coordinates\":null,\"group\":null,\"ticker\":null},\"id\":\"1321\",\"type\":\"Grid\"},{\"attributes\":{\"overlay\":{\"id\":\"1378\"},\"x_range\":{\"id\":\"1376\"},\"y_range\":null},\"id\":\"1377\",\"type\":\"RangeTool\"},{\"attributes\":{\"num_minor_ticks\":5,\"tickers\":[{\"id\":\"1447\"},{\"id\":\"1448\"},{\"id\":\"1449\"},{\"id\":\"1450\"},{\"id\":\"1451\"},{\"id\":\"1452\"},{\"id\":\"1453\"},{\"id\":\"1454\"},{\"id\":\"1455\"},{\"id\":\"1456\"},{\"id\":\"1457\"},{\"id\":\"1458\"}]},\"id\":\"1344\",\"type\":\"DatetimeTicker\"},{\"attributes\":{\"coordinates\":null,\"group\":null,\"text\":\"\\u8d8b\\u52bf\\u56fe\"},\"id\":\"1308\",\"type\":\"Title\"},{\"attributes\":{},\"id\":\"1336\",\"type\":\"DataRange1d\"},{\"attributes\":{\"axis_label\":\"x\",\"coordinates\":null,\"formatter\":{\"id\":\"1427\"},\"group\":null,\"major_label_policy\":{\"id\":\"1428\"},\"ticker\":{\"id\":\"1319\"}},\"id\":\"1318\",\"type\":\"DatetimeAxis\"},{\"attributes\":{},\"id\":\"1424\",\"type\":\"BasicTickFormatter\"},{\"attributes\":{},\"id\":\"1328\",\"type\":\"PanTool\"},{\"attributes\":{\"axis_label\":\"y\",\"coordinates\":null,\"formatter\":{\"id\":\"1424\"},\"group\":null,\"major_label_policy\":{\"id\":\"1425\"},\"ticker\":{\"id\":\"1323\"}},\"id\":\"1322\",\"type\":\"LinearAxis\"},{\"attributes\":{},\"id\":\"1375\",\"type\":\"LinearScale\"},{\"attributes\":{},\"id\":\"1341\",\"type\":\"LinearScale\"},{\"attributes\":{},\"id\":\"1323\",\"type\":\"BasicTicker\"},{\"attributes\":{},\"id\":\"1347\",\"type\":\"SaveTool\"},{\"attributes\":{\"tools\":[{\"id\":\"1326\"},{\"id\":\"1327\"},{\"id\":\"1328\"},{\"id\":\"1367\"}]},\"id\":\"1329\",\"type\":\"Toolbar\"},{\"attributes\":{\"coordinates\":null,\"formatter\":{\"id\":\"1430\"},\"group\":null,\"major_label_policy\":{\"id\":\"1431\"},\"ticker\":{\"id\":\"1344\"}},\"id\":\"1343\",\"type\":\"DatetimeAxis\"}],\"root_ids\":[\"1382\"]},\"title\":\"Bokeh Application\",\"version\":\"2.4.0\"}};\n  const render_items = [{\"docid\":\"266d410e-6998-473a-97d8-e99e7d568c59\",\"root_ids\":[\"1382\"],\"roots\":{\"1382\":\"61882279-3b62-4518-ad1a-58e0123318fc\"}}];\n  root.Bokeh.embed.embed_items_notebook(docs_json, render_items);\n\n  }\n  if (root.Bokeh !== undefined) {\n    embed_document(root);\n  } else {\n    let attempts = 0;\n    const timer = setInterval(function(root) {\n      if (root.Bokeh !== undefined) {\n        clearInterval(timer);\n        embed_document(root);\n      } else {\n        attempts++;\n        if (attempts > 100) {\n          clearInterval(timer);\n          console.log(\"Bokeh: ERROR: Unable to run BokehJS code because BokehJS library is missing\");\n        }\n      }\n    }, 10, root)\n  }\n})(window);",
      "application/vnd.bokehjs_exec.v0+json": ""
     },
     "metadata": {
      "application/vnd.bokehjs_exec.v0+json": {
       "id": "1382"
      }
     }
    }
   ],
   "metadata": {}
  },
  {
   "cell_type": "code",
   "execution_count": 9,
   "source": [
    "data = get_count_data_datetime(df, count_column='open', date_time_column='date', extra_meta_column='cat', cumsum=True)\n",
    "\n",
    "p = line_figure_datetime(data[0], title=\"趋势图\", draw_circle=True, tooltips_metadata=data[1])\n",
    "show(p)"
   ],
   "outputs": [
    {
     "output_type": "stream",
     "name": "stderr",
     "text": [
      "/media/storage_0x00/ENV/miniconda3/envs/dataer_tool/lib/python3.9/site-packages/bokeh/models/plots.py:815: UserWarning: \n",
      "You are attempting to set `plot.legend.background_fill_alpha` on a plot that has zero legends added, this will have no effect.\n",
      "\n",
      "Before legend properties can be set, you must add a Legend explicitly, or call a glyph method with a legend parameter set.\n",
      "\n",
      "  warnings.warn(_LEGEND_EMPTY_WARNING % attr)\n",
      "/media/storage_0x00/ENV/miniconda3/envs/dataer_tool/lib/python3.9/site-packages/bokeh/models/plots.py:815: UserWarning: \n",
      "You are attempting to set `plot.legend.orientation` on a plot that has zero legends added, this will have no effect.\n",
      "\n",
      "Before legend properties can be set, you must add a Legend explicitly, or call a glyph method with a legend parameter set.\n",
      "\n",
      "  warnings.warn(_LEGEND_EMPTY_WARNING % attr)\n",
      "/media/storage_0x00/ENV/miniconda3/envs/dataer_tool/lib/python3.9/site-packages/bokeh/models/plots.py:815: UserWarning: \n",
      "You are attempting to set `plot.legend.location` on a plot that has zero legends added, this will have no effect.\n",
      "\n",
      "Before legend properties can be set, you must add a Legend explicitly, or call a glyph method with a legend parameter set.\n",
      "\n",
      "  warnings.warn(_LEGEND_EMPTY_WARNING % attr)\n"
     ]
    },
    {
     "output_type": "display_data",
     "data": {
      "text/html": [
       "\n",
       "\n",
       "\n",
       "\n",
       "\n",
       "\n",
       "  <div class=\"bk-root\" id=\"92b21bd1-1d71-4a9b-817f-1439f476e830\" data-root-id=\"1724\"></div>\n"
      ]
     },
     "metadata": {}
    },
    {
     "output_type": "display_data",
     "data": {
      "application/javascript": "(function(root) {\n  function embed_document(root) {\n    \n  const docs_json = {\"54352136-9fd1-4222-bb5a-e64518e8e7ff\":{\"defs\":[],\"roots\":{\"references\":[{\"attributes\":{\"children\":[{\"id\":\"1649\"},{\"id\":\"1675\"}]},\"id\":\"1724\",\"type\":\"Column\"},{\"attributes\":{},\"id\":\"1810\",\"type\":\"DatetimeTickFormatter\"},{\"attributes\":{\"data\":{\"A\":[118.56,0,0,0,0,0,126.44,122.87,0,0],\"B\":[0,127.0,0,0,0,126.0,0,0,0,0],\"C\":[0,0,124.87,0,0,0,0,0,120.87,121.69],\"x\":[951868800000.0,951955200000.0,952041600000.0,952128000000.0,952214400000.0,952300800000.0,952387200000.0,952473600000.0,952560000000.0,952646400000.0],\"y\":[118.56,245.56,370.43,370.43,370.43,496.43,622.87,745.74,866.61,988.3]},\"selected\":{\"id\":\"1813\"},\"selection_policy\":{\"id\":\"1812\"}},\"id\":\"1696\",\"type\":\"ColumnDataSource\"},{\"attributes\":{},\"id\":\"1811\",\"type\":\"AllLabels\"},{\"attributes\":{},\"id\":\"1812\",\"type\":\"UnionRenderers\"},{\"attributes\":{},\"id\":\"1813\",\"type\":\"Selection\"},{\"attributes\":{},\"id\":\"1658\",\"type\":\"LinearScale\"},{\"attributes\":{\"axis_label\":\"x\",\"coordinates\":null,\"formatter\":{\"id\":\"1807\"},\"group\":null,\"major_label_policy\":{\"id\":\"1808\"},\"ticker\":{\"id\":\"1661\"}},\"id\":\"1660\",\"type\":\"DatetimeAxis\"},{\"attributes\":{\"num_minor_ticks\":5,\"tickers\":[{\"id\":\"1814\"},{\"id\":\"1815\"},{\"id\":\"1816\"},{\"id\":\"1817\"},{\"id\":\"1818\"},{\"id\":\"1819\"},{\"id\":\"1820\"},{\"id\":\"1821\"},{\"id\":\"1822\"},{\"id\":\"1823\"},{\"id\":\"1824\"},{\"id\":\"1825\"}]},\"id\":\"1661\",\"type\":\"DatetimeTicker\"},{\"attributes\":{\"mantissas\":[1,2,5],\"max_interval\":500.0,\"num_minor_ticks\":0},\"id\":\"1814\",\"type\":\"AdaptiveTicker\"},{\"attributes\":{\"background_fill_color\":\"#efefef\",\"below\":[{\"id\":\"1685\"}],\"center\":[{\"id\":\"1688\"}],\"height\":175,\"renderers\":[{\"id\":\"1715\"}],\"title\":{\"id\":\"1676\"},\"toolbar\":{\"id\":\"1692\"},\"toolbar_location\":\"above\",\"width\":800,\"x_range\":{\"id\":\"1678\"},\"x_scale\":{\"id\":\"1681\"},\"y_range\":{\"id\":\"1654\"},\"y_scale\":{\"id\":\"1683\"}},\"id\":\"1675\",\"subtype\":\"Figure\",\"type\":\"Plot\"},{\"attributes\":{\"base\":60,\"mantissas\":[1,2,5,10,15,20,30],\"max_interval\":1800000.0,\"min_interval\":1000.0,\"num_minor_ticks\":0},\"id\":\"1815\",\"type\":\"AdaptiveTicker\"},{\"attributes\":{\"base\":24,\"mantissas\":[1,2,4,6,8,12],\"max_interval\":43200000.0,\"min_interval\":3600000.0,\"num_minor_ticks\":0},\"id\":\"1816\",\"type\":\"AdaptiveTicker\"},{\"attributes\":{},\"id\":\"1825\",\"type\":\"YearsTicker\"},{\"attributes\":{\"months\":[0,1,2,3,4,5,6,7,8,9,10,11]},\"id\":\"1821\",\"type\":\"MonthsTicker\"},{\"attributes\":{\"days\":[1,15]},\"id\":\"1820\",\"type\":\"DaysTicker\"},{\"attributes\":{\"days\":[1,2,3,4,5,6,7,8,9,10,11,12,13,14,15,16,17,18,19,20,21,22,23,24,25,26,27,28,29,30,31]},\"id\":\"1817\",\"type\":\"DaysTicker\"},{\"attributes\":{\"days\":[1,4,7,10,13,16,19,22,25,28]},\"id\":\"1818\",\"type\":\"DaysTicker\"},{\"attributes\":{\"days\":[1,8,15,22]},\"id\":\"1819\",\"type\":\"DaysTicker\"},{\"attributes\":{\"overlay\":{\"id\":\"1720\"},\"x_range\":{\"id\":\"1718\"},\"y_range\":null},\"id\":\"1719\",\"type\":\"RangeTool\"},{\"attributes\":{\"months\":[0,6]},\"id\":\"1824\",\"type\":\"MonthsTicker\"},{\"attributes\":{\"months\":[0,2,4,6,8,10]},\"id\":\"1822\",\"type\":\"MonthsTicker\"},{\"attributes\":{\"above\":[{\"id\":\"1660\"}],\"background_fill_color\":\"#efefef\",\"center\":[{\"id\":\"1663\"},{\"id\":\"1667\"}],\"height\":325,\"left\":[{\"id\":\"1664\"}],\"renderers\":[{\"id\":\"1701\"},{\"id\":\"1707\"}],\"title\":{\"id\":\"1650\"},\"toolbar\":{\"id\":\"1671\"},\"toolbar_location\":\"above\",\"width\":800,\"x_range\":{\"id\":\"1718\"},\"x_scale\":{\"id\":\"1717\"},\"y_range\":{\"id\":\"1654\"},\"y_scale\":{\"id\":\"1658\"}},\"id\":\"1649\",\"subtype\":\"Figure\",\"type\":\"Plot\"},{\"attributes\":{},\"id\":\"1654\",\"type\":\"DataRange1d\"},{\"attributes\":{\"months\":[0,4,8]},\"id\":\"1823\",\"type\":\"MonthsTicker\"},{\"attributes\":{},\"id\":\"1665\",\"type\":\"BasicTicker\"},{\"attributes\":{\"coordinates\":null,\"fill_alpha\":0.2,\"fill_color\":\"navy\",\"group\":null,\"level\":\"overlay\",\"line_alpha\":1.0,\"line_color\":\"black\",\"line_dash\":[2,2],\"line_width\":0.5,\"syncable\":false},\"id\":\"1720\",\"type\":\"BoxAnnotation\"},{\"attributes\":{\"axis\":{\"id\":\"1664\"},\"coordinates\":null,\"dimension\":1,\"group\":null,\"ticker\":null},\"id\":\"1667\",\"type\":\"Grid\"},{\"attributes\":{},\"id\":\"1670\",\"type\":\"PanTool\"},{\"attributes\":{\"coordinates\":null,\"group\":null,\"text\":\"\\u8d8b\\u52bf\\u56fe\"},\"id\":\"1650\",\"type\":\"Title\"},{\"attributes\":{},\"id\":\"1669\",\"type\":\"ResetTool\"},{\"attributes\":{},\"id\":\"1668\",\"type\":\"SaveTool\"},{\"attributes\":{\"mantissas\":[1,2,5],\"max_interval\":500.0,\"num_minor_ticks\":0},\"id\":\"1827\",\"type\":\"AdaptiveTicker\"},{\"attributes\":{\"base\":60,\"mantissas\":[1,2,5,10,15,20,30],\"max_interval\":1800000.0,\"min_interval\":1000.0,\"num_minor_ticks\":0},\"id\":\"1828\",\"type\":\"AdaptiveTicker\"},{\"attributes\":{\"base\":24,\"mantissas\":[1,2,4,6,8,12],\"max_interval\":43200000.0,\"min_interval\":3600000.0,\"num_minor_ticks\":0},\"id\":\"1829\",\"type\":\"AdaptiveTicker\"},{\"attributes\":{},\"id\":\"1838\",\"type\":\"YearsTicker\"},{\"attributes\":{\"months\":[0,1,2,3,4,5,6,7,8,9,10,11]},\"id\":\"1834\",\"type\":\"MonthsTicker\"},{\"attributes\":{\"days\":[1,15]},\"id\":\"1833\",\"type\":\"DaysTicker\"},{\"attributes\":{\"coordinates\":null,\"group\":null,\"text\":\"\\u62d6\\u52a8\\u9009\\u62e9 x \\u533a\\u95f4\"},\"id\":\"1676\",\"type\":\"Title\"},{\"attributes\":{\"days\":[1,2,3,4,5,6,7,8,9,10,11,12,13,14,15,16,17,18,19,20,21,22,23,24,25,26,27,28,29,30,31]},\"id\":\"1830\",\"type\":\"DaysTicker\"},{\"attributes\":{\"days\":[1,4,7,10,13,16,19,22,25,28]},\"id\":\"1831\",\"type\":\"DaysTicker\"},{\"attributes\":{},\"id\":\"1678\",\"type\":\"DataRange1d\"},{\"attributes\":{\"days\":[1,8,15,22]},\"id\":\"1832\",\"type\":\"DaysTicker\"},{\"attributes\":{\"line_alpha\":0.1,\"line_color\":\"#66c2a5\",\"x\":{\"field\":\"x\"},\"y\":{\"field\":\"y\"}},\"id\":\"1699\",\"type\":\"Line\"},{\"attributes\":{\"months\":[0,6]},\"id\":\"1837\",\"type\":\"MonthsTicker\"},{\"attributes\":{\"months\":[0,2,4,6,8,10]},\"id\":\"1835\",\"type\":\"MonthsTicker\"},{\"attributes\":{\"num_minor_ticks\":5,\"tickers\":[{\"id\":\"1827\"},{\"id\":\"1828\"},{\"id\":\"1829\"},{\"id\":\"1830\"},{\"id\":\"1831\"},{\"id\":\"1832\"},{\"id\":\"1833\"},{\"id\":\"1834\"},{\"id\":\"1835\"},{\"id\":\"1836\"},{\"id\":\"1837\"},{\"id\":\"1838\"}]},\"id\":\"1686\",\"type\":\"DatetimeTicker\"},{\"attributes\":{\"months\":[0,4,8]},\"id\":\"1836\",\"type\":\"MonthsTicker\"},{\"attributes\":{\"end\":952387200000.0,\"start\":952214400000.0},\"id\":\"1718\",\"type\":\"Range1d\"},{\"attributes\":{\"fill_alpha\":{\"value\":0.1},\"fill_color\":{\"value\":\"white\"},\"hatch_alpha\":{\"value\":0.1},\"line_alpha\":{\"value\":0.1},\"line_color\":{\"value\":\"#66c2a5\"},\"size\":{\"value\":6},\"x\":{\"field\":\"x\"},\"y\":{\"field\":\"y\"}},\"id\":\"1705\",\"type\":\"Circle\"},{\"attributes\":{},\"id\":\"1683\",\"type\":\"LinearScale\"},{\"attributes\":{},\"id\":\"1691\",\"type\":\"PanTool\"},{\"attributes\":{\"coordinates\":null,\"formatter\":{\"id\":\"1810\"},\"group\":null,\"major_label_policy\":{\"id\":\"1811\"},\"ticker\":{\"id\":\"1686\"}},\"id\":\"1685\",\"type\":\"DatetimeAxis\"},{\"attributes\":{},\"id\":\"1690\",\"type\":\"ResetTool\"},{\"attributes\":{\"axis\":{\"id\":\"1660\"},\"coordinates\":null,\"group\":null,\"ticker\":null},\"id\":\"1663\",\"type\":\"Grid\"},{\"attributes\":{},\"id\":\"1689\",\"type\":\"SaveTool\"},{\"attributes\":{\"line_color\":\"#66c2a5\",\"x\":{\"field\":\"x\"},\"y\":{\"field\":\"y\"}},\"id\":\"1698\",\"type\":\"Line\"},{\"attributes\":{\"axis_label\":\"y\",\"coordinates\":null,\"formatter\":{\"id\":\"1804\"},\"group\":null,\"major_label_policy\":{\"id\":\"1805\"},\"ticker\":{\"id\":\"1665\"}},\"id\":\"1664\",\"type\":\"LinearAxis\"},{\"attributes\":{\"source\":{\"id\":\"1696\"}},\"id\":\"1702\",\"type\":\"CDSView\"},{\"attributes\":{\"fill_color\":{\"value\":\"white\"},\"line_color\":{\"value\":\"#66c2a5\"},\"size\":{\"value\":6},\"x\":{\"field\":\"x\"},\"y\":{\"field\":\"y\"}},\"id\":\"1704\",\"type\":\"Circle\"},{\"attributes\":{},\"id\":\"1804\",\"type\":\"BasicTickFormatter\"},{\"attributes\":{},\"id\":\"1681\",\"type\":\"LinearScale\"},{\"attributes\":{\"coordinates\":null,\"data_source\":{\"id\":\"1696\"},\"glyph\":{\"id\":\"1698\"},\"group\":null,\"hover_glyph\":null,\"muted_glyph\":{\"id\":\"1700\"},\"nonselection_glyph\":{\"id\":\"1699\"},\"view\":{\"id\":\"1702\"}},\"id\":\"1701\",\"type\":\"GlyphRenderer\"},{\"attributes\":{},\"id\":\"1805\",\"type\":\"AllLabels\"},{\"attributes\":{\"line_alpha\":0.2,\"line_color\":\"#66c2a5\",\"x\":{\"field\":\"x\"},\"y\":{\"field\":\"y\"}},\"id\":\"1714\",\"type\":\"Line\"},{\"attributes\":{\"active_multi\":{\"id\":\"1719\"},\"tools\":[{\"id\":\"1689\"},{\"id\":\"1690\"},{\"id\":\"1691\"},{\"id\":\"1719\"}]},\"id\":\"1692\",\"type\":\"Toolbar\"},{\"attributes\":{},\"id\":\"1807\",\"type\":\"DatetimeTickFormatter\"},{\"attributes\":{\"callback\":null,\"formatters\":{\"@{x}\":\"datetime\"},\"tooltips\":[[\"x\",\"@{x}{%F}\"],[\"y\",\"@{y}\"],[\"A\",\"@{A}\"],[\"C\",\"@{C}\"],[\"B\",\"@{B}\"]]},\"id\":\"1709\",\"type\":\"HoverTool\"},{\"attributes\":{},\"id\":\"1808\",\"type\":\"AllLabels\"},{\"attributes\":{\"source\":{\"id\":\"1696\"}},\"id\":\"1708\",\"type\":\"CDSView\"},{\"attributes\":{\"coordinates\":null,\"data_source\":{\"id\":\"1696\"},\"glyph\":{\"id\":\"1704\"},\"group\":null,\"hover_glyph\":null,\"muted_glyph\":{\"id\":\"1706\"},\"nonselection_glyph\":{\"id\":\"1705\"},\"view\":{\"id\":\"1708\"}},\"id\":\"1707\",\"type\":\"GlyphRenderer\"},{\"attributes\":{\"line_alpha\":0.2,\"line_color\":\"#66c2a5\",\"x\":{\"field\":\"x\"},\"y\":{\"field\":\"y\"}},\"id\":\"1700\",\"type\":\"Line\"},{\"attributes\":{},\"id\":\"1717\",\"type\":\"LinearScale\"},{\"attributes\":{\"tools\":[{\"id\":\"1668\"},{\"id\":\"1669\"},{\"id\":\"1670\"},{\"id\":\"1709\"}]},\"id\":\"1671\",\"type\":\"Toolbar\"},{\"attributes\":{\"line_color\":\"#66c2a5\",\"x\":{\"field\":\"x\"},\"y\":{\"field\":\"y\"}},\"id\":\"1712\",\"type\":\"Line\"},{\"attributes\":{\"fill_alpha\":{\"value\":0.2},\"fill_color\":{\"value\":\"white\"},\"hatch_alpha\":{\"value\":0.2},\"line_alpha\":{\"value\":0.2},\"line_color\":{\"value\":\"#66c2a5\"},\"size\":{\"value\":6},\"x\":{\"field\":\"x\"},\"y\":{\"field\":\"y\"}},\"id\":\"1706\",\"type\":\"Circle\"},{\"attributes\":{\"line_alpha\":0.1,\"line_color\":\"#66c2a5\",\"x\":{\"field\":\"x\"},\"y\":{\"field\":\"y\"}},\"id\":\"1713\",\"type\":\"Line\"},{\"attributes\":{\"coordinates\":null,\"data_source\":{\"id\":\"1696\"},\"glyph\":{\"id\":\"1712\"},\"group\":null,\"hover_glyph\":null,\"muted_glyph\":{\"id\":\"1714\"},\"nonselection_glyph\":{\"id\":\"1713\"},\"view\":{\"id\":\"1716\"}},\"id\":\"1715\",\"type\":\"GlyphRenderer\"},{\"attributes\":{\"source\":{\"id\":\"1696\"}},\"id\":\"1716\",\"type\":\"CDSView\"},{\"attributes\":{\"axis\":{\"id\":\"1685\"},\"coordinates\":null,\"group\":null,\"ticker\":null},\"id\":\"1688\",\"type\":\"Grid\"}],\"root_ids\":[\"1724\"]},\"title\":\"Bokeh Application\",\"version\":\"2.4.0\"}};\n  const render_items = [{\"docid\":\"54352136-9fd1-4222-bb5a-e64518e8e7ff\",\"root_ids\":[\"1724\"],\"roots\":{\"1724\":\"92b21bd1-1d71-4a9b-817f-1439f476e830\"}}];\n  root.Bokeh.embed.embed_items_notebook(docs_json, render_items);\n\n  }\n  if (root.Bokeh !== undefined) {\n    embed_document(root);\n  } else {\n    let attempts = 0;\n    const timer = setInterval(function(root) {\n      if (root.Bokeh !== undefined) {\n        clearInterval(timer);\n        embed_document(root);\n      } else {\n        attempts++;\n        if (attempts > 100) {\n          clearInterval(timer);\n          console.log(\"Bokeh: ERROR: Unable to run BokehJS code because BokehJS library is missing\");\n        }\n      }\n    }, 10, root)\n  }\n})(window);",
      "application/vnd.bokehjs_exec.v0+json": ""
     },
     "metadata": {
      "application/vnd.bokehjs_exec.v0+json": {
       "id": "1724"
      }
     }
    }
   ],
   "metadata": {}
  },
  {
   "cell_type": "code",
   "execution_count": 10,
   "source": [
    "#export\n",
    "def fmt_str_in_file(file_path, **kwargs):\n",
    "    with open(file_path, 'r') as f:\n",
    "        data = f.read()\n",
    "    return data.format(**kwargs)"
   ],
   "outputs": [],
   "metadata": {}
  },
  {
   "cell_type": "code",
   "execution_count": 12,
   "source": [
    "! echo \"{foo} ... {bar}\" > foo.bar\n",
    "print(fmt_str_in_file('foo.bar', foo='123', bar='abc'))\n",
    "! rm foo.bar\n"
   ],
   "outputs": [
    {
     "output_type": "stream",
     "name": "stdout",
     "text": [
      "123 ... abc\n",
      "\n"
     ]
    }
   ],
   "metadata": {}
  },
  {
   "cell_type": "code",
   "execution_count": null,
   "source": [],
   "outputs": [],
   "metadata": {}
  }
 ],
 "metadata": {
  "interpreter": {
   "hash": "e0661a277d8790e32391af49cbef5789a075e8219f9a6875ae6bc0679267a49e"
  },
  "kernelspec": {
   "name": "python3",
   "display_name": "Python 3.9.7 64-bit ('dataer_tool': conda)"
  },
  "language_info": {
   "name": "python",
   "version": "3.9.7",
   "mimetype": "text/x-python",
   "codemirror_mode": {
    "name": "ipython",
    "version": 3
   },
   "pygments_lexer": "ipython3",
   "nbconvert_exporter": "python",
   "file_extension": ".py"
  }
 },
 "nbformat": 4,
 "nbformat_minor": 2
}