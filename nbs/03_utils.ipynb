{
 "cells": [
  {
   "cell_type": "code",
   "execution_count": 1,
   "source": [
    "# default_exp utils"
   ],
   "outputs": [],
   "metadata": {}
  },
  {
   "cell_type": "markdown",
   "source": [
    "# Utils\n",
    "\n",
    "> help functions"
   ],
   "metadata": {}
  },
  {
   "cell_type": "code",
   "execution_count": 4,
   "source": [
    "#hide\n",
    "from nbdev.showdoc import *"
   ],
   "outputs": [],
   "metadata": {}
  },
  {
   "cell_type": "code",
   "execution_count": 5,
   "source": [
    "#export\n",
    "from dataer_tool.imports import *"
   ],
   "outputs": [],
   "metadata": {}
  },
  {
   "cell_type": "code",
   "execution_count": 6,
   "source": [
    "#export\n",
    "def get_count_data_datetime(input_df, count_column, date_time_column:str=None, agg_method='sum', cumsum:bool=False, resample_mode:str='d', extra_meta_column:str=None):\n",
    "    date_df = input_df\n",
    "    extra_meta_keys = list(date_df[extra_meta_column].value_counts().index) if extra_meta_column is not None else None\n",
    "    if date_time_column is not None:\n",
    "        if 'int' in str(date_df[date_time_column].dtype).lower(): date_df[date_time_column] = date_df[date_time_column].astype(\"string\")\n",
    "        date_df[date_time_column] = pd.to_datetime(date_df[date_time_column])\n",
    "        date_df = date_df.set_index(date_time_column)\n",
    "    if date_time_column is None: date_time_column = date_df.index.name = \"_index_column_title\"\n",
    "    if resample_mode in ['d', 'w', 'm', 'y']:\n",
    "        date_df_iter = date_df.resample(resample_mode)\n",
    "    else:\n",
    "        date_df_iter = date_df.groupby(date_time_column)\n",
    "    agg_row = date_df_iter[count_column].agg(agg_method)\n",
    "    if cumsum: agg_row = agg_row.cumsum()\n",
    "    count_data = agg_row.to_dict()\n",
    "    if extra_meta_column is not None:\n",
    "        extra_output_data = {k: [] for k in extra_meta_keys}\n",
    "        for o in date_df_iter:\n",
    "            extra_data_item = o[1].groupby(extra_meta_column)[count_column].sum().to_dict()\n",
    "            for extra_meta_key in extra_meta_keys:\n",
    "                extra_output_data[extra_meta_key].append(extra_data_item.get(extra_meta_key, 0))\n",
    "    else:\n",
    "        extra_output_data = None\n",
    "    return (count_data, extra_output_data) if extra_output_data is not None else count_data"
   ],
   "outputs": [],
   "metadata": {}
  },
  {
   "cell_type": "code",
   "execution_count": 7,
   "source": [
    "df = pd.DataFrame({\n",
    " 'date': {0: '2000-03-01',\n",
    "          1: '2000-03-02',\n",
    "          2: '2000-03-03',\n",
    "          3: '2000-03-06',\n",
    "          4: '2000-03-07',\n",
    "          5: '2000-03-08',\n",
    "          6: '2000-03-09',\n",
    "          7: '2000-03-10'},\n",
    " 'open': {0: 118.56,\n",
    "          1: 127.0,\n",
    "          2: 124.87,\n",
    "          3: 126.0,\n",
    "          4: 126.44,\n",
    "          5: 122.87,\n",
    "          6: 120.87,\n",
    "          7: 121.69},\n",
    " 'cat': {0: 'A',\n",
    "         1: 'B',\n",
    "         2: 'C',\n",
    "         3: 'B',\n",
    "         4: 'A',\n",
    "         5: 'A',\n",
    "         6: 'C',\n",
    "         7: 'C'}\n",
    "  })"
   ],
   "outputs": [],
   "metadata": {}
  },
  {
   "cell_type": "code",
   "execution_count": 11,
   "source": [
    "from dataer_tool.visualize.bokeh import line_figure_datetime\n",
    "from bokeh.io import show, output_notebook\n",
    "output_notebook()"
   ],
   "outputs": [
    {
     "output_type": "display_data",
     "data": {
      "text/html": [
       "\n",
       "    <div class=\"bk-root\">\n",
       "        <a href=\"https://bokeh.org\" target=\"_blank\" class=\"bk-logo bk-logo-small bk-logo-notebook\"></a>\n",
       "        <span id=\"1002\">Loading BokehJS ...</span>\n",
       "    </div>"
      ]
     },
     "metadata": {}
    },
    {
     "output_type": "display_data",
     "data": {
      "application/javascript": "\n(function(root) {\n  function now() {\n    return new Date();\n  }\n\n  var force = true;\n\n  if (typeof root._bokeh_onload_callbacks === \"undefined\" || force === true) {\n    root._bokeh_onload_callbacks = [];\n    root._bokeh_is_loading = undefined;\n  }\n\n  var JS_MIME_TYPE = 'application/javascript';\n  var HTML_MIME_TYPE = 'text/html';\n  var EXEC_MIME_TYPE = 'application/vnd.bokehjs_exec.v0+json';\n  var CLASS_NAME = 'output_bokeh rendered_html';\n\n  /**\n   * Render data to the DOM node\n   */\n  function render(props, node) {\n    var script = document.createElement(\"script\");\n    node.appendChild(script);\n  }\n\n  /**\n   * Handle when an output is cleared or removed\n   */\n  function handleClearOutput(event, handle) {\n    var cell = handle.cell;\n\n    var id = cell.output_area._bokeh_element_id;\n    var server_id = cell.output_area._bokeh_server_id;\n    // Clean up Bokeh references\n    if (id != null && id in Bokeh.index) {\n      Bokeh.index[id].model.document.clear();\n      delete Bokeh.index[id];\n    }\n\n    if (server_id !== undefined) {\n      // Clean up Bokeh references\n      var cmd = \"from bokeh.io.state import curstate; print(curstate().uuid_to_server['\" + server_id + \"'].get_sessions()[0].document.roots[0]._id)\";\n      cell.notebook.kernel.execute(cmd, {\n        iopub: {\n          output: function(msg) {\n            var id = msg.content.text.trim();\n            if (id in Bokeh.index) {\n              Bokeh.index[id].model.document.clear();\n              delete Bokeh.index[id];\n            }\n          }\n        }\n      });\n      // Destroy server and session\n      var cmd = \"import bokeh.io.notebook as ion; ion.destroy_server('\" + server_id + \"')\";\n      cell.notebook.kernel.execute(cmd);\n    }\n  }\n\n  /**\n   * Handle when a new output is added\n   */\n  function handleAddOutput(event, handle) {\n    var output_area = handle.output_area;\n    var output = handle.output;\n\n    // limit handleAddOutput to display_data with EXEC_MIME_TYPE content only\n    if ((output.output_type != \"display_data\") || (!Object.prototype.hasOwnProperty.call(output.data, EXEC_MIME_TYPE))) {\n      return\n    }\n\n    var toinsert = output_area.element.find(\".\" + CLASS_NAME.split(' ')[0]);\n\n    if (output.metadata[EXEC_MIME_TYPE][\"id\"] !== undefined) {\n      toinsert[toinsert.length - 1].firstChild.textContent = output.data[JS_MIME_TYPE];\n      // store reference to embed id on output_area\n      output_area._bokeh_element_id = output.metadata[EXEC_MIME_TYPE][\"id\"];\n    }\n    if (output.metadata[EXEC_MIME_TYPE][\"server_id\"] !== undefined) {\n      var bk_div = document.createElement(\"div\");\n      bk_div.innerHTML = output.data[HTML_MIME_TYPE];\n      var script_attrs = bk_div.children[0].attributes;\n      for (var i = 0; i < script_attrs.length; i++) {\n        toinsert[toinsert.length - 1].firstChild.setAttribute(script_attrs[i].name, script_attrs[i].value);\n        toinsert[toinsert.length - 1].firstChild.textContent = bk_div.children[0].textContent\n      }\n      // store reference to server id on output_area\n      output_area._bokeh_server_id = output.metadata[EXEC_MIME_TYPE][\"server_id\"];\n    }\n  }\n\n  function register_renderer(events, OutputArea) {\n\n    function append_mime(data, metadata, element) {\n      // create a DOM node to render to\n      var toinsert = this.create_output_subarea(\n        metadata,\n        CLASS_NAME,\n        EXEC_MIME_TYPE\n      );\n      this.keyboard_manager.register_events(toinsert);\n      // Render to node\n      var props = {data: data, metadata: metadata[EXEC_MIME_TYPE]};\n      render(props, toinsert[toinsert.length - 1]);\n      element.append(toinsert);\n      return toinsert\n    }\n\n    /* Handle when an output is cleared or removed */\n    events.on('clear_output.CodeCell', handleClearOutput);\n    events.on('delete.Cell', handleClearOutput);\n\n    /* Handle when a new output is added */\n    events.on('output_added.OutputArea', handleAddOutput);\n\n    /**\n     * Register the mime type and append_mime function with output_area\n     */\n    OutputArea.prototype.register_mime_type(EXEC_MIME_TYPE, append_mime, {\n      /* Is output safe? */\n      safe: true,\n      /* Index of renderer in `output_area.display_order` */\n      index: 0\n    });\n  }\n\n  // register the mime type if in Jupyter Notebook environment and previously unregistered\n  if (root.Jupyter !== undefined) {\n    var events = require('base/js/events');\n    var OutputArea = require('notebook/js/outputarea').OutputArea;\n\n    if (OutputArea.prototype.mime_types().indexOf(EXEC_MIME_TYPE) == -1) {\n      register_renderer(events, OutputArea);\n    }\n  }\n\n  \n  if (typeof (root._bokeh_timeout) === \"undefined\" || force === true) {\n    root._bokeh_timeout = Date.now() + 5000;\n    root._bokeh_failed_load = false;\n  }\n\n  var NB_LOAD_WARNING = {'data': {'text/html':\n     \"<div style='background-color: #fdd'>\\n\"+\n     \"<p>\\n\"+\n     \"BokehJS does not appear to have successfully loaded. If loading BokehJS from CDN, this \\n\"+\n     \"may be due to a slow or bad network connection. Possible fixes:\\n\"+\n     \"</p>\\n\"+\n     \"<ul>\\n\"+\n     \"<li>re-rerun `output_notebook()` to attempt to load from CDN again, or</li>\\n\"+\n     \"<li>use INLINE resources instead, as so:</li>\\n\"+\n     \"</ul>\\n\"+\n     \"<code>\\n\"+\n     \"from bokeh.resources import INLINE\\n\"+\n     \"output_notebook(resources=INLINE)\\n\"+\n     \"</code>\\n\"+\n     \"</div>\"}};\n\n  function display_loaded() {\n    var el = document.getElementById(\"1002\");\n    if (el != null) {\n      el.textContent = \"BokehJS is loading...\";\n    }\n    if (root.Bokeh !== undefined) {\n      if (el != null) {\n        el.textContent = \"BokehJS \" + root.Bokeh.version + \" successfully loaded.\";\n      }\n    } else if (Date.now() < root._bokeh_timeout) {\n      setTimeout(display_loaded, 100)\n    }\n  }\n\n\n  function run_callbacks() {\n    try {\n      root._bokeh_onload_callbacks.forEach(function(callback) {\n        if (callback != null)\n          callback();\n      });\n    } finally {\n      delete root._bokeh_onload_callbacks\n    }\n    console.debug(\"Bokeh: all callbacks have finished\");\n  }\n\n  function load_libs(css_urls, js_urls, callback) {\n    if (css_urls == null) css_urls = [];\n    if (js_urls == null) js_urls = [];\n\n    root._bokeh_onload_callbacks.push(callback);\n    if (root._bokeh_is_loading > 0) {\n      console.debug(\"Bokeh: BokehJS is being loaded, scheduling callback at\", now());\n      return null;\n    }\n    if (js_urls == null || js_urls.length === 0) {\n      run_callbacks();\n      return null;\n    }\n    console.debug(\"Bokeh: BokehJS not loaded, scheduling load and callback at\", now());\n    root._bokeh_is_loading = css_urls.length + js_urls.length;\n\n    function on_load() {\n      root._bokeh_is_loading--;\n      if (root._bokeh_is_loading === 0) {\n        console.debug(\"Bokeh: all BokehJS libraries/stylesheets loaded\");\n        run_callbacks()\n      }\n    }\n\n    function on_error(url) {\n      console.error(\"failed to load \" + url);\n    }\n\n    for (let i = 0; i < css_urls.length; i++) {\n      const url = css_urls[i];\n      const element = document.createElement(\"link\");\n      element.onload = on_load;\n      element.onerror = on_error.bind(null, url);\n      element.rel = \"stylesheet\";\n      element.type = \"text/css\";\n      element.href = url;\n      console.debug(\"Bokeh: injecting link tag for BokehJS stylesheet: \", url);\n      document.body.appendChild(element);\n    }\n\n    const hashes = {\"https://cdn.bokeh.org/bokeh/release/bokeh-2.3.3.min.js\": \"dM3QQsP+wXdHg42wTqW85BjZQdLNNIXqlPw/BgKoExPmTG7ZLML4EGqLMfqHT6ON\", \"https://cdn.bokeh.org/bokeh/release/bokeh-tables-2.3.3.min.js\": \"8x57I4YuIfu8XyZfFo0XVr2WAT8EK4rh/uDe3wF7YuW2FNUSNEpJbsPaB1nJ2fz2\", \"https://cdn.bokeh.org/bokeh/release/bokeh-widgets-2.3.3.min.js\": \"3QTqdz9LyAm2i0sG5XTePsHec3UHWwVsrOL68SYRoAXsafvfAyqtQ+h440+qIBhS\"};\n\n    for (let i = 0; i < js_urls.length; i++) {\n      const url = js_urls[i];\n      const element = document.createElement('script');\n      element.onload = on_load;\n      element.onerror = on_error.bind(null, url);\n      element.async = false;\n      element.src = url;\n      if (url in hashes) {\n        element.crossOrigin = \"anonymous\";\n        element.integrity = \"sha384-\" + hashes[url];\n      }\n      console.debug(\"Bokeh: injecting script tag for BokehJS library: \", url);\n      document.head.appendChild(element);\n    }\n  };\n\n  function inject_raw_css(css) {\n    const element = document.createElement(\"style\");\n    element.appendChild(document.createTextNode(css));\n    document.body.appendChild(element);\n  }\n\n  \n  var js_urls = [\"https://cdn.bokeh.org/bokeh/release/bokeh-2.3.3.min.js\", \"https://cdn.bokeh.org/bokeh/release/bokeh-widgets-2.3.3.min.js\", \"https://cdn.bokeh.org/bokeh/release/bokeh-tables-2.3.3.min.js\"];\n  var css_urls = [];\n  \n\n  var inline_js = [\n    function(Bokeh) {\n      Bokeh.set_log_level(\"info\");\n    },\n    function(Bokeh) {\n    \n    \n    }\n  ];\n\n  function run_inline_js() {\n    \n    if (root.Bokeh !== undefined || force === true) {\n      \n    for (var i = 0; i < inline_js.length; i++) {\n      inline_js[i].call(root, root.Bokeh);\n    }\n    if (force === true) {\n        display_loaded();\n      }} else if (Date.now() < root._bokeh_timeout) {\n      setTimeout(run_inline_js, 100);\n    } else if (!root._bokeh_failed_load) {\n      console.log(\"Bokeh: BokehJS failed to load within specified timeout.\");\n      root._bokeh_failed_load = true;\n    } else if (force !== true) {\n      var cell = $(document.getElementById(\"1002\")).parents('.cell').data().cell;\n      cell.output_area.append_execute_result(NB_LOAD_WARNING)\n    }\n\n  }\n\n  if (root._bokeh_is_loading === 0) {\n    console.debug(\"Bokeh: BokehJS loaded, going straight to plotting\");\n    run_inline_js();\n  } else {\n    load_libs(css_urls, js_urls, function() {\n      console.debug(\"Bokeh: BokehJS plotting callback run at\", now());\n      run_inline_js();\n    });\n  }\n}(window));",
      "application/vnd.bokehjs_load.v0+json": ""
     },
     "metadata": {}
    }
   ],
   "metadata": {}
  },
  {
   "cell_type": "code",
   "execution_count": 14,
   "source": [
    "data = get_count_data_datetime(df, count_column='open', date_time_column='date')\n",
    "\n",
    "p = line_figure_datetime(data, title=\"趋势图\", draw_circle=True)\n",
    "show(p)"
   ],
   "outputs": [
    {
     "output_type": "stream",
     "name": "stdout",
     "text": [
      "[SaveTool(id='1319', ...), ResetTool(id='1320', ...), PanTool(id='1321', ...)]\n"
     ]
    },
    {
     "output_type": "display_data",
     "data": {
      "text/html": [
       "\n",
       "\n",
       "\n",
       "\n",
       "\n",
       "\n",
       "  <div class=\"bk-root\" id=\"bc032257-c5d4-4cfd-91ae-6ddf9d7674f5\" data-root-id=\"1373\"></div>\n"
      ]
     },
     "metadata": {}
    },
    {
     "output_type": "display_data",
     "data": {
      "application/vnd.bokehjs_exec.v0+json": "",
      "application/javascript": "(function(root) {\n  function embed_document(root) {\n    \n  var docs_json = {\"c485a0c5-af75-496b-9f7f-8819667af207\":{\"defs\":[],\"roots\":{\"references\":[{\"attributes\":{\"children\":[{\"id\":\"1300\"},{\"id\":\"1327\"}]},\"id\":\"1373\",\"type\":\"Column\"},{\"attributes\":{},\"id\":\"1421\",\"type\":\"DatetimeTickFormatter\"},{\"attributes\":{\"months\":[0,2,4,6,8,10]},\"id\":\"1433\",\"type\":\"MonthsTicker\"},{\"attributes\":{},\"id\":\"1422\",\"type\":\"AllLabels\"},{\"attributes\":{},\"id\":\"1423\",\"type\":\"UnionRenderers\"},{\"attributes\":{},\"id\":\"1424\",\"type\":\"Selection\"},{\"attributes\":{\"mantissas\":[1,2,5],\"max_interval\":500.0,\"num_minor_ticks\":0},\"id\":\"1425\",\"type\":\"AdaptiveTicker\"},{\"attributes\":{\"base\":60,\"mantissas\":[1,2,5,10,15,20,30],\"max_interval\":1800000.0,\"min_interval\":1000.0,\"num_minor_ticks\":0},\"id\":\"1426\",\"type\":\"AdaptiveTicker\"},{\"attributes\":{},\"id\":\"1436\",\"type\":\"YearsTicker\"},{\"attributes\":{\"base\":24,\"mantissas\":[1,2,4,6,8,12],\"max_interval\":43200000.0,\"min_interval\":3600000.0,\"num_minor_ticks\":0},\"id\":\"1427\",\"type\":\"AdaptiveTicker\"},{\"attributes\":{\"axis\":{\"id\":\"1337\"},\"ticker\":null},\"id\":\"1340\",\"type\":\"Grid\"},{\"attributes\":{\"formatter\":{\"id\":\"1421\"},\"major_label_policy\":{\"id\":\"1422\"},\"ticker\":{\"id\":\"1338\"}},\"id\":\"1337\",\"type\":\"DatetimeAxis\"},{\"attributes\":{\"text\":\"\\u62d6\\u52a8\\u9009\\u62e9 x \\u533a\\u95f4\"},\"id\":\"1328\",\"type\":\"Title\"},{\"attributes\":{},\"id\":\"1330\",\"type\":\"DataRange1d\"},{\"attributes\":{\"data\":{\"x\":[951868800000.0,951955200000.0,952041600000.0,952128000000.0,952214400000.0,952300800000.0,952387200000.0,952473600000.0,952560000000.0,952646400000.0],\"y\":[118.56,127.0,124.87,0.0,0.0,126.0,126.44,122.87,120.87,121.69]},\"selected\":{\"id\":\"1424\"},\"selection_policy\":{\"id\":\"1423\"}},\"id\":\"1348\",\"type\":\"ColumnDataSource\"},{\"attributes\":{},\"id\":\"1333\",\"type\":\"LinearScale\"},{\"attributes\":{},\"id\":\"1335\",\"type\":\"LinearScale\"},{\"attributes\":{\"mantissas\":[1,2,5],\"max_interval\":500.0,\"num_minor_ticks\":0},\"id\":\"1438\",\"type\":\"AdaptiveTicker\"},{\"attributes\":{},\"id\":\"1343\",\"type\":\"PanTool\"},{\"attributes\":{\"base\":60,\"mantissas\":[1,2,5,10,15,20,30],\"max_interval\":1800000.0,\"min_interval\":1000.0,\"num_minor_ticks\":0},\"id\":\"1439\",\"type\":\"AdaptiveTicker\"},{\"attributes\":{\"num_minor_ticks\":5,\"tickers\":[{\"id\":\"1438\"},{\"id\":\"1439\"},{\"id\":\"1440\"},{\"id\":\"1441\"},{\"id\":\"1442\"},{\"id\":\"1443\"},{\"id\":\"1444\"},{\"id\":\"1445\"},{\"id\":\"1446\"},{\"id\":\"1447\"},{\"id\":\"1448\"},{\"id\":\"1449\"}]},\"id\":\"1338\",\"type\":\"DatetimeTicker\"},{\"attributes\":{\"days\":[1,2,3,4,5,6,7,8,9,10,11,12,13,14,15,16,17,18,19,20,21,22,23,24,25,26,27,28,29,30,31]},\"id\":\"1441\",\"type\":\"DaysTicker\"},{\"attributes\":{\"base\":24,\"mantissas\":[1,2,4,6,8,12],\"max_interval\":43200000.0,\"min_interval\":3600000.0,\"num_minor_ticks\":0},\"id\":\"1440\",\"type\":\"AdaptiveTicker\"},{\"attributes\":{\"months\":[0,1,2,3,4,5,6,7,8,9,10,11]},\"id\":\"1445\",\"type\":\"MonthsTicker\"},{\"attributes\":{},\"id\":\"1342\",\"type\":\"ResetTool\"},{\"attributes\":{\"months\":[0,2,4,6,8,10]},\"id\":\"1446\",\"type\":\"MonthsTicker\"},{\"attributes\":{},\"id\":\"1341\",\"type\":\"SaveTool\"},{\"attributes\":{\"days\":[1,4,7,10,13,16,19,22,25,28]},\"id\":\"1442\",\"type\":\"DaysTicker\"},{\"attributes\":{},\"id\":\"1415\",\"type\":\"BasicTickFormatter\"},{\"attributes\":{\"days\":[1,15]},\"id\":\"1444\",\"type\":\"DaysTicker\"},{\"attributes\":{\"months\":[0,6]},\"id\":\"1448\",\"type\":\"MonthsTicker\"},{\"attributes\":{\"days\":[1,8,15,22]},\"id\":\"1443\",\"type\":\"DaysTicker\"},{\"attributes\":{},\"id\":\"1449\",\"type\":\"YearsTicker\"},{\"attributes\":{\"axis\":{\"id\":\"1315\"},\"dimension\":1,\"ticker\":null},\"id\":\"1318\",\"type\":\"Grid\"},{\"attributes\":{\"months\":[0,4,8]},\"id\":\"1447\",\"type\":\"MonthsTicker\"},{\"attributes\":{\"months\":[0,4,8]},\"id\":\"1434\",\"type\":\"MonthsTicker\"},{\"attributes\":{\"fill_color\":{\"value\":\"white\"},\"line_color\":{\"value\":\"#66c2a5\"},\"size\":{\"value\":6},\"x\":{\"field\":\"x\"},\"y\":{\"field\":\"y\"}},\"id\":\"1355\",\"type\":\"Circle\"},{\"attributes\":{\"axis_label\":\"y\",\"formatter\":{\"id\":\"1415\"},\"major_label_policy\":{\"id\":\"1416\"},\"ticker\":{\"id\":\"1316\"}},\"id\":\"1315\",\"type\":\"LinearAxis\"},{\"attributes\":{\"months\":[0,1,2,3,4,5,6,7,8,9,10,11]},\"id\":\"1432\",\"type\":\"MonthsTicker\"},{\"attributes\":{\"months\":[0,6]},\"id\":\"1435\",\"type\":\"MonthsTicker\"},{\"attributes\":{\"formatter\":{\"id\":\"1418\"},\"major_label_policy\":{\"id\":\"1419\"},\"ticker\":{\"id\":\"1312\"}},\"id\":\"1311\",\"type\":\"DatetimeAxis\"},{\"attributes\":{\"above\":[{\"id\":\"1311\"}],\"background_fill_color\":\"#efefef\",\"center\":[{\"id\":\"1314\"},{\"id\":\"1318\"}],\"height\":325,\"left\":[{\"id\":\"1315\"}],\"renderers\":[{\"id\":\"1352\"},{\"id\":\"1357\"}],\"title\":{\"id\":\"1301\"},\"toolbar\":{\"id\":\"1322\"},\"toolbar_location\":null,\"width\":800,\"x_range\":{\"id\":\"1366\"},\"x_scale\":{\"id\":\"1367\"},\"y_range\":{\"id\":\"1305\"},\"y_scale\":{\"id\":\"1309\"}},\"id\":\"1300\",\"subtype\":\"Figure\",\"type\":\"Plot\"},{\"attributes\":{\"active_multi\":{\"id\":\"1368\"},\"tools\":[{\"id\":\"1341\"},{\"id\":\"1342\"},{\"id\":\"1343\"},{\"id\":\"1368\"}]},\"id\":\"1344\",\"type\":\"Toolbar\"},{\"attributes\":{\"callback\":null,\"formatters\":{\"@{x}\":\"datetime\"},\"tooltips\":[[\"x\",\"@{x}{%F}\"],[\"y\",\"@{y}\"]]},\"id\":\"1359\",\"type\":\"HoverTool\"},{\"attributes\":{\"data_source\":{\"id\":\"1348\"},\"glyph\":{\"id\":\"1362\"},\"hover_glyph\":null,\"muted_glyph\":null,\"nonselection_glyph\":{\"id\":\"1363\"},\"view\":{\"id\":\"1365\"}},\"id\":\"1364\",\"type\":\"GlyphRenderer\"},{\"attributes\":{\"overlay\":{\"id\":\"1369\"},\"x_range\":{\"id\":\"1366\"},\"y_range\":null},\"id\":\"1368\",\"type\":\"RangeTool\"},{\"attributes\":{\"line_alpha\":0.1,\"line_color\":\"#66c2a5\",\"x\":{\"field\":\"x\"},\"y\":{\"field\":\"y\"}},\"id\":\"1351\",\"type\":\"Line\"},{\"attributes\":{\"line_alpha\":0.1,\"line_color\":\"#66c2a5\",\"x\":{\"field\":\"x\"},\"y\":{\"field\":\"y\"}},\"id\":\"1363\",\"type\":\"Line\"},{\"attributes\":{},\"id\":\"1320\",\"type\":\"ResetTool\"},{\"attributes\":{\"source\":{\"id\":\"1348\"}},\"id\":\"1353\",\"type\":\"CDSView\"},{\"attributes\":{},\"id\":\"1305\",\"type\":\"DataRange1d\"},{\"attributes\":{\"data_source\":{\"id\":\"1348\"},\"glyph\":{\"id\":\"1350\"},\"hover_glyph\":null,\"muted_glyph\":null,\"nonselection_glyph\":{\"id\":\"1351\"},\"view\":{\"id\":\"1353\"}},\"id\":\"1352\",\"type\":\"GlyphRenderer\"},{\"attributes\":{},\"id\":\"1321\",\"type\":\"PanTool\"},{\"attributes\":{\"fill_alpha\":{\"value\":0.1},\"fill_color\":{\"value\":\"white\"},\"line_alpha\":{\"value\":0.1},\"line_color\":{\"value\":\"#66c2a5\"},\"size\":{\"value\":6},\"x\":{\"field\":\"x\"},\"y\":{\"field\":\"y\"}},\"id\":\"1356\",\"type\":\"Circle\"},{\"attributes\":{\"line_color\":\"#66c2a5\",\"x\":{\"field\":\"x\"},\"y\":{\"field\":\"y\"}},\"id\":\"1362\",\"type\":\"Line\"},{\"attributes\":{},\"id\":\"1309\",\"type\":\"LinearScale\"},{\"attributes\":{\"line_color\":\"#66c2a5\",\"x\":{\"field\":\"x\"},\"y\":{\"field\":\"y\"}},\"id\":\"1350\",\"type\":\"Line\"},{\"attributes\":{\"data_source\":{\"id\":\"1348\"},\"glyph\":{\"id\":\"1355\"},\"hover_glyph\":null,\"muted_glyph\":null,\"nonselection_glyph\":{\"id\":\"1356\"},\"view\":{\"id\":\"1358\"}},\"id\":\"1357\",\"type\":\"GlyphRenderer\"},{\"attributes\":{\"fill_alpha\":0.2,\"fill_color\":\"navy\",\"level\":\"overlay\",\"line_alpha\":1.0,\"line_color\":\"black\",\"line_dash\":[2,2],\"line_width\":0.5,\"syncable\":false},\"id\":\"1369\",\"type\":\"BoxAnnotation\"},{\"attributes\":{\"days\":[1,2,3,4,5,6,7,8,9,10,11,12,13,14,15,16,17,18,19,20,21,22,23,24,25,26,27,28,29,30,31]},\"id\":\"1428\",\"type\":\"DaysTicker\"},{\"attributes\":{},\"id\":\"1416\",\"type\":\"AllLabels\"},{\"attributes\":{},\"id\":\"1316\",\"type\":\"BasicTicker\"},{\"attributes\":{\"days\":[1,8,15,22]},\"id\":\"1430\",\"type\":\"DaysTicker\"},{\"attributes\":{\"num_minor_ticks\":5,\"tickers\":[{\"id\":\"1425\"},{\"id\":\"1426\"},{\"id\":\"1427\"},{\"id\":\"1428\"},{\"id\":\"1429\"},{\"id\":\"1430\"},{\"id\":\"1431\"},{\"id\":\"1432\"},{\"id\":\"1433\"},{\"id\":\"1434\"},{\"id\":\"1435\"},{\"id\":\"1436\"}]},\"id\":\"1312\",\"type\":\"DatetimeTicker\"},{\"attributes\":{},\"id\":\"1418\",\"type\":\"DatetimeTickFormatter\"},{\"attributes\":{\"source\":{\"id\":\"1348\"}},\"id\":\"1365\",\"type\":\"CDSView\"},{\"attributes\":{},\"id\":\"1319\",\"type\":\"SaveTool\"},{\"attributes\":{},\"id\":\"1419\",\"type\":\"AllLabels\"},{\"attributes\":{\"source\":{\"id\":\"1348\"}},\"id\":\"1358\",\"type\":\"CDSView\"},{\"attributes\":{\"end\":952387200000.0,\"start\":952214400000.0},\"id\":\"1366\",\"type\":\"Range1d\"},{\"attributes\":{\"text\":\"\\u8d8b\\u52bf\\u56fe\"},\"id\":\"1301\",\"type\":\"Title\"},{\"attributes\":{},\"id\":\"1367\",\"type\":\"LinearScale\"},{\"attributes\":{\"active_multi\":null,\"tools\":[{\"id\":\"1319\"},{\"id\":\"1320\"},{\"id\":\"1321\"},{\"id\":\"1359\"}]},\"id\":\"1322\",\"type\":\"Toolbar\"},{\"attributes\":{\"days\":[1,4,7,10,13,16,19,22,25,28]},\"id\":\"1429\",\"type\":\"DaysTicker\"},{\"attributes\":{\"background_fill_color\":\"#efefef\",\"below\":[{\"id\":\"1337\"}],\"center\":[{\"id\":\"1340\"}],\"height\":175,\"renderers\":[{\"id\":\"1364\"}],\"title\":{\"id\":\"1328\"},\"toolbar\":{\"id\":\"1344\"},\"toolbar_location\":null,\"width\":800,\"x_range\":{\"id\":\"1330\"},\"x_scale\":{\"id\":\"1333\"},\"y_range\":{\"id\":\"1305\"},\"y_scale\":{\"id\":\"1335\"}},\"id\":\"1327\",\"subtype\":\"Figure\",\"type\":\"Plot\"},{\"attributes\":{\"axis\":{\"id\":\"1311\"},\"ticker\":null},\"id\":\"1314\",\"type\":\"Grid\"},{\"attributes\":{\"days\":[1,15]},\"id\":\"1431\",\"type\":\"DaysTicker\"}],\"root_ids\":[\"1373\"]},\"title\":\"Bokeh Application\",\"version\":\"2.3.3\"}};\n  var render_items = [{\"docid\":\"c485a0c5-af75-496b-9f7f-8819667af207\",\"root_ids\":[\"1373\"],\"roots\":{\"1373\":\"bc032257-c5d4-4cfd-91ae-6ddf9d7674f5\"}}];\n  root.Bokeh.embed.embed_items_notebook(docs_json, render_items);\n\n  }\n  if (root.Bokeh !== undefined) {\n    embed_document(root);\n  } else {\n    var attempts = 0;\n    var timer = setInterval(function(root) {\n      if (root.Bokeh !== undefined) {\n        clearInterval(timer);\n        embed_document(root);\n      } else {\n        attempts++;\n        if (attempts > 100) {\n          clearInterval(timer);\n          console.log(\"Bokeh: ERROR: Unable to run BokehJS code because BokehJS library is missing\");\n        }\n      }\n    }, 10, root)\n  }\n})(window);"
     },
     "metadata": {
      "application/vnd.bokehjs_exec.v0+json": {
       "id": "1373"
      }
     }
    }
   ],
   "metadata": {}
  },
  {
   "cell_type": "code",
   "execution_count": 15,
   "source": [
    "data = get_count_data_datetime(df, count_column='open', date_time_column='date', extra_meta_column='cat')\n",
    "\n",
    "p = line_figure_datetime(data[0], title=\"趋势图\", draw_circle=True, tooltips_metadata=data[1])\n",
    "show(p)"
   ],
   "outputs": [
    {
     "output_type": "stream",
     "name": "stdout",
     "text": [
      "[SaveTool(id='1659', ...), ResetTool(id='1660', ...), PanTool(id='1661', ...)]\n"
     ]
    },
    {
     "output_type": "display_data",
     "data": {
      "text/html": [
       "\n",
       "\n",
       "\n",
       "\n",
       "\n",
       "\n",
       "  <div class=\"bk-root\" id=\"22040084-9a6b-4a16-8ad7-a64614dfcd03\" data-root-id=\"1713\"></div>\n"
      ]
     },
     "metadata": {}
    },
    {
     "output_type": "display_data",
     "data": {
      "application/vnd.bokehjs_exec.v0+json": "",
      "application/javascript": "(function(root) {\n  function embed_document(root) {\n    \n  var docs_json = {\"561a1ba5-a103-47de-b9ba-464e1a13884e\":{\"defs\":[],\"roots\":{\"references\":[{\"attributes\":{\"children\":[{\"id\":\"1640\"},{\"id\":\"1667\"}]},\"id\":\"1713\",\"type\":\"Column\"},{\"attributes\":{},\"id\":\"1707\",\"type\":\"LinearScale\"},{\"attributes\":{},\"id\":\"1645\",\"type\":\"DataRange1d\"},{\"attributes\":{\"above\":[{\"id\":\"1651\"}],\"background_fill_color\":\"#efefef\",\"center\":[{\"id\":\"1654\"},{\"id\":\"1658\"}],\"height\":325,\"left\":[{\"id\":\"1655\"}],\"renderers\":[{\"id\":\"1692\"},{\"id\":\"1697\"}],\"title\":{\"id\":\"1641\"},\"toolbar\":{\"id\":\"1662\"},\"toolbar_location\":null,\"width\":800,\"x_range\":{\"id\":\"1706\"},\"x_scale\":{\"id\":\"1707\"},\"y_range\":{\"id\":\"1645\"},\"y_scale\":{\"id\":\"1649\"}},\"id\":\"1640\",\"subtype\":\"Figure\",\"type\":\"Plot\"},{\"attributes\":{\"callback\":null,\"formatters\":{\"@{x}\":\"datetime\"},\"tooltips\":[[\"x\",\"@{x}{%F}\"],[\"y\",\"@{y}\"],[\"A\",\"@{A}\"],[\"C\",\"@{C}\"],[\"B\",\"@{B}\"]]},\"id\":\"1699\",\"type\":\"HoverTool\"},{\"attributes\":{\"end\":952387200000.0,\"start\":952214400000.0},\"id\":\"1706\",\"type\":\"Range1d\"},{\"attributes\":{\"days\":[1,8,15,22]},\"id\":\"1808\",\"type\":\"DaysTicker\"},{\"attributes\":{\"fill_alpha\":0.2,\"fill_color\":\"navy\",\"level\":\"overlay\",\"line_alpha\":1.0,\"line_color\":\"black\",\"line_dash\":[2,2],\"line_width\":0.5,\"syncable\":false},\"id\":\"1709\",\"type\":\"BoxAnnotation\"},{\"attributes\":{\"axis\":{\"id\":\"1677\"},\"ticker\":null},\"id\":\"1680\",\"type\":\"Grid\"},{\"attributes\":{\"months\":[0,1,2,3,4,5,6,7,8,9,10,11]},\"id\":\"1810\",\"type\":\"MonthsTicker\"},{\"attributes\":{\"formatter\":{\"id\":\"1799\"},\"major_label_policy\":{\"id\":\"1800\"},\"ticker\":{\"id\":\"1678\"}},\"id\":\"1677\",\"type\":\"DatetimeAxis\"},{\"attributes\":{},\"id\":\"1814\",\"type\":\"YearsTicker\"},{\"attributes\":{\"background_fill_color\":\"#efefef\",\"below\":[{\"id\":\"1677\"}],\"center\":[{\"id\":\"1680\"}],\"height\":175,\"renderers\":[{\"id\":\"1704\"}],\"title\":{\"id\":\"1668\"},\"toolbar\":{\"id\":\"1684\"},\"toolbar_location\":null,\"width\":800,\"x_range\":{\"id\":\"1670\"},\"x_scale\":{\"id\":\"1673\"},\"y_range\":{\"id\":\"1645\"},\"y_scale\":{\"id\":\"1675\"}},\"id\":\"1667\",\"subtype\":\"Figure\",\"type\":\"Plot\"},{\"attributes\":{\"text\":\"\\u62d6\\u52a8\\u9009\\u62e9 x \\u533a\\u95f4\"},\"id\":\"1668\",\"type\":\"Title\"},{\"attributes\":{\"days\":[1,15]},\"id\":\"1809\",\"type\":\"DaysTicker\"},{\"attributes\":{},\"id\":\"1670\",\"type\":\"DataRange1d\"},{\"attributes\":{\"months\":[0,6]},\"id\":\"1813\",\"type\":\"MonthsTicker\"},{\"attributes\":{\"months\":[0,2,4,6,8,10]},\"id\":\"1811\",\"type\":\"MonthsTicker\"},{\"attributes\":{},\"id\":\"1673\",\"type\":\"LinearScale\"},{\"attributes\":{\"axis\":{\"id\":\"1655\"},\"dimension\":1,\"ticker\":null},\"id\":\"1658\",\"type\":\"Grid\"},{\"attributes\":{\"data_source\":{\"id\":\"1688\"},\"glyph\":{\"id\":\"1695\"},\"hover_glyph\":null,\"muted_glyph\":null,\"nonselection_glyph\":{\"id\":\"1696\"},\"view\":{\"id\":\"1698\"}},\"id\":\"1697\",\"type\":\"GlyphRenderer\"},{\"attributes\":{},\"id\":\"1675\",\"type\":\"LinearScale\"},{\"attributes\":{\"months\":[0,4,8]},\"id\":\"1812\",\"type\":\"MonthsTicker\"},{\"attributes\":{},\"id\":\"1683\",\"type\":\"PanTool\"},{\"attributes\":{\"num_minor_ticks\":5,\"tickers\":[{\"id\":\"1816\"},{\"id\":\"1817\"},{\"id\":\"1818\"},{\"id\":\"1819\"},{\"id\":\"1820\"},{\"id\":\"1821\"},{\"id\":\"1822\"},{\"id\":\"1823\"},{\"id\":\"1824\"},{\"id\":\"1825\"},{\"id\":\"1826\"},{\"id\":\"1827\"}]},\"id\":\"1678\",\"type\":\"DatetimeTicker\"},{\"attributes\":{\"data\":{\"A\":[118.56,0,0,0,0,0,126.44,122.87,0,0],\"B\":[0,127.0,0,0,0,126.0,0,0,0,0],\"C\":[0,0,124.87,0,0,0,0,0,120.87,121.69],\"x\":[951868800000.0,951955200000.0,952041600000.0,952128000000.0,952214400000.0,952300800000.0,952387200000.0,952473600000.0,952560000000.0,952646400000.0],\"y\":[118.56,127.0,124.87,0.0,0.0,126.0,126.44,122.87,120.87,121.69]},\"selected\":{\"id\":\"1802\"},\"selection_policy\":{\"id\":\"1801\"}},\"id\":\"1688\",\"type\":\"ColumnDataSource\"},{\"attributes\":{},\"id\":\"1682\",\"type\":\"ResetTool\"},{\"attributes\":{},\"id\":\"1661\",\"type\":\"PanTool\"},{\"attributes\":{},\"id\":\"1793\",\"type\":\"BasicTickFormatter\"},{\"attributes\":{},\"id\":\"1681\",\"type\":\"SaveTool\"},{\"attributes\":{},\"id\":\"1660\",\"type\":\"ResetTool\"},{\"attributes\":{},\"id\":\"1794\",\"type\":\"AllLabels\"},{\"attributes\":{},\"id\":\"1800\",\"type\":\"AllLabels\"},{\"attributes\":{},\"id\":\"1659\",\"type\":\"SaveTool\"},{\"attributes\":{},\"id\":\"1799\",\"type\":\"DatetimeTickFormatter\"},{\"attributes\":{},\"id\":\"1796\",\"type\":\"DatetimeTickFormatter\"},{\"attributes\":{},\"id\":\"1797\",\"type\":\"AllLabels\"},{\"attributes\":{\"mantissas\":[1,2,5],\"max_interval\":500.0,\"num_minor_ticks\":0},\"id\":\"1816\",\"type\":\"AdaptiveTicker\"},{\"attributes\":{\"base\":60,\"mantissas\":[1,2,5,10,15,20,30],\"max_interval\":1800000.0,\"min_interval\":1000.0,\"num_minor_ticks\":0},\"id\":\"1817\",\"type\":\"AdaptiveTicker\"},{\"attributes\":{\"days\":[1,2,3,4,5,6,7,8,9,10,11,12,13,14,15,16,17,18,19,20,21,22,23,24,25,26,27,28,29,30,31]},\"id\":\"1819\",\"type\":\"DaysTicker\"},{\"attributes\":{\"base\":24,\"mantissas\":[1,2,4,6,8,12],\"max_interval\":43200000.0,\"min_interval\":3600000.0,\"num_minor_ticks\":0},\"id\":\"1818\",\"type\":\"AdaptiveTicker\"},{\"attributes\":{\"formatter\":{\"id\":\"1796\"},\"major_label_policy\":{\"id\":\"1797\"},\"ticker\":{\"id\":\"1652\"}},\"id\":\"1651\",\"type\":\"DatetimeAxis\"},{\"attributes\":{\"months\":[0,1,2,3,4,5,6,7,8,9,10,11]},\"id\":\"1823\",\"type\":\"MonthsTicker\"},{\"attributes\":{\"months\":[0,2,4,6,8,10]},\"id\":\"1824\",\"type\":\"MonthsTicker\"},{\"attributes\":{\"source\":{\"id\":\"1688\"}},\"id\":\"1698\",\"type\":\"CDSView\"},{\"attributes\":{\"days\":[1,4,7,10,13,16,19,22,25,28]},\"id\":\"1820\",\"type\":\"DaysTicker\"},{\"attributes\":{\"days\":[1,15]},\"id\":\"1822\",\"type\":\"DaysTicker\"},{\"attributes\":{},\"id\":\"1656\",\"type\":\"BasicTicker\"},{\"attributes\":{\"months\":[0,6]},\"id\":\"1826\",\"type\":\"MonthsTicker\"},{\"attributes\":{},\"id\":\"1649\",\"type\":\"LinearScale\"},{\"attributes\":{\"axis\":{\"id\":\"1651\"},\"ticker\":null},\"id\":\"1654\",\"type\":\"Grid\"},{\"attributes\":{\"days\":[1,8,15,22]},\"id\":\"1821\",\"type\":\"DaysTicker\"},{\"attributes\":{\"active_multi\":{\"id\":\"1708\"},\"tools\":[{\"id\":\"1681\"},{\"id\":\"1682\"},{\"id\":\"1683\"},{\"id\":\"1708\"}]},\"id\":\"1684\",\"type\":\"Toolbar\"},{\"attributes\":{},\"id\":\"1827\",\"type\":\"YearsTicker\"},{\"attributes\":{},\"id\":\"1802\",\"type\":\"Selection\"},{\"attributes\":{\"months\":[0,4,8]},\"id\":\"1825\",\"type\":\"MonthsTicker\"},{\"attributes\":{\"source\":{\"id\":\"1688\"}},\"id\":\"1693\",\"type\":\"CDSView\"},{\"attributes\":{\"source\":{\"id\":\"1688\"}},\"id\":\"1705\",\"type\":\"CDSView\"},{\"attributes\":{\"data_source\":{\"id\":\"1688\"},\"glyph\":{\"id\":\"1690\"},\"hover_glyph\":null,\"muted_glyph\":null,\"nonselection_glyph\":{\"id\":\"1691\"},\"view\":{\"id\":\"1693\"}},\"id\":\"1692\",\"type\":\"GlyphRenderer\"},{\"attributes\":{\"line_color\":\"#66c2a5\",\"x\":{\"field\":\"x\"},\"y\":{\"field\":\"y\"}},\"id\":\"1690\",\"type\":\"Line\"},{\"attributes\":{},\"id\":\"1801\",\"type\":\"UnionRenderers\"},{\"attributes\":{\"num_minor_ticks\":5,\"tickers\":[{\"id\":\"1803\"},{\"id\":\"1804\"},{\"id\":\"1805\"},{\"id\":\"1806\"},{\"id\":\"1807\"},{\"id\":\"1808\"},{\"id\":\"1809\"},{\"id\":\"1810\"},{\"id\":\"1811\"},{\"id\":\"1812\"},{\"id\":\"1813\"},{\"id\":\"1814\"}]},\"id\":\"1652\",\"type\":\"DatetimeTicker\"},{\"attributes\":{\"line_alpha\":0.1,\"line_color\":\"#66c2a5\",\"x\":{\"field\":\"x\"},\"y\":{\"field\":\"y\"}},\"id\":\"1691\",\"type\":\"Line\"},{\"attributes\":{\"fill_color\":{\"value\":\"white\"},\"line_color\":{\"value\":\"#66c2a5\"},\"size\":{\"value\":6},\"x\":{\"field\":\"x\"},\"y\":{\"field\":\"y\"}},\"id\":\"1695\",\"type\":\"Circle\"},{\"attributes\":{\"line_alpha\":0.1,\"line_color\":\"#66c2a5\",\"x\":{\"field\":\"x\"},\"y\":{\"field\":\"y\"}},\"id\":\"1703\",\"type\":\"Line\"},{\"attributes\":{\"overlay\":{\"id\":\"1709\"},\"x_range\":{\"id\":\"1706\"},\"y_range\":null},\"id\":\"1708\",\"type\":\"RangeTool\"},{\"attributes\":{\"data_source\":{\"id\":\"1688\"},\"glyph\":{\"id\":\"1702\"},\"hover_glyph\":null,\"muted_glyph\":null,\"nonselection_glyph\":{\"id\":\"1703\"},\"view\":{\"id\":\"1705\"}},\"id\":\"1704\",\"type\":\"GlyphRenderer\"},{\"attributes\":{\"line_color\":\"#66c2a5\",\"x\":{\"field\":\"x\"},\"y\":{\"field\":\"y\"}},\"id\":\"1702\",\"type\":\"Line\"},{\"attributes\":{\"text\":\"\\u8d8b\\u52bf\\u56fe\"},\"id\":\"1641\",\"type\":\"Title\"},{\"attributes\":{\"axis_label\":\"y\",\"formatter\":{\"id\":\"1793\"},\"major_label_policy\":{\"id\":\"1794\"},\"ticker\":{\"id\":\"1656\"}},\"id\":\"1655\",\"type\":\"LinearAxis\"},{\"attributes\":{\"fill_alpha\":{\"value\":0.1},\"fill_color\":{\"value\":\"white\"},\"line_alpha\":{\"value\":0.1},\"line_color\":{\"value\":\"#66c2a5\"},\"size\":{\"value\":6},\"x\":{\"field\":\"x\"},\"y\":{\"field\":\"y\"}},\"id\":\"1696\",\"type\":\"Circle\"},{\"attributes\":{\"active_multi\":null,\"tools\":[{\"id\":\"1659\"},{\"id\":\"1660\"},{\"id\":\"1661\"},{\"id\":\"1699\"}]},\"id\":\"1662\",\"type\":\"Toolbar\"},{\"attributes\":{\"mantissas\":[1,2,5],\"max_interval\":500.0,\"num_minor_ticks\":0},\"id\":\"1803\",\"type\":\"AdaptiveTicker\"},{\"attributes\":{\"base\":60,\"mantissas\":[1,2,5,10,15,20,30],\"max_interval\":1800000.0,\"min_interval\":1000.0,\"num_minor_ticks\":0},\"id\":\"1804\",\"type\":\"AdaptiveTicker\"},{\"attributes\":{\"days\":[1,2,3,4,5,6,7,8,9,10,11,12,13,14,15,16,17,18,19,20,21,22,23,24,25,26,27,28,29,30,31]},\"id\":\"1806\",\"type\":\"DaysTicker\"},{\"attributes\":{\"base\":24,\"mantissas\":[1,2,4,6,8,12],\"max_interval\":43200000.0,\"min_interval\":3600000.0,\"num_minor_ticks\":0},\"id\":\"1805\",\"type\":\"AdaptiveTicker\"},{\"attributes\":{\"days\":[1,4,7,10,13,16,19,22,25,28]},\"id\":\"1807\",\"type\":\"DaysTicker\"}],\"root_ids\":[\"1713\"]},\"title\":\"Bokeh Application\",\"version\":\"2.3.3\"}};\n  var render_items = [{\"docid\":\"561a1ba5-a103-47de-b9ba-464e1a13884e\",\"root_ids\":[\"1713\"],\"roots\":{\"1713\":\"22040084-9a6b-4a16-8ad7-a64614dfcd03\"}}];\n  root.Bokeh.embed.embed_items_notebook(docs_json, render_items);\n\n  }\n  if (root.Bokeh !== undefined) {\n    embed_document(root);\n  } else {\n    var attempts = 0;\n    var timer = setInterval(function(root) {\n      if (root.Bokeh !== undefined) {\n        clearInterval(timer);\n        embed_document(root);\n      } else {\n        attempts++;\n        if (attempts > 100) {\n          clearInterval(timer);\n          console.log(\"Bokeh: ERROR: Unable to run BokehJS code because BokehJS library is missing\");\n        }\n      }\n    }, 10, root)\n  }\n})(window);"
     },
     "metadata": {
      "application/vnd.bokehjs_exec.v0+json": {
       "id": "1713"
      }
     }
    }
   ],
   "metadata": {}
  },
  {
   "cell_type": "code",
   "execution_count": 16,
   "source": [
    "data = get_count_data_datetime(df, count_column='open', date_time_column='date', extra_meta_column='cat', cumsum=True)\n",
    "\n",
    "p = line_figure_datetime(data[0], title=\"趋势图\", draw_circle=True, tooltips_metadata=data[1])\n",
    "show(p)"
   ],
   "outputs": [
    {
     "output_type": "stream",
     "name": "stdout",
     "text": [
      "[SaveTool(id='2037', ...), ResetTool(id='2038', ...), PanTool(id='2039', ...)]\n"
     ]
    },
    {
     "output_type": "display_data",
     "data": {
      "text/html": [
       "\n",
       "\n",
       "\n",
       "\n",
       "\n",
       "\n",
       "  <div class=\"bk-root\" id=\"924e02c0-8093-4e28-8a34-56a9c28fe6ff\" data-root-id=\"2091\"></div>\n"
      ]
     },
     "metadata": {}
    },
    {
     "output_type": "display_data",
     "data": {
      "application/vnd.bokehjs_exec.v0+json": "",
      "application/javascript": "(function(root) {\n  function embed_document(root) {\n    \n  var docs_json = {\"db2af6eb-34b8-48c2-9434-0e4c3bc065d9\":{\"defs\":[],\"roots\":{\"references\":[{\"attributes\":{\"children\":[{\"id\":\"2018\"},{\"id\":\"2045\"}]},\"id\":\"2091\",\"type\":\"Column\"},{\"attributes\":{\"active_multi\":{\"id\":\"2086\"},\"tools\":[{\"id\":\"2059\"},{\"id\":\"2060\"},{\"id\":\"2061\"},{\"id\":\"2086\"}]},\"id\":\"2062\",\"type\":\"Toolbar\"},{\"attributes\":{},\"id\":\"2217\",\"type\":\"UnionRenderers\"},{\"attributes\":{},\"id\":\"2218\",\"type\":\"Selection\"},{\"attributes\":{\"months\":[0,6]},\"id\":\"2229\",\"type\":\"MonthsTicker\"},{\"attributes\":{},\"id\":\"2039\",\"type\":\"PanTool\"},{\"attributes\":{},\"id\":\"2038\",\"type\":\"ResetTool\"},{\"attributes\":{\"num_minor_ticks\":5,\"tickers\":[{\"id\":\"2219\"},{\"id\":\"2220\"},{\"id\":\"2221\"},{\"id\":\"2222\"},{\"id\":\"2223\"},{\"id\":\"2224\"},{\"id\":\"2225\"},{\"id\":\"2226\"},{\"id\":\"2227\"},{\"id\":\"2228\"},{\"id\":\"2229\"},{\"id\":\"2230\"}]},\"id\":\"2030\",\"type\":\"DatetimeTicker\"},{\"attributes\":{},\"id\":\"2085\",\"type\":\"LinearScale\"},{\"attributes\":{},\"id\":\"2051\",\"type\":\"LinearScale\"},{\"attributes\":{\"data\":{\"A\":[118.56,0,0,0,0,0,126.44,122.87,0,0],\"B\":[0,127.0,0,0,0,126.0,0,0,0,0],\"C\":[0,0,124.87,0,0,0,0,0,120.87,121.69],\"x\":[951868800000.0,951955200000.0,952041600000.0,952128000000.0,952214400000.0,952300800000.0,952387200000.0,952473600000.0,952560000000.0,952646400000.0],\"y\":[118.56,245.56,370.43,370.43,370.43,496.43,622.87,745.74,866.61,988.3]},\"selected\":{\"id\":\"2218\"},\"selection_policy\":{\"id\":\"2217\"}},\"id\":\"2066\",\"type\":\"ColumnDataSource\"},{\"attributes\":{\"axis\":{\"id\":\"2029\"},\"ticker\":null},\"id\":\"2032\",\"type\":\"Grid\"},{\"attributes\":{\"active_multi\":null,\"tools\":[{\"id\":\"2037\"},{\"id\":\"2038\"},{\"id\":\"2039\"},{\"id\":\"2077\"}]},\"id\":\"2040\",\"type\":\"Toolbar\"},{\"attributes\":{\"axis_label\":\"y\",\"formatter\":{\"id\":\"2209\"},\"major_label_policy\":{\"id\":\"2210\"},\"ticker\":{\"id\":\"2034\"}},\"id\":\"2033\",\"type\":\"LinearAxis\"},{\"attributes\":{\"axis\":{\"id\":\"2033\"},\"dimension\":1,\"ticker\":null},\"id\":\"2036\",\"type\":\"Grid\"},{\"attributes\":{\"line_alpha\":0.1,\"line_color\":\"#66c2a5\",\"x\":{\"field\":\"x\"},\"y\":{\"field\":\"y\"}},\"id\":\"2069\",\"type\":\"Line\"},{\"attributes\":{},\"id\":\"2037\",\"type\":\"SaveTool\"},{\"attributes\":{},\"id\":\"2027\",\"type\":\"LinearScale\"},{\"attributes\":{\"mantissas\":[1,2,5],\"max_interval\":500.0,\"num_minor_ticks\":0},\"id\":\"2219\",\"type\":\"AdaptiveTicker\"},{\"attributes\":{\"base\":60,\"mantissas\":[1,2,5,10,15,20,30],\"max_interval\":1800000.0,\"min_interval\":1000.0,\"num_minor_ticks\":0},\"id\":\"2220\",\"type\":\"AdaptiveTicker\"},{\"attributes\":{},\"id\":\"2023\",\"type\":\"DataRange1d\"},{\"attributes\":{\"base\":24,\"mantissas\":[1,2,4,6,8,12],\"max_interval\":43200000.0,\"min_interval\":3600000.0,\"num_minor_ticks\":0},\"id\":\"2221\",\"type\":\"AdaptiveTicker\"},{\"attributes\":{\"fill_alpha\":0.2,\"fill_color\":\"navy\",\"level\":\"overlay\",\"line_alpha\":1.0,\"line_color\":\"black\",\"line_dash\":[2,2],\"line_width\":0.5,\"syncable\":false},\"id\":\"2087\",\"type\":\"BoxAnnotation\"},{\"attributes\":{\"formatter\":{\"id\":\"2212\"},\"major_label_policy\":{\"id\":\"2213\"},\"ticker\":{\"id\":\"2030\"}},\"id\":\"2029\",\"type\":\"DatetimeAxis\"},{\"attributes\":{\"background_fill_color\":\"#efefef\",\"below\":[{\"id\":\"2055\"}],\"center\":[{\"id\":\"2058\"}],\"height\":175,\"renderers\":[{\"id\":\"2082\"}],\"title\":{\"id\":\"2046\"},\"toolbar\":{\"id\":\"2062\"},\"toolbar_location\":null,\"width\":800,\"x_range\":{\"id\":\"2048\"},\"x_scale\":{\"id\":\"2051\"},\"y_range\":{\"id\":\"2023\"},\"y_scale\":{\"id\":\"2053\"}},\"id\":\"2045\",\"subtype\":\"Figure\",\"type\":\"Plot\"},{\"attributes\":{},\"id\":\"2034\",\"type\":\"BasicTicker\"},{\"attributes\":{\"text\":\"\\u62d6\\u52a8\\u9009\\u62e9 x \\u533a\\u95f4\"},\"id\":\"2046\",\"type\":\"Title\"},{\"attributes\":{},\"id\":\"2053\",\"type\":\"LinearScale\"},{\"attributes\":{},\"id\":\"2048\",\"type\":\"DataRange1d\"},{\"attributes\":{\"mantissas\":[1,2,5],\"max_interval\":500.0,\"num_minor_ticks\":0},\"id\":\"2232\",\"type\":\"AdaptiveTicker\"},{\"attributes\":{\"base\":60,\"mantissas\":[1,2,5,10,15,20,30],\"max_interval\":1800000.0,\"min_interval\":1000.0,\"num_minor_ticks\":0},\"id\":\"2233\",\"type\":\"AdaptiveTicker\"},{\"attributes\":{\"days\":[1,2,3,4,5,6,7,8,9,10,11,12,13,14,15,16,17,18,19,20,21,22,23,24,25,26,27,28,29,30,31]},\"id\":\"2235\",\"type\":\"DaysTicker\"},{\"attributes\":{\"source\":{\"id\":\"2066\"}},\"id\":\"2071\",\"type\":\"CDSView\"},{\"attributes\":{\"base\":24,\"mantissas\":[1,2,4,6,8,12],\"max_interval\":43200000.0,\"min_interval\":3600000.0,\"num_minor_ticks\":0},\"id\":\"2234\",\"type\":\"AdaptiveTicker\"},{\"attributes\":{\"callback\":null,\"formatters\":{\"@{x}\":\"datetime\"},\"tooltips\":[[\"x\",\"@{x}{%F}\"],[\"y\",\"@{y}\"],[\"A\",\"@{A}\"],[\"C\",\"@{C}\"],[\"B\",\"@{B}\"]]},\"id\":\"2077\",\"type\":\"HoverTool\"},{\"attributes\":{\"months\":[0,1,2,3,4,5,6,7,8,9,10,11]},\"id\":\"2239\",\"type\":\"MonthsTicker\"},{\"attributes\":{\"data_source\":{\"id\":\"2066\"},\"glyph\":{\"id\":\"2068\"},\"hover_glyph\":null,\"muted_glyph\":null,\"nonselection_glyph\":{\"id\":\"2069\"},\"view\":{\"id\":\"2071\"}},\"id\":\"2070\",\"type\":\"GlyphRenderer\"},{\"attributes\":{\"months\":[0,2,4,6,8,10]},\"id\":\"2240\",\"type\":\"MonthsTicker\"},{\"attributes\":{\"days\":[1,4,7,10,13,16,19,22,25,28]},\"id\":\"2236\",\"type\":\"DaysTicker\"},{\"attributes\":{\"days\":[1,15]},\"id\":\"2238\",\"type\":\"DaysTicker\"},{\"attributes\":{\"line_color\":\"#66c2a5\",\"x\":{\"field\":\"x\"},\"y\":{\"field\":\"y\"}},\"id\":\"2068\",\"type\":\"Line\"},{\"attributes\":{\"months\":[0,6]},\"id\":\"2242\",\"type\":\"MonthsTicker\"},{\"attributes\":{\"line_color\":\"#66c2a5\",\"x\":{\"field\":\"x\"},\"y\":{\"field\":\"y\"}},\"id\":\"2080\",\"type\":\"Line\"},{\"attributes\":{\"days\":[1,8,15,22]},\"id\":\"2237\",\"type\":\"DaysTicker\"},{\"attributes\":{},\"id\":\"2243\",\"type\":\"YearsTicker\"},{\"attributes\":{},\"id\":\"2230\",\"type\":\"YearsTicker\"},{\"attributes\":{\"formatter\":{\"id\":\"2215\"},\"major_label_policy\":{\"id\":\"2216\"},\"ticker\":{\"id\":\"2056\"}},\"id\":\"2055\",\"type\":\"DatetimeAxis\"},{\"attributes\":{\"fill_color\":{\"value\":\"white\"},\"line_color\":{\"value\":\"#66c2a5\"},\"size\":{\"value\":6},\"x\":{\"field\":\"x\"},\"y\":{\"field\":\"y\"}},\"id\":\"2073\",\"type\":\"Circle\"},{\"attributes\":{\"months\":[0,4,8]},\"id\":\"2241\",\"type\":\"MonthsTicker\"},{\"attributes\":{\"months\":[0,4,8]},\"id\":\"2228\",\"type\":\"MonthsTicker\"},{\"attributes\":{\"fill_alpha\":{\"value\":0.1},\"fill_color\":{\"value\":\"white\"},\"line_alpha\":{\"value\":0.1},\"line_color\":{\"value\":\"#66c2a5\"},\"size\":{\"value\":6},\"x\":{\"field\":\"x\"},\"y\":{\"field\":\"y\"}},\"id\":\"2074\",\"type\":\"Circle\"},{\"attributes\":{\"data_source\":{\"id\":\"2066\"},\"glyph\":{\"id\":\"2080\"},\"hover_glyph\":null,\"muted_glyph\":null,\"nonselection_glyph\":{\"id\":\"2081\"},\"view\":{\"id\":\"2083\"}},\"id\":\"2082\",\"type\":\"GlyphRenderer\"},{\"attributes\":{\"source\":{\"id\":\"2066\"}},\"id\":\"2076\",\"type\":\"CDSView\"},{\"attributes\":{\"data_source\":{\"id\":\"2066\"},\"glyph\":{\"id\":\"2073\"},\"hover_glyph\":null,\"muted_glyph\":null,\"nonselection_glyph\":{\"id\":\"2074\"},\"view\":{\"id\":\"2076\"}},\"id\":\"2075\",\"type\":\"GlyphRenderer\"},{\"attributes\":{\"line_alpha\":0.1,\"line_color\":\"#66c2a5\",\"x\":{\"field\":\"x\"},\"y\":{\"field\":\"y\"}},\"id\":\"2081\",\"type\":\"Line\"},{\"attributes\":{\"source\":{\"id\":\"2066\"}},\"id\":\"2083\",\"type\":\"CDSView\"},{\"attributes\":{\"months\":[0,2,4,6,8,10]},\"id\":\"2227\",\"type\":\"MonthsTicker\"},{\"attributes\":{\"days\":[1,15]},\"id\":\"2225\",\"type\":\"DaysTicker\"},{\"attributes\":{\"months\":[0,1,2,3,4,5,6,7,8,9,10,11]},\"id\":\"2226\",\"type\":\"MonthsTicker\"},{\"attributes\":{\"days\":[1,2,3,4,5,6,7,8,9,10,11,12,13,14,15,16,17,18,19,20,21,22,23,24,25,26,27,28,29,30,31]},\"id\":\"2222\",\"type\":\"DaysTicker\"},{\"attributes\":{},\"id\":\"2209\",\"type\":\"BasicTickFormatter\"},{\"attributes\":{\"overlay\":{\"id\":\"2087\"},\"x_range\":{\"id\":\"2084\"},\"y_range\":null},\"id\":\"2086\",\"type\":\"RangeTool\"},{\"attributes\":{},\"id\":\"2210\",\"type\":\"AllLabels\"},{\"attributes\":{\"end\":952387200000.0,\"start\":952214400000.0},\"id\":\"2084\",\"type\":\"Range1d\"},{\"attributes\":{},\"id\":\"2212\",\"type\":\"DatetimeTickFormatter\"},{\"attributes\":{\"num_minor_ticks\":5,\"tickers\":[{\"id\":\"2232\"},{\"id\":\"2233\"},{\"id\":\"2234\"},{\"id\":\"2235\"},{\"id\":\"2236\"},{\"id\":\"2237\"},{\"id\":\"2238\"},{\"id\":\"2239\"},{\"id\":\"2240\"},{\"id\":\"2241\"},{\"id\":\"2242\"},{\"id\":\"2243\"}]},\"id\":\"2056\",\"type\":\"DatetimeTicker\"},{\"attributes\":{},\"id\":\"2213\",\"type\":\"AllLabels\"},{\"attributes\":{\"days\":[1,8,15,22]},\"id\":\"2224\",\"type\":\"DaysTicker\"},{\"attributes\":{\"days\":[1,4,7,10,13,16,19,22,25,28]},\"id\":\"2223\",\"type\":\"DaysTicker\"},{\"attributes\":{},\"id\":\"2061\",\"type\":\"PanTool\"},{\"attributes\":{},\"id\":\"2060\",\"type\":\"ResetTool\"},{\"attributes\":{},\"id\":\"2059\",\"type\":\"SaveTool\"},{\"attributes\":{\"text\":\"\\u8d8b\\u52bf\\u56fe\"},\"id\":\"2019\",\"type\":\"Title\"},{\"attributes\":{\"axis\":{\"id\":\"2055\"},\"ticker\":null},\"id\":\"2058\",\"type\":\"Grid\"},{\"attributes\":{},\"id\":\"2215\",\"type\":\"DatetimeTickFormatter\"},{\"attributes\":{\"above\":[{\"id\":\"2029\"}],\"background_fill_color\":\"#efefef\",\"center\":[{\"id\":\"2032\"},{\"id\":\"2036\"}],\"height\":325,\"left\":[{\"id\":\"2033\"}],\"renderers\":[{\"id\":\"2070\"},{\"id\":\"2075\"}],\"title\":{\"id\":\"2019\"},\"toolbar\":{\"id\":\"2040\"},\"toolbar_location\":null,\"width\":800,\"x_range\":{\"id\":\"2084\"},\"x_scale\":{\"id\":\"2085\"},\"y_range\":{\"id\":\"2023\"},\"y_scale\":{\"id\":\"2027\"}},\"id\":\"2018\",\"subtype\":\"Figure\",\"type\":\"Plot\"},{\"attributes\":{},\"id\":\"2216\",\"type\":\"AllLabels\"}],\"root_ids\":[\"2091\"]},\"title\":\"Bokeh Application\",\"version\":\"2.3.3\"}};\n  var render_items = [{\"docid\":\"db2af6eb-34b8-48c2-9434-0e4c3bc065d9\",\"root_ids\":[\"2091\"],\"roots\":{\"2091\":\"924e02c0-8093-4e28-8a34-56a9c28fe6ff\"}}];\n  root.Bokeh.embed.embed_items_notebook(docs_json, render_items);\n\n  }\n  if (root.Bokeh !== undefined) {\n    embed_document(root);\n  } else {\n    var attempts = 0;\n    var timer = setInterval(function(root) {\n      if (root.Bokeh !== undefined) {\n        clearInterval(timer);\n        embed_document(root);\n      } else {\n        attempts++;\n        if (attempts > 100) {\n          clearInterval(timer);\n          console.log(\"Bokeh: ERROR: Unable to run BokehJS code because BokehJS library is missing\");\n        }\n      }\n    }, 10, root)\n  }\n})(window);"
     },
     "metadata": {
      "application/vnd.bokehjs_exec.v0+json": {
       "id": "2091"
      }
     }
    }
   ],
   "metadata": {}
  },
  {
   "cell_type": "code",
   "execution_count": null,
   "source": [],
   "outputs": [],
   "metadata": {}
  }
 ],
 "metadata": {
  "interpreter": {
   "hash": "a7fe057d0c9ee00873c1158c26f433bb93b25e835d748ab1d2b96b6108282de5"
  },
  "kernelspec": {
   "display_name": "Python 3",
   "language": "python",
   "name": "python3"
  },
  "language_info": {
   "name": "python",
   "version": "3.8.5",
   "mimetype": "text/x-python",
   "codemirror_mode": {
    "name": "ipython",
    "version": 3
   },
   "pygments_lexer": "ipython3",
   "nbconvert_exporter": "python",
   "file_extension": ".py"
  }
 },
 "nbformat": 4,
 "nbformat_minor": 2
}