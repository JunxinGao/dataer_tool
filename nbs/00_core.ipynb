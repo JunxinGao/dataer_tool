{
 "cells": [
  {
   "cell_type": "code",
   "execution_count": 1,
   "source": [
    "# default_exp core"
   ],
   "outputs": [],
   "metadata": {}
  },
  {
   "cell_type": "markdown",
   "source": [
    "# Core\n",
    "\n",
    "> basic functions"
   ],
   "metadata": {}
  },
  {
   "cell_type": "code",
   "execution_count": 3,
   "source": [
    "#hide\n",
    "from nbdev.showdoc import *"
   ],
   "outputs": [],
   "metadata": {}
  },
  {
   "cell_type": "code",
   "execution_count": 4,
   "source": [
    "#export\n",
    "from data_tool.imports import *"
   ],
   "outputs": [],
   "metadata": {}
  },
  {
   "cell_type": "code",
   "execution_count": 5,
   "source": [
    "#export\n",
    "def kwargs2str(**kwargs):\n",
    "    \"kwargs to string split with `,`\"\n",
    "    str_list = [f\"{k}: {v}\" for k, v in kwargs.items()]\n",
    "    return \", \".join(str_list)"
   ],
   "outputs": [],
   "metadata": {}
  },
  {
   "cell_type": "code",
   "execution_count": 17,
   "source": [
    "kwargs2str(a='a', b='b', c='ccc')"
   ],
   "outputs": [
    {
     "output_type": "execute_result",
     "data": {
      "text/plain": [
       "'a: a, b: b, c: ccc'"
      ]
     },
     "metadata": {},
     "execution_count": 17
    }
   ],
   "metadata": {}
  },
  {
   "cell_type": "code",
   "execution_count": 21,
   "source": [
    "#export\n",
    "def sorted_dict(x, comp='key', **kwargs):\n",
    "    comp_index = 1 if comp == 'value' else 0\n",
    "    sorted_x = dict(sorted(x.items(),key=operator.itemgetter(comp_index), **kwargs))\n",
    "    return sorted_x"
   ],
   "outputs": [],
   "metadata": {}
  },
  {
   "cell_type": "code",
   "execution_count": 22,
   "source": [
    "test_data = {\n",
    "    '199': 100,\n",
    "    '020': 1000,\n",
    "    '600': 20,\n",
    "    '333': 200\n",
    "}\n",
    "sorted_dict(test_data)"
   ],
   "outputs": [
    {
     "output_type": "execute_result",
     "data": {
      "text/plain": [
       "{'020': 1000, '199': 100, '333': 200, '600': 20}"
      ]
     },
     "metadata": {},
     "execution_count": 22
    }
   ],
   "metadata": {}
  },
  {
   "cell_type": "code",
   "execution_count": 23,
   "source": [
    "sorted_dict(test_data, comp='value')"
   ],
   "outputs": [
    {
     "output_type": "execute_result",
     "data": {
      "text/plain": [
       "{'600': 20, '199': 100, '333': 200, '020': 1000}"
      ]
     },
     "metadata": {},
     "execution_count": 23
    }
   ],
   "metadata": {}
  },
  {
   "cell_type": "code",
   "execution_count": 26,
   "source": [
    "sorted_dict(test_data, comp='value', reverse=True)"
   ],
   "outputs": [
    {
     "output_type": "execute_result",
     "data": {
      "text/plain": [
       "{'020': 1000, '333': 200, '199': 100, '600': 20}"
      ]
     },
     "metadata": {},
     "execution_count": 26
    }
   ],
   "metadata": {}
  },
  {
   "cell_type": "code",
   "execution_count": 6,
   "source": [
    "#export\n",
    "def get_count_data_datetime(input_df, count_column, date_time_column:str=None, agg_method='sum', cumsum:bool=False, resample_mode:str='d', extra_meta_column:str=None):\n",
    "    date_df = input_df\n",
    "    extra_meta_keys = list(date_df[extra_meta_column].value_counts().index) if extra_meta_column is not None else None\n",
    "    if date_time_column is not None:\n",
    "        if 'int' in str(date_df[date_time_column].dtype).lower(): date_df[date_time_column] = date_df[date_time_column].astype(\"string\")\n",
    "        date_df[date_time_column] = pd.to_datetime(date_df[date_time_column])\n",
    "        date_df = date_df.set_index(date_time_column)\n",
    "    if date_time_column is None: date_time_column = date_df.index.name = \"_index_column_title\"\n",
    "    if resample_mode in ['d', 'w', 'm', 'y']:\n",
    "        date_df_iter = date_df.resample(resample_mode)\n",
    "    else:\n",
    "        date_df_iter = date_df.groupby(date_time_column)\n",
    "    agg_row = date_df_iter[count_column].agg(agg_method)\n",
    "    if cumsum: agg_row = agg_row.cumsum()\n",
    "    count_data = agg_row.to_dict()\n",
    "    if extra_meta_column is not None:\n",
    "        extra_output_data = {k: [] for k in extra_meta_keys}\n",
    "        for o in date_df_iter:\n",
    "            extra_data_item = o[1].groupby(extra_meta_column)[count_column].sum().to_dict()\n",
    "            for extra_meta_key in extra_meta_keys:\n",
    "                extra_output_data[extra_meta_key].append(extra_data_item.get(extra_meta_key, 0))\n",
    "    else:\n",
    "        extra_output_data = None\n",
    "    return (count_data, extra_output_data) if extra_output_data is not None else count_data"
   ],
   "outputs": [],
   "metadata": {}
  },
  {
   "cell_type": "code",
   "execution_count": 10,
   "source": [
    "df = pd.DataFrame({\n",
    " 'date': {0: '2000-03-01',\n",
    "          1: '2000-03-02',\n",
    "          2: '2000-03-03',\n",
    "          3: '2000-03-06',\n",
    "          4: '2000-03-07',\n",
    "          5: '2000-03-08',\n",
    "          6: '2000-03-09',\n",
    "          7: '2000-03-10'},\n",
    " 'open': {0: 118.56,\n",
    "          1: 127.0,\n",
    "          2: 124.87,\n",
    "          3: 126.0,\n",
    "          4: 126.44,\n",
    "          5: 122.87,\n",
    "          6: 120.87,\n",
    "          7: 121.69},\n",
    " 'cat': {0: 'A',\n",
    "         1: 'B',\n",
    "         2: 'C',\n",
    "         3: 'B',\n",
    "         4: 'A',\n",
    "         5: 'A',\n",
    "         6: 'C',\n",
    "         7: 'C'}\n",
    "  })"
   ],
   "outputs": [],
   "metadata": {}
  },
  {
   "cell_type": "code",
   "execution_count": null,
   "source": [],
   "outputs": [],
   "metadata": {}
  }
 ],
 "metadata": {
  "interpreter": {
   "hash": "a7fe057d0c9ee00873c1158c26f433bb93b25e835d748ab1d2b96b6108282de5"
  },
  "kernelspec": {
   "display_name": "Python 3",
   "language": "python",
   "name": "python3"
  },
  "language_info": {
   "name": "python",
   "version": "3.8.5",
   "mimetype": "text/x-python",
   "codemirror_mode": {
    "name": "ipython",
    "version": 3
   },
   "pygments_lexer": "ipython3",
   "nbconvert_exporter": "python",
   "file_extension": ".py"
  }
 },
 "nbformat": 4,
 "nbformat_minor": 2
}