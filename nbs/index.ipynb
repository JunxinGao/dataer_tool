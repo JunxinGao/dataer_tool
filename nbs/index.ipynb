{
 "cells": [
  {
   "cell_type": "code",
   "execution_count": null,
   "source": [
    "#hide\n",
    "#from your_lib.core import *"
   ],
   "outputs": [],
   "metadata": {}
  },
  {
   "cell_type": "markdown",
   "source": [
    "# data_tool study\n"
   ],
   "metadata": {}
  },
  {
   "cell_type": "markdown",
   "source": [
    "![CI](https://github.com/junxingao/data_tool/workflows/CI/badge.svg) ![docs](https://github.com/junxingao/data_tool/workflows/docs/badge.svg)"
   ],
   "metadata": {}
  },
  {
   "cell_type": "markdown",
   "source": [
    "# About"
   ],
   "metadata": {}
  },
  {
   "cell_type": "markdown",
   "source": [
    "This project generate from [nbdev](https://nbdev.fast.ai/)"
   ],
   "metadata": {}
  },
  {
   "cell_type": "markdown",
   "source": [
    "<details><summary><b>As template</b></summary><blockquote>\n",
    "\n",
    "~~~\n",
    "sed -i 's/data_tool/YOUR_LIB_NAME/g' `grep -inr data_tool -rl .`\n",
    "mv data_tool YOUR_LIB_NAME\n",
    "~~~\n",
    "</blockquote></details>"
   ],
   "metadata": {}
  },
  {
   "cell_type": "code",
   "execution_count": null,
   "source": [],
   "outputs": [],
   "metadata": {}
  }
 ],
 "metadata": {
  "kernelspec": {
   "display_name": "Python 3",
   "language": "python",
   "name": "python3"
  },
  "language_info": {
   "codemirror_mode": {
    "name": "ipython",
    "version": 3
   },
   "file_extension": ".py",
   "mimetype": "text/x-python",
   "name": "python",
   "nbconvert_exporter": "python",
   "pygments_lexer": "ipython3",
   "version": "3.8.5"
  }
 },
 "nbformat": 4,
 "nbformat_minor": 2
}