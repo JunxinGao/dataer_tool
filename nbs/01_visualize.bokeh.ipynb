{
 "cells": [
  {
   "cell_type": "code",
   "execution_count": 1,
   "source": [
    "# default_exp visualize.bokeh"
   ],
   "outputs": [],
   "metadata": {}
  },
  {
   "cell_type": "markdown",
   "source": [
    "# Visualize Bokeh\n",
    "\n",
    "> Use bokeh to do visualize"
   ],
   "metadata": {}
  },
  {
   "cell_type": "code",
   "execution_count": 2,
   "source": [
    "#hide\n",
    "from nbdev.showdoc import *"
   ],
   "outputs": [],
   "metadata": {}
  },
  {
   "cell_type": "code",
   "execution_count": 3,
   "source": [
    "#export\n",
    "from data_tool.imports import *\n",
    "from bokeh.palettes import Spectral, Category20, Viridis256, Cividis256, Turbo256, Set2, brewer, Greys256, Inferno256, Magma256, Plasma256\n",
    "from bokeh.io import output_file, show\n",
    "from bokeh.palettes import Spectral6, Spectral\n",
    "from bokeh.plotting import figure\n",
    "from bokeh.models import ColumnDataSource, FactorRange, LabelSet, RangeTool, HoverTool, Label, Legend, Paragraph\n",
    "from bokeh.transform import cumsum, factor_cmap\n",
    "from bokeh.plotting import figure\n",
    "from bokeh.io import output_notebook, show\n",
    "from bokeh.layouts import column\n",
    "from bokeh.plotting.figure import get_range, get_scale\n",
    "from bokeh.models.widgets import DataTable, DateFormatter, TableColumn\n",
    "\n",
    "\n",
    "BOKEH_DEFAULT_TOOLS = 'save,reset,pan'\n",
    "BOKEH_DEFAULT_TOOLBAR_LOC = 'above' #'above', 'below', 'left', 'right', None\n"
   ],
   "outputs": [],
   "metadata": {}
  },
  {
   "cell_type": "code",
   "execution_count": 4,
   "source": [
    "#export\n",
    "def count2colors(count: int):\n",
    "    \"\"\"\n",
    "    colors from `bokeh.palettes`\n",
    "    range:\n",
    "        1:12    -> Spectral, \n",
    "        12:21   -> Category20, \n",
    "        21:257  -> Viridis256, \n",
    "        257:769 -> Turbo256+Cividis256+Viridis256\n",
    "    \"\"\"\n",
    "    if count <= 0:\n",
    "        raise ValueError(f\"Invalid count={count}, must > 0\")\n",
    "    elif count <= 3:\n",
    "        return Set2[3][:count]\n",
    "    elif count <= 8:\n",
    "        return Set2[count]\n",
    "    elif count <= 20:\n",
    "        return Category20[count]\n",
    "    elif count <= 256:\n",
    "        index = np.arange(256)\n",
    "        cmp_256 = random.choice([Viridis256, Cividis256, Turbo256, Inferno256, Magma256, Plasma256])\n",
    "        return tuple(np.array(cmp_256)[np.isin(index, np.arange(0, 256, 256/count, dtype=np.uint8))])\n",
    "    elif count <= 256 * 3:\n",
    "        return tuple(np.random.choice(Turbo256 + Cividis256 + Viridis256, count))\n",
    "    else:\n",
    "        raise ValueError(f\"Invalid count={count}, must <= 768\")"
   ],
   "outputs": [],
   "metadata": {}
  },
  {
   "cell_type": "code",
   "execution_count": 5,
   "source": [
    "try:\n",
    "    count2colors(-1)\n",
    "except ValueError as e:\n",
    "    logger.error(e)"
   ],
   "outputs": [
    {
     "output_type": "stream",
     "name": "stderr",
     "text": [
      "2021-08-31 08:54:44.274 | ERROR    | __main__:<module>:4 - Invalid count=-1, must > 0\n"
     ]
    }
   ],
   "metadata": {}
  },
  {
   "cell_type": "code",
   "execution_count": 6,
   "source": [
    "count2colors(5)"
   ],
   "outputs": [
    {
     "output_type": "execute_result",
     "data": {
      "text/plain": [
       "('#66c2a5', '#fc8d62', '#8da0cb', '#e78ac3', '#a6d854')"
      ]
     },
     "metadata": {},
     "execution_count": 6
    }
   ],
   "metadata": {}
  },
  {
   "cell_type": "code",
   "execution_count": 7,
   "source": [
    "count2colors(18)"
   ],
   "outputs": [
    {
     "output_type": "execute_result",
     "data": {
      "text/plain": [
       "('#1f77b4',\n",
       " '#aec7e8',\n",
       " '#ff7f0e',\n",
       " '#ffbb78',\n",
       " '#2ca02c',\n",
       " '#98df8a',\n",
       " '#d62728',\n",
       " '#ff9896',\n",
       " '#9467bd',\n",
       " '#c5b0d5',\n",
       " '#8c564b',\n",
       " '#c49c94',\n",
       " '#e377c2',\n",
       " '#f7b6d2',\n",
       " '#7f7f7f',\n",
       " '#c7c7c7',\n",
       " '#bcbd22',\n",
       " '#dbdb8d')"
      ]
     },
     "metadata": {},
     "execution_count": 7
    }
   ],
   "metadata": {}
  },
  {
   "cell_type": "code",
   "execution_count": 8,
   "source": [
    "try:\n",
    "    count2colors(1000)\n",
    "except ValueError as e:\n",
    "    logger.error(e)"
   ],
   "outputs": [
    {
     "output_type": "stream",
     "name": "stderr",
     "text": [
      "2021-08-31 08:54:45.233 | ERROR    | __main__:<module>:4 - Invalid count=1000, must <= 768\n"
     ]
    }
   ],
   "metadata": {}
  },
  {
   "cell_type": "code",
   "execution_count": 9,
   "source": [
    "#export\n",
    "def bar_figure(\n",
    "    data: dict, title=\"统计\", with_label=True, y_log_multiple_thresh=1000, eps=1e-1, hide_legend=False,\n",
    "    toolbar_location=BOKEH_DEFAULT_TOOLBAR_LOC, legend_orientation = \"vertical\", legend_location = \"top_right\", vertical_bar=True, \n",
    "    xaxis_major_label_orientation=math.pi/8, label_angle=0, bar_width=0.8, draw_line_circle=False, \n",
    "    tools=BOKEH_DEFAULT_TOOLS, x_axis_label=None, y_axis_label=None, **kwargs):\n",
    "    x = [str(o) for o in data.keys()]\n",
    "    y = list(data.values())\n",
    "    \n",
    "    source = ColumnDataSource(data=dict(x=x, y=y, color=count2colors(len(x))))\n",
    "    if vertical_bar:\n",
    "        p = figure(\n",
    "            x_range=x, title=title,\n",
    "            y_axis_type=\"log\" if max(y)/(min(y)+eps) > y_log_multiple_thresh else 'linear',\n",
    "            toolbar_location=toolbar_location, tools=tools, **kwargs)\n",
    "        p.vbar(x='x', top='y', width=bar_width, bottom=0.1, color='color', legend_field=\"x\", source=source)\n",
    "    else:\n",
    "        p = figure(\n",
    "            y_range=x, title=title,\n",
    "            toolbar_location=toolbar_location, tools=tools, **kwargs)\n",
    "        p.hbar(y='x', right='y', height=bar_width, color='color', legend_field=\"x\", source=source)\n",
    "    p.legend.orientation = legend_orientation\n",
    "    p.legend.location = legend_location\n",
    "    if hide_legend: p.legend.visible=False \n",
    "    \n",
    "    if with_label:\n",
    "        if vertical_bar:\n",
    "            labels = LabelSet(\n",
    "                x='x', y='y', text='y', level='glyph', angle=label_angle,\n",
    "                x_offset=-8, y_offset=2, source=source, render_mode='canvas', text_font_size=\"9pt\")\n",
    "            if draw_line_circle:\n",
    "                p.line(x='x', y='y', source=source, line_color='#4292c6')\n",
    "                p.circle(x='x', y='y', fill_color='white', size=6, source=source, line_color='black')\n",
    "        else:\n",
    "            labels = LabelSet(\n",
    "                x='y', y='x', text='y', level='glyph', angle=label_angle,\n",
    "                x_offset=2, y_offset=-8, source=source, render_mode='canvas', text_font_size=\"9pt\")\n",
    "        p.add_layout(labels)\n",
    "    p.xgrid.grid_line_color = None\n",
    "    p.xaxis.major_label_orientation = xaxis_major_label_orientation\n",
    "    p.yaxis.axis_label = y_axis_label\n",
    "    p.xaxis.axis_label = x_axis_label\n",
    "    return p"
   ],
   "outputs": [],
   "metadata": {}
  },
  {
   "cell_type": "code",
   "execution_count": 10,
   "source": [
    "output_notebook()"
   ],
   "outputs": [
    {
     "output_type": "display_data",
     "data": {
      "text/html": [
       "\n",
       "    <div class=\"bk-root\">\n",
       "        <a href=\"https://bokeh.org\" target=\"_blank\" class=\"bk-logo bk-logo-small bk-logo-notebook\"></a>\n",
       "        <span id=\"1002\">Loading BokehJS ...</span>\n",
       "    </div>"
      ]
     },
     "metadata": {}
    },
    {
     "output_type": "display_data",
     "data": {
      "application/javascript": "\n(function(root) {\n  function now() {\n    return new Date();\n  }\n\n  var force = true;\n\n  if (typeof root._bokeh_onload_callbacks === \"undefined\" || force === true) {\n    root._bokeh_onload_callbacks = [];\n    root._bokeh_is_loading = undefined;\n  }\n\n  var JS_MIME_TYPE = 'application/javascript';\n  var HTML_MIME_TYPE = 'text/html';\n  var EXEC_MIME_TYPE = 'application/vnd.bokehjs_exec.v0+json';\n  var CLASS_NAME = 'output_bokeh rendered_html';\n\n  /**\n   * Render data to the DOM node\n   */\n  function render(props, node) {\n    var script = document.createElement(\"script\");\n    node.appendChild(script);\n  }\n\n  /**\n   * Handle when an output is cleared or removed\n   */\n  function handleClearOutput(event, handle) {\n    var cell = handle.cell;\n\n    var id = cell.output_area._bokeh_element_id;\n    var server_id = cell.output_area._bokeh_server_id;\n    // Clean up Bokeh references\n    if (id != null && id in Bokeh.index) {\n      Bokeh.index[id].model.document.clear();\n      delete Bokeh.index[id];\n    }\n\n    if (server_id !== undefined) {\n      // Clean up Bokeh references\n      var cmd = \"from bokeh.io.state import curstate; print(curstate().uuid_to_server['\" + server_id + \"'].get_sessions()[0].document.roots[0]._id)\";\n      cell.notebook.kernel.execute(cmd, {\n        iopub: {\n          output: function(msg) {\n            var id = msg.content.text.trim();\n            if (id in Bokeh.index) {\n              Bokeh.index[id].model.document.clear();\n              delete Bokeh.index[id];\n            }\n          }\n        }\n      });\n      // Destroy server and session\n      var cmd = \"import bokeh.io.notebook as ion; ion.destroy_server('\" + server_id + \"')\";\n      cell.notebook.kernel.execute(cmd);\n    }\n  }\n\n  /**\n   * Handle when a new output is added\n   */\n  function handleAddOutput(event, handle) {\n    var output_area = handle.output_area;\n    var output = handle.output;\n\n    // limit handleAddOutput to display_data with EXEC_MIME_TYPE content only\n    if ((output.output_type != \"display_data\") || (!Object.prototype.hasOwnProperty.call(output.data, EXEC_MIME_TYPE))) {\n      return\n    }\n\n    var toinsert = output_area.element.find(\".\" + CLASS_NAME.split(' ')[0]);\n\n    if (output.metadata[EXEC_MIME_TYPE][\"id\"] !== undefined) {\n      toinsert[toinsert.length - 1].firstChild.textContent = output.data[JS_MIME_TYPE];\n      // store reference to embed id on output_area\n      output_area._bokeh_element_id = output.metadata[EXEC_MIME_TYPE][\"id\"];\n    }\n    if (output.metadata[EXEC_MIME_TYPE][\"server_id\"] !== undefined) {\n      var bk_div = document.createElement(\"div\");\n      bk_div.innerHTML = output.data[HTML_MIME_TYPE];\n      var script_attrs = bk_div.children[0].attributes;\n      for (var i = 0; i < script_attrs.length; i++) {\n        toinsert[toinsert.length - 1].firstChild.setAttribute(script_attrs[i].name, script_attrs[i].value);\n        toinsert[toinsert.length - 1].firstChild.textContent = bk_div.children[0].textContent\n      }\n      // store reference to server id on output_area\n      output_area._bokeh_server_id = output.metadata[EXEC_MIME_TYPE][\"server_id\"];\n    }\n  }\n\n  function register_renderer(events, OutputArea) {\n\n    function append_mime(data, metadata, element) {\n      // create a DOM node to render to\n      var toinsert = this.create_output_subarea(\n        metadata,\n        CLASS_NAME,\n        EXEC_MIME_TYPE\n      );\n      this.keyboard_manager.register_events(toinsert);\n      // Render to node\n      var props = {data: data, metadata: metadata[EXEC_MIME_TYPE]};\n      render(props, toinsert[toinsert.length - 1]);\n      element.append(toinsert);\n      return toinsert\n    }\n\n    /* Handle when an output is cleared or removed */\n    events.on('clear_output.CodeCell', handleClearOutput);\n    events.on('delete.Cell', handleClearOutput);\n\n    /* Handle when a new output is added */\n    events.on('output_added.OutputArea', handleAddOutput);\n\n    /**\n     * Register the mime type and append_mime function with output_area\n     */\n    OutputArea.prototype.register_mime_type(EXEC_MIME_TYPE, append_mime, {\n      /* Is output safe? */\n      safe: true,\n      /* Index of renderer in `output_area.display_order` */\n      index: 0\n    });\n  }\n\n  // register the mime type if in Jupyter Notebook environment and previously unregistered\n  if (root.Jupyter !== undefined) {\n    var events = require('base/js/events');\n    var OutputArea = require('notebook/js/outputarea').OutputArea;\n\n    if (OutputArea.prototype.mime_types().indexOf(EXEC_MIME_TYPE) == -1) {\n      register_renderer(events, OutputArea);\n    }\n  }\n\n  \n  if (typeof (root._bokeh_timeout) === \"undefined\" || force === true) {\n    root._bokeh_timeout = Date.now() + 5000;\n    root._bokeh_failed_load = false;\n  }\n\n  var NB_LOAD_WARNING = {'data': {'text/html':\n     \"<div style='background-color: #fdd'>\\n\"+\n     \"<p>\\n\"+\n     \"BokehJS does not appear to have successfully loaded. If loading BokehJS from CDN, this \\n\"+\n     \"may be due to a slow or bad network connection. Possible fixes:\\n\"+\n     \"</p>\\n\"+\n     \"<ul>\\n\"+\n     \"<li>re-rerun `output_notebook()` to attempt to load from CDN again, or</li>\\n\"+\n     \"<li>use INLINE resources instead, as so:</li>\\n\"+\n     \"</ul>\\n\"+\n     \"<code>\\n\"+\n     \"from bokeh.resources import INLINE\\n\"+\n     \"output_notebook(resources=INLINE)\\n\"+\n     \"</code>\\n\"+\n     \"</div>\"}};\n\n  function display_loaded() {\n    var el = document.getElementById(\"1002\");\n    if (el != null) {\n      el.textContent = \"BokehJS is loading...\";\n    }\n    if (root.Bokeh !== undefined) {\n      if (el != null) {\n        el.textContent = \"BokehJS \" + root.Bokeh.version + \" successfully loaded.\";\n      }\n    } else if (Date.now() < root._bokeh_timeout) {\n      setTimeout(display_loaded, 100)\n    }\n  }\n\n\n  function run_callbacks() {\n    try {\n      root._bokeh_onload_callbacks.forEach(function(callback) {\n        if (callback != null)\n          callback();\n      });\n    } finally {\n      delete root._bokeh_onload_callbacks\n    }\n    console.debug(\"Bokeh: all callbacks have finished\");\n  }\n\n  function load_libs(css_urls, js_urls, callback) {\n    if (css_urls == null) css_urls = [];\n    if (js_urls == null) js_urls = [];\n\n    root._bokeh_onload_callbacks.push(callback);\n    if (root._bokeh_is_loading > 0) {\n      console.debug(\"Bokeh: BokehJS is being loaded, scheduling callback at\", now());\n      return null;\n    }\n    if (js_urls == null || js_urls.length === 0) {\n      run_callbacks();\n      return null;\n    }\n    console.debug(\"Bokeh: BokehJS not loaded, scheduling load and callback at\", now());\n    root._bokeh_is_loading = css_urls.length + js_urls.length;\n\n    function on_load() {\n      root._bokeh_is_loading--;\n      if (root._bokeh_is_loading === 0) {\n        console.debug(\"Bokeh: all BokehJS libraries/stylesheets loaded\");\n        run_callbacks()\n      }\n    }\n\n    function on_error(url) {\n      console.error(\"failed to load \" + url);\n    }\n\n    for (let i = 0; i < css_urls.length; i++) {\n      const url = css_urls[i];\n      const element = document.createElement(\"link\");\n      element.onload = on_load;\n      element.onerror = on_error.bind(null, url);\n      element.rel = \"stylesheet\";\n      element.type = \"text/css\";\n      element.href = url;\n      console.debug(\"Bokeh: injecting link tag for BokehJS stylesheet: \", url);\n      document.body.appendChild(element);\n    }\n\n    const hashes = {\"https://cdn.bokeh.org/bokeh/release/bokeh-2.3.3.min.js\": \"dM3QQsP+wXdHg42wTqW85BjZQdLNNIXqlPw/BgKoExPmTG7ZLML4EGqLMfqHT6ON\", \"https://cdn.bokeh.org/bokeh/release/bokeh-tables-2.3.3.min.js\": \"8x57I4YuIfu8XyZfFo0XVr2WAT8EK4rh/uDe3wF7YuW2FNUSNEpJbsPaB1nJ2fz2\", \"https://cdn.bokeh.org/bokeh/release/bokeh-widgets-2.3.3.min.js\": \"3QTqdz9LyAm2i0sG5XTePsHec3UHWwVsrOL68SYRoAXsafvfAyqtQ+h440+qIBhS\"};\n\n    for (let i = 0; i < js_urls.length; i++) {\n      const url = js_urls[i];\n      const element = document.createElement('script');\n      element.onload = on_load;\n      element.onerror = on_error.bind(null, url);\n      element.async = false;\n      element.src = url;\n      if (url in hashes) {\n        element.crossOrigin = \"anonymous\";\n        element.integrity = \"sha384-\" + hashes[url];\n      }\n      console.debug(\"Bokeh: injecting script tag for BokehJS library: \", url);\n      document.head.appendChild(element);\n    }\n  };\n\n  function inject_raw_css(css) {\n    const element = document.createElement(\"style\");\n    element.appendChild(document.createTextNode(css));\n    document.body.appendChild(element);\n  }\n\n  \n  var js_urls = [\"https://cdn.bokeh.org/bokeh/release/bokeh-2.3.3.min.js\", \"https://cdn.bokeh.org/bokeh/release/bokeh-widgets-2.3.3.min.js\", \"https://cdn.bokeh.org/bokeh/release/bokeh-tables-2.3.3.min.js\"];\n  var css_urls = [];\n  \n\n  var inline_js = [\n    function(Bokeh) {\n      Bokeh.set_log_level(\"info\");\n    },\n    function(Bokeh) {\n    \n    \n    }\n  ];\n\n  function run_inline_js() {\n    \n    if (root.Bokeh !== undefined || force === true) {\n      \n    for (var i = 0; i < inline_js.length; i++) {\n      inline_js[i].call(root, root.Bokeh);\n    }\n    if (force === true) {\n        display_loaded();\n      }} else if (Date.now() < root._bokeh_timeout) {\n      setTimeout(run_inline_js, 100);\n    } else if (!root._bokeh_failed_load) {\n      console.log(\"Bokeh: BokehJS failed to load within specified timeout.\");\n      root._bokeh_failed_load = true;\n    } else if (force !== true) {\n      var cell = $(document.getElementById(\"1002\")).parents('.cell').data().cell;\n      cell.output_area.append_execute_result(NB_LOAD_WARNING)\n    }\n\n  }\n\n  if (root._bokeh_is_loading === 0) {\n    console.debug(\"Bokeh: BokehJS loaded, going straight to plotting\");\n    run_inline_js();\n  } else {\n    load_libs(css_urls, js_urls, function() {\n      console.debug(\"Bokeh: BokehJS plotting callback run at\", now());\n      run_inline_js();\n    });\n  }\n}(window));",
      "application/vnd.bokehjs_load.v0+json": ""
     },
     "metadata": {}
    }
   ],
   "metadata": {}
  },
  {
   "cell_type": "code",
   "execution_count": 11,
   "source": [
    "test_data = {\n",
    "    'A': 10000,\n",
    "    'B': 1000,\n",
    "    'C': 100,\n",
    "    'D': 10\n",
    "}\n",
    "p = bar_figure(test_data, label_angle=math.pi/8, draw_line_circle=True)\n",
    "show(p)"
   ],
   "outputs": [
    {
     "output_type": "display_data",
     "data": {
      "text/html": [
       "\n",
       "\n",
       "\n",
       "\n",
       "\n",
       "\n",
       "  <div class=\"bk-root\" id=\"cc5b8d1d-ed29-46d6-81c8-82a367192736\" data-root-id=\"1004\"></div>\n"
      ]
     },
     "metadata": {}
    },
    {
     "output_type": "display_data",
     "data": {
      "application/javascript": "(function(root) {\n  function embed_document(root) {\n    \n  var docs_json = {\"ceb100cb-20ec-46e7-8ed2-06e347b95e77\":{\"defs\":[],\"roots\":{\"references\":[{\"attributes\":{\"below\":[{\"id\":\"1015\"}],\"center\":[{\"id\":\"1017\"},{\"id\":\"1021\"},{\"id\":\"1043\"},{\"id\":\"1045\"}],\"left\":[{\"id\":\"1018\"}],\"renderers\":[{\"id\":\"1032\"},{\"id\":\"1050\"},{\"id\":\"1055\"}],\"title\":{\"id\":\"1005\"},\"toolbar\":{\"id\":\"1025\"},\"toolbar_location\":\"above\",\"x_range\":{\"id\":\"1007\"},\"x_scale\":{\"id\":\"1011\"},\"y_range\":{\"id\":\"1009\"},\"y_scale\":{\"id\":\"1013\"}},\"id\":\"1004\",\"subtype\":\"Figure\",\"type\":\"Plot\"},{\"attributes\":{},\"id\":\"1011\",\"type\":\"CategoricalScale\"},{\"attributes\":{\"axis_label\":null,\"formatter\":{\"id\":\"1038\"},\"major_label_orientation\":0.39269908169872414,\"major_label_policy\":{\"id\":\"1039\"},\"ticker\":{\"id\":\"1016\"}},\"id\":\"1015\",\"type\":\"CategoricalAxis\"},{\"attributes\":{\"items\":[{\"id\":\"1044\"}]},\"id\":\"1043\",\"type\":\"Legend\"},{\"attributes\":{\"angle\":{\"value\":0.39269908169872414},\"level\":\"glyph\",\"source\":{\"id\":\"1003\"},\"text\":{\"field\":\"y\"},\"text_font_size\":{\"value\":\"9pt\"},\"x\":{\"field\":\"x\"},\"x_offset\":{\"value\":-8},\"y\":{\"field\":\"y\"},\"y_offset\":{\"value\":2}},\"id\":\"1045\",\"type\":\"LabelSet\"},{\"attributes\":{\"bottom\":{\"value\":0.1},\"fill_color\":{\"field\":\"color\"},\"line_color\":{\"field\":\"color\"},\"top\":{\"field\":\"y\"},\"width\":{\"value\":0.8},\"x\":{\"field\":\"x\"}},\"id\":\"1030\",\"type\":\"VBar\"},{\"attributes\":{\"axis_label\":null,\"formatter\":{\"id\":\"1035\"},\"major_label_policy\":{\"id\":\"1036\"},\"ticker\":{\"id\":\"1019\"}},\"id\":\"1018\",\"type\":\"LinearAxis\"},{\"attributes\":{\"data\":{\"color\":[\"#66c2a5\",\"#fc8d62\",\"#8da0cb\",\"#e78ac3\"],\"x\":[\"A\",\"B\",\"C\",\"D\"],\"y\":[10000,1000,100,10]},\"selected\":{\"id\":\"1042\"},\"selection_policy\":{\"id\":\"1041\"}},\"id\":\"1003\",\"type\":\"ColumnDataSource\"},{\"attributes\":{\"axis\":{\"id\":\"1015\"},\"grid_line_color\":null,\"ticker\":null},\"id\":\"1017\",\"type\":\"Grid\"},{\"attributes\":{\"active_multi\":null,\"tools\":[{\"id\":\"1022\"},{\"id\":\"1023\"},{\"id\":\"1024\"}]},\"id\":\"1025\",\"type\":\"Toolbar\"},{\"attributes\":{\"axis\":{\"id\":\"1018\"},\"dimension\":1,\"ticker\":null},\"id\":\"1021\",\"type\":\"Grid\"},{\"attributes\":{},\"id\":\"1019\",\"type\":\"BasicTicker\"},{\"attributes\":{},\"id\":\"1024\",\"type\":\"PanTool\"},{\"attributes\":{},\"id\":\"1023\",\"type\":\"ResetTool\"},{\"attributes\":{\"line_alpha\":0.1,\"line_color\":\"#4292c6\",\"x\":{\"field\":\"x\"},\"y\":{\"field\":\"y\"}},\"id\":\"1049\",\"type\":\"Line\"},{\"attributes\":{},\"id\":\"1022\",\"type\":\"SaveTool\"},{\"attributes\":{\"text\":\"\\u7edf\\u8ba1\"},\"id\":\"1005\",\"type\":\"Title\"},{\"attributes\":{\"label\":{\"field\":\"x\"},\"renderers\":[{\"id\":\"1032\"}]},\"id\":\"1044\",\"type\":\"LegendItem\"},{\"attributes\":{},\"id\":\"1042\",\"type\":\"Selection\"},{\"attributes\":{},\"id\":\"1036\",\"type\":\"AllLabels\"},{\"attributes\":{},\"id\":\"1039\",\"type\":\"AllLabels\"},{\"attributes\":{},\"id\":\"1035\",\"type\":\"BasicTickFormatter\"},{\"attributes\":{\"source\":{\"id\":\"1003\"}},\"id\":\"1056\",\"type\":\"CDSView\"},{\"attributes\":{},\"id\":\"1041\",\"type\":\"UnionRenderers\"},{\"attributes\":{},\"id\":\"1038\",\"type\":\"CategoricalTickFormatter\"},{\"attributes\":{\"fill_color\":{\"value\":\"white\"},\"size\":{\"value\":6},\"x\":{\"field\":\"x\"},\"y\":{\"field\":\"y\"}},\"id\":\"1053\",\"type\":\"Circle\"},{\"attributes\":{\"data_source\":{\"id\":\"1003\"},\"glyph\":{\"id\":\"1030\"},\"hover_glyph\":null,\"muted_glyph\":null,\"nonselection_glyph\":{\"id\":\"1031\"},\"view\":{\"id\":\"1033\"}},\"id\":\"1032\",\"type\":\"GlyphRenderer\"},{\"attributes\":{\"fill_alpha\":{\"value\":0.1},\"fill_color\":{\"value\":\"white\"},\"line_alpha\":{\"value\":0.1},\"size\":{\"value\":6},\"x\":{\"field\":\"x\"},\"y\":{\"field\":\"y\"}},\"id\":\"1054\",\"type\":\"Circle\"},{\"attributes\":{\"bottom\":{\"value\":0.1},\"fill_alpha\":{\"value\":0.1},\"fill_color\":{\"field\":\"color\"},\"line_alpha\":{\"value\":0.1},\"line_color\":{\"field\":\"color\"},\"top\":{\"field\":\"y\"},\"width\":{\"value\":0.8},\"x\":{\"field\":\"x\"}},\"id\":\"1031\",\"type\":\"VBar\"},{\"attributes\":{\"data_source\":{\"id\":\"1003\"},\"glyph\":{\"id\":\"1053\"},\"hover_glyph\":null,\"muted_glyph\":null,\"nonselection_glyph\":{\"id\":\"1054\"},\"view\":{\"id\":\"1056\"}},\"id\":\"1055\",\"type\":\"GlyphRenderer\"},{\"attributes\":{\"line_color\":\"#4292c6\",\"x\":{\"field\":\"x\"},\"y\":{\"field\":\"y\"}},\"id\":\"1048\",\"type\":\"Line\"},{\"attributes\":{},\"id\":\"1009\",\"type\":\"DataRange1d\"},{\"attributes\":{},\"id\":\"1013\",\"type\":\"LinearScale\"},{\"attributes\":{\"factors\":[\"A\",\"B\",\"C\",\"D\"]},\"id\":\"1007\",\"type\":\"FactorRange\"},{\"attributes\":{\"source\":{\"id\":\"1003\"}},\"id\":\"1033\",\"type\":\"CDSView\"},{\"attributes\":{\"data_source\":{\"id\":\"1003\"},\"glyph\":{\"id\":\"1048\"},\"hover_glyph\":null,\"muted_glyph\":null,\"nonselection_glyph\":{\"id\":\"1049\"},\"view\":{\"id\":\"1051\"}},\"id\":\"1050\",\"type\":\"GlyphRenderer\"},{\"attributes\":{},\"id\":\"1016\",\"type\":\"CategoricalTicker\"},{\"attributes\":{\"source\":{\"id\":\"1003\"}},\"id\":\"1051\",\"type\":\"CDSView\"}],\"root_ids\":[\"1004\"]},\"title\":\"Bokeh Application\",\"version\":\"2.3.3\"}};\n  var render_items = [{\"docid\":\"ceb100cb-20ec-46e7-8ed2-06e347b95e77\",\"root_ids\":[\"1004\"],\"roots\":{\"1004\":\"cc5b8d1d-ed29-46d6-81c8-82a367192736\"}}];\n  root.Bokeh.embed.embed_items_notebook(docs_json, render_items);\n\n  }\n  if (root.Bokeh !== undefined) {\n    embed_document(root);\n  } else {\n    var attempts = 0;\n    var timer = setInterval(function(root) {\n      if (root.Bokeh !== undefined) {\n        clearInterval(timer);\n        embed_document(root);\n      } else {\n        attempts++;\n        if (attempts > 100) {\n          clearInterval(timer);\n          console.log(\"Bokeh: ERROR: Unable to run BokehJS code because BokehJS library is missing\");\n        }\n      }\n    }, 10, root)\n  }\n})(window);",
      "application/vnd.bokehjs_exec.v0+json": ""
     },
     "metadata": {
      "application/vnd.bokehjs_exec.v0+json": {
       "id": "1004"
      }
     }
    }
   ],
   "metadata": {}
  },
  {
   "cell_type": "code",
   "execution_count": 12,
   "source": [
    "test_data = {\n",
    "    'A': 100,\n",
    "    'B': 88,\n",
    "    'C': 99,\n",
    "    'D': 10\n",
    "}\n",
    "p = bar_figure(test_data, vertical_bar=False)\n",
    "show(p)"
   ],
   "outputs": [
    {
     "output_type": "display_data",
     "data": {
      "text/html": [
       "\n",
       "\n",
       "\n",
       "\n",
       "\n",
       "\n",
       "  <div class=\"bk-root\" id=\"0ab59d96-aeca-4713-9a41-45bf70bd0d89\" data-root-id=\"1112\"></div>\n"
      ]
     },
     "metadata": {}
    },
    {
     "output_type": "display_data",
     "data": {
      "application/javascript": "(function(root) {\n  function embed_document(root) {\n    \n  var docs_json = {\"14c6cd29-793f-4858-b541-1c0e72dd74df\":{\"defs\":[],\"roots\":{\"references\":[{\"attributes\":{\"below\":[{\"id\":\"1123\"}],\"center\":[{\"id\":\"1126\"},{\"id\":\"1129\"},{\"id\":\"1151\"},{\"id\":\"1153\"}],\"left\":[{\"id\":\"1127\"}],\"renderers\":[{\"id\":\"1140\"}],\"title\":{\"id\":\"1113\"},\"toolbar\":{\"id\":\"1133\"},\"toolbar_location\":\"above\",\"x_range\":{\"id\":\"1115\"},\"x_scale\":{\"id\":\"1119\"},\"y_range\":{\"id\":\"1117\"},\"y_scale\":{\"id\":\"1121\"}},\"id\":\"1112\",\"subtype\":\"Figure\",\"type\":\"Plot\"},{\"attributes\":{},\"id\":\"1144\",\"type\":\"AllLabels\"},{\"attributes\":{\"text\":\"\\u7edf\\u8ba1\"},\"id\":\"1113\",\"type\":\"Title\"},{\"attributes\":{\"fill_alpha\":{\"value\":0.1},\"fill_color\":{\"field\":\"color\"},\"height\":{\"value\":0.8},\"line_alpha\":{\"value\":0.1},\"line_color\":{\"field\":\"color\"},\"right\":{\"field\":\"y\"},\"y\":{\"field\":\"x\"}},\"id\":\"1139\",\"type\":\"HBar\"},{\"attributes\":{},\"id\":\"1115\",\"type\":\"DataRange1d\"},{\"attributes\":{},\"id\":\"1121\",\"type\":\"CategoricalScale\"},{\"attributes\":{\"axis_label\":null,\"formatter\":{\"id\":\"1146\"},\"major_label_orientation\":0.39269908169872414,\"major_label_policy\":{\"id\":\"1147\"},\"ticker\":{\"id\":\"1124\"}},\"id\":\"1123\",\"type\":\"LinearAxis\"},{\"attributes\":{\"active_multi\":null,\"tools\":[{\"id\":\"1130\"},{\"id\":\"1131\"},{\"id\":\"1132\"}]},\"id\":\"1133\",\"type\":\"Toolbar\"},{\"attributes\":{\"data\":{\"color\":[\"#66c2a5\",\"#fc8d62\",\"#8da0cb\",\"#e78ac3\"],\"x\":[\"A\",\"B\",\"C\",\"D\"],\"y\":[100,88,99,10]},\"selected\":{\"id\":\"1150\"},\"selection_policy\":{\"id\":\"1149\"}},\"id\":\"1111\",\"type\":\"ColumnDataSource\"},{\"attributes\":{\"axis\":{\"id\":\"1123\"},\"grid_line_color\":null,\"ticker\":null},\"id\":\"1126\",\"type\":\"Grid\"},{\"attributes\":{},\"id\":\"1119\",\"type\":\"LinearScale\"},{\"attributes\":{\"factors\":[\"A\",\"B\",\"C\",\"D\"]},\"id\":\"1117\",\"type\":\"FactorRange\"},{\"attributes\":{\"source\":{\"id\":\"1111\"}},\"id\":\"1141\",\"type\":\"CDSView\"},{\"attributes\":{\"axis_label\":null,\"formatter\":{\"id\":\"1143\"},\"major_label_policy\":{\"id\":\"1144\"},\"ticker\":{\"id\":\"1128\"}},\"id\":\"1127\",\"type\":\"CategoricalAxis\"},{\"attributes\":{},\"id\":\"1124\",\"type\":\"BasicTicker\"},{\"attributes\":{\"data_source\":{\"id\":\"1111\"},\"glyph\":{\"id\":\"1138\"},\"hover_glyph\":null,\"muted_glyph\":null,\"nonselection_glyph\":{\"id\":\"1139\"},\"view\":{\"id\":\"1141\"}},\"id\":\"1140\",\"type\":\"GlyphRenderer\"},{\"attributes\":{\"items\":[{\"id\":\"1152\"}]},\"id\":\"1151\",\"type\":\"Legend\"},{\"attributes\":{\"fill_color\":{\"field\":\"color\"},\"height\":{\"value\":0.8},\"line_color\":{\"field\":\"color\"},\"right\":{\"field\":\"y\"},\"y\":{\"field\":\"x\"}},\"id\":\"1138\",\"type\":\"HBar\"},{\"attributes\":{\"axis\":{\"id\":\"1127\"},\"dimension\":1,\"ticker\":null},\"id\":\"1129\",\"type\":\"Grid\"},{\"attributes\":{},\"id\":\"1128\",\"type\":\"CategoricalTicker\"},{\"attributes\":{\"label\":{\"field\":\"x\"},\"renderers\":[{\"id\":\"1140\"}]},\"id\":\"1152\",\"type\":\"LegendItem\"},{\"attributes\":{},\"id\":\"1132\",\"type\":\"PanTool\"},{\"attributes\":{},\"id\":\"1131\",\"type\":\"ResetTool\"},{\"attributes\":{},\"id\":\"1130\",\"type\":\"SaveTool\"},{\"attributes\":{},\"id\":\"1149\",\"type\":\"UnionRenderers\"},{\"attributes\":{},\"id\":\"1147\",\"type\":\"AllLabels\"},{\"attributes\":{},\"id\":\"1150\",\"type\":\"Selection\"},{\"attributes\":{},\"id\":\"1146\",\"type\":\"BasicTickFormatter\"},{\"attributes\":{\"level\":\"glyph\",\"source\":{\"id\":\"1111\"},\"text\":{\"field\":\"y\"},\"text_font_size\":{\"value\":\"9pt\"},\"x\":{\"field\":\"y\"},\"x_offset\":{\"value\":2},\"y\":{\"field\":\"x\"},\"y_offset\":{\"value\":-8}},\"id\":\"1153\",\"type\":\"LabelSet\"},{\"attributes\":{},\"id\":\"1143\",\"type\":\"CategoricalTickFormatter\"}],\"root_ids\":[\"1112\"]},\"title\":\"Bokeh Application\",\"version\":\"2.3.3\"}};\n  var render_items = [{\"docid\":\"14c6cd29-793f-4858-b541-1c0e72dd74df\",\"root_ids\":[\"1112\"],\"roots\":{\"1112\":\"0ab59d96-aeca-4713-9a41-45bf70bd0d89\"}}];\n  root.Bokeh.embed.embed_items_notebook(docs_json, render_items);\n\n  }\n  if (root.Bokeh !== undefined) {\n    embed_document(root);\n  } else {\n    var attempts = 0;\n    var timer = setInterval(function(root) {\n      if (root.Bokeh !== undefined) {\n        clearInterval(timer);\n        embed_document(root);\n      } else {\n        attempts++;\n        if (attempts > 100) {\n          clearInterval(timer);\n          console.log(\"Bokeh: ERROR: Unable to run BokehJS code because BokehJS library is missing\");\n        }\n      }\n    }, 10, root)\n  }\n})(window);",
      "application/vnd.bokehjs_exec.v0+json": ""
     },
     "metadata": {
      "application/vnd.bokehjs_exec.v0+json": {
       "id": "1112"
      }
     }
    }
   ],
   "metadata": {}
  },
  {
   "cell_type": "code",
   "execution_count": 13,
   "source": [
    "#export\n",
    "def line_figure_datetime(\n",
    "        data_list: list, plot_width=800, plot_height=500, x_dtype=np.datetime64,\n",
    "        select_title:str=None, draw_circle=False, tooltips_metadata:list=None,\n",
    "        x_name='x', y_name='y', legend_labels:list=None, tools=BOKEH_DEFAULT_TOOLS,\n",
    "        use_select_figure=True, toolbar_location=BOKEH_DEFAULT_TOOLBAR_LOC, legend_alpha=0.8, \n",
    "        legend_orientation = \"vertical\", legend_location = \"top_right\",\n",
    "        y_axis_label=None, x_axis_label=None, **kwargs\n",
    "    ):\n",
    "    if isinstance(data_list, dict): data_list = [data_list]\n",
    "    if isinstance(tooltips_metadata, dict): tooltips_metadata = [tooltips_metadata]\n",
    "    if not (isinstance(legend_labels, list) and len(legend_labels)) == len(data_list): legend_labels = None\n",
    "    if not (isinstance(tooltips_metadata, list) and len(tooltips_metadata)) == len(data_list):\n",
    "        tooltips_metadata = [{}]*len(data_list)\n",
    "    p = figure(\n",
    "        plot_height=int(0.65*plot_height), plot_width=plot_width,\n",
    "        x_axis_type=\"datetime\", x_axis_location=\"above\" if use_select_figure else 'below',\n",
    "        background_fill_color=\"#efefef\", x_range=None,\n",
    "        toolbar_location=toolbar_location,\n",
    "        tools=tools, **kwargs\n",
    "    )\n",
    "    colors = count2colors(len(data_list))\n",
    "    p.yaxis.axis_label = y_name if y_axis_label is None else y_axis_label\n",
    "    p.xaxis.axis_label = x_name if x_axis_label is None else x_axis_label\n",
    "    if use_select_figure:\n",
    "        select_title = select_title if select_title is not None else f\"拖动选择 {x_name} 区间\"\n",
    "        select = figure(\n",
    "            title=select_title, tools=tools, toolbar_location=toolbar_location,\n",
    "            plot_height=int(0.35*plot_height), plot_width=plot_width, y_range=p.y_range,\n",
    "            x_axis_type=\"datetime\", y_axis_type=None, background_fill_color=\"#efefef\"\n",
    "        )\n",
    "\n",
    "    max_x = []\n",
    "    for i, data in enumerate(data_list):\n",
    "        if not isinstance(data, dict):\n",
    "            logger.error(f\"invalid data_list[{i}] data format, must be dict\")\n",
    "        x = [str(o) for o in data.keys()]\n",
    "        if x_dtype: x = list(np.array(x, dtype=x_dtype))\n",
    "        y = list(data.values())\n",
    "        metadata = {}\n",
    "        if isinstance(tooltips_metadata[i], dict):\n",
    "            for k, v in tooltips_metadata[i].items():\n",
    "                if isinstance(v, list) and len(v) == len(x):\n",
    "                    metadata[k] = v\n",
    "                else:\n",
    "                    logger.warning(f\"tooltips_metadata->{k} values invalid, type={type(v)} length={len(v)}\")\n",
    "        tooltips = [(x_name, \"@{\"f\"{x_name}\"\"}{%F}\"),(y_name, \"@{\"f\"{y_name}\"\"}\")]\n",
    "        for k in metadata: tooltips.append((k, \"@{\"f\"{k}\"\"}\"))\n",
    "        column_data = {\n",
    "            x_name: x,\n",
    "            y_name: y\n",
    "        }\n",
    "        source = ColumnDataSource(data=dict(**column_data, **metadata))\n",
    "        legend_kwargs = {} if legend_labels is None else {'legend_label': legend_labels[i]}\n",
    "        p.line(x_name, y_name, source=source, line_color=colors[i], **legend_kwargs)\n",
    "        if draw_circle: p.circle(x_name, y_name, fill_color='white', size=6, source=source, line_color=colors[i], **legend_kwargs)\n",
    "        if len(x) > len(max_x): max_x = x\n",
    "        p.add_tools(HoverTool(tooltips=tooltips, formatters={\"@{\"f\"{x_name}\"\"}\": 'datetime'}))\n",
    "\n",
    "        if use_select_figure: select.line(x_name, y_name, source=source, line_color=colors[i])\n",
    "    p.x_scale = get_scale(p.x_range, 'datetime')\n",
    "    p.legend.background_fill_alpha = legend_alpha\n",
    "    p.legend.orientation = legend_orientation\n",
    "    p.legend.location = legend_location\n",
    "    if use_select_figure:\n",
    "        p.x_range = get_range((max_x[len(max_x)//2-min(len(max_x)//8, 300)], max_x[len(max_x)//2+min(len(max_x)//8, 300)]))\n",
    "        range_tool = RangeTool(x_range=p.x_range)\n",
    "        range_tool.overlay.fill_color = \"navy\"\n",
    "        range_tool.overlay.fill_alpha = 0.2\n",
    "\n",
    "        select.ygrid.grid_line_color = None\n",
    "        select.add_tools(range_tool)\n",
    "        select.toolbar.active_multi = range_tool\n",
    "        return column(p, select)\n",
    "    else:\n",
    "        return p"
   ],
   "outputs": [],
   "metadata": {}
  },
  {
   "cell_type": "code",
   "execution_count": 14,
   "source": [
    "from bokeh.util.sampledata import _download_file\n",
    "from pathlib import Path\n",
    "dst_data_dir = Path.home()/'.bokeh'/'data'\n",
    "if not (dst_data_dir/'AAPL.csv').exists():\n",
    "    dst_data_dir.mkdir(parents=True, exist_ok=True)\n",
    "    _download_file('http://sampledata.bokeh.org', 'AAPL.csv', dst_data_dir)"
   ],
   "outputs": [],
   "metadata": {}
  },
  {
   "cell_type": "code",
   "execution_count": 15,
   "source": [
    "from bokeh.sampledata.stocks import AAPL\n",
    "\n",
    "test_data = { x:y for x,y in zip(AAPL['date'][:300], AAPL['close'][:300])}\n",
    "p = line_figure_datetime(test_data, title=\"趋势图\", draw_circle=False, use_select_figure=False)\n",
    "show(p)"
   ],
   "outputs": [
    {
     "output_type": "stream",
     "name": "stderr",
     "text": [
      "/home/junxin/.local/lib/python3.8/site-packages/bokeh/models/plots.py:766: UserWarning: \n",
      "You are attempting to set `plot.legend.background_fill_alpha` on a plot that has zero legends added, this will have no effect.\n",
      "\n",
      "Before legend properties can be set, you must add a Legend explicitly, or call a glyph method with a legend parameter set.\n",
      "\n",
      "  warnings.warn(_LEGEND_EMPTY_WARNING % attr)\n",
      "/home/junxin/.local/lib/python3.8/site-packages/bokeh/models/plots.py:766: UserWarning: \n",
      "You are attempting to set `plot.legend.orientation` on a plot that has zero legends added, this will have no effect.\n",
      "\n",
      "Before legend properties can be set, you must add a Legend explicitly, or call a glyph method with a legend parameter set.\n",
      "\n",
      "  warnings.warn(_LEGEND_EMPTY_WARNING % attr)\n",
      "/home/junxin/.local/lib/python3.8/site-packages/bokeh/models/plots.py:766: UserWarning: \n",
      "You are attempting to set `plot.legend.location` on a plot that has zero legends added, this will have no effect.\n",
      "\n",
      "Before legend properties can be set, you must add a Legend explicitly, or call a glyph method with a legend parameter set.\n",
      "\n",
      "  warnings.warn(_LEGEND_EMPTY_WARNING % attr)\n"
     ]
    },
    {
     "output_type": "display_data",
     "data": {
      "text/html": [
       "\n",
       "\n",
       "\n",
       "\n",
       "\n",
       "\n",
       "  <div class=\"bk-root\" id=\"c106cefc-0265-41d1-a756-110b56bd7b08\" data-root-id=\"1218\"></div>\n"
      ]
     },
     "metadata": {}
    },
    {
     "output_type": "display_data",
     "data": {
      "application/javascript": "(function(root) {\n  function embed_document(root) {\n    \n  var docs_json = {\"ce180f50-427f-49c2-877a-d74837944cba\":{\"defs\":[],\"roots\":{\"references\":[{\"attributes\":{\"background_fill_color\":\"#efefef\",\"below\":[{\"id\":\"1229\"}],\"center\":[{\"id\":\"1232\"},{\"id\":\"1236\"}],\"height\":325,\"left\":[{\"id\":\"1233\"}],\"renderers\":[{\"id\":\"1248\"}],\"title\":{\"id\":\"1219\"},\"toolbar\":{\"id\":\"1240\"},\"toolbar_location\":\"above\",\"width\":800,\"x_range\":{\"id\":\"1221\"},\"x_scale\":{\"id\":\"1252\"},\"y_range\":{\"id\":\"1223\"},\"y_scale\":{\"id\":\"1227\"}},\"id\":\"1218\",\"subtype\":\"Figure\",\"type\":\"Plot\"},{\"attributes\":{\"days\":[1,8,15,22]},\"id\":\"1285\",\"type\":\"DaysTicker\"},{\"attributes\":{\"callback\":null,\"formatters\":{\"@{x}\":\"datetime\"},\"tooltips\":[[\"x\",\"@{x}{%F}\"],[\"y\",\"@{y}\"]]},\"id\":\"1250\",\"type\":\"HoverTool\"},{\"attributes\":{},\"id\":\"1291\",\"type\":\"YearsTicker\"},{\"attributes\":{\"months\":[0,4,8]},\"id\":\"1289\",\"type\":\"MonthsTicker\"},{\"attributes\":{},\"id\":\"1272\",\"type\":\"BasicTickFormatter\"},{\"attributes\":{\"num_minor_ticks\":5,\"tickers\":[{\"id\":\"1280\"},{\"id\":\"1281\"},{\"id\":\"1282\"},{\"id\":\"1283\"},{\"id\":\"1284\"},{\"id\":\"1285\"},{\"id\":\"1286\"},{\"id\":\"1287\"},{\"id\":\"1288\"},{\"id\":\"1289\"},{\"id\":\"1290\"},{\"id\":\"1291\"}]},\"id\":\"1230\",\"type\":\"DatetimeTicker\"},{\"attributes\":{},\"id\":\"1273\",\"type\":\"AllLabels\"},{\"attributes\":{\"axis\":{\"id\":\"1233\"},\"dimension\":1,\"ticker\":null},\"id\":\"1236\",\"type\":\"Grid\"},{\"attributes\":{\"mantissas\":[1,2,5],\"max_interval\":500.0,\"num_minor_ticks\":0},\"id\":\"1280\",\"type\":\"AdaptiveTicker\"},{\"attributes\":{\"axis_label\":\"y\",\"formatter\":{\"id\":\"1272\"},\"major_label_policy\":{\"id\":\"1273\"},\"ticker\":{\"id\":\"1234\"}},\"id\":\"1233\",\"type\":\"LinearAxis\"},{\"attributes\":{},\"id\":\"1239\",\"type\":\"PanTool\"},{\"attributes\":{\"days\":[1,4,7,10,13,16,19,22,25,28]},\"id\":\"1284\",\"type\":\"DaysTicker\"},{\"attributes\":{\"line_color\":\"#66c2a5\",\"x\":{\"field\":\"x\"},\"y\":{\"field\":\"y\"}},\"id\":\"1246\",\"type\":\"Line\"},{\"attributes\":{},\"id\":\"1234\",\"type\":\"BasicTicker\"},{\"attributes\":{},\"id\":\"1238\",\"type\":\"ResetTool\"},{\"attributes\":{},\"id\":\"1237\",\"type\":\"SaveTool\"},{\"attributes\":{\"days\":[1,15]},\"id\":\"1286\",\"type\":\"DaysTicker\"},{\"attributes\":{\"text\":\"\\u8d8b\\u52bf\\u56fe\"},\"id\":\"1219\",\"type\":\"Title\"},{\"attributes\":{},\"id\":\"1275\",\"type\":\"DatetimeTickFormatter\"},{\"attributes\":{},\"id\":\"1276\",\"type\":\"AllLabels\"},{\"attributes\":{},\"id\":\"1278\",\"type\":\"UnionRenderers\"},{\"attributes\":{},\"id\":\"1279\",\"type\":\"Selection\"},{\"attributes\":{\"base\":60,\"mantissas\":[1,2,5,10,15,20,30],\"max_interval\":1800000.0,\"min_interval\":1000.0,\"num_minor_ticks\":0},\"id\":\"1281\",\"type\":\"AdaptiveTicker\"},{\"attributes\":{\"line_alpha\":0.1,\"line_color\":\"#66c2a5\",\"x\":{\"field\":\"x\"},\"y\":{\"field\":\"y\"}},\"id\":\"1247\",\"type\":\"Line\"},{\"attributes\":{\"data\":{\"x\":[951868800000.0,951955200000.0,952041600000.0,952300800000.0,952387200000.0,952473600000.0,952560000000.0,952646400000.0,952905600000.0,952992000000.0,953078400000.0,953164800000.0,953251200000.0,953510400000.0,953596800000.0,953683200000.0,953769600000.0,953856000000.0,954115200000.0,954201600000.0,954288000000.0,954374400000.0,954460800000.0,954720000000.0,954806400000.0,954892800000.0,954979200000.0,955065600000.0,955324800000.0,955411200000.0,955497600000.0,955584000000.0,955670400000.0,955929600000.0,956016000000.0,956102400000.0,956188800000.0,956534400000.0,956620800000.0,956707200000.0,956793600000.0,956880000000.0,957139200000.0,957225600000.0,957312000000.0,957398400000.0,957484800000.0,957744000000.0,957830400000.0,957916800000.0,958003200000.0,958089600000.0,958348800000.0,958435200000.0,958521600000.0,958608000000.0,958694400000.0,958953600000.0,959040000000.0,959126400000.0,959212800000.0,959299200000.0,959644800000.0,959731200000.0,959817600000.0,959904000000.0,960163200000.0,960249600000.0,960336000000.0,960422400000.0,960508800000.0,960768000000.0,960854400000.0,960940800000.0,961027200000.0,961113600000.0,961372800000.0,961459200000.0,961545600000.0,961632000000.0,961718400000.0,961977600000.0,962064000000.0,962150400000.0,962236800000.0,962323200000.0,962582400000.0,962755200000.0,962841600000.0,962928000000.0,963187200000.0,963273600000.0,963360000000.0,963446400000.0,963532800000.0,963792000000.0,963878400000.0,963964800000.0,964051200000.0,964137600000.0,964396800000.0,964483200000.0,964569600000.0,964656000000.0,964742400000.0,965001600000.0,965088000000.0,965174400000.0,965260800000.0,965347200000.0,965606400000.0,965692800000.0,965779200000.0,965865600000.0,965952000000.0,966211200000.0,966297600000.0,966384000000.0,966470400000.0,966556800000.0,966816000000.0,966902400000.0,966988800000.0,967075200000.0,967161600000.0,967420800000.0,967507200000.0,967593600000.0,967680000000.0,967766400000.0,968112000000.0,968198400000.0,968284800000.0,968371200000.0,968630400000.0,968716800000.0,968803200000.0,968889600000.0,968976000000.0,969235200000.0,969321600000.0,969408000000.0,969494400000.0,969580800000.0,969840000000.0,969926400000.0,970012800000.0,970099200000.0,970185600000.0,970444800000.0,970531200000.0,970617600000.0,970704000000.0,970790400000.0,971049600000.0,971136000000.0,971222400000.0,971308800000.0,971395200000.0,971654400000.0,971740800000.0,971827200000.0,971913600000.0,972000000000.0,972259200000.0,972345600000.0,972432000000.0,972518400000.0,972604800000.0,972864000000.0,972950400000.0,973036800000.0,973123200000.0,973209600000.0,973468800000.0,973555200000.0,973641600000.0,973728000000.0,973814400000.0,974073600000.0,974160000000.0,974246400000.0,974332800000.0,974419200000.0,974678400000.0,974764800000.0,974851200000.0,975024000000.0,975283200000.0,975369600000.0,975456000000.0,975542400000.0,975628800000.0,975888000000.0,975974400000.0,976060800000.0,976147200000.0,976233600000.0,976492800000.0,976579200000.0,976665600000.0,976752000000.0,976838400000.0,977097600000.0,977184000000.0,977270400000.0,977356800000.0,977443200000.0,977788800000.0,977875200000.0,977961600000.0,978048000000.0,978393600000.0,978480000000.0,978566400000.0,978652800000.0,978912000000.0,978998400000.0,979084800000.0,979171200000.0,979257600000.0,979603200000.0,979689600000.0,979776000000.0,979862400000.0,980121600000.0,980208000000.0,980294400000.0,980380800000.0,980467200000.0,980726400000.0,980812800000.0,980899200000.0,980985600000.0,981072000000.0,981331200000.0,981417600000.0,981504000000.0,981590400000.0,981676800000.0,981936000000.0,982022400000.0,982108800000.0,982195200000.0,982281600000.0,982627200000.0,982713600000.0,982800000000.0,982886400000.0,983145600000.0,983232000000.0,983318400000.0,983404800000.0,983491200000.0,983750400000.0,983836800000.0,983923200000.0,984009600000.0,984096000000.0,984355200000.0,984441600000.0,984528000000.0,984614400000.0,984700800000.0,984960000000.0,985046400000.0,985132800000.0,985219200000.0,985305600000.0,985564800000.0,985651200000.0,985737600000.0,985824000000.0,985910400000.0,986169600000.0,986256000000.0,986342400000.0,986428800000.0,986515200000.0,986774400000.0,986860800000.0,986947200000.0,987033600000.0,987379200000.0,987465600000.0,987552000000.0,987638400000.0,987724800000.0,987984000000.0,988070400000.0,988156800000.0,988243200000.0,988329600000.0,988588800000.0,988675200000.0,988761600000.0,988848000000.0,988934400000.0,989193600000.0,989280000000.0],\"y\":[130.31,122.0,128.0,125.69,122.87,122.0,122.25,125.75,121.31,114.25,116.25,121.56,125.0,123.0,134.94,144.19,141.31,138.69,139.56,139.13,135.94,125.75,135.81,133.31,127.31,130.38,125.19,131.75,125.0,119.44,109.25,113.81,111.87,123.87,126.87,121.12,118.87,120.5,128.31,121.31,126.75,124.06,124.31,117.87,115.06,110.69,113.12,110.12,105.44,99.31,102.81,107.62,101.0,105.69,101.37,100.75,94.0,89.94,85.81,87.69,87.27,86.37,87.56,84.0,89.12,92.56,91.31,92.87,96.56,94.81,95.75,91.19,94.5,90.44,92.37,91.19,96.62,101.25,55.63,53.75,51.69,54.13,51.75,54.44,51.25,52.38,53.31,51.63,51.81,54.44,57.13,56.94,58.88,56.5,57.69,58.31,57.25,52.69,55.13,53.56,48.69,50.06,50.06,52.0,48.31,50.81,49.31,47.25,48.0,47.38,47.94,46.75,47.5,47.56,47.69,47.06,46.69,48.5,51.44,50.0,50.5,51.69,54.31,56.11,56.81,58.06,59.19,59.5,60.94,63.44,62.44,58.44,62.0,58.88,58.44,57.75,58.0,56.86,55.23,60.66,59.94,61.05,56.69,52.19,53.5,51.44,48.94,53.5,25.75,24.25,22.31,23.62,22.06,22.19,21.75,20.87,19.62,20.0,22.06,21.5,20.12,20.12,18.94,19.5,20.37,18.87,18.5,18.5,18.56,19.31,19.56,20.5,22.31,22.25,21.44,21.31,20.06,20.19,19.06,19.37,20.25,19.87,19.0,18.5,18.94,18.81,18.5,19.31,18.69,18.03,17.56,16.5,17.06,16.69,17.0,14.31,14.31,15.06,15.19,15.38,15.0,14.44,14.06,14.25,14.0,14.38,14.06,15.0,14.69,14.81,14.81,14.88,14.88,16.37,17.06,16.37,16.56,17.19,16.56,18.0,17.19,17.12,16.81,18.69,19.5,19.25,20.5,20.5,19.94,19.56,21.69,21.75,21.62,21.12,20.62,20.19,21.12,20.75,20.75,19.12,19.69,19.12,19.5,20.06,19.0,18.31,18.87,18.81,18.81,19.5,19.37,18.25,18.75,19.25,20.37,21.5,21.25,20.81,20.25,18.62,19.56,20.44,19.69,19.62,20.56,19.69,20.12,21.62,23.0,21.78,22.87,22.17,22.53,22.07,21.59,20.24,19.5,20.87,20.59,20.54,22.04,21.8,22.42,21.44,20.4,22.79,25.72,25.04,24.25,24.03,24.72,24.69,26.2,25.49,25.93,26.59,24.96,25.75,24.96,24.57]},\"selected\":{\"id\":\"1279\"},\"selection_policy\":{\"id\":\"1278\"}},\"id\":\"1244\",\"type\":\"ColumnDataSource\"},{\"attributes\":{},\"id\":\"1221\",\"type\":\"DataRange1d\"},{\"attributes\":{\"days\":[1,2,3,4,5,6,7,8,9,10,11,12,13,14,15,16,17,18,19,20,21,22,23,24,25,26,27,28,29,30,31]},\"id\":\"1283\",\"type\":\"DaysTicker\"},{\"attributes\":{\"data_source\":{\"id\":\"1244\"},\"glyph\":{\"id\":\"1246\"},\"hover_glyph\":null,\"muted_glyph\":null,\"nonselection_glyph\":{\"id\":\"1247\"},\"view\":{\"id\":\"1249\"}},\"id\":\"1248\",\"type\":\"GlyphRenderer\"},{\"attributes\":{\"axis\":{\"id\":\"1229\"},\"ticker\":null},\"id\":\"1232\",\"type\":\"Grid\"},{\"attributes\":{\"source\":{\"id\":\"1244\"}},\"id\":\"1249\",\"type\":\"CDSView\"},{\"attributes\":{\"base\":24,\"mantissas\":[1,2,4,6,8,12],\"max_interval\":43200000.0,\"min_interval\":3600000.0,\"num_minor_ticks\":0},\"id\":\"1282\",\"type\":\"AdaptiveTicker\"},{\"attributes\":{},\"id\":\"1252\",\"type\":\"LinearScale\"},{\"attributes\":{},\"id\":\"1223\",\"type\":\"DataRange1d\"},{\"attributes\":{\"months\":[0,1,2,3,4,5,6,7,8,9,10,11]},\"id\":\"1287\",\"type\":\"MonthsTicker\"},{\"attributes\":{\"months\":[0,2,4,6,8,10]},\"id\":\"1288\",\"type\":\"MonthsTicker\"},{\"attributes\":{\"axis_label\":\"x\",\"formatter\":{\"id\":\"1275\"},\"major_label_policy\":{\"id\":\"1276\"},\"ticker\":{\"id\":\"1230\"}},\"id\":\"1229\",\"type\":\"DatetimeAxis\"},{\"attributes\":{},\"id\":\"1227\",\"type\":\"LinearScale\"},{\"attributes\":{\"active_multi\":null,\"tools\":[{\"id\":\"1237\"},{\"id\":\"1238\"},{\"id\":\"1239\"},{\"id\":\"1250\"}]},\"id\":\"1240\",\"type\":\"Toolbar\"},{\"attributes\":{\"months\":[0,6]},\"id\":\"1290\",\"type\":\"MonthsTicker\"}],\"root_ids\":[\"1218\"]},\"title\":\"Bokeh Application\",\"version\":\"2.3.3\"}};\n  var render_items = [{\"docid\":\"ce180f50-427f-49c2-877a-d74837944cba\",\"root_ids\":[\"1218\"],\"roots\":{\"1218\":\"c106cefc-0265-41d1-a756-110b56bd7b08\"}}];\n  root.Bokeh.embed.embed_items_notebook(docs_json, render_items);\n\n  }\n  if (root.Bokeh !== undefined) {\n    embed_document(root);\n  } else {\n    var attempts = 0;\n    var timer = setInterval(function(root) {\n      if (root.Bokeh !== undefined) {\n        clearInterval(timer);\n        embed_document(root);\n      } else {\n        attempts++;\n        if (attempts > 100) {\n          clearInterval(timer);\n          console.log(\"Bokeh: ERROR: Unable to run BokehJS code because BokehJS library is missing\");\n        }\n      }\n    }, 10, root)\n  }\n})(window);",
      "application/vnd.bokehjs_exec.v0+json": ""
     },
     "metadata": {
      "application/vnd.bokehjs_exec.v0+json": {
       "id": "1218"
      }
     }
    }
   ],
   "metadata": {}
  },
  {
   "cell_type": "code",
   "execution_count": 16,
   "source": [
    "AAPL.keys()"
   ],
   "outputs": [
    {
     "output_type": "execute_result",
     "data": {
      "text/plain": [
       "dict_keys(['date', 'open', 'high', 'low', 'close', 'volume', 'adj_close'])"
      ]
     },
     "metadata": {},
     "execution_count": 16
    }
   ],
   "metadata": {}
  },
  {
   "cell_type": "code",
   "execution_count": 17,
   "source": [
    "tooltips_metadata = {'体量': AAPL['volume'][:300]}\n",
    "p = line_figure_datetime(test_data, title=\"趋势图\", draw_circle=True,\n",
    "                         tooltips_metadata=tooltips_metadata, x_name='时间',\n",
    "                         y_name='价格')\n",
    "show(p)"
   ],
   "outputs": [
    {
     "output_type": "display_data",
     "data": {
      "text/html": [
       "\n",
       "\n",
       "\n",
       "\n",
       "\n",
       "\n",
       "  <div class=\"bk-root\" id=\"6284c102-7861-4306-8088-15caa28997a5\" data-root-id=\"1469\"></div>\n"
      ]
     },
     "metadata": {}
    },
    {
     "output_type": "display_data",
     "data": {
      "application/javascript": "(function(root) {\n  function embed_document(root) {\n    \n  var docs_json = {\"2d14d286-11da-414f-8407-25f7af597276\":{\"defs\":[],\"roots\":{\"references\":[{\"attributes\":{\"children\":[{\"id\":\"1397\"},{\"id\":\"1423\"}]},\"id\":\"1469\",\"type\":\"Column\"},{\"attributes\":{},\"id\":\"1517\",\"type\":\"DatetimeTickFormatter\"},{\"attributes\":{},\"id\":\"1518\",\"type\":\"AllLabels\"},{\"attributes\":{\"months\":[0,2,4,6,8,10]},\"id\":\"1530\",\"type\":\"MonthsTicker\"},{\"attributes\":{},\"id\":\"1520\",\"type\":\"UnionRenderers\"},{\"attributes\":{},\"id\":\"1521\",\"type\":\"Selection\"},{\"attributes\":{\"months\":[0,1,2,3,4,5,6,7,8,9,10,11]},\"id\":\"1529\",\"type\":\"MonthsTicker\"},{\"attributes\":{\"months\":[0,4,8]},\"id\":\"1544\",\"type\":\"MonthsTicker\"},{\"attributes\":{\"mantissas\":[1,2,5],\"max_interval\":500.0,\"num_minor_ticks\":0},\"id\":\"1522\",\"type\":\"AdaptiveTicker\"},{\"attributes\":{\"base\":60,\"mantissas\":[1,2,5,10,15,20,30],\"max_interval\":1800000.0,\"min_interval\":1000.0,\"num_minor_ticks\":0},\"id\":\"1523\",\"type\":\"AdaptiveTicker\"},{\"attributes\":{\"days\":[1,2,3,4,5,6,7,8,9,10,11,12,13,14,15,16,17,18,19,20,21,22,23,24,25,26,27,28,29,30,31]},\"id\":\"1525\",\"type\":\"DaysTicker\"},{\"attributes\":{\"base\":24,\"mantissas\":[1,2,4,6,8,12],\"max_interval\":43200000.0,\"min_interval\":3600000.0,\"num_minor_ticks\":0},\"id\":\"1524\",\"type\":\"AdaptiveTicker\"},{\"attributes\":{\"data_source\":{\"id\":\"1444\"},\"glyph\":{\"id\":\"1446\"},\"hover_glyph\":null,\"muted_glyph\":null,\"nonselection_glyph\":{\"id\":\"1447\"},\"view\":{\"id\":\"1449\"}},\"id\":\"1448\",\"type\":\"GlyphRenderer\"},{\"attributes\":{\"line_alpha\":0.1,\"line_color\":\"#66c2a5\",\"x\":{\"field\":\"\\u65f6\\u95f4\"},\"y\":{\"field\":\"\\u4ef7\\u683c\"}},\"id\":\"1447\",\"type\":\"Line\"},{\"attributes\":{\"fill_color\":{\"value\":\"white\"},\"line_color\":{\"value\":\"#66c2a5\"},\"size\":{\"value\":6},\"x\":{\"field\":\"\\u65f6\\u95f4\"},\"y\":{\"field\":\"\\u4ef7\\u683c\"}},\"id\":\"1451\",\"type\":\"Circle\"},{\"attributes\":{},\"id\":\"1533\",\"type\":\"YearsTicker\"},{\"attributes\":{\"line_color\":\"#66c2a5\",\"x\":{\"field\":\"\\u65f6\\u95f4\"},\"y\":{\"field\":\"\\u4ef7\\u683c\"}},\"id\":\"1446\",\"type\":\"Line\"},{\"attributes\":{\"months\":[0,6]},\"id\":\"1545\",\"type\":\"MonthsTicker\"},{\"attributes\":{\"above\":[{\"id\":\"1408\"}],\"background_fill_color\":\"#efefef\",\"center\":[{\"id\":\"1411\"},{\"id\":\"1415\"}],\"height\":325,\"left\":[{\"id\":\"1412\"}],\"renderers\":[{\"id\":\"1448\"},{\"id\":\"1453\"}],\"title\":{\"id\":\"1398\"},\"toolbar\":{\"id\":\"1419\"},\"toolbar_location\":\"above\",\"width\":800,\"x_range\":{\"id\":\"1463\"},\"x_scale\":{\"id\":\"1462\"},\"y_range\":{\"id\":\"1402\"},\"y_scale\":{\"id\":\"1406\"}},\"id\":\"1397\",\"subtype\":\"Figure\",\"type\":\"Plot\"},{\"attributes\":{\"months\":[0,6]},\"id\":\"1532\",\"type\":\"MonthsTicker\"},{\"attributes\":{\"source\":{\"id\":\"1444\"}},\"id\":\"1449\",\"type\":\"CDSView\"},{\"attributes\":{\"line_alpha\":0.1,\"line_color\":\"#66c2a5\",\"x\":{\"field\":\"\\u65f6\\u95f4\"},\"y\":{\"field\":\"\\u4ef7\\u683c\"}},\"id\":\"1459\",\"type\":\"Line\"},{\"attributes\":{},\"id\":\"1402\",\"type\":\"DataRange1d\"},{\"attributes\":{\"mantissas\":[1,2,5],\"max_interval\":500.0,\"num_minor_ticks\":0},\"id\":\"1535\",\"type\":\"AdaptiveTicker\"},{\"attributes\":{\"days\":[1,15]},\"id\":\"1528\",\"type\":\"DaysTicker\"},{\"attributes\":{\"base\":60,\"mantissas\":[1,2,5,10,15,20,30],\"max_interval\":1800000.0,\"min_interval\":1000.0,\"num_minor_ticks\":0},\"id\":\"1536\",\"type\":\"AdaptiveTicker\"},{\"attributes\":{\"data_source\":{\"id\":\"1444\"},\"glyph\":{\"id\":\"1451\"},\"hover_glyph\":null,\"muted_glyph\":null,\"nonselection_glyph\":{\"id\":\"1452\"},\"view\":{\"id\":\"1454\"}},\"id\":\"1453\",\"type\":\"GlyphRenderer\"},{\"attributes\":{\"days\":[1,2,3,4,5,6,7,8,9,10,11,12,13,14,15,16,17,18,19,20,21,22,23,24,25,26,27,28,29,30,31]},\"id\":\"1538\",\"type\":\"DaysTicker\"},{\"attributes\":{\"background_fill_color\":\"#efefef\",\"below\":[{\"id\":\"1433\"}],\"center\":[{\"id\":\"1436\"}],\"height\":175,\"renderers\":[{\"id\":\"1460\"}],\"title\":{\"id\":\"1424\"},\"toolbar\":{\"id\":\"1440\"},\"toolbar_location\":\"above\",\"width\":800,\"x_range\":{\"id\":\"1426\"},\"x_scale\":{\"id\":\"1429\"},\"y_range\":{\"id\":\"1402\"},\"y_scale\":{\"id\":\"1431\"}},\"id\":\"1423\",\"subtype\":\"Figure\",\"type\":\"Plot\"},{\"attributes\":{\"fill_alpha\":{\"value\":0.1},\"fill_color\":{\"value\":\"white\"},\"line_alpha\":{\"value\":0.1},\"line_color\":{\"value\":\"#66c2a5\"},\"size\":{\"value\":6},\"x\":{\"field\":\"\\u65f6\\u95f4\"},\"y\":{\"field\":\"\\u4ef7\\u683c\"}},\"id\":\"1452\",\"type\":\"Circle\"},{\"attributes\":{\"base\":24,\"mantissas\":[1,2,4,6,8,12],\"max_interval\":43200000.0,\"min_interval\":3600000.0,\"num_minor_ticks\":0},\"id\":\"1537\",\"type\":\"AdaptiveTicker\"},{\"attributes\":{\"overlay\":{\"id\":\"1465\"},\"x_range\":{\"id\":\"1463\"},\"y_range\":null},\"id\":\"1464\",\"type\":\"RangeTool\"},{\"attributes\":{\"days\":[1,4,7,10,13,16,19,22,25,28]},\"id\":\"1526\",\"type\":\"DaysTicker\"},{\"attributes\":{\"text\":\"\\u8d8b\\u52bf\\u56fe\"},\"id\":\"1398\",\"type\":\"Title\"},{\"attributes\":{\"source\":{\"id\":\"1444\"}},\"id\":\"1454\",\"type\":\"CDSView\"},{\"attributes\":{\"months\":[0,1,2,3,4,5,6,7,8,9,10,11]},\"id\":\"1542\",\"type\":\"MonthsTicker\"},{\"attributes\":{\"months\":[0,2,4,6,8,10]},\"id\":\"1543\",\"type\":\"MonthsTicker\"},{\"attributes\":{\"line_color\":\"#66c2a5\",\"x\":{\"field\":\"\\u65f6\\u95f4\"},\"y\":{\"field\":\"\\u4ef7\\u683c\"}},\"id\":\"1458\",\"type\":\"Line\"},{\"attributes\":{\"days\":[1,4,7,10,13,16,19,22,25,28]},\"id\":\"1539\",\"type\":\"DaysTicker\"},{\"attributes\":{\"months\":[0,4,8]},\"id\":\"1531\",\"type\":\"MonthsTicker\"},{\"attributes\":{\"days\":[1,15]},\"id\":\"1541\",\"type\":\"DaysTicker\"},{\"attributes\":{\"fill_alpha\":0.2,\"fill_color\":\"navy\",\"level\":\"overlay\",\"line_alpha\":1.0,\"line_color\":\"black\",\"line_dash\":[2,2],\"line_width\":0.5,\"syncable\":false},\"id\":\"1465\",\"type\":\"BoxAnnotation\"},{\"attributes\":{},\"id\":\"1437\",\"type\":\"SaveTool\"},{\"attributes\":{\"days\":[1,8,15,22]},\"id\":\"1540\",\"type\":\"DaysTicker\"},{\"attributes\":{\"data_source\":{\"id\":\"1444\"},\"glyph\":{\"id\":\"1458\"},\"hover_glyph\":null,\"muted_glyph\":null,\"nonselection_glyph\":{\"id\":\"1459\"},\"view\":{\"id\":\"1461\"}},\"id\":\"1460\",\"type\":\"GlyphRenderer\"},{\"attributes\":{},\"id\":\"1546\",\"type\":\"YearsTicker\"},{\"attributes\":{\"source\":{\"id\":\"1444\"}},\"id\":\"1461\",\"type\":\"CDSView\"},{\"attributes\":{},\"id\":\"1406\",\"type\":\"LinearScale\"},{\"attributes\":{\"end\":975024000000.0,\"start\":965865600000.0},\"id\":\"1463\",\"type\":\"Range1d\"},{\"attributes\":{\"num_minor_ticks\":5,\"tickers\":[{\"id\":\"1522\"},{\"id\":\"1523\"},{\"id\":\"1524\"},{\"id\":\"1525\"},{\"id\":\"1526\"},{\"id\":\"1527\"},{\"id\":\"1528\"},{\"id\":\"1529\"},{\"id\":\"1530\"},{\"id\":\"1531\"},{\"id\":\"1532\"},{\"id\":\"1533\"}]},\"id\":\"1409\",\"type\":\"DatetimeTicker\"},{\"attributes\":{\"axis_label\":\"\\u4ef7\\u683c\",\"formatter\":{\"id\":\"1511\"},\"major_label_policy\":{\"id\":\"1512\"},\"ticker\":{\"id\":\"1413\"}},\"id\":\"1412\",\"type\":\"LinearAxis\"},{\"attributes\":{\"axis_label\":\"\\u65f6\\u95f4\",\"formatter\":{\"id\":\"1514\"},\"major_label_policy\":{\"id\":\"1515\"},\"ticker\":{\"id\":\"1409\"}},\"id\":\"1408\",\"type\":\"DatetimeAxis\"},{\"attributes\":{\"axis\":{\"id\":\"1408\"},\"ticker\":null},\"id\":\"1411\",\"type\":\"Grid\"},{\"attributes\":{\"text\":\"\\u62d6\\u52a8\\u9009\\u62e9 \\u65f6\\u95f4 \\u533a\\u95f4\"},\"id\":\"1424\",\"type\":\"Title\"},{\"attributes\":{\"days\":[1,8,15,22]},\"id\":\"1527\",\"type\":\"DaysTicker\"},{\"attributes\":{\"axis\":{\"id\":\"1412\"},\"dimension\":1,\"ticker\":null},\"id\":\"1415\",\"type\":\"Grid\"},{\"attributes\":{},\"id\":\"1413\",\"type\":\"BasicTicker\"},{\"attributes\":{},\"id\":\"1417\",\"type\":\"ResetTool\"},{\"attributes\":{},\"id\":\"1418\",\"type\":\"PanTool\"},{\"attributes\":{},\"id\":\"1416\",\"type\":\"SaveTool\"},{\"attributes\":{},\"id\":\"1438\",\"type\":\"ResetTool\"},{\"attributes\":{\"active_multi\":{\"id\":\"1464\"},\"tools\":[{\"id\":\"1437\"},{\"id\":\"1438\"},{\"id\":\"1439\"},{\"id\":\"1464\"}]},\"id\":\"1440\",\"type\":\"Toolbar\"},{\"attributes\":{\"callback\":null,\"formatters\":{\"@{\\u65f6\\u95f4}\":\"datetime\"},\"tooltips\":[[\"\\u65f6\\u95f4\",\"@{\\u65f6\\u95f4}{%F}\"],[\"\\u4ef7\\u683c\",\"@{\\u4ef7\\u683c}\"],[\"\\u4f53\\u91cf\",\"@{\\u4f53\\u91cf}\"]]},\"id\":\"1455\",\"type\":\"HoverTool\"},{\"attributes\":{},\"id\":\"1462\",\"type\":\"LinearScale\"},{\"attributes\":{},\"id\":\"1429\",\"type\":\"LinearScale\"},{\"attributes\":{\"active_multi\":null,\"tools\":[{\"id\":\"1416\"},{\"id\":\"1417\"},{\"id\":\"1418\"},{\"id\":\"1455\"}]},\"id\":\"1419\",\"type\":\"Toolbar\"},{\"attributes\":{},\"id\":\"1511\",\"type\":\"BasicTickFormatter\"},{\"attributes\":{},\"id\":\"1512\",\"type\":\"AllLabels\"},{\"attributes\":{},\"id\":\"1439\",\"type\":\"PanTool\"},{\"attributes\":{\"num_minor_ticks\":5,\"tickers\":[{\"id\":\"1535\"},{\"id\":\"1536\"},{\"id\":\"1537\"},{\"id\":\"1538\"},{\"id\":\"1539\"},{\"id\":\"1540\"},{\"id\":\"1541\"},{\"id\":\"1542\"},{\"id\":\"1543\"},{\"id\":\"1544\"},{\"id\":\"1545\"},{\"id\":\"1546\"}]},\"id\":\"1434\",\"type\":\"DatetimeTicker\"},{\"attributes\":{},\"id\":\"1426\",\"type\":\"DataRange1d\"},{\"attributes\":{\"data\":{\"\\u4ef7\\u683c\":[130.31,122.0,128.0,125.69,122.87,122.0,122.25,125.75,121.31,114.25,116.25,121.56,125.0,123.0,134.94,144.19,141.31,138.69,139.56,139.13,135.94,125.75,135.81,133.31,127.31,130.38,125.19,131.75,125.0,119.44,109.25,113.81,111.87,123.87,126.87,121.12,118.87,120.5,128.31,121.31,126.75,124.06,124.31,117.87,115.06,110.69,113.12,110.12,105.44,99.31,102.81,107.62,101.0,105.69,101.37,100.75,94.0,89.94,85.81,87.69,87.27,86.37,87.56,84.0,89.12,92.56,91.31,92.87,96.56,94.81,95.75,91.19,94.5,90.44,92.37,91.19,96.62,101.25,55.63,53.75,51.69,54.13,51.75,54.44,51.25,52.38,53.31,51.63,51.81,54.44,57.13,56.94,58.88,56.5,57.69,58.31,57.25,52.69,55.13,53.56,48.69,50.06,50.06,52.0,48.31,50.81,49.31,47.25,48.0,47.38,47.94,46.75,47.5,47.56,47.69,47.06,46.69,48.5,51.44,50.0,50.5,51.69,54.31,56.11,56.81,58.06,59.19,59.5,60.94,63.44,62.44,58.44,62.0,58.88,58.44,57.75,58.0,56.86,55.23,60.66,59.94,61.05,56.69,52.19,53.5,51.44,48.94,53.5,25.75,24.25,22.31,23.62,22.06,22.19,21.75,20.87,19.62,20.0,22.06,21.5,20.12,20.12,18.94,19.5,20.37,18.87,18.5,18.5,18.56,19.31,19.56,20.5,22.31,22.25,21.44,21.31,20.06,20.19,19.06,19.37,20.25,19.87,19.0,18.5,18.94,18.81,18.5,19.31,18.69,18.03,17.56,16.5,17.06,16.69,17.0,14.31,14.31,15.06,15.19,15.38,15.0,14.44,14.06,14.25,14.0,14.38,14.06,15.0,14.69,14.81,14.81,14.88,14.88,16.37,17.06,16.37,16.56,17.19,16.56,18.0,17.19,17.12,16.81,18.69,19.5,19.25,20.5,20.5,19.94,19.56,21.69,21.75,21.62,21.12,20.62,20.19,21.12,20.75,20.75,19.12,19.69,19.12,19.5,20.06,19.0,18.31,18.87,18.81,18.81,19.5,19.37,18.25,18.75,19.25,20.37,21.5,21.25,20.81,20.25,18.62,19.56,20.44,19.69,19.62,20.56,19.69,20.12,21.62,23.0,21.78,22.87,22.17,22.53,22.07,21.59,20.24,19.5,20.87,20.59,20.54,22.04,21.8,22.42,21.44,20.4,22.79,25.72,25.04,24.25,24.03,24.72,24.69,26.2,25.49,25.93,26.59,24.96,25.75,24.96,24.57],\"\\u4f53\\u91cf\":[38478000,11136800,11565200,7520000,9767600,9690800,9884400,8900800,10864400,15321200,15845200,13516800,10902400,7316400,18729200,20288800,20098000,15962000,9976800,7253600,8568800,14800000,14457600,11742400,23596400,16359200,9290800,8668800,7592400,19368000,33618800,18923600,23845600,14642400,13962400,18586400,25806800,15845600,14002400,13117600,11678000,8932400,8100000,8446400,17500000,14284400,10160000,6605600,11685600,19127600,17852400,10962000,24252000,15736400,14227600,13365600,26459200,26995200,18488000,24248000,14530800,6486400,25481200,15483600,32280000,28336400,11582000,18771200,12056800,8540800,9020000,10374400,12570000,9925200,8898800,10842400,14089200,17922000,17500000,16706200,7320400,6631000,7270600,10235000,7281200,11550000,2535000,9478800,11063800,9422600,14211000,12783200,8057600,15925600,6804400,9289000,11378200,16359600,16631800,7013200,14720600,7567200,7526200,10543800,8505400,5550000,4904600,5808800,12150000,9406800,6697200,6315400,13569000,8995400,8503200,5603400,4089000,5137600,9683400,6798800,4803800,9889000,8470400,11109400,11947800,12822600,9546200,10199600,14988800,9181800,10669000,12700400,7770400,6984400,6699000,6722200,10932600,15241800,14095400,15163200,9706200,8121600,18238400,25961200,15564000,10396600,14370000,34988200,265069000,86610600,72795600,52368200,31189400,21881000,21342600,24683400,42801200,42548200,44564000,29298800,21495600,29803800,53818200,28270400,19694000,28736200,23720600,25780600,26594600,22832800,31649000,20553800,21105400,18423400,14060000,10786800,15082800,17035400,15080600,15423200,14611200,10086600,8554000,15943400,14581600,10786200,10029600,5751800,9244000,9618200,17586200,28922200,13783800,13273400,21932200,49092400,14606600,15568200,11884000,13803400,12327200,9406600,18363800,11645000,13367200,20196200,13102600,11369600,7745400,11626000,10910000,22518800,16161800,29181800,26411000,14731000,13350000,21040600,20743400,28707600,15121000,10940000,30037600,43822800,27748200,18551600,31418400,25616200,17495000,17245600,30562800,24734600,26106000,13205400,15263400,10228800,16528400,14071600,21585000,21082600,9795600,8470600,11040000,11123200,9428400,11249600,13947800,15431200,10503800,7380000,12451000,18157600,11803400,14511200,11587600,26144600,14985600,7325600,10685400,13967800,15840600,17065400,18906600,16806600,12722800,17833800,13265400,25839000,33749400,26230400,19422200,20880800,21895200,14298200,12175400,13167400,24481600,15955800,11603200,9520800,16334800,11932000,10676200,10186600,24471400,39315800,66916800,24764400,19340200,13469200,11813600,28560600,16179000,17670600,15259000,13161600,10769400,10037600,9876800,11265600],\"\\u65f6\\u95f4\":[951868800000.0,951955200000.0,952041600000.0,952300800000.0,952387200000.0,952473600000.0,952560000000.0,952646400000.0,952905600000.0,952992000000.0,953078400000.0,953164800000.0,953251200000.0,953510400000.0,953596800000.0,953683200000.0,953769600000.0,953856000000.0,954115200000.0,954201600000.0,954288000000.0,954374400000.0,954460800000.0,954720000000.0,954806400000.0,954892800000.0,954979200000.0,955065600000.0,955324800000.0,955411200000.0,955497600000.0,955584000000.0,955670400000.0,955929600000.0,956016000000.0,956102400000.0,956188800000.0,956534400000.0,956620800000.0,956707200000.0,956793600000.0,956880000000.0,957139200000.0,957225600000.0,957312000000.0,957398400000.0,957484800000.0,957744000000.0,957830400000.0,957916800000.0,958003200000.0,958089600000.0,958348800000.0,958435200000.0,958521600000.0,958608000000.0,958694400000.0,958953600000.0,959040000000.0,959126400000.0,959212800000.0,959299200000.0,959644800000.0,959731200000.0,959817600000.0,959904000000.0,960163200000.0,960249600000.0,960336000000.0,960422400000.0,960508800000.0,960768000000.0,960854400000.0,960940800000.0,961027200000.0,961113600000.0,961372800000.0,961459200000.0,961545600000.0,961632000000.0,961718400000.0,961977600000.0,962064000000.0,962150400000.0,962236800000.0,962323200000.0,962582400000.0,962755200000.0,962841600000.0,962928000000.0,963187200000.0,963273600000.0,963360000000.0,963446400000.0,963532800000.0,963792000000.0,963878400000.0,963964800000.0,964051200000.0,964137600000.0,964396800000.0,964483200000.0,964569600000.0,964656000000.0,964742400000.0,965001600000.0,965088000000.0,965174400000.0,965260800000.0,965347200000.0,965606400000.0,965692800000.0,965779200000.0,965865600000.0,965952000000.0,966211200000.0,966297600000.0,966384000000.0,966470400000.0,966556800000.0,966816000000.0,966902400000.0,966988800000.0,967075200000.0,967161600000.0,967420800000.0,967507200000.0,967593600000.0,967680000000.0,967766400000.0,968112000000.0,968198400000.0,968284800000.0,968371200000.0,968630400000.0,968716800000.0,968803200000.0,968889600000.0,968976000000.0,969235200000.0,969321600000.0,969408000000.0,969494400000.0,969580800000.0,969840000000.0,969926400000.0,970012800000.0,970099200000.0,970185600000.0,970444800000.0,970531200000.0,970617600000.0,970704000000.0,970790400000.0,971049600000.0,971136000000.0,971222400000.0,971308800000.0,971395200000.0,971654400000.0,971740800000.0,971827200000.0,971913600000.0,972000000000.0,972259200000.0,972345600000.0,972432000000.0,972518400000.0,972604800000.0,972864000000.0,972950400000.0,973036800000.0,973123200000.0,973209600000.0,973468800000.0,973555200000.0,973641600000.0,973728000000.0,973814400000.0,974073600000.0,974160000000.0,974246400000.0,974332800000.0,974419200000.0,974678400000.0,974764800000.0,974851200000.0,975024000000.0,975283200000.0,975369600000.0,975456000000.0,975542400000.0,975628800000.0,975888000000.0,975974400000.0,976060800000.0,976147200000.0,976233600000.0,976492800000.0,976579200000.0,976665600000.0,976752000000.0,976838400000.0,977097600000.0,977184000000.0,977270400000.0,977356800000.0,977443200000.0,977788800000.0,977875200000.0,977961600000.0,978048000000.0,978393600000.0,978480000000.0,978566400000.0,978652800000.0,978912000000.0,978998400000.0,979084800000.0,979171200000.0,979257600000.0,979603200000.0,979689600000.0,979776000000.0,979862400000.0,980121600000.0,980208000000.0,980294400000.0,980380800000.0,980467200000.0,980726400000.0,980812800000.0,980899200000.0,980985600000.0,981072000000.0,981331200000.0,981417600000.0,981504000000.0,981590400000.0,981676800000.0,981936000000.0,982022400000.0,982108800000.0,982195200000.0,982281600000.0,982627200000.0,982713600000.0,982800000000.0,982886400000.0,983145600000.0,983232000000.0,983318400000.0,983404800000.0,983491200000.0,983750400000.0,983836800000.0,983923200000.0,984009600000.0,984096000000.0,984355200000.0,984441600000.0,984528000000.0,984614400000.0,984700800000.0,984960000000.0,985046400000.0,985132800000.0,985219200000.0,985305600000.0,985564800000.0,985651200000.0,985737600000.0,985824000000.0,985910400000.0,986169600000.0,986256000000.0,986342400000.0,986428800000.0,986515200000.0,986774400000.0,986860800000.0,986947200000.0,987033600000.0,987379200000.0,987465600000.0,987552000000.0,987638400000.0,987724800000.0,987984000000.0,988070400000.0,988156800000.0,988243200000.0,988329600000.0,988588800000.0,988675200000.0,988761600000.0,988848000000.0,988934400000.0,989193600000.0,989280000000.0]},\"selected\":{\"id\":\"1521\"},\"selection_policy\":{\"id\":\"1520\"}},\"id\":\"1444\",\"type\":\"ColumnDataSource\"},{\"attributes\":{},\"id\":\"1431\",\"type\":\"LinearScale\"},{\"attributes\":{\"formatter\":{\"id\":\"1517\"},\"major_label_policy\":{\"id\":\"1518\"},\"ticker\":{\"id\":\"1434\"}},\"id\":\"1433\",\"type\":\"DatetimeAxis\"},{\"attributes\":{\"axis\":{\"id\":\"1433\"},\"ticker\":null},\"id\":\"1436\",\"type\":\"Grid\"},{\"attributes\":{},\"id\":\"1514\",\"type\":\"DatetimeTickFormatter\"},{\"attributes\":{},\"id\":\"1515\",\"type\":\"AllLabels\"}],\"root_ids\":[\"1469\"]},\"title\":\"Bokeh Application\",\"version\":\"2.3.3\"}};\n  var render_items = [{\"docid\":\"2d14d286-11da-414f-8407-25f7af597276\",\"root_ids\":[\"1469\"],\"roots\":{\"1469\":\"6284c102-7861-4306-8088-15caa28997a5\"}}];\n  root.Bokeh.embed.embed_items_notebook(docs_json, render_items);\n\n  }\n  if (root.Bokeh !== undefined) {\n    embed_document(root);\n  } else {\n    var attempts = 0;\n    var timer = setInterval(function(root) {\n      if (root.Bokeh !== undefined) {\n        clearInterval(timer);\n        embed_document(root);\n      } else {\n        attempts++;\n        if (attempts > 100) {\n          clearInterval(timer);\n          console.log(\"Bokeh: ERROR: Unable to run BokehJS code because BokehJS library is missing\");\n        }\n      }\n    }, 10, root)\n  }\n})(window);",
      "application/vnd.bokehjs_exec.v0+json": ""
     },
     "metadata": {
      "application/vnd.bokehjs_exec.v0+json": {
       "id": "1469"
      }
     }
    }
   ],
   "metadata": {}
  },
  {
   "cell_type": "code",
   "execution_count": 19,
   "source": [
    "#export\n",
    "def boxplot_figure(\n",
    "    data_df, group_column='group', value_column='value', toolbar_location=BOKEH_DEFAULT_TOOLBAR_LOC,\n",
    "    tools=BOKEH_DEFAULT_TOOLS, y_axis_label=None, x_axis_label=None, **kwargs):\n",
    "    # find the quartiles and IQR for each category\n",
    "    groups = df.groupby(group_column)\n",
    "    q1 = groups.quantile(q=0.25)\n",
    "    q2 = groups.quantile(q=0.5)\n",
    "    q3 = groups.quantile(q=0.75)\n",
    "    iqr = q3 - q1\n",
    "    upper = q3 + 1.5*iqr\n",
    "    lower = q1 - 1.5*iqr\n",
    "        # find the outliers for each category\n",
    "    def outliers(group):\n",
    "        cat = group.name\n",
    "        return group[(group.score > upper.loc[cat][value_column]) | (group.score < lower.loc[cat][value_column])][value_column]\n",
    "    out = groups.apply(outliers).dropna()\n",
    "\n",
    "    # prepare outlier data for plotting, we need coordinates for every outlier.\n",
    "    if not out.empty:\n",
    "        outx = list(out.index.get_level_values(0))\n",
    "        outy = list(out.values)\n",
    "\n",
    "    p = figure(tools=tools, background_fill_color=\"#efefef\", x_range=cats, toolbar_location=toolbar_location, **kwargs)\n",
    "\n",
    "    # if no outliers, shrink lengths of stems to be no longer than the minimums or maximums\n",
    "    qmin = groups.quantile(q=0.00)\n",
    "    qmax = groups.quantile(q=1.00)\n",
    "    upper.score = [min([x,y]) for (x,y) in zip(list(qmax.loc[:,value_column]),upper.score)]\n",
    "    lower.score = [max([x,y]) for (x,y) in zip(list(qmin.loc[:,value_column]),lower.score)]\n",
    "\n",
    "    # stems\n",
    "    p.segment(cats, upper.score, cats, q3.score, line_color=\"black\")\n",
    "    p.segment(cats, lower.score, cats, q1.score, line_color=\"black\")\n",
    "\n",
    "    # boxes\n",
    "    p.vbar(cats, 0.7, q2.score, q3.score, fill_color=\"#E08E79\", line_color=\"black\")\n",
    "    p.vbar(cats, 0.7, q1.score, q2.score, fill_color=\"#3B8686\", line_color=\"black\")\n",
    "\n",
    "    # whiskers (almost-0 height rects simpler than segments)\n",
    "    p.rect(cats, lower.score, 0.2, 0.01, line_color=\"black\")\n",
    "    p.rect(cats, upper.score, 0.2, 0.01, line_color=\"black\")\n",
    "\n",
    "    # outliers\n",
    "    if not out.empty:\n",
    "        p.circle(outx, outy, size=6, color=\"#F38630\", fill_alpha=0.6)\n",
    "\n",
    "    p.xgrid.grid_line_color = None\n",
    "    p.ygrid.grid_line_color = \"white\"\n",
    "    p.grid.grid_line_width = 2\n",
    "    p.xaxis.major_label_text_font_size=\"16px\"\n",
    "    p.yaxis.axis_label = y_axis_label\n",
    "    p.xaxis.axis_label = x_axis_label\n",
    "    return p"
   ],
   "outputs": [],
   "metadata": {}
  },
  {
   "cell_type": "code",
   "execution_count": 20,
   "source": [
    "# generate some synthetic time series for six different categories\n",
    "cats = list(\"abcdef\")\n",
    "yy = np.random.randn(2000)\n",
    "g = np.random.choice(cats, 2000)\n",
    "for i, l in enumerate(cats):\n",
    "    yy[g == l] += i // 2\n",
    "df = pd.DataFrame(dict(score=yy, group=g))\n",
    "df.head()"
   ],
   "outputs": [
    {
     "output_type": "execute_result",
     "data": {
      "text/plain": [
       "      score group\n",
       "0 -0.175889     d\n",
       "1  0.569074     d\n",
       "2  0.940678     a\n",
       "3  1.104070     d\n",
       "4 -0.995155     b"
      ],
      "text/html": [
       "<div>\n",
       "<style scoped>\n",
       "    .dataframe tbody tr th:only-of-type {\n",
       "        vertical-align: middle;\n",
       "    }\n",
       "\n",
       "    .dataframe tbody tr th {\n",
       "        vertical-align: top;\n",
       "    }\n",
       "\n",
       "    .dataframe thead th {\n",
       "        text-align: right;\n",
       "    }\n",
       "</style>\n",
       "<table border=\"1\" class=\"dataframe\">\n",
       "  <thead>\n",
       "    <tr style=\"text-align: right;\">\n",
       "      <th></th>\n",
       "      <th>score</th>\n",
       "      <th>group</th>\n",
       "    </tr>\n",
       "  </thead>\n",
       "  <tbody>\n",
       "    <tr>\n",
       "      <th>0</th>\n",
       "      <td>-0.175889</td>\n",
       "      <td>d</td>\n",
       "    </tr>\n",
       "    <tr>\n",
       "      <th>1</th>\n",
       "      <td>0.569074</td>\n",
       "      <td>d</td>\n",
       "    </tr>\n",
       "    <tr>\n",
       "      <th>2</th>\n",
       "      <td>0.940678</td>\n",
       "      <td>a</td>\n",
       "    </tr>\n",
       "    <tr>\n",
       "      <th>3</th>\n",
       "      <td>1.104070</td>\n",
       "      <td>d</td>\n",
       "    </tr>\n",
       "    <tr>\n",
       "      <th>4</th>\n",
       "      <td>-0.995155</td>\n",
       "      <td>b</td>\n",
       "    </tr>\n",
       "  </tbody>\n",
       "</table>\n",
       "</div>"
      ]
     },
     "metadata": {},
     "execution_count": 20
    }
   ],
   "metadata": {}
  },
  {
   "cell_type": "code",
   "execution_count": 21,
   "source": [
    "p = boxplot_figure(df, group_column='group', value_column='score')\n",
    "show(p)"
   ],
   "outputs": [
    {
     "output_type": "display_data",
     "data": {
      "text/html": [
       "\n",
       "\n",
       "\n",
       "\n",
       "\n",
       "\n",
       "  <div class=\"bk-root\" id=\"6688dade-b7f0-4087-83f1-5f94bd43a146\" data-root-id=\"1737\"></div>\n"
      ]
     },
     "metadata": {}
    },
    {
     "output_type": "display_data",
     "data": {
      "application/javascript": "(function(root) {\n  function embed_document(root) {\n    \n  var docs_json = {\"09af6477-d9e1-487c-81b2-9d7a875ab962\":{\"defs\":[],\"roots\":{\"references\":[{\"attributes\":{\"background_fill_color\":\"#efefef\",\"below\":[{\"id\":\"1746\"}],\"center\":[{\"id\":\"1748\"},{\"id\":\"1752\"}],\"left\":[{\"id\":\"1749\"}],\"renderers\":[{\"id\":\"1763\"},{\"id\":\"1768\"},{\"id\":\"1773\"},{\"id\":\"1778\"},{\"id\":\"1783\"},{\"id\":\"1788\"},{\"id\":\"1793\"}],\"title\":{\"id\":\"1872\"},\"toolbar\":{\"id\":\"1756\"},\"toolbar_location\":\"above\",\"x_range\":{\"id\":\"1738\"},\"x_scale\":{\"id\":\"1742\"},\"y_range\":{\"id\":\"1740\"},\"y_scale\":{\"id\":\"1744\"}},\"id\":\"1737\",\"subtype\":\"Figure\",\"type\":\"Plot\"},{\"attributes\":{},\"id\":\"1889\",\"type\":\"Selection\"},{\"attributes\":{\"data_source\":{\"id\":\"1780\"},\"glyph\":{\"id\":\"1781\"},\"hover_glyph\":null,\"muted_glyph\":null,\"nonselection_glyph\":{\"id\":\"1782\"},\"view\":{\"id\":\"1784\"}},\"id\":\"1783\",\"type\":\"GlyphRenderer\"},{\"attributes\":{\"axis\":{\"id\":\"1749\"},\"dimension\":1,\"grid_line_color\":\"white\",\"grid_line_width\":2,\"ticker\":null},\"id\":\"1752\",\"type\":\"Grid\"},{\"attributes\":{},\"id\":\"1884\",\"type\":\"UnionRenderers\"},{\"attributes\":{\"data\":{\"bottom\":{\"__ndarray__\":\"DqGTVk6Fn7+y2/YhPQimP/MpoU+NWu0/CbbJ1+u27T9cZhZLiyj/P9/gtZu1ggBA\",\"dtype\":\"float64\",\"order\":\"little\",\"shape\":[6]},\"top\":{\"__ndarray__\":\"AyIek71q5b+mOelR8lTkvzDB1uDvUNM/8kNWiIbp0z8wN7wKMK71P+gQN/ZuoPY/\",\"dtype\":\"float64\",\"order\":\"little\",\"shape\":[6]},\"x\":[\"a\",\"b\",\"c\",\"d\",\"e\",\"f\"]},\"selected\":{\"id\":\"1887\"},\"selection_policy\":{\"id\":\"1886\"}},\"id\":\"1775\",\"type\":\"ColumnDataSource\"},{\"attributes\":{\"source\":{\"id\":\"1775\"}},\"id\":\"1779\",\"type\":\"CDSView\"},{\"attributes\":{},\"id\":\"1877\",\"type\":\"CategoricalTickFormatter\"},{\"attributes\":{\"fill_alpha\":{\"value\":0.1},\"fill_color\":{\"value\":\"#1f77b4\"},\"height\":{\"value\":0.01},\"line_alpha\":{\"value\":0.1},\"width\":{\"value\":0.2},\"x\":{\"field\":\"x\"},\"y\":{\"field\":\"y\"}},\"id\":\"1782\",\"type\":\"Rect\"},{\"attributes\":{\"data\":{\"x0\":[\"a\",\"b\",\"c\",\"d\",\"e\",\"f\"],\"x1\":[\"a\",\"b\",\"c\",\"d\",\"e\",\"f\"],\"y0\":{\"__ndarray__\":\"lOXIQ1NwBED39LNvLocCQLVjy/97TA1A0dTuShG5C0Aaf3MYQQASQMzMt6YCbhJA\",\"dtype\":\"float64\",\"order\":\"little\",\"shape\":[6]},\"y1\":{\"__ndarray__\":\"BlKSHMA/5T8OOWbGSKbiP/If9scgVvo/dWpurI1g+j+j3JTjqOcEQIqI4HlWrgVA\",\"dtype\":\"float64\",\"order\":\"little\",\"shape\":[6]}},\"selected\":{\"id\":\"1881\"},\"selection_policy\":{\"id\":\"1880\"}},\"id\":\"1760\",\"type\":\"ColumnDataSource\"},{\"attributes\":{},\"id\":\"1875\",\"type\":\"AllLabels\"},{\"attributes\":{\"fill_alpha\":{\"value\":0.1},\"fill_color\":{\"value\":\"#1f77b4\"},\"height\":{\"value\":0.01},\"line_alpha\":{\"value\":0.1},\"width\":{\"value\":0.2},\"x\":{\"field\":\"x\"},\"y\":{\"field\":\"y\"}},\"id\":\"1787\",\"type\":\"Rect\"},{\"attributes\":{\"fill_color\":{\"value\":\"#1f77b4\"},\"height\":{\"value\":0.01},\"width\":{\"value\":0.2},\"x\":{\"field\":\"x\"},\"y\":{\"field\":\"y\"}},\"id\":\"1781\",\"type\":\"Rect\"},{\"attributes\":{},\"id\":\"1885\",\"type\":\"Selection\"},{\"attributes\":{\"data\":{\"x\":[\"a\",\"b\",\"c\",\"d\",\"e\",\"f\"],\"y\":{\"__ndarray__\":\"BLSphp5aBcBtGZi9crMDwCz3aj+bbvu/OLVvbeAe+7/iF9AfBQfhv7TeLwzc8+C/\",\"dtype\":\"float64\",\"order\":\"little\",\"shape\":[6]}},\"selected\":{\"id\":\"1889\"},\"selection_policy\":{\"id\":\"1888\"}},\"id\":\"1780\",\"type\":\"ColumnDataSource\"},{\"attributes\":{\"line_alpha\":{\"value\":0.1},\"x0\":{\"field\":\"x0\"},\"x1\":{\"field\":\"x1\"},\"y0\":{\"field\":\"y0\"},\"y1\":{\"field\":\"y1\"}},\"id\":\"1762\",\"type\":\"Segment\"},{\"attributes\":{},\"id\":\"1874\",\"type\":\"BasicTickFormatter\"},{\"attributes\":{},\"id\":\"1878\",\"type\":\"AllLabels\"},{\"attributes\":{\"data_source\":{\"id\":\"1785\"},\"glyph\":{\"id\":\"1786\"},\"hover_glyph\":null,\"muted_glyph\":null,\"nonselection_glyph\":{\"id\":\"1787\"},\"view\":{\"id\":\"1789\"}},\"id\":\"1788\",\"type\":\"GlyphRenderer\"},{\"attributes\":{\"x0\":{\"field\":\"x0\"},\"x1\":{\"field\":\"x1\"},\"y0\":{\"field\":\"y0\"},\"y1\":{\"field\":\"y1\"}},\"id\":\"1766\",\"type\":\"Segment\"},{\"attributes\":{},\"id\":\"1890\",\"type\":\"UnionRenderers\"},{\"attributes\":{\"source\":{\"id\":\"1780\"}},\"id\":\"1784\",\"type\":\"CDSView\"},{\"attributes\":{\"data\":{\"x\":[\"a\",\"b\",\"b\",\"b\",\"c\",\"c\",\"d\",\"e\",\"e\",\"e\",\"e\",\"e\",\"f\",\"f\"],\"y\":[-3.581132292179978,-3.1597749272716196,-2.7131007448346875,-2.526521861160301,4.04047924168848,-2.3441131991375554,-2.4659430107940783,-0.6850022176881887,-0.5663941939562989,-0.548515045749681,5.072441021824222,4.9424617980813395,-0.8332801301450963,-0.9689147306431938]},\"selected\":{\"id\":\"1893\"},\"selection_policy\":{\"id\":\"1892\"}},\"id\":\"1790\",\"type\":\"ColumnDataSource\"},{\"attributes\":{\"source\":{\"id\":\"1760\"}},\"id\":\"1764\",\"type\":\"CDSView\"},{\"attributes\":{\"fill_color\":{\"value\":\"#1f77b4\"},\"height\":{\"value\":0.01},\"width\":{\"value\":0.2},\"x\":{\"field\":\"x\"},\"y\":{\"field\":\"y\"}},\"id\":\"1786\",\"type\":\"Rect\"},{\"attributes\":{\"data_source\":{\"id\":\"1760\"},\"glyph\":{\"id\":\"1761\"},\"hover_glyph\":null,\"muted_glyph\":null,\"nonselection_glyph\":{\"id\":\"1762\"},\"view\":{\"id\":\"1764\"}},\"id\":\"1763\",\"type\":\"GlyphRenderer\"},{\"attributes\":{\"data\":{\"x\":[\"a\",\"b\",\"c\",\"d\",\"e\",\"f\"],\"y\":{\"__ndarray__\":\"lOXIQ1NwBED39LNvLocCQLVjy/97TA1A0dTuShG5C0Aaf3MYQQASQMzMt6YCbhJA\",\"dtype\":\"float64\",\"order\":\"little\",\"shape\":[6]}},\"selected\":{\"id\":\"1891\"},\"selection_policy\":{\"id\":\"1890\"}},\"id\":\"1785\",\"type\":\"ColumnDataSource\"},{\"attributes\":{\"axis_label\":null,\"formatter\":{\"id\":\"1877\"},\"major_label_policy\":{\"id\":\"1878\"},\"major_label_text_font_size\":\"16px\",\"ticker\":{\"id\":\"1747\"}},\"id\":\"1746\",\"type\":\"CategoricalAxis\"},{\"attributes\":{\"fill_alpha\":{\"value\":0.6},\"fill_color\":{\"value\":\"#F38630\"},\"line_color\":{\"value\":\"#F38630\"},\"size\":{\"value\":6},\"x\":{\"field\":\"x\"},\"y\":{\"field\":\"y\"}},\"id\":\"1791\",\"type\":\"Circle\"},{\"attributes\":{},\"id\":\"1750\",\"type\":\"BasicTicker\"},{\"attributes\":{},\"id\":\"1755\",\"type\":\"PanTool\"},{\"attributes\":{\"axis\":{\"id\":\"1746\"},\"grid_line_color\":null,\"grid_line_width\":2,\"ticker\":null},\"id\":\"1748\",\"type\":\"Grid\"},{\"attributes\":{\"source\":{\"id\":\"1785\"}},\"id\":\"1789\",\"type\":\"CDSView\"},{\"attributes\":{},\"id\":\"1891\",\"type\":\"Selection\"},{\"attributes\":{\"fill_alpha\":{\"value\":0.1},\"fill_color\":{\"value\":\"#F38630\"},\"line_alpha\":{\"value\":0.1},\"line_color\":{\"value\":\"#F38630\"},\"size\":{\"value\":6},\"x\":{\"field\":\"x\"},\"y\":{\"field\":\"y\"}},\"id\":\"1792\",\"type\":\"Circle\"},{\"attributes\":{},\"id\":\"1880\",\"type\":\"UnionRenderers\"},{\"attributes\":{},\"id\":\"1747\",\"type\":\"CategoricalTicker\"},{\"attributes\":{},\"id\":\"1886\",\"type\":\"UnionRenderers\"},{\"attributes\":{\"data\":{\"x0\":[\"a\",\"b\",\"c\",\"d\",\"e\",\"f\"],\"x1\":[\"a\",\"b\",\"c\",\"d\",\"e\",\"f\"],\"y0\":{\"__ndarray__\":\"BLSphp5aBcBtGZi9crMDwCz3aj+bbvu/OLVvbeAe+7/iF9AfBQfhv7TeLwzc8+C/\",\"dtype\":\"float64\",\"order\":\"little\",\"shape\":[6]},\"y1\":{\"__ndarray__\":\"AyIek71q5b+mOelR8lTkvzDB1uDvUNM/8kNWiIbp0z8wN7wKMK71P+gQN/ZuoPY/\",\"dtype\":\"float64\",\"order\":\"little\",\"shape\":[6]}},\"selected\":{\"id\":\"1883\"},\"selection_policy\":{\"id\":\"1882\"}},\"id\":\"1765\",\"type\":\"ColumnDataSource\"},{\"attributes\":{\"data_source\":{\"id\":\"1790\"},\"glyph\":{\"id\":\"1791\"},\"hover_glyph\":null,\"muted_glyph\":null,\"nonselection_glyph\":{\"id\":\"1792\"},\"view\":{\"id\":\"1794\"}},\"id\":\"1793\",\"type\":\"GlyphRenderer\"},{\"attributes\":{},\"id\":\"1740\",\"type\":\"DataRange1d\"},{\"attributes\":{\"active_multi\":null,\"tools\":[{\"id\":\"1753\"},{\"id\":\"1754\"},{\"id\":\"1755\"}]},\"id\":\"1756\",\"type\":\"Toolbar\"},{\"attributes\":{\"line_alpha\":{\"value\":0.1},\"x0\":{\"field\":\"x0\"},\"x1\":{\"field\":\"x1\"},\"y0\":{\"field\":\"y0\"},\"y1\":{\"field\":\"y1\"}},\"id\":\"1767\",\"type\":\"Segment\"},{\"attributes\":{\"axis_label\":null,\"formatter\":{\"id\":\"1874\"},\"major_label_policy\":{\"id\":\"1875\"},\"ticker\":{\"id\":\"1750\"}},\"id\":\"1749\",\"type\":\"LinearAxis\"},{\"attributes\":{\"source\":{\"id\":\"1790\"}},\"id\":\"1794\",\"type\":\"CDSView\"},{\"attributes\":{},\"id\":\"1887\",\"type\":\"Selection\"},{\"attributes\":{\"bottom\":{\"field\":\"bottom\"},\"fill_alpha\":{\"value\":0.1},\"fill_color\":{\"value\":\"#3B8686\"},\"line_alpha\":{\"value\":0.1},\"top\":{\"field\":\"top\"},\"width\":{\"value\":0.7},\"x\":{\"field\":\"x\"}},\"id\":\"1777\",\"type\":\"VBar\"},{\"attributes\":{},\"id\":\"1892\",\"type\":\"UnionRenderers\"},{\"attributes\":{},\"id\":\"1872\",\"type\":\"Title\"},{\"attributes\":{\"data_source\":{\"id\":\"1765\"},\"glyph\":{\"id\":\"1766\"},\"hover_glyph\":null,\"muted_glyph\":null,\"nonselection_glyph\":{\"id\":\"1767\"},\"view\":{\"id\":\"1769\"}},\"id\":\"1768\",\"type\":\"GlyphRenderer\"},{\"attributes\":{\"source\":{\"id\":\"1765\"}},\"id\":\"1769\",\"type\":\"CDSView\"},{\"attributes\":{\"factors\":[\"a\",\"b\",\"c\",\"d\",\"e\",\"f\"]},\"id\":\"1738\",\"type\":\"FactorRange\"},{\"attributes\":{},\"id\":\"1882\",\"type\":\"UnionRenderers\"},{\"attributes\":{\"bottom\":{\"field\":\"bottom\"},\"fill_color\":{\"value\":\"#E08E79\"},\"top\":{\"field\":\"top\"},\"width\":{\"value\":0.7},\"x\":{\"field\":\"x\"}},\"id\":\"1771\",\"type\":\"VBar\"},{\"attributes\":{},\"id\":\"1753\",\"type\":\"SaveTool\"},{\"attributes\":{},\"id\":\"1881\",\"type\":\"Selection\"},{\"attributes\":{},\"id\":\"1893\",\"type\":\"Selection\"},{\"attributes\":{\"data\":{\"bottom\":{\"__ndarray__\":\"BlKSHMA/5T8OOWbGSKbiP/If9scgVvo/dWpurI1g+j+j3JTjqOcEQIqI4HlWrgVA\",\"dtype\":\"float64\",\"order\":\"little\",\"shape\":[6]},\"top\":{\"__ndarray__\":\"DqGTVk6Fn7+y2/YhPQimP/MpoU+NWu0/CbbJ1+u27T9cZhZLiyj/P9/gtZu1ggBA\",\"dtype\":\"float64\",\"order\":\"little\",\"shape\":[6]},\"x\":[\"a\",\"b\",\"c\",\"d\",\"e\",\"f\"]},\"selected\":{\"id\":\"1885\"},\"selection_policy\":{\"id\":\"1884\"}},\"id\":\"1770\",\"type\":\"ColumnDataSource\"},{\"attributes\":{},\"id\":\"1883\",\"type\":\"Selection\"},{\"attributes\":{\"bottom\":{\"field\":\"bottom\"},\"fill_alpha\":{\"value\":0.1},\"fill_color\":{\"value\":\"#E08E79\"},\"line_alpha\":{\"value\":0.1},\"top\":{\"field\":\"top\"},\"width\":{\"value\":0.7},\"x\":{\"field\":\"x\"}},\"id\":\"1772\",\"type\":\"VBar\"},{\"attributes\":{},\"id\":\"1742\",\"type\":\"CategoricalScale\"},{\"attributes\":{},\"id\":\"1888\",\"type\":\"UnionRenderers\"},{\"attributes\":{\"data_source\":{\"id\":\"1770\"},\"glyph\":{\"id\":\"1771\"},\"hover_glyph\":null,\"muted_glyph\":null,\"nonselection_glyph\":{\"id\":\"1772\"},\"view\":{\"id\":\"1774\"}},\"id\":\"1773\",\"type\":\"GlyphRenderer\"},{\"attributes\":{\"bottom\":{\"field\":\"bottom\"},\"fill_color\":{\"value\":\"#3B8686\"},\"top\":{\"field\":\"top\"},\"width\":{\"value\":0.7},\"x\":{\"field\":\"x\"}},\"id\":\"1776\",\"type\":\"VBar\"},{\"attributes\":{\"data_source\":{\"id\":\"1775\"},\"glyph\":{\"id\":\"1776\"},\"hover_glyph\":null,\"muted_glyph\":null,\"nonselection_glyph\":{\"id\":\"1777\"},\"view\":{\"id\":\"1779\"}},\"id\":\"1778\",\"type\":\"GlyphRenderer\"},{\"attributes\":{},\"id\":\"1754\",\"type\":\"ResetTool\"},{\"attributes\":{\"x0\":{\"field\":\"x0\"},\"x1\":{\"field\":\"x1\"},\"y0\":{\"field\":\"y0\"},\"y1\":{\"field\":\"y1\"}},\"id\":\"1761\",\"type\":\"Segment\"},{\"attributes\":{},\"id\":\"1744\",\"type\":\"LinearScale\"},{\"attributes\":{\"source\":{\"id\":\"1770\"}},\"id\":\"1774\",\"type\":\"CDSView\"}],\"root_ids\":[\"1737\"]},\"title\":\"Bokeh Application\",\"version\":\"2.3.3\"}};\n  var render_items = [{\"docid\":\"09af6477-d9e1-487c-81b2-9d7a875ab962\",\"root_ids\":[\"1737\"],\"roots\":{\"1737\":\"6688dade-b7f0-4087-83f1-5f94bd43a146\"}}];\n  root.Bokeh.embed.embed_items_notebook(docs_json, render_items);\n\n  }\n  if (root.Bokeh !== undefined) {\n    embed_document(root);\n  } else {\n    var attempts = 0;\n    var timer = setInterval(function(root) {\n      if (root.Bokeh !== undefined) {\n        clearInterval(timer);\n        embed_document(root);\n      } else {\n        attempts++;\n        if (attempts > 100) {\n          clearInterval(timer);\n          console.log(\"Bokeh: ERROR: Unable to run BokehJS code because BokehJS library is missing\");\n        }\n      }\n    }, 10, root)\n  }\n})(window);",
      "application/vnd.bokehjs_exec.v0+json": ""
     },
     "metadata": {
      "application/vnd.bokehjs_exec.v0+json": {
       "id": "1737"
      }
     }
    }
   ],
   "metadata": {}
  },
  {
   "cell_type": "code",
   "execution_count": 22,
   "source": [
    "#export\n",
    "def histogram_figure(\n",
    "       hist, edges, title='histogram', x_axis_label='x', y_axis_label='y',\n",
    "       fill_color='navy', toolbar_location=BOKEH_DEFAULT_TOOLBAR_LOC,\n",
    "       tools=BOKEH_DEFAULT_TOOLS, **kwargs):\n",
    "    p = figure(title=title, tools=tools, background_fill_color=\"#fafafa\", toolbar_location=toolbar_location, **kwargs)\n",
    "    p.quad(top=hist, bottom=0, left=edges[:-1], right=edges[1:],\n",
    "           fill_color=fill_color, line_color=\"white\", alpha=0.5)\n",
    "    p.y_range.start = 0\n",
    "    p.xaxis.axis_label = x_axis_label\n",
    "    p.yaxis.axis_label = y_axis_label\n",
    "    p.grid.grid_line_color=\"white\"\n",
    "    return p"
   ],
   "outputs": [],
   "metadata": {}
  },
  {
   "cell_type": "code",
   "execution_count": 23,
   "source": [
    "# Normal Distribution\n",
    "\n",
    "mu, sigma = 0, 0.5\n",
    "\n",
    "measured = np.random.normal(mu, sigma, 1000)\n",
    "hist, edges = np.histogram(measured, density=True, bins=50)"
   ],
   "outputs": [],
   "metadata": {}
  },
  {
   "cell_type": "code",
   "execution_count": 24,
   "source": [
    "p = histogram_figure(hist, edges)\n",
    "show(p)"
   ],
   "outputs": [
    {
     "output_type": "display_data",
     "data": {
      "text/html": [
       "\n",
       "\n",
       "\n",
       "\n",
       "\n",
       "\n",
       "  <div class=\"bk-root\" id=\"dfc62dd6-e84e-4d00-ab2a-3151a9c9c8c9\" data-root-id=\"2004\"></div>\n"
      ]
     },
     "metadata": {}
    },
    {
     "output_type": "display_data",
     "data": {
      "application/javascript": "(function(root) {\n  function embed_document(root) {\n    \n  var docs_json = {\"eb2a94a8-ff9d-4d6c-87c9-111f77727a03\":{\"defs\":[],\"roots\":{\"references\":[{\"attributes\":{\"background_fill_color\":\"#fafafa\",\"below\":[{\"id\":\"2015\"}],\"center\":[{\"id\":\"2018\"},{\"id\":\"2022\"}],\"left\":[{\"id\":\"2019\"}],\"renderers\":[{\"id\":\"2033\"}],\"title\":{\"id\":\"2005\"},\"toolbar\":{\"id\":\"2026\"},\"toolbar_location\":\"above\",\"x_range\":{\"id\":\"2007\"},\"x_scale\":{\"id\":\"2011\"},\"y_range\":{\"id\":\"2009\"},\"y_scale\":{\"id\":\"2013\"}},\"id\":\"2004\",\"subtype\":\"Figure\",\"type\":\"Plot\"},{\"attributes\":{},\"id\":\"2024\",\"type\":\"ResetTool\"},{\"attributes\":{},\"id\":\"2011\",\"type\":\"LinearScale\"},{\"attributes\":{},\"id\":\"2136\",\"type\":\"AllLabels\"},{\"attributes\":{},\"id\":\"2135\",\"type\":\"BasicTickFormatter\"},{\"attributes\":{},\"id\":\"2142\",\"type\":\"Selection\"},{\"attributes\":{\"source\":{\"id\":\"2030\"}},\"id\":\"2034\",\"type\":\"CDSView\"},{\"attributes\":{},\"id\":\"2007\",\"type\":\"DataRange1d\"},{\"attributes\":{\"axis_label\":\"x\",\"formatter\":{\"id\":\"2138\"},\"major_label_policy\":{\"id\":\"2139\"},\"ticker\":{\"id\":\"2016\"}},\"id\":\"2015\",\"type\":\"LinearAxis\"},{\"attributes\":{\"bottom\":{\"value\":0},\"fill_alpha\":{\"value\":0.1},\"fill_color\":{\"value\":\"navy\"},\"left\":{\"field\":\"left\"},\"line_alpha\":{\"value\":0.1},\"line_color\":{\"value\":\"white\"},\"right\":{\"field\":\"right\"},\"top\":{\"field\":\"top\"}},\"id\":\"2032\",\"type\":\"Quad\"},{\"attributes\":{\"data_source\":{\"id\":\"2030\"},\"glyph\":{\"id\":\"2031\"},\"hover_glyph\":null,\"muted_glyph\":null,\"nonselection_glyph\":{\"id\":\"2032\"},\"view\":{\"id\":\"2034\"}},\"id\":\"2033\",\"type\":\"GlyphRenderer\"},{\"attributes\":{\"active_multi\":null,\"tools\":[{\"id\":\"2023\"},{\"id\":\"2024\"},{\"id\":\"2025\"}]},\"id\":\"2026\",\"type\":\"Toolbar\"},{\"attributes\":{\"bottom\":{\"value\":0},\"fill_alpha\":{\"value\":0.5},\"fill_color\":{\"value\":\"navy\"},\"left\":{\"field\":\"left\"},\"line_alpha\":{\"value\":0.5},\"line_color\":{\"value\":\"white\"},\"right\":{\"field\":\"right\"},\"top\":{\"field\":\"top\"}},\"id\":\"2031\",\"type\":\"Quad\"},{\"attributes\":{\"start\":0},\"id\":\"2009\",\"type\":\"DataRange1d\"},{\"attributes\":{},\"id\":\"2138\",\"type\":\"BasicTickFormatter\"},{\"attributes\":{},\"id\":\"2139\",\"type\":\"AllLabels\"},{\"attributes\":{\"data\":{\"left\":{\"__ndarray__\":\"X7Fc05so9r/2JegcmB31v42ac2aUEvS/JA//r5AH87+7g4r5jPzxv1L4FUOJ8fC/09lCGQvN778Bw1msA7ftvy+scD/8oOu/XZWH0vSK6b+Lfp5l7XTnv7lntfjlXuW/6FDMi95I478WOuMe1zLhv4hG9GOfOd6/5BgiipAN2r9A60+wgeHVv5y9fdZytdG/8B9X+ccSy7+oxLJFqrrCv8DSHCQZxbS/wHBQ83ZTkL/ANOlUuzapP/BQvRGZS70/uAODPOr9xj8AXyfwB1bPPyTd5dES19M/yAq4qyED2D9sOIqFMC/cPwgzrq+fLeA/2kmXHKdD4j+uYICJrlnkP353afa1b+Y/To5SY72F6D8ipTvQxJvqP/K7JD3Msew/xtINqtPH7j/LdHuL7W7wPzUA8EHxefE/nYtk+PSE8j8HF9mu+I/zP2+iTWX8mvQ/2S3CGwCm9T9BuTbSA7H2P6tEq4gHvPc/E9AfPwvH+D99W5T1DtL5P+XmCKwS3fo/TXJ9Yhbo+z+3/fEYGvP8Pw==\",\"dtype\":\"float64\",\"order\":\"little\",\"shape\":[50]},\"right\":{\"__ndarray__\":\"9iXoHJgd9b+NmnNmlBL0vyQP/6+QB/O/u4OK+Yz88b9S+BVDifHwv9PZQhkLze+/AcNZrAO37b8vrHA//KDrv12Vh9L0ium/i36eZe1057+5Z7X45V7lv+hQzIveSOO/FjrjHtcy4b+IRvRjnznev+QYIoqQDdq/QOtPsIHh1b+cvX3WcrXRv/AfV/nHEsu/qMSyRaq6wr/A0hwkGcW0v8BwUPN2U5C/wDTpVLs2qT/wUL0RmUu9P7gDgzzq/cY/AF8n8AdWzz8k3eXREtfTP8gKuKshA9g/bDiKhTAv3D8IM66vny3gP9pJlxynQ+I/rmCAia5Z5D9+d2n2tW/mP06OUmO9heg/IqU70MSb6j/yuyQ9zLHsP8bSDarTx+4/y3R7i+1u8D81APBB8XnxP52LZPj0hPI/BxfZrviP8z9vok1l/Jr0P9ktwhsApvU/Qbk20gOx9j+rRKuIB7z3PxPQHz8Lx/g/fVuU9Q7S+T/l5gisEt36P01yfWIW6Ps/t/3xGBrz/D8giWbPHf79Pw==\",\"dtype\":\"float64\",\"order\":\"little\",\"shape\":[50]},\"top\":{\"__ndarray__\":\"KapZtJJqrz8AAAAAAAAAAJ8/Qwfuj6c/Wgq4sJuisz8pqlm0kmqvPziqWbSSaq8//KT920SZxT+fP0MH7o/HP1oKuLCbosM/5HTOXUB9yz9C2ogyl4bJP/wM5pxCi9g/NUJx85R43D8pqlm0kmrfPzVCcfOUeNw/DgmhOkgu4T9UPiyRmhvlP0imFFKYDeg/NUJx85R47D+fP0MH7o/nP/EM5pxCi+g/mXO35+wI6T/kdM5dQH3rP7oLzybvFuY/saPmZfEk4z9UPiyRmhvlP5lzt+fsCOk//KT920SZ5T8OCaE6SC7hP9jcth4+b94/56T920SZ1T9tCriwm6LTP7U/Qwfuj8c/9zwVG0en0j+jDxSJ6XPNPwuqWbSSar8//nTOXUB9uz+IP0MH7o+3P8hvcoXyq8E/C6pZtJJqrz9Iqlm0kmqfPwuqWbSSap8/AAAAAAAAAAAAAAAAAAAAAAAAAAAAAAAAAAAAAAAAAAAAAAAAAAAAAAAAAAAAAAAAAAAAAAAAAAApqlm0kmqPPw==\",\"dtype\":\"float64\",\"order\":\"little\",\"shape\":[50]}},\"selected\":{\"id\":\"2142\"},\"selection_policy\":{\"id\":\"2141\"}},\"id\":\"2030\",\"type\":\"ColumnDataSource\"},{\"attributes\":{\"text\":\"histogram\"},\"id\":\"2005\",\"type\":\"Title\"},{\"attributes\":{},\"id\":\"2141\",\"type\":\"UnionRenderers\"},{\"attributes\":{},\"id\":\"2016\",\"type\":\"BasicTicker\"},{\"attributes\":{\"axis_label\":\"y\",\"formatter\":{\"id\":\"2135\"},\"major_label_policy\":{\"id\":\"2136\"},\"ticker\":{\"id\":\"2020\"}},\"id\":\"2019\",\"type\":\"LinearAxis\"},{\"attributes\":{},\"id\":\"2025\",\"type\":\"PanTool\"},{\"attributes\":{\"axis\":{\"id\":\"2019\"},\"dimension\":1,\"grid_line_color\":\"white\",\"ticker\":null},\"id\":\"2022\",\"type\":\"Grid\"},{\"attributes\":{},\"id\":\"2023\",\"type\":\"SaveTool\"},{\"attributes\":{\"axis\":{\"id\":\"2015\"},\"grid_line_color\":\"white\",\"ticker\":null},\"id\":\"2018\",\"type\":\"Grid\"},{\"attributes\":{},\"id\":\"2013\",\"type\":\"LinearScale\"},{\"attributes\":{},\"id\":\"2020\",\"type\":\"BasicTicker\"}],\"root_ids\":[\"2004\"]},\"title\":\"Bokeh Application\",\"version\":\"2.3.3\"}};\n  var render_items = [{\"docid\":\"eb2a94a8-ff9d-4d6c-87c9-111f77727a03\",\"root_ids\":[\"2004\"],\"roots\":{\"2004\":\"dfc62dd6-e84e-4d00-ab2a-3151a9c9c8c9\"}}];\n  root.Bokeh.embed.embed_items_notebook(docs_json, render_items);\n\n  }\n  if (root.Bokeh !== undefined) {\n    embed_document(root);\n  } else {\n    var attempts = 0;\n    var timer = setInterval(function(root) {\n      if (root.Bokeh !== undefined) {\n        clearInterval(timer);\n        embed_document(root);\n      } else {\n        attempts++;\n        if (attempts > 100) {\n          clearInterval(timer);\n          console.log(\"Bokeh: ERROR: Unable to run BokehJS code because BokehJS library is missing\");\n        }\n      }\n    }, 10, root)\n  }\n})(window);",
      "application/vnd.bokehjs_exec.v0+json": ""
     },
     "metadata": {
      "application/vnd.bokehjs_exec.v0+json": {
       "id": "2004"
      }
     }
    }
   ],
   "metadata": {}
  },
  {
   "cell_type": "code",
   "execution_count": 25,
   "source": [
    "#export\n",
    "def scatter_figure(\n",
    "        x, y, x_axis_label='x', y_axis_label='y', title='scatter',\n",
    "        toolbar_location=BOKEH_DEFAULT_TOOLBAR_LOC, tools=BOKEH_DEFAULT_TOOLS, **kwargs\n",
    "    ):\n",
    "    assert len(x) == len(y)\n",
    "    p = figure(title=title, tools=tools, toolbar_location=toolbar_location, **kwargs)\n",
    "    p.xaxis.axis_label = x_axis_label\n",
    "    p.yaxis.axis_label = y_axis_label\n",
    "\n",
    "    p.circle(x, y, fill_alpha=0.2, size=10)\n",
    "    return p"
   ],
   "outputs": [],
   "metadata": {}
  },
  {
   "cell_type": "code",
   "execution_count": 26,
   "source": [
    "from bokeh.sampledata.iris import flowers\n",
    "p = scatter_figure(flowers[\"petal_length\"], flowers[\"petal_width\"])\n",
    "show(p)"
   ],
   "outputs": [
    {
     "output_type": "display_data",
     "data": {
      "text/html": [
       "\n",
       "\n",
       "\n",
       "\n",
       "\n",
       "\n",
       "  <div class=\"bk-root\" id=\"837cd5ad-ed1a-48e2-91e4-496285a407d0\" data-root-id=\"2188\"></div>\n"
      ]
     },
     "metadata": {}
    },
    {
     "output_type": "display_data",
     "data": {
      "application/javascript": "(function(root) {\n  function embed_document(root) {\n    \n  var docs_json = {\"da53ec66-5bff-4a02-aac6-14e31e85c8fd\":{\"defs\":[],\"roots\":{\"references\":[{\"attributes\":{\"below\":[{\"id\":\"2199\"}],\"center\":[{\"id\":\"2202\"},{\"id\":\"2206\"}],\"left\":[{\"id\":\"2203\"}],\"renderers\":[{\"id\":\"2217\"}],\"title\":{\"id\":\"2189\"},\"toolbar\":{\"id\":\"2210\"},\"toolbar_location\":\"above\",\"x_range\":{\"id\":\"2191\"},\"x_scale\":{\"id\":\"2195\"},\"y_range\":{\"id\":\"2193\"},\"y_scale\":{\"id\":\"2197\"}},\"id\":\"2188\",\"subtype\":\"Figure\",\"type\":\"Plot\"},{\"attributes\":{},\"id\":\"2334\",\"type\":\"UnionRenderers\"},{\"attributes\":{},\"id\":\"2195\",\"type\":\"LinearScale\"},{\"attributes\":{},\"id\":\"2335\",\"type\":\"Selection\"},{\"attributes\":{},\"id\":\"2193\",\"type\":\"DataRange1d\"},{\"attributes\":{},\"id\":\"2197\",\"type\":\"LinearScale\"},{\"attributes\":{},\"id\":\"2191\",\"type\":\"DataRange1d\"},{\"attributes\":{\"active_multi\":null,\"tools\":[{\"id\":\"2207\"},{\"id\":\"2208\"},{\"id\":\"2209\"}]},\"id\":\"2210\",\"type\":\"Toolbar\"},{\"attributes\":{\"fill_alpha\":{\"value\":0.1},\"fill_color\":{\"value\":\"#1f77b4\"},\"line_alpha\":{\"value\":0.1},\"line_color\":{\"value\":\"#1f77b4\"},\"size\":{\"value\":10},\"x\":{\"field\":\"x\"},\"y\":{\"field\":\"y\"}},\"id\":\"2216\",\"type\":\"Circle\"},{\"attributes\":{\"data\":{\"x\":{\"__ndarray__\":\"ZmZmZmZm9j9mZmZmZmb2P83MzMzMzPQ/AAAAAAAA+D9mZmZmZmb2PzMzMzMzM/s/ZmZmZmZm9j8AAAAAAAD4P2ZmZmZmZvY/AAAAAAAA+D8AAAAAAAD4P5qZmZmZmfk/ZmZmZmZm9j+amZmZmZnxPzMzMzMzM/M/AAAAAAAA+D/NzMzMzMz0P2ZmZmZmZvY/MzMzMzMz+z8AAAAAAAD4PzMzMzMzM/s/AAAAAAAA+D8AAAAAAADwPzMzMzMzM/s/ZmZmZmZm/j+amZmZmZn5P5qZmZmZmfk/AAAAAAAA+D9mZmZmZmb2P5qZmZmZmfk/mpmZmZmZ+T8AAAAAAAD4PwAAAAAAAPg/ZmZmZmZm9j8AAAAAAAD4PzMzMzMzM/M/zczMzMzM9D9mZmZmZmb2P83MzMzMzPQ/AAAAAAAA+D/NzMzMzMz0P83MzMzMzPQ/zczMzMzM9D+amZmZmZn5P2ZmZmZmZv4/ZmZmZmZm9j+amZmZmZn5P2ZmZmZmZvY/AAAAAAAA+D9mZmZmZmb2P83MzMzMzBJAAAAAAAAAEkCamZmZmZkTQAAAAAAAABBAZmZmZmZmEkAAAAAAAAASQM3MzMzMzBJAZmZmZmZmCkBmZmZmZmYSQDMzMzMzMw9AAAAAAAAADEDNzMzMzMwQQAAAAAAAABBAzczMzMzMEkDNzMzMzMwMQJqZmZmZmRFAAAAAAAAAEkBmZmZmZmYQQAAAAAAAABJAMzMzMzMzD0AzMzMzMzMTQAAAAAAAABBAmpmZmZmZE0DNzMzMzMwSQDMzMzMzMxFAmpmZmZmZEUAzMzMzMzMTQAAAAAAAABRAAAAAAAAAEkAAAAAAAAAMQGZmZmZmZg5AmpmZmZmZDUAzMzMzMzMPQGZmZmZmZhRAAAAAAAAAEkAAAAAAAAASQM3MzMzMzBJAmpmZmZmZEUBmZmZmZmYQQAAAAAAAABBAmpmZmZmZEUBmZmZmZmYSQAAAAAAAABBAZmZmZmZmCkDNzMzMzMwQQM3MzMzMzBBAzczMzMzMEEAzMzMzMzMRQAAAAAAAAAhAZmZmZmZmEEAAAAAAAAAYQGZmZmZmZhRAmpmZmZmZF0BmZmZmZmYWQDMzMzMzMxdAZmZmZmZmGkAAAAAAAAASQDMzMzMzMxlAMzMzMzMzF0BmZmZmZmYYQGZmZmZmZhRAMzMzMzMzFUAAAAAAAAAWQAAAAAAAABRAZmZmZmZmFEAzMzMzMzMVQAAAAAAAABZAzczMzMzMGkCamZmZmZkbQAAAAAAAABRAzczMzMzMFkCamZmZmZkTQM3MzMzMzBpAmpmZmZmZE0DNzMzMzMwWQAAAAAAAABhAMzMzMzMzE0CamZmZmZkTQGZmZmZmZhZAMzMzMzMzF0BmZmZmZmYYQJqZmZmZmRlAZmZmZmZmFkBmZmZmZmYUQGZmZmZmZhZAZmZmZmZmGEBmZmZmZmYWQAAAAAAAABZAMzMzMzMzE0CamZmZmZkVQGZmZmZmZhZAZmZmZmZmFEBmZmZmZmYUQJqZmZmZmRdAzczMzMzMFkDNzMzMzMwUQAAAAAAAABRAzczMzMzMFECamZmZmZkVQGZmZmZmZhRA\",\"dtype\":\"float64\",\"order\":\"little\",\"shape\":[150]},\"y\":{\"__ndarray__\":\"mpmZmZmZyT+amZmZmZnJP5qZmZmZmck/mpmZmZmZyT+amZmZmZnJP5qZmZmZmdk/MzMzMzMz0z+amZmZmZnJP5qZmZmZmck/mpmZmZmZuT+amZmZmZnJP5qZmZmZmck/mpmZmZmZuT+amZmZmZm5P5qZmZmZmck/mpmZmZmZ2T+amZmZmZnZPzMzMzMzM9M/MzMzMzMz0z8zMzMzMzPTP5qZmZmZmck/mpmZmZmZ2T+amZmZmZnJPwAAAAAAAOA/mpmZmZmZyT+amZmZmZnJP5qZmZmZmdk/mpmZmZmZyT+amZmZmZnJP5qZmZmZmck/mpmZmZmZyT+amZmZmZnZP5qZmZmZmbk/mpmZmZmZyT+amZmZmZnJP5qZmZmZmck/mpmZmZmZyT+amZmZmZm5P5qZmZmZmck/mpmZmZmZyT8zMzMzMzPTPzMzMzMzM9M/mpmZmZmZyT8zMzMzMzPjP5qZmZmZmdk/MzMzMzMz0z+amZmZmZnJP5qZmZmZmck/mpmZmZmZyT+amZmZmZnJP2ZmZmZmZvY/AAAAAAAA+D8AAAAAAAD4P83MzMzMzPQ/AAAAAAAA+D/NzMzMzMz0P5qZmZmZmfk/AAAAAAAA8D/NzMzMzMz0P2ZmZmZmZvY/AAAAAAAA8D8AAAAAAAD4PwAAAAAAAPA/ZmZmZmZm9j/NzMzMzMz0P2ZmZmZmZvY/AAAAAAAA+D8AAAAAAADwPwAAAAAAAPg/mpmZmZmZ8T/NzMzMzMz8P83MzMzMzPQ/AAAAAAAA+D8zMzMzMzPzP83MzMzMzPQ/ZmZmZmZm9j9mZmZmZmb2PzMzMzMzM/s/AAAAAAAA+D8AAAAAAADwP5qZmZmZmfE/AAAAAAAA8D8zMzMzMzPzP5qZmZmZmfk/AAAAAAAA+D+amZmZmZn5PwAAAAAAAPg/zczMzMzM9D/NzMzMzMz0P83MzMzMzPQ/MzMzMzMz8z9mZmZmZmb2PzMzMzMzM/M/AAAAAAAA8D/NzMzMzMz0PzMzMzMzM/M/zczMzMzM9D/NzMzMzMz0P5qZmZmZmfE/zczMzMzM9D8AAAAAAAAEQGZmZmZmZv4/zczMzMzMAEDNzMzMzMz8P5qZmZmZmQFAzczMzMzMAEAzMzMzMzP7P83MzMzMzPw/zczMzMzM/D8AAAAAAAAEQAAAAAAAAABAZmZmZmZm/j/NzMzMzMwAQAAAAAAAAABAMzMzMzMzA0BmZmZmZmYCQM3MzMzMzPw/mpmZmZmZAUBmZmZmZmYCQAAAAAAAAPg/ZmZmZmZmAkAAAAAAAAAAQAAAAAAAAABAzczMzMzM/D/NzMzMzMwAQM3MzMzMzPw/zczMzMzM/D/NzMzMzMz8P83MzMzMzABAmpmZmZmZ+T9mZmZmZmb+PwAAAAAAAABAmpmZmZmZAUAAAAAAAAD4P2ZmZmZmZvY/ZmZmZmZmAkAzMzMzMzMDQM3MzMzMzPw/zczMzMzM/D/NzMzMzMwAQDMzMzMzMwNAZmZmZmZmAkBmZmZmZmb+P2ZmZmZmZgJAAAAAAAAABEBmZmZmZmYCQGZmZmZmZv4/AAAAAAAAAEBmZmZmZmYCQM3MzMzMzPw/\",\"dtype\":\"float64\",\"order\":\"little\",\"shape\":[150]}},\"selected\":{\"id\":\"2335\"},\"selection_policy\":{\"id\":\"2334\"}},\"id\":\"2214\",\"type\":\"ColumnDataSource\"},{\"attributes\":{},\"id\":\"2200\",\"type\":\"BasicTicker\"},{\"attributes\":{\"text\":\"scatter\"},\"id\":\"2189\",\"type\":\"Title\"},{\"attributes\":{\"axis\":{\"id\":\"2199\"},\"ticker\":null},\"id\":\"2202\",\"type\":\"Grid\"},{\"attributes\":{\"fill_alpha\":{\"value\":0.2},\"fill_color\":{\"value\":\"#1f77b4\"},\"line_color\":{\"value\":\"#1f77b4\"},\"size\":{\"value\":10},\"x\":{\"field\":\"x\"},\"y\":{\"field\":\"y\"}},\"id\":\"2215\",\"type\":\"Circle\"},{\"attributes\":{},\"id\":\"2209\",\"type\":\"PanTool\"},{\"attributes\":{},\"id\":\"2208\",\"type\":\"ResetTool\"},{\"attributes\":{},\"id\":\"2332\",\"type\":\"AllLabels\"},{\"attributes\":{},\"id\":\"2331\",\"type\":\"BasicTickFormatter\"},{\"attributes\":{\"data_source\":{\"id\":\"2214\"},\"glyph\":{\"id\":\"2215\"},\"hover_glyph\":null,\"muted_glyph\":null,\"nonselection_glyph\":{\"id\":\"2216\"},\"view\":{\"id\":\"2218\"}},\"id\":\"2217\",\"type\":\"GlyphRenderer\"},{\"attributes\":{},\"id\":\"2207\",\"type\":\"SaveTool\"},{\"attributes\":{},\"id\":\"2204\",\"type\":\"BasicTicker\"},{\"attributes\":{},\"id\":\"2328\",\"type\":\"BasicTickFormatter\"},{\"attributes\":{\"axis_label\":\"y\",\"formatter\":{\"id\":\"2328\"},\"major_label_policy\":{\"id\":\"2329\"},\"ticker\":{\"id\":\"2204\"}},\"id\":\"2203\",\"type\":\"LinearAxis\"},{\"attributes\":{\"axis\":{\"id\":\"2203\"},\"dimension\":1,\"ticker\":null},\"id\":\"2206\",\"type\":\"Grid\"},{\"attributes\":{},\"id\":\"2329\",\"type\":\"AllLabels\"},{\"attributes\":{\"axis_label\":\"x\",\"formatter\":{\"id\":\"2331\"},\"major_label_policy\":{\"id\":\"2332\"},\"ticker\":{\"id\":\"2200\"}},\"id\":\"2199\",\"type\":\"LinearAxis\"},{\"attributes\":{\"source\":{\"id\":\"2214\"}},\"id\":\"2218\",\"type\":\"CDSView\"}],\"root_ids\":[\"2188\"]},\"title\":\"Bokeh Application\",\"version\":\"2.3.3\"}};\n  var render_items = [{\"docid\":\"da53ec66-5bff-4a02-aac6-14e31e85c8fd\",\"root_ids\":[\"2188\"],\"roots\":{\"2188\":\"837cd5ad-ed1a-48e2-91e4-496285a407d0\"}}];\n  root.Bokeh.embed.embed_items_notebook(docs_json, render_items);\n\n  }\n  if (root.Bokeh !== undefined) {\n    embed_document(root);\n  } else {\n    var attempts = 0;\n    var timer = setInterval(function(root) {\n      if (root.Bokeh !== undefined) {\n        clearInterval(timer);\n        embed_document(root);\n      } else {\n        attempts++;\n        if (attempts > 100) {\n          clearInterval(timer);\n          console.log(\"Bokeh: ERROR: Unable to run BokehJS code because BokehJS library is missing\");\n        }\n      }\n    }, 10, root)\n  }\n})(window);",
      "application/vnd.bokehjs_exec.v0+json": ""
     },
     "metadata": {
      "application/vnd.bokehjs_exec.v0+json": {
       "id": "2188"
      }
     }
    }
   ],
   "metadata": {}
  },
  {
   "cell_type": "code",
   "execution_count": 27,
   "source": [
    "#export\n",
    "def bubble_figure(\n",
    "    x, y, z=None, title='bubble', tools=BOKEH_DEFAULT_TOOLS, toolbar_location=BOKEH_DEFAULT_TOOLBAR_LOC,\n",
    "    y_axis_label=None, x_axis_label=None, **kwargs):\n",
    "    p = figure(tools=tools, title=title, toolbar_location=toolbar_location, **kwargs)\n",
    "    if z is not None:\n",
    "        z = np.array(z)\n",
    "        z -= np.mean(z)\n",
    "        z /= np.std(z)\n",
    "        z /= ((max(z) - min(z))/2)\n",
    "        z -= min(z)\n",
    "        z /= 5\n",
    "        z += 0.1\n",
    "        p.scatter(x, y, fill_alpha=0.6, radius=z)\n",
    "    else:\n",
    "        p.scatter(x, y, fill_alpha=0.6)\n",
    "    p.yaxis.axis_label = y_axis_label\n",
    "    p.xaxis.axis_label = x_axis_label\n",
    "\n",
    "    return p"
   ],
   "outputs": [],
   "metadata": {}
  },
  {
   "cell_type": "code",
   "execution_count": 28,
   "source": [
    "flowers.head()"
   ],
   "outputs": [
    {
     "output_type": "execute_result",
     "data": {
      "text/plain": [
       "   sepal_length  sepal_width  petal_length  petal_width species\n",
       "0           5.1          3.5           1.4          0.2  setosa\n",
       "1           4.9          3.0           1.4          0.2  setosa\n",
       "2           4.7          3.2           1.3          0.2  setosa\n",
       "3           4.6          3.1           1.5          0.2  setosa\n",
       "4           5.0          3.6           1.4          0.2  setosa"
      ],
      "text/html": [
       "<div>\n",
       "<style scoped>\n",
       "    .dataframe tbody tr th:only-of-type {\n",
       "        vertical-align: middle;\n",
       "    }\n",
       "\n",
       "    .dataframe tbody tr th {\n",
       "        vertical-align: top;\n",
       "    }\n",
       "\n",
       "    .dataframe thead th {\n",
       "        text-align: right;\n",
       "    }\n",
       "</style>\n",
       "<table border=\"1\" class=\"dataframe\">\n",
       "  <thead>\n",
       "    <tr style=\"text-align: right;\">\n",
       "      <th></th>\n",
       "      <th>sepal_length</th>\n",
       "      <th>sepal_width</th>\n",
       "      <th>petal_length</th>\n",
       "      <th>petal_width</th>\n",
       "      <th>species</th>\n",
       "    </tr>\n",
       "  </thead>\n",
       "  <tbody>\n",
       "    <tr>\n",
       "      <th>0</th>\n",
       "      <td>5.1</td>\n",
       "      <td>3.5</td>\n",
       "      <td>1.4</td>\n",
       "      <td>0.2</td>\n",
       "      <td>setosa</td>\n",
       "    </tr>\n",
       "    <tr>\n",
       "      <th>1</th>\n",
       "      <td>4.9</td>\n",
       "      <td>3.0</td>\n",
       "      <td>1.4</td>\n",
       "      <td>0.2</td>\n",
       "      <td>setosa</td>\n",
       "    </tr>\n",
       "    <tr>\n",
       "      <th>2</th>\n",
       "      <td>4.7</td>\n",
       "      <td>3.2</td>\n",
       "      <td>1.3</td>\n",
       "      <td>0.2</td>\n",
       "      <td>setosa</td>\n",
       "    </tr>\n",
       "    <tr>\n",
       "      <th>3</th>\n",
       "      <td>4.6</td>\n",
       "      <td>3.1</td>\n",
       "      <td>1.5</td>\n",
       "      <td>0.2</td>\n",
       "      <td>setosa</td>\n",
       "    </tr>\n",
       "    <tr>\n",
       "      <th>4</th>\n",
       "      <td>5.0</td>\n",
       "      <td>3.6</td>\n",
       "      <td>1.4</td>\n",
       "      <td>0.2</td>\n",
       "      <td>setosa</td>\n",
       "    </tr>\n",
       "  </tbody>\n",
       "</table>\n",
       "</div>"
      ]
     },
     "metadata": {},
     "execution_count": 28
    }
   ],
   "metadata": {}
  },
  {
   "cell_type": "code",
   "execution_count": 29,
   "source": [
    "p = bubble_figure(flowers[\"petal_length\"], flowers[\"petal_width\"], flowers[\"sepal_width\"])\n",
    "show(p)"
   ],
   "outputs": [
    {
     "output_type": "display_data",
     "data": {
      "text/html": [
       "\n",
       "\n",
       "\n",
       "\n",
       "\n",
       "\n",
       "  <div class=\"bk-root\" id=\"2e84a97e-30ad-481b-af98-b0d60415782d\" data-root-id=\"2381\"></div>\n"
      ]
     },
     "metadata": {}
    },
    {
     "output_type": "display_data",
     "data": {
      "application/javascript": "(function(root) {\n  function embed_document(root) {\n    \n  var docs_json = {\"2751edaf-b51c-4a62-9bab-c358d8987e2d\":{\"defs\":[],\"roots\":{\"references\":[{\"attributes\":{\"below\":[{\"id\":\"2392\"}],\"center\":[{\"id\":\"2395\"},{\"id\":\"2399\"}],\"left\":[{\"id\":\"2396\"}],\"renderers\":[{\"id\":\"2410\"}],\"title\":{\"id\":\"2382\"},\"toolbar\":{\"id\":\"2403\"},\"toolbar_location\":\"above\",\"x_range\":{\"id\":\"2384\"},\"x_scale\":{\"id\":\"2388\"},\"y_range\":{\"id\":\"2386\"},\"y_scale\":{\"id\":\"2390\"}},\"id\":\"2381\",\"subtype\":\"Figure\",\"type\":\"Plot\"},{\"attributes\":{\"text\":\"bubble\"},\"id\":\"2382\",\"type\":\"Title\"},{\"attributes\":{\"axis_label\":null,\"formatter\":{\"id\":\"2530\"},\"major_label_policy\":{\"id\":\"2531\"},\"ticker\":{\"id\":\"2397\"}},\"id\":\"2396\",\"type\":\"LinearAxis\"},{\"attributes\":{},\"id\":\"2530\",\"type\":\"BasicTickFormatter\"},{\"attributes\":{\"axis\":{\"id\":\"2396\"},\"dimension\":1,\"ticker\":null},\"id\":\"2399\",\"type\":\"Grid\"},{\"attributes\":{},\"id\":\"2397\",\"type\":\"BasicTicker\"},{\"attributes\":{},\"id\":\"2384\",\"type\":\"DataRange1d\"},{\"attributes\":{\"data\":{\"radius\":{\"__ndarray__\":\"ZmZmZmZm1j8QERERERHRPzMzMzMzM9M/IiIiIiIi0j92d3d3d3fXP6qqqqqqqto/VFVVVVVV1T9UVVVVVVXVP////////88/IiIiIiIi0j+IiIiIiIjYP1RVVVVVVdU/EBERERER0T8QERERERHRP7q7u7u7u9s/AAAAAAAA4D+qqqqqqqraP2ZmZmZmZtY/mJmZmZmZ2T+YmZmZmZnZP1RVVVVVVdU/iIiIiIiI2D92d3d3d3fXP0RERERERNQ/VFVVVVVV1T8QERERERHRP1RVVVVVVdU/ZmZmZmZm1j9UVVVVVVXVPzMzMzMzM9M/IiIiIiIi0j9UVVVVVVXVP8rMzMzMzNw/3N3d3d3d3T8iIiIiIiLSPzMzMzMzM9M/ZmZmZmZm1j92d3d3d3fXPxAREREREdE/VFVVVVVV1T9mZmZmZmbWPzIzMzMzM8M/MzMzMzMz0z9mZmZmZmbWP5iZmZmZmdk/EBERERER0T+YmZmZmZnZPzMzMzMzM9M/iIiIiIiI2D9ERERERETUPzMzMzMzM9M/MzMzMzMz0z8iIiIiIiLSPzIzMzMzM8M/293d3d3dzT/b3d3d3d3NP0RERERERNQ/VFVVVVVVxT/////////PP7y7u7u7u8s/mpmZmZmZuT8QERERERHRPxIREREREcE/////////zz/////////PPyIiIiIiItI/EBERERER0T+8u7u7u7vLPxIREREREcE/dnd3d3d3xz8zMzMzMzPTP9vd3d3d3c0/dnd3d3d3xz/b3d3d3d3NP////////88/EBERERER0T/b3d3d3d3NPxAREREREdE/////////zz+amZmZmZnJP1RVVVVVVcU/VFVVVVVVxT+8u7u7u7vLP7y7u7u7u8s/EBERERER0T9UVVVVVVXVPyIiIiIiItI/MjMzMzMzwz8QERERERHRP3Z3d3d3d8c/mpmZmZmZyT8QERERERHRP5qZmZmZmck/MjMzMzMzwz+8u7u7u7vLPxAREREREdE/////////zz/////////PP3Z3d3d3d8c/293d3d3dzT9ERERERETUP7y7u7u7u8s/EBERERER0T/////////PPxAREREREdE/EBERERER0T92d3d3d3fHP////////88/dnd3d3d3xz92d3d3d3fXPzMzMzMzM9M/vLu7u7u7yz8QERERERHRP3Z3d3d3d8c/293d3d3dzT8zMzMzMzPTPxAREREREdE/mJmZmZmZ2T+amZmZmZnJPxIREREREcE/MzMzMzMz0z/b3d3d3d3NP9vd3d3d3c0/vLu7u7u7yz9ERERERETUPzMzMzMzM9M/293d3d3dzT8QERERERHRP9vd3d3d3c0/EBERERER0T/b3d3d3d3NP5iZmZmZmdk/293d3d3dzT/b3d3d3d3NP5qZmZmZmck/EBERERER0T9UVVVVVVXVPyIiIiIiItI/EBERERER0T8iIiIiIiLSPyIiIiIiItI/IiIiIiIi0j+8u7u7u7vLPzMzMzMzM9M/RERERERE1D8QERERERHRP3Z3d3d3d8c/EBERERER0T9UVVVVVVXVPxAREREREdE/\",\"dtype\":\"float64\",\"order\":\"little\",\"shape\":[150]},\"x\":{\"__ndarray__\":\"ZmZmZmZm9j9mZmZmZmb2P83MzMzMzPQ/AAAAAAAA+D9mZmZmZmb2PzMzMzMzM/s/ZmZmZmZm9j8AAAAAAAD4P2ZmZmZmZvY/AAAAAAAA+D8AAAAAAAD4P5qZmZmZmfk/ZmZmZmZm9j+amZmZmZnxPzMzMzMzM/M/AAAAAAAA+D/NzMzMzMz0P2ZmZmZmZvY/MzMzMzMz+z8AAAAAAAD4PzMzMzMzM/s/AAAAAAAA+D8AAAAAAADwPzMzMzMzM/s/ZmZmZmZm/j+amZmZmZn5P5qZmZmZmfk/AAAAAAAA+D9mZmZmZmb2P5qZmZmZmfk/mpmZmZmZ+T8AAAAAAAD4PwAAAAAAAPg/ZmZmZmZm9j8AAAAAAAD4PzMzMzMzM/M/zczMzMzM9D9mZmZmZmb2P83MzMzMzPQ/AAAAAAAA+D/NzMzMzMz0P83MzMzMzPQ/zczMzMzM9D+amZmZmZn5P2ZmZmZmZv4/ZmZmZmZm9j+amZmZmZn5P2ZmZmZmZvY/AAAAAAAA+D9mZmZmZmb2P83MzMzMzBJAAAAAAAAAEkCamZmZmZkTQAAAAAAAABBAZmZmZmZmEkAAAAAAAAASQM3MzMzMzBJAZmZmZmZmCkBmZmZmZmYSQDMzMzMzMw9AAAAAAAAADEDNzMzMzMwQQAAAAAAAABBAzczMzMzMEkDNzMzMzMwMQJqZmZmZmRFAAAAAAAAAEkBmZmZmZmYQQAAAAAAAABJAMzMzMzMzD0AzMzMzMzMTQAAAAAAAABBAmpmZmZmZE0DNzMzMzMwSQDMzMzMzMxFAmpmZmZmZEUAzMzMzMzMTQAAAAAAAABRAAAAAAAAAEkAAAAAAAAAMQGZmZmZmZg5AmpmZmZmZDUAzMzMzMzMPQGZmZmZmZhRAAAAAAAAAEkAAAAAAAAASQM3MzMzMzBJAmpmZmZmZEUBmZmZmZmYQQAAAAAAAABBAmpmZmZmZEUBmZmZmZmYSQAAAAAAAABBAZmZmZmZmCkDNzMzMzMwQQM3MzMzMzBBAzczMzMzMEEAzMzMzMzMRQAAAAAAAAAhAZmZmZmZmEEAAAAAAAAAYQGZmZmZmZhRAmpmZmZmZF0BmZmZmZmYWQDMzMzMzMxdAZmZmZmZmGkAAAAAAAAASQDMzMzMzMxlAMzMzMzMzF0BmZmZmZmYYQGZmZmZmZhRAMzMzMzMzFUAAAAAAAAAWQAAAAAAAABRAZmZmZmZmFEAzMzMzMzMVQAAAAAAAABZAzczMzMzMGkCamZmZmZkbQAAAAAAAABRAzczMzMzMFkCamZmZmZkTQM3MzMzMzBpAmpmZmZmZE0DNzMzMzMwWQAAAAAAAABhAMzMzMzMzE0CamZmZmZkTQGZmZmZmZhZAMzMzMzMzF0BmZmZmZmYYQJqZmZmZmRlAZmZmZmZmFkBmZmZmZmYUQGZmZmZmZhZAZmZmZmZmGEBmZmZmZmYWQAAAAAAAABZAMzMzMzMzE0CamZmZmZkVQGZmZmZmZhZAZmZmZmZmFEBmZmZmZmYUQJqZmZmZmRdAzczMzMzMFkDNzMzMzMwUQAAAAAAAABRAzczMzMzMFECamZmZmZkVQGZmZmZmZhRA\",\"dtype\":\"float64\",\"order\":\"little\",\"shape\":[150]},\"y\":{\"__ndarray__\":\"mpmZmZmZyT+amZmZmZnJP5qZmZmZmck/mpmZmZmZyT+amZmZmZnJP5qZmZmZmdk/MzMzMzMz0z+amZmZmZnJP5qZmZmZmck/mpmZmZmZuT+amZmZmZnJP5qZmZmZmck/mpmZmZmZuT+amZmZmZm5P5qZmZmZmck/mpmZmZmZ2T+amZmZmZnZPzMzMzMzM9M/MzMzMzMz0z8zMzMzMzPTP5qZmZmZmck/mpmZmZmZ2T+amZmZmZnJPwAAAAAAAOA/mpmZmZmZyT+amZmZmZnJP5qZmZmZmdk/mpmZmZmZyT+amZmZmZnJP5qZmZmZmck/mpmZmZmZyT+amZmZmZnZP5qZmZmZmbk/mpmZmZmZyT+amZmZmZnJP5qZmZmZmck/mpmZmZmZyT+amZmZmZm5P5qZmZmZmck/mpmZmZmZyT8zMzMzMzPTPzMzMzMzM9M/mpmZmZmZyT8zMzMzMzPjP5qZmZmZmdk/MzMzMzMz0z+amZmZmZnJP5qZmZmZmck/mpmZmZmZyT+amZmZmZnJP2ZmZmZmZvY/AAAAAAAA+D8AAAAAAAD4P83MzMzMzPQ/AAAAAAAA+D/NzMzMzMz0P5qZmZmZmfk/AAAAAAAA8D/NzMzMzMz0P2ZmZmZmZvY/AAAAAAAA8D8AAAAAAAD4PwAAAAAAAPA/ZmZmZmZm9j/NzMzMzMz0P2ZmZmZmZvY/AAAAAAAA+D8AAAAAAADwPwAAAAAAAPg/mpmZmZmZ8T/NzMzMzMz8P83MzMzMzPQ/AAAAAAAA+D8zMzMzMzPzP83MzMzMzPQ/ZmZmZmZm9j9mZmZmZmb2PzMzMzMzM/s/AAAAAAAA+D8AAAAAAADwP5qZmZmZmfE/AAAAAAAA8D8zMzMzMzPzP5qZmZmZmfk/AAAAAAAA+D+amZmZmZn5PwAAAAAAAPg/zczMzMzM9D/NzMzMzMz0P83MzMzMzPQ/MzMzMzMz8z9mZmZmZmb2PzMzMzMzM/M/AAAAAAAA8D/NzMzMzMz0PzMzMzMzM/M/zczMzMzM9D/NzMzMzMz0P5qZmZmZmfE/zczMzMzM9D8AAAAAAAAEQGZmZmZmZv4/zczMzMzMAEDNzMzMzMz8P5qZmZmZmQFAzczMzMzMAEAzMzMzMzP7P83MzMzMzPw/zczMzMzM/D8AAAAAAAAEQAAAAAAAAABAZmZmZmZm/j/NzMzMzMwAQAAAAAAAAABAMzMzMzMzA0BmZmZmZmYCQM3MzMzMzPw/mpmZmZmZAUBmZmZmZmYCQAAAAAAAAPg/ZmZmZmZmAkAAAAAAAAAAQAAAAAAAAABAzczMzMzM/D/NzMzMzMwAQM3MzMzMzPw/zczMzMzM/D/NzMzMzMz8P83MzMzMzABAmpmZmZmZ+T9mZmZmZmb+PwAAAAAAAABAmpmZmZmZAUAAAAAAAAD4P2ZmZmZmZvY/ZmZmZmZmAkAzMzMzMzMDQM3MzMzMzPw/zczMzMzM/D/NzMzMzMwAQDMzMzMzMwNAZmZmZmZmAkBmZmZmZmb+P2ZmZmZmZgJAAAAAAAAABEBmZmZmZmYCQGZmZmZmZv4/AAAAAAAAAEBmZmZmZmYCQM3MzMzMzPw/\",\"dtype\":\"float64\",\"order\":\"little\",\"shape\":[150]}},\"selected\":{\"id\":\"2537\"},\"selection_policy\":{\"id\":\"2536\"}},\"id\":\"2407\",\"type\":\"ColumnDataSource\"},{\"attributes\":{\"fill_alpha\":{\"value\":0.1},\"fill_color\":{\"value\":\"#1f77b4\"},\"line_alpha\":{\"value\":0.1},\"line_color\":{\"value\":\"#1f77b4\"},\"radius\":{\"field\":\"radius\"},\"x\":{\"field\":\"x\"},\"y\":{\"field\":\"y\"}},\"id\":\"2409\",\"type\":\"Circle\"},{\"attributes\":{},\"id\":\"2402\",\"type\":\"PanTool\"},{\"attributes\":{},\"id\":\"2401\",\"type\":\"ResetTool\"},{\"attributes\":{},\"id\":\"2400\",\"type\":\"SaveTool\"},{\"attributes\":{},\"id\":\"2533\",\"type\":\"BasicTickFormatter\"},{\"attributes\":{},\"id\":\"2534\",\"type\":\"AllLabels\"},{\"attributes\":{},\"id\":\"2390\",\"type\":\"LinearScale\"},{\"attributes\":{},\"id\":\"2536\",\"type\":\"UnionRenderers\"},{\"attributes\":{},\"id\":\"2537\",\"type\":\"Selection\"},{\"attributes\":{\"fill_alpha\":{\"value\":0.6},\"fill_color\":{\"value\":\"#1f77b4\"},\"line_color\":{\"value\":\"#1f77b4\"},\"radius\":{\"field\":\"radius\"},\"x\":{\"field\":\"x\"},\"y\":{\"field\":\"y\"}},\"id\":\"2408\",\"type\":\"Circle\"},{\"attributes\":{\"source\":{\"id\":\"2407\"}},\"id\":\"2411\",\"type\":\"CDSView\"},{\"attributes\":{\"axis_label\":null,\"formatter\":{\"id\":\"2533\"},\"major_label_policy\":{\"id\":\"2534\"},\"ticker\":{\"id\":\"2393\"}},\"id\":\"2392\",\"type\":\"LinearAxis\"},{\"attributes\":{},\"id\":\"2531\",\"type\":\"AllLabels\"},{\"attributes\":{},\"id\":\"2393\",\"type\":\"BasicTicker\"},{\"attributes\":{\"data_source\":{\"id\":\"2407\"},\"glyph\":{\"id\":\"2408\"},\"hover_glyph\":null,\"muted_glyph\":null,\"nonselection_glyph\":{\"id\":\"2409\"},\"view\":{\"id\":\"2411\"}},\"id\":\"2410\",\"type\":\"GlyphRenderer\"},{\"attributes\":{},\"id\":\"2388\",\"type\":\"LinearScale\"},{\"attributes\":{\"axis\":{\"id\":\"2392\"},\"ticker\":null},\"id\":\"2395\",\"type\":\"Grid\"},{\"attributes\":{\"active_multi\":null,\"tools\":[{\"id\":\"2400\"},{\"id\":\"2401\"},{\"id\":\"2402\"}]},\"id\":\"2403\",\"type\":\"Toolbar\"},{\"attributes\":{},\"id\":\"2386\",\"type\":\"DataRange1d\"}],\"root_ids\":[\"2381\"]},\"title\":\"Bokeh Application\",\"version\":\"2.3.3\"}};\n  var render_items = [{\"docid\":\"2751edaf-b51c-4a62-9bab-c358d8987e2d\",\"root_ids\":[\"2381\"],\"roots\":{\"2381\":\"2e84a97e-30ad-481b-af98-b0d60415782d\"}}];\n  root.Bokeh.embed.embed_items_notebook(docs_json, render_items);\n\n  }\n  if (root.Bokeh !== undefined) {\n    embed_document(root);\n  } else {\n    var attempts = 0;\n    var timer = setInterval(function(root) {\n      if (root.Bokeh !== undefined) {\n        clearInterval(timer);\n        embed_document(root);\n      } else {\n        attempts++;\n        if (attempts > 100) {\n          clearInterval(timer);\n          console.log(\"Bokeh: ERROR: Unable to run BokehJS code because BokehJS library is missing\");\n        }\n      }\n    }, 10, root)\n  }\n})(window);",
      "application/vnd.bokehjs_exec.v0+json": ""
     },
     "metadata": {
      "application/vnd.bokehjs_exec.v0+json": {
       "id": "2381"
      }
     }
    }
   ],
   "metadata": {}
  },
  {
   "cell_type": "code",
   "execution_count": 30,
   "source": [
    "#export\n",
    "def stacked_bar_figure(\n",
    "    data:dict, x_key, y_keys:list, title='stacked bar',\n",
    "    toolbar_location=BOKEH_DEFAULT_TOOLBAR_LOC, tools=BOKEH_DEFAULT_TOOLS,\n",
    "    y_axis_label=None, x_axis_label=None, **kwargs\n",
    "):\n",
    "    p = figure(title=title, toolbar_location=toolbar_location, tools=tools, x_range=data[x_key], **kwargs)\n",
    "\n",
    "    p.vbar_stack(y_keys, x=x_key, width=0.9, color=colors, source=data, legend_label=y_keys)\n",
    "\n",
    "    p.y_range.start = 0\n",
    "    p.x_range.range_padding = 0.1\n",
    "    p.xgrid.grid_line_color = None\n",
    "    p.axis.minor_tick_line_color = None\n",
    "    p.outline_line_color = None\n",
    "    p.legend.location = \"top_left\"\n",
    "    p.legend.orientation = \"horizontal\"\n",
    "    p.yaxis.axis_label = y_axis_label\n",
    "    p.xaxis.axis_label = x_axis_label\n",
    "    return p"
   ],
   "outputs": [],
   "metadata": {}
  },
  {
   "cell_type": "code",
   "execution_count": 31,
   "source": [
    "fruits = ['Apples', 'Pears', 'Nectarines', 'Plums', 'Grapes', 'Strawberries']\n",
    "years = [\"2015\", \"2016\", \"2017\"]\n",
    "colors = [\"#c9d9d3\", \"#718dbf\", \"#e84d60\"]\n",
    "\n",
    "data = {'fruits' : fruits,\n",
    "        '2015'   : [2, 1, 4, 3, 2, 4],\n",
    "        '2016'   : [5, 3, 4, 2, 4, 6],\n",
    "        '2017'   : [3, 2, 4, 4, 5, 3]}\n",
    "p = stacked_bar_figure(data, x_key='fruits', y_keys=['2015', '2016', '2017'])\n",
    "show(p)"
   ],
   "outputs": [
    {
     "output_type": "display_data",
     "data": {
      "text/html": [
       "\n",
       "\n",
       "\n",
       "\n",
       "\n",
       "\n",
       "  <div class=\"bk-root\" id=\"fe2a6e8a-f579-45a4-b858-8b58cec65d73\" data-root-id=\"2583\"></div>\n"
      ]
     },
     "metadata": {}
    },
    {
     "output_type": "display_data",
     "data": {
      "application/javascript": "(function(root) {\n  function embed_document(root) {\n    \n  var docs_json = {\"7639678f-b707-41bf-a034-c68398889501\":{\"defs\":[],\"roots\":{\"references\":[{\"attributes\":{\"below\":[{\"id\":\"2594\"}],\"center\":[{\"id\":\"2596\"},{\"id\":\"2600\"},{\"id\":\"2629\"}],\"left\":[{\"id\":\"2597\"}],\"outline_line_color\":null,\"renderers\":[{\"id\":\"2618\"},{\"id\":\"2635\"},{\"id\":\"2653\"}],\"title\":{\"id\":\"2584\"},\"toolbar\":{\"id\":\"2604\"},\"toolbar_location\":\"above\",\"x_range\":{\"id\":\"2586\"},\"x_scale\":{\"id\":\"2590\"},\"y_range\":{\"id\":\"2588\"},\"y_scale\":{\"id\":\"2592\"}},\"id\":\"2583\",\"subtype\":\"Figure\",\"type\":\"Plot\"},{\"attributes\":{\"text\":\"stacked bar\"},\"id\":\"2584\",\"type\":\"Title\"},{\"attributes\":{\"fields\":[\"2015\"]},\"id\":\"2609\",\"type\":\"Stack\"},{\"attributes\":{},\"id\":\"2627\",\"type\":\"UnionRenderers\"},{\"attributes\":{},\"id\":\"2590\",\"type\":\"CategoricalScale\"},{\"attributes\":{},\"id\":\"2628\",\"type\":\"Selection\"},{\"attributes\":{\"data_source\":{\"id\":\"2614\"},\"glyph\":{\"id\":\"2616\"},\"hover_glyph\":null,\"muted_glyph\":null,\"name\":\"2015\",\"nonselection_glyph\":{\"id\":\"2617\"},\"view\":{\"id\":\"2619\"}},\"id\":\"2618\",\"type\":\"GlyphRenderer\"},{\"attributes\":{},\"id\":\"2598\",\"type\":\"BasicTicker\"},{\"attributes\":{},\"id\":\"2592\",\"type\":\"LinearScale\"},{\"attributes\":{\"active_multi\":null,\"tools\":[{\"id\":\"2601\"},{\"id\":\"2602\"},{\"id\":\"2603\"}]},\"id\":\"2604\",\"type\":\"Toolbar\"},{\"attributes\":{\"items\":[{\"id\":\"2630\"},{\"id\":\"2648\"},{\"id\":\"2668\"}],\"location\":\"top_left\",\"orientation\":\"horizontal\"},\"id\":\"2629\",\"type\":\"Legend\"},{\"attributes\":{\"start\":0},\"id\":\"2588\",\"type\":\"DataRange1d\"},{\"attributes\":{\"data\":{\"2015\":[2,1,4,3,2,4],\"2016\":[5,3,4,2,4,6],\"2017\":[3,2,4,4,5,3],\"fruits\":[\"Apples\",\"Pears\",\"Nectarines\",\"Plums\",\"Grapes\",\"Strawberries\"]},\"selected\":{\"id\":\"2647\"},\"selection_policy\":{\"id\":\"2646\"}},\"id\":\"2631\",\"type\":\"ColumnDataSource\"},{\"attributes\":{\"bottom\":{\"expr\":{\"id\":\"2610\"}},\"fill_alpha\":{\"value\":0.1},\"fill_color\":{\"value\":\"#718dbf\"},\"line_alpha\":{\"value\":0.1},\"line_color\":{\"value\":\"#718dbf\"},\"top\":{\"expr\":{\"id\":\"2611\"}},\"width\":{\"value\":0.9},\"x\":{\"field\":\"fruits\"}},\"id\":\"2634\",\"type\":\"VBar\"},{\"attributes\":{\"factors\":[\"Apples\",\"Pears\",\"Nectarines\",\"Plums\",\"Grapes\",\"Strawberries\"],\"range_padding\":0.1},\"id\":\"2586\",\"type\":\"FactorRange\"},{\"attributes\":{\"axis_label\":null,\"formatter\":{\"id\":\"2624\"},\"major_label_policy\":{\"id\":\"2625\"},\"minor_tick_line_color\":null,\"ticker\":{\"id\":\"2595\"}},\"id\":\"2594\",\"type\":\"CategoricalAxis\"},{\"attributes\":{\"source\":{\"id\":\"2614\"}},\"id\":\"2619\",\"type\":\"CDSView\"},{\"attributes\":{},\"id\":\"2595\",\"type\":\"CategoricalTicker\"},{\"attributes\":{\"label\":{\"value\":\"2016\"},\"renderers\":[{\"id\":\"2635\"}]},\"id\":\"2648\",\"type\":\"LegendItem\"},{\"attributes\":{\"axis\":{\"id\":\"2594\"},\"grid_line_color\":null,\"ticker\":null},\"id\":\"2596\",\"type\":\"Grid\"},{\"attributes\":{\"source\":{\"id\":\"2631\"}},\"id\":\"2636\",\"type\":\"CDSView\"},{\"attributes\":{\"axis_label\":null,\"formatter\":{\"id\":\"2621\"},\"major_label_policy\":{\"id\":\"2622\"},\"minor_tick_line_color\":null,\"ticker\":{\"id\":\"2598\"}},\"id\":\"2597\",\"type\":\"LinearAxis\"},{\"attributes\":{\"bottom\":{\"expr\":{\"id\":\"2610\"}},\"fill_color\":{\"value\":\"#718dbf\"},\"line_color\":{\"value\":\"#718dbf\"},\"top\":{\"expr\":{\"id\":\"2611\"}},\"width\":{\"value\":0.9},\"x\":{\"field\":\"fruits\"}},\"id\":\"2633\",\"type\":\"VBar\"},{\"attributes\":{\"fields\":[\"2015\",\"2016\",\"2017\"]},\"id\":\"2613\",\"type\":\"Stack\"},{\"attributes\":{\"data\":{\"2015\":[2,1,4,3,2,4],\"2016\":[5,3,4,2,4,6],\"2017\":[3,2,4,4,5,3],\"fruits\":[\"Apples\",\"Pears\",\"Nectarines\",\"Plums\",\"Grapes\",\"Strawberries\"]},\"selected\":{\"id\":\"2628\"},\"selection_policy\":{\"id\":\"2627\"}},\"id\":\"2614\",\"type\":\"ColumnDataSource\"},{\"attributes\":{\"fields\":[\"2015\"]},\"id\":\"2610\",\"type\":\"Stack\"},{\"attributes\":{\"fields\":[\"2015\",\"2016\"]},\"id\":\"2612\",\"type\":\"Stack\"},{\"attributes\":{\"bottom\":{\"expr\":{\"id\":\"2612\"}},\"fill_alpha\":{\"value\":0.1},\"fill_color\":{\"value\":\"#e84d60\"},\"line_alpha\":{\"value\":0.1},\"line_color\":{\"value\":\"#e84d60\"},\"top\":{\"expr\":{\"id\":\"2613\"}},\"width\":{\"value\":0.9},\"x\":{\"field\":\"fruits\"}},\"id\":\"2652\",\"type\":\"VBar\"},{\"attributes\":{\"bottom\":{\"expr\":{\"id\":\"2608\"}},\"fill_alpha\":{\"value\":0.1},\"fill_color\":{\"value\":\"#c9d9d3\"},\"line_alpha\":{\"value\":0.1},\"line_color\":{\"value\":\"#c9d9d3\"},\"top\":{\"expr\":{\"id\":\"2609\"}},\"width\":{\"value\":0.9},\"x\":{\"field\":\"fruits\"}},\"id\":\"2617\",\"type\":\"VBar\"},{\"attributes\":{\"source\":{\"id\":\"2649\"}},\"id\":\"2654\",\"type\":\"CDSView\"},{\"attributes\":{\"label\":{\"value\":\"2017\"},\"renderers\":[{\"id\":\"2653\"}]},\"id\":\"2668\",\"type\":\"LegendItem\"},{\"attributes\":{\"axis\":{\"id\":\"2597\"},\"dimension\":1,\"ticker\":null},\"id\":\"2600\",\"type\":\"Grid\"},{\"attributes\":{\"data\":{\"2015\":[2,1,4,3,2,4],\"2016\":[5,3,4,2,4,6],\"2017\":[3,2,4,4,5,3],\"fruits\":[\"Apples\",\"Pears\",\"Nectarines\",\"Plums\",\"Grapes\",\"Strawberries\"]},\"selected\":{\"id\":\"2667\"},\"selection_policy\":{\"id\":\"2666\"}},\"id\":\"2649\",\"type\":\"ColumnDataSource\"},{\"attributes\":{\"data_source\":{\"id\":\"2631\"},\"glyph\":{\"id\":\"2633\"},\"hover_glyph\":null,\"muted_glyph\":null,\"name\":\"2016\",\"nonselection_glyph\":{\"id\":\"2634\"},\"view\":{\"id\":\"2636\"}},\"id\":\"2635\",\"type\":\"GlyphRenderer\"},{\"attributes\":{\"bottom\":{\"expr\":{\"id\":\"2612\"}},\"fill_color\":{\"value\":\"#e84d60\"},\"line_color\":{\"value\":\"#e84d60\"},\"top\":{\"expr\":{\"id\":\"2613\"}},\"width\":{\"value\":0.9},\"x\":{\"field\":\"fruits\"}},\"id\":\"2651\",\"type\":\"VBar\"},{\"attributes\":{\"fields\":[]},\"id\":\"2608\",\"type\":\"Stack\"},{\"attributes\":{\"fields\":[\"2015\",\"2016\"]},\"id\":\"2611\",\"type\":\"Stack\"},{\"attributes\":{},\"id\":\"2603\",\"type\":\"PanTool\"},{\"attributes\":{},\"id\":\"2602\",\"type\":\"ResetTool\"},{\"attributes\":{},\"id\":\"2601\",\"type\":\"SaveTool\"},{\"attributes\":{},\"id\":\"2621\",\"type\":\"BasicTickFormatter\"},{\"attributes\":{},\"id\":\"2622\",\"type\":\"AllLabels\"},{\"attributes\":{\"data_source\":{\"id\":\"2649\"},\"glyph\":{\"id\":\"2651\"},\"hover_glyph\":null,\"muted_glyph\":null,\"name\":\"2017\",\"nonselection_glyph\":{\"id\":\"2652\"},\"view\":{\"id\":\"2654\"}},\"id\":\"2653\",\"type\":\"GlyphRenderer\"},{\"attributes\":{},\"id\":\"2646\",\"type\":\"UnionRenderers\"},{\"attributes\":{},\"id\":\"2647\",\"type\":\"Selection\"},{\"attributes\":{\"bottom\":{\"expr\":{\"id\":\"2608\"}},\"fill_color\":{\"value\":\"#c9d9d3\"},\"line_color\":{\"value\":\"#c9d9d3\"},\"top\":{\"expr\":{\"id\":\"2609\"}},\"width\":{\"value\":0.9},\"x\":{\"field\":\"fruits\"}},\"id\":\"2616\",\"type\":\"VBar\"},{\"attributes\":{},\"id\":\"2666\",\"type\":\"UnionRenderers\"},{\"attributes\":{\"label\":{\"value\":\"2015\"},\"renderers\":[{\"id\":\"2618\"}]},\"id\":\"2630\",\"type\":\"LegendItem\"},{\"attributes\":{},\"id\":\"2667\",\"type\":\"Selection\"},{\"attributes\":{},\"id\":\"2624\",\"type\":\"CategoricalTickFormatter\"},{\"attributes\":{},\"id\":\"2625\",\"type\":\"AllLabels\"}],\"root_ids\":[\"2583\"]},\"title\":\"Bokeh Application\",\"version\":\"2.3.3\"}};\n  var render_items = [{\"docid\":\"7639678f-b707-41bf-a034-c68398889501\",\"root_ids\":[\"2583\"],\"roots\":{\"2583\":\"fe2a6e8a-f579-45a4-b858-8b58cec65d73\"}}];\n  root.Bokeh.embed.embed_items_notebook(docs_json, render_items);\n\n  }\n  if (root.Bokeh !== undefined) {\n    embed_document(root);\n  } else {\n    var attempts = 0;\n    var timer = setInterval(function(root) {\n      if (root.Bokeh !== undefined) {\n        clearInterval(timer);\n        embed_document(root);\n      } else {\n        attempts++;\n        if (attempts > 100) {\n          clearInterval(timer);\n          console.log(\"Bokeh: ERROR: Unable to run BokehJS code because BokehJS library is missing\");\n        }\n      }\n    }, 10, root)\n  }\n})(window);",
      "application/vnd.bokehjs_exec.v0+json": ""
     },
     "metadata": {
      "application/vnd.bokehjs_exec.v0+json": {
       "id": "2583"
      }
     }
    }
   ],
   "metadata": {}
  },
  {
   "cell_type": "code",
   "execution_count": 32,
   "source": [
    "#export\n",
    "def stacked_area_figure(\n",
    "    df, stackers:list, title='stacked_area', tools=BOKEH_DEFAULT_TOOLS,\n",
    "    toolbar_location=BOKEH_DEFAULT_TOOLBAR_LOC,\n",
    "    y_axis_label=None, x_axis_label=None, **kwargs):\n",
    "    p = figure(x_range=(0, len(df)-1), title=title, tools=tools, toolbar_location=toolbar_location, **kwargs)\n",
    "    p.grid.minor_grid_line_color = '#eeeeee'\n",
    "    if df.index.name is None: df.index.name = '_index_col'\n",
    "\n",
    "    p.varea_stack(stackers=stackers, x=df.index.name, color=count2colors(len(stackers)), legend_label=stackers, source=df)\n",
    "\n",
    "    # reverse the legend entries to match the stacked order\n",
    "    p.legend.items.reverse()\n",
    "    p.yaxis.axis_label = y_axis_label\n",
    "    p.xaxis.axis_label = x_axis_label\n",
    "    return p"
   ],
   "outputs": [],
   "metadata": {}
  },
  {
   "cell_type": "code",
   "execution_count": 33,
   "source": [
    "df = pd.DataFrame(np.random.randint(10, 100, size=(15, 3))).add_prefix('y')\n",
    "df.head()"
   ],
   "outputs": [
    {
     "output_type": "execute_result",
     "data": {
      "text/plain": [
       "   y0  y1  y2\n",
       "0  33  93  70\n",
       "1  93  63  60\n",
       "2  51  74  79\n",
       "3  17  83  89\n",
       "4  41  30  73"
      ],
      "text/html": [
       "<div>\n",
       "<style scoped>\n",
       "    .dataframe tbody tr th:only-of-type {\n",
       "        vertical-align: middle;\n",
       "    }\n",
       "\n",
       "    .dataframe tbody tr th {\n",
       "        vertical-align: top;\n",
       "    }\n",
       "\n",
       "    .dataframe thead th {\n",
       "        text-align: right;\n",
       "    }\n",
       "</style>\n",
       "<table border=\"1\" class=\"dataframe\">\n",
       "  <thead>\n",
       "    <tr style=\"text-align: right;\">\n",
       "      <th></th>\n",
       "      <th>y0</th>\n",
       "      <th>y1</th>\n",
       "      <th>y2</th>\n",
       "    </tr>\n",
       "  </thead>\n",
       "  <tbody>\n",
       "    <tr>\n",
       "      <th>0</th>\n",
       "      <td>33</td>\n",
       "      <td>93</td>\n",
       "      <td>70</td>\n",
       "    </tr>\n",
       "    <tr>\n",
       "      <th>1</th>\n",
       "      <td>93</td>\n",
       "      <td>63</td>\n",
       "      <td>60</td>\n",
       "    </tr>\n",
       "    <tr>\n",
       "      <th>2</th>\n",
       "      <td>51</td>\n",
       "      <td>74</td>\n",
       "      <td>79</td>\n",
       "    </tr>\n",
       "    <tr>\n",
       "      <th>3</th>\n",
       "      <td>17</td>\n",
       "      <td>83</td>\n",
       "      <td>89</td>\n",
       "    </tr>\n",
       "    <tr>\n",
       "      <th>4</th>\n",
       "      <td>41</td>\n",
       "      <td>30</td>\n",
       "      <td>73</td>\n",
       "    </tr>\n",
       "  </tbody>\n",
       "</table>\n",
       "</div>"
      ]
     },
     "metadata": {},
     "execution_count": 33
    }
   ],
   "metadata": {}
  },
  {
   "cell_type": "code",
   "execution_count": 34,
   "source": [
    "p = stacked_area_figure(df, stackers=['y0', 'y1', 'y2'])\n",
    "show(p)"
   ],
   "outputs": [
    {
     "output_type": "display_data",
     "data": {
      "text/html": [
       "\n",
       "\n",
       "\n",
       "\n",
       "\n",
       "\n",
       "  <div class=\"bk-root\" id=\"c6404238-53da-4955-a252-b2151a4a682a\" data-root-id=\"2873\"></div>\n"
      ]
     },
     "metadata": {}
    },
    {
     "output_type": "display_data",
     "data": {
      "application/javascript": "(function(root) {\n  function embed_document(root) {\n    \n  var docs_json = {\"fb4a8353-c39a-4ef7-9792-6ea3f18d8547\":{\"defs\":[],\"roots\":{\"references\":[{\"attributes\":{\"below\":[{\"id\":\"2884\"}],\"center\":[{\"id\":\"2887\"},{\"id\":\"2891\"},{\"id\":\"2920\"}],\"left\":[{\"id\":\"2888\"}],\"renderers\":[{\"id\":\"2909\"},{\"id\":\"2926\"},{\"id\":\"2944\"}],\"title\":{\"id\":\"2874\"},\"toolbar\":{\"id\":\"2895\"},\"toolbar_location\":\"above\",\"x_range\":{\"id\":\"2876\"},\"x_scale\":{\"id\":\"2880\"},\"y_range\":{\"id\":\"2878\"},\"y_scale\":{\"id\":\"2882\"}},\"id\":\"2873\",\"subtype\":\"Figure\",\"type\":\"Plot\"},{\"attributes\":{},\"id\":\"2937\",\"type\":\"UnionRenderers\"},{\"attributes\":{\"label\":{\"value\":\"y2\"},\"renderers\":[{\"id\":\"2944\"}]},\"id\":\"2959\",\"type\":\"LegendItem\"},{\"attributes\":{},\"id\":\"2957\",\"type\":\"UnionRenderers\"},{\"attributes\":{\"source\":{\"id\":\"2922\"}},\"id\":\"2927\",\"type\":\"CDSView\"},{\"attributes\":{},\"id\":\"2938\",\"type\":\"Selection\"},{\"attributes\":{\"axis\":{\"id\":\"2884\"},\"minor_grid_line_color\":\"#eeeeee\",\"ticker\":null},\"id\":\"2887\",\"type\":\"Grid\"},{\"attributes\":{},\"id\":\"2894\",\"type\":\"PanTool\"},{\"attributes\":{\"source\":{\"id\":\"2940\"}},\"id\":\"2945\",\"type\":\"CDSView\"},{\"attributes\":{\"fields\":[]},\"id\":\"2899\",\"type\":\"Stack\"},{\"attributes\":{},\"id\":\"2918\",\"type\":\"UnionRenderers\"},{\"attributes\":{},\"id\":\"2893\",\"type\":\"ResetTool\"},{\"attributes\":{\"fill_color\":\"#fc8d62\",\"x\":{\"field\":\"_index_col\"},\"y1\":{\"expr\":{\"id\":\"2901\"}},\"y2\":{\"expr\":{\"id\":\"2902\"}}},\"id\":\"2924\",\"type\":\"VArea\"},{\"attributes\":{\"fields\":[\"y0\",\"y1\",\"y2\"]},\"id\":\"2904\",\"type\":\"Stack\"},{\"attributes\":{\"active_multi\":null,\"tools\":[{\"id\":\"2892\"},{\"id\":\"2893\"},{\"id\":\"2894\"}]},\"id\":\"2895\",\"type\":\"Toolbar\"},{\"attributes\":{\"data\":{\"_index_col\":[0,1,2,3,4,5,6,7,8,9,10,11,12,13,14],\"y0\":[33,93,51,17,41,87,40,87,71,97,35,88,16,52,53],\"y1\":[93,63,74,83,30,46,81,54,55,71,44,35,16,72,74],\"y2\":[70,60,79,89,73,84,24,18,59,49,51,94,15,56,87]},\"selected\":{\"id\":\"2919\"},\"selection_policy\":{\"id\":\"2918\"}},\"id\":\"2905\",\"type\":\"ColumnDataSource\"},{\"attributes\":{\"data\":{\"_index_col\":[0,1,2,3,4,5,6,7,8,9,10,11,12,13,14],\"y0\":[33,93,51,17,41,87,40,87,71,97,35,88,16,52,53],\"y1\":[93,63,74,83,30,46,81,54,55,71,44,35,16,72,74],\"y2\":[70,60,79,89,73,84,24,18,59,49,51,94,15,56,87]},\"selected\":{\"id\":\"2938\"},\"selection_policy\":{\"id\":\"2937\"}},\"id\":\"2922\",\"type\":\"ColumnDataSource\"},{\"attributes\":{\"fill_alpha\":0.1,\"fill_color\":\"#fc8d62\",\"x\":{\"field\":\"_index_col\"},\"y1\":{\"expr\":{\"id\":\"2901\"}},\"y2\":{\"expr\":{\"id\":\"2902\"}}},\"id\":\"2925\",\"type\":\"VArea\"},{\"attributes\":{},\"id\":\"2915\",\"type\":\"BasicTickFormatter\"},{\"attributes\":{},\"id\":\"2913\",\"type\":\"AllLabels\"},{\"attributes\":{\"fields\":[\"y0\",\"y1\"]},\"id\":\"2903\",\"type\":\"Stack\"},{\"attributes\":{},\"id\":\"2919\",\"type\":\"Selection\"},{\"attributes\":{},\"id\":\"2889\",\"type\":\"BasicTicker\"},{\"attributes\":{\"items\":[{\"id\":\"2959\"},{\"id\":\"2939\"},{\"id\":\"2921\"}]},\"id\":\"2920\",\"type\":\"Legend\"},{\"attributes\":{},\"id\":\"2882\",\"type\":\"LinearScale\"},{\"attributes\":{\"axis_label\":null,\"formatter\":{\"id\":\"2912\"},\"major_label_policy\":{\"id\":\"2913\"},\"ticker\":{\"id\":\"2889\"}},\"id\":\"2888\",\"type\":\"LinearAxis\"},{\"attributes\":{\"axis\":{\"id\":\"2888\"},\"dimension\":1,\"minor_grid_line_color\":\"#eeeeee\",\"ticker\":null},\"id\":\"2891\",\"type\":\"Grid\"},{\"attributes\":{\"fill_color\":\"#66c2a5\",\"x\":{\"field\":\"_index_col\"},\"y1\":{\"expr\":{\"id\":\"2899\"}},\"y2\":{\"expr\":{\"id\":\"2900\"}}},\"id\":\"2907\",\"type\":\"VArea\"},{\"attributes\":{},\"id\":\"2916\",\"type\":\"AllLabels\"},{\"attributes\":{\"fields\":[\"y0\"]},\"id\":\"2901\",\"type\":\"Stack\"},{\"attributes\":{},\"id\":\"2878\",\"type\":\"DataRange1d\"},{\"attributes\":{\"data_source\":{\"id\":\"2905\"},\"glyph\":{\"id\":\"2907\"},\"hover_glyph\":null,\"muted_glyph\":null,\"name\":\"y0\",\"nonselection_glyph\":{\"id\":\"2908\"},\"view\":{\"id\":\"2910\"}},\"id\":\"2909\",\"type\":\"GlyphRenderer\"},{\"attributes\":{\"fill_alpha\":0.1,\"fill_color\":\"#8da0cb\",\"x\":{\"field\":\"_index_col\"},\"y1\":{\"expr\":{\"id\":\"2903\"}},\"y2\":{\"expr\":{\"id\":\"2904\"}}},\"id\":\"2943\",\"type\":\"VArea\"},{\"attributes\":{\"label\":{\"value\":\"y0\"},\"renderers\":[{\"id\":\"2909\"}]},\"id\":\"2921\",\"type\":\"LegendItem\"},{\"attributes\":{},\"id\":\"2885\",\"type\":\"BasicTicker\"},{\"attributes\":{\"text\":\"stacked_area\"},\"id\":\"2874\",\"type\":\"Title\"},{\"attributes\":{\"data_source\":{\"id\":\"2922\"},\"glyph\":{\"id\":\"2924\"},\"hover_glyph\":null,\"muted_glyph\":null,\"name\":\"y1\",\"nonselection_glyph\":{\"id\":\"2925\"},\"view\":{\"id\":\"2927\"}},\"id\":\"2926\",\"type\":\"GlyphRenderer\"},{\"attributes\":{\"fill_color\":\"#8da0cb\",\"x\":{\"field\":\"_index_col\"},\"y1\":{\"expr\":{\"id\":\"2903\"}},\"y2\":{\"expr\":{\"id\":\"2904\"}}},\"id\":\"2942\",\"type\":\"VArea\"},{\"attributes\":{\"data_source\":{\"id\":\"2940\"},\"glyph\":{\"id\":\"2942\"},\"hover_glyph\":null,\"muted_glyph\":null,\"name\":\"y2\",\"nonselection_glyph\":{\"id\":\"2943\"},\"view\":{\"id\":\"2945\"}},\"id\":\"2944\",\"type\":\"GlyphRenderer\"},{\"attributes\":{\"source\":{\"id\":\"2905\"}},\"id\":\"2910\",\"type\":\"CDSView\"},{\"attributes\":{\"data\":{\"_index_col\":[0,1,2,3,4,5,6,7,8,9,10,11,12,13,14],\"y0\":[33,93,51,17,41,87,40,87,71,97,35,88,16,52,53],\"y1\":[93,63,74,83,30,46,81,54,55,71,44,35,16,72,74],\"y2\":[70,60,79,89,73,84,24,18,59,49,51,94,15,56,87]},\"selected\":{\"id\":\"2958\"},\"selection_policy\":{\"id\":\"2957\"}},\"id\":\"2940\",\"type\":\"ColumnDataSource\"},{\"attributes\":{\"label\":{\"value\":\"y1\"},\"renderers\":[{\"id\":\"2926\"}]},\"id\":\"2939\",\"type\":\"LegendItem\"},{\"attributes\":{},\"id\":\"2912\",\"type\":\"BasicTickFormatter\"},{\"attributes\":{\"fill_alpha\":0.1,\"fill_color\":\"#66c2a5\",\"x\":{\"field\":\"_index_col\"},\"y1\":{\"expr\":{\"id\":\"2899\"}},\"y2\":{\"expr\":{\"id\":\"2900\"}}},\"id\":\"2908\",\"type\":\"VArea\"},{\"attributes\":{\"end\":14},\"id\":\"2876\",\"type\":\"Range1d\"},{\"attributes\":{},\"id\":\"2892\",\"type\":\"SaveTool\"},{\"attributes\":{\"fields\":[\"y0\"]},\"id\":\"2900\",\"type\":\"Stack\"},{\"attributes\":{\"fields\":[\"y0\",\"y1\"]},\"id\":\"2902\",\"type\":\"Stack\"},{\"attributes\":{},\"id\":\"2880\",\"type\":\"LinearScale\"},{\"attributes\":{\"axis_label\":null,\"formatter\":{\"id\":\"2915\"},\"major_label_policy\":{\"id\":\"2916\"},\"ticker\":{\"id\":\"2885\"}},\"id\":\"2884\",\"type\":\"LinearAxis\"},{\"attributes\":{},\"id\":\"2958\",\"type\":\"Selection\"}],\"root_ids\":[\"2873\"]},\"title\":\"Bokeh Application\",\"version\":\"2.3.3\"}};\n  var render_items = [{\"docid\":\"fb4a8353-c39a-4ef7-9792-6ea3f18d8547\",\"root_ids\":[\"2873\"],\"roots\":{\"2873\":\"c6404238-53da-4955-a252-b2151a4a682a\"}}];\n  root.Bokeh.embed.embed_items_notebook(docs_json, render_items);\n\n  }\n  if (root.Bokeh !== undefined) {\n    embed_document(root);\n  } else {\n    var attempts = 0;\n    var timer = setInterval(function(root) {\n      if (root.Bokeh !== undefined) {\n        clearInterval(timer);\n        embed_document(root);\n      } else {\n        attempts++;\n        if (attempts > 100) {\n          clearInterval(timer);\n          console.log(\"Bokeh: ERROR: Unable to run BokehJS code because BokehJS library is missing\");\n        }\n      }\n    }, 10, root)\n  }\n})(window);",
      "application/vnd.bokehjs_exec.v0+json": ""
     },
     "metadata": {
      "application/vnd.bokehjs_exec.v0+json": {
       "id": "2873"
      }
     }
    }
   ],
   "metadata": {}
  },
  {
   "cell_type": "code",
   "execution_count": 35,
   "source": [
    "#export\n",
    "def pie_figure(data, title='pie', tools=BOKEH_DEFAULT_TOOLS, toolbar_location=BOKEH_DEFAULT_TOOLBAR_LOC,\n",
    "                min_pct=0.01, others_name='OTHERS', legend_orientation=\"horizontal\", legend_location=\"top_center\",\n",
    "                radius=0.8, pct_text_pad=100, **kwargs):\n",
    "    x = list(data.keys())\n",
    "    y = list(data.values())\n",
    "    df = pd.Series(data).reset_index(name='y').rename(columns={'index':'x'})\n",
    "    df[\"percentage\"] = df[\"y\"] / df[\"y\"].sum()\n",
    "    if isinstance(min_pct, float) and 0<min_pct<1 and len(df[df[\"percentage\"] < min_pct]) > 0:\n",
    "        others_y = df[df[\"percentage\"] < min_pct]['y'].sum()\n",
    "        others_pct = df[df[\"percentage\"] < min_pct]['percentage'].sum()\n",
    "        df = df[df[\"percentage\"] >= min_pct]\n",
    "        df = df.append({'x': others_name, 'y': others_y, 'percentage': others_pct}, ignore_index=True)\n",
    "    df['percentage'] = df['percentage'].astype(float).map(lambda n: '{:.1%}'.format(n))\n",
    "    df[\"percentage\"] = df['percentage'].astype(str)\n",
    "    df[\"percentage\"] = df[\"percentage\"].str.pad(pct_text_pad, side=\"left\")\n",
    "    df['angle'] = df['y']/df['y'].sum() * 2 * math.pi\n",
    "    df['color'] = count2colors(len(df))\n",
    "    tooltips = [(\"category\", \"@x\"), (\"count\", \"@y\"), (\"percentage\", \"@percentage\")\n",
    "\n",
    "]\n",
    "    p = figure(title=title, tools=tools, tooltips=tooltips, toolbar_location=toolbar_location, **kwargs)\n",
    "\n",
    "    p.wedge(x=0, y=1, radius=radius,\n",
    "        start_angle=cumsum('angle', include_zero=True), end_angle=cumsum('angle'),\n",
    "        line_color=\"white\", fill_color='color', legend_field='x', source=df)\n",
    "    # labels = LabelSet(x=\"cos\", y=\"sin\", y_offset=0, text='percentage', text_align=\"center\", angle=0, source=ColumnDataSource(df), render_mode='canvas')\n",
    "    labels = LabelSet(x=0, y=1, y_offset=0, text='percentage', text_align=\"center\", angle=cumsum('angle', include_zero=True), source=ColumnDataSource(df), render_mode='canvas')\n",
    "    p.add_layout(labels)\n",
    "\n",
    "    p.axis.axis_label=None\n",
    "    p.axis.visible=False\n",
    "    p.grid.grid_line_color = None\n",
    "    p.legend.orientation = legend_orientation\n",
    "    p.legend.location = legend_location\n",
    "    return p"
   ],
   "outputs": [],
   "metadata": {}
  },
  {
   "cell_type": "code",
   "execution_count": 36,
   "source": [
    "x = {\n",
    "    'United States': 157,\n",
    "    'United Kingdom': 93,\n",
    "    'Japan': 89,\n",
    "    'China': 63,\n",
    "    'Germany': 44,\n",
    "    'India': 42,\n",
    "    'Italy': 40,\n",
    "    'Australia': 35,\n",
    "    'Brazil': 32,\n",
    "    'France': 31,\n",
    "    'Taiwan': 31,\n",
    "    'Spain': 29\n",
    "}\n",
    "p = pie_figure(x)\n",
    "show(p)"
   ],
   "outputs": [
    {
     "output_type": "display_data",
     "data": {
      "text/html": [
       "\n",
       "\n",
       "\n",
       "\n",
       "\n",
       "\n",
       "  <div class=\"bk-root\" id=\"8ec90746-16a4-4bf9-88db-ae897759fe35\" data-root-id=\"3177\"></div>\n"
      ]
     },
     "metadata": {}
    },
    {
     "output_type": "display_data",
     "data": {
      "application/javascript": "(function(root) {\n  function embed_document(root) {\n    \n  var docs_json = {\"e8244f31-4bad-49a6-99a3-97e1d78a6a64\":{\"defs\":[],\"roots\":{\"references\":[{\"attributes\":{\"below\":[{\"id\":\"3188\"}],\"center\":[{\"id\":\"3191\"},{\"id\":\"3195\"},{\"id\":\"3222\"},{\"id\":\"3226\"}],\"left\":[{\"id\":\"3192\"}],\"renderers\":[{\"id\":\"3211\"}],\"title\":{\"id\":\"3178\"},\"toolbar\":{\"id\":\"3200\"},\"toolbar_location\":\"above\",\"x_range\":{\"id\":\"3180\"},\"x_scale\":{\"id\":\"3184\"},\"y_range\":{\"id\":\"3182\"},\"y_scale\":{\"id\":\"3186\"}},\"id\":\"3177\",\"subtype\":\"Figure\",\"type\":\"Plot\"},{\"attributes\":{},\"id\":\"3214\",\"type\":\"BasicTickFormatter\"},{\"attributes\":{\"axis_label\":null,\"formatter\":{\"id\":\"3214\"},\"major_label_policy\":{\"id\":\"3215\"},\"ticker\":{\"id\":\"3193\"},\"visible\":false},\"id\":\"3192\",\"type\":\"LinearAxis\"},{\"attributes\":{},\"id\":\"3215\",\"type\":\"AllLabels\"},{\"attributes\":{\"axis_label\":null,\"formatter\":{\"id\":\"3217\"},\"major_label_policy\":{\"id\":\"3218\"},\"ticker\":{\"id\":\"3189\"},\"visible\":false},\"id\":\"3188\",\"type\":\"LinearAxis\"},{\"attributes\":{\"source\":{\"id\":\"3207\"}},\"id\":\"3212\",\"type\":\"CDSView\"},{\"attributes\":{\"angle\":{\"expr\":{\"id\":\"3224\"}},\"source\":{\"id\":\"3225\"},\"text\":{\"field\":\"percentage\"},\"text_align\":{\"value\":\"center\"},\"x\":{\"value\":0},\"y\":{\"value\":1}},\"id\":\"3226\",\"type\":\"LabelSet\"},{\"attributes\":{\"items\":[{\"id\":\"3223\"}],\"location\":\"top_center\",\"orientation\":\"horizontal\"},\"id\":\"3222\",\"type\":\"Legend\"},{\"attributes\":{},\"id\":\"3184\",\"type\":\"LinearScale\"},{\"attributes\":{\"field\":\"angle\",\"include_zero\":true},\"id\":\"3224\",\"type\":\"CumSum\"},{\"attributes\":{},\"id\":\"3182\",\"type\":\"DataRange1d\"},{\"attributes\":{\"field\":\"angle\"},\"id\":\"3206\",\"type\":\"CumSum\"},{\"attributes\":{},\"id\":\"3189\",\"type\":\"BasicTicker\"},{\"attributes\":{\"axis\":{\"id\":\"3188\"},\"grid_line_color\":null,\"ticker\":null},\"id\":\"3191\",\"type\":\"Grid\"},{\"attributes\":{\"data\":{\"angle\":{\"__ndarray__\":\"eQLEMwAC9z+3V8R09kHrP+QcmNXVFeo/hZ74ygF34j8vDs2tzcrZP1vToA6tntg/iJh0b4xy1z93BYbhOoTUPzmtw/IJwtI/0I8to/kr0j/Qjy2j+SvSP/xUAQTZ/9A/\",\"dtype\":\"float64\",\"order\":\"little\",\"shape\":[12]},\"color\":[\"#1f77b4\",\"#aec7e8\",\"#ff7f0e\",\"#ffbb78\",\"#2ca02c\",\"#98df8a\",\"#d62728\",\"#ff9896\",\"#9467bd\",\"#c5b0d5\",\"#8c564b\",\"#c49c94\"],\"index\":[0,1,2,3,4,5,6,7,8,9,10,11],\"percentage\":[\"                                                                                               22.9%\",\"                                                                                               13.6%\",\"                                                                                               13.0%\",\"                                                                                                9.2%\",\"                                                                                                6.4%\",\"                                                                                                6.1%\",\"                                                                                                5.8%\",\"                                                                                                5.1%\",\"                                                                                                4.7%\",\"                                                                                                4.5%\",\"                                                                                                4.5%\",\"                                                                                                4.2%\"],\"x\":[\"United States\",\"United Kingdom\",\"Japan\",\"China\",\"Germany\",\"India\",\"Italy\",\"Australia\",\"Brazil\",\"France\",\"Taiwan\",\"Spain\"],\"y\":[157,93,89,63,44,42,40,35,32,31,31,29]},\"selected\":{\"id\":\"3388\"},\"selection_policy\":{\"id\":\"3387\"}},\"id\":\"3225\",\"type\":\"ColumnDataSource\"},{\"attributes\":{\"axis\":{\"id\":\"3192\"},\"dimension\":1,\"grid_line_color\":null,\"ticker\":null},\"id\":\"3195\",\"type\":\"Grid\"},{\"attributes\":{\"callback\":null,\"tooltips\":[[\"category\",\"@x\"],[\"count\",\"@y\"],[\"percentage\",\"@percentage\"]]},\"id\":\"3199\",\"type\":\"HoverTool\"},{\"attributes\":{},\"id\":\"3198\",\"type\":\"PanTool\"},{\"attributes\":{},\"id\":\"3197\",\"type\":\"ResetTool\"},{\"attributes\":{\"text\":\"pie\"},\"id\":\"3178\",\"type\":\"Title\"},{\"attributes\":{},\"id\":\"3196\",\"type\":\"SaveTool\"},{\"attributes\":{},\"id\":\"3387\",\"type\":\"UnionRenderers\"},{\"attributes\":{},\"id\":\"3220\",\"type\":\"UnionRenderers\"},{\"attributes\":{},\"id\":\"3218\",\"type\":\"AllLabels\"},{\"attributes\":{\"field\":\"angle\",\"include_zero\":true},\"id\":\"3205\",\"type\":\"CumSum\"},{\"attributes\":{},\"id\":\"3221\",\"type\":\"Selection\"},{\"attributes\":{},\"id\":\"3186\",\"type\":\"LinearScale\"},{\"attributes\":{},\"id\":\"3388\",\"type\":\"Selection\"},{\"attributes\":{},\"id\":\"3217\",\"type\":\"BasicTickFormatter\"},{\"attributes\":{\"end_angle\":{\"expr\":{\"id\":\"3206\"}},\"fill_color\":{\"field\":\"color\"},\"line_color\":{\"value\":\"white\"},\"radius\":{\"value\":0.8},\"start_angle\":{\"expr\":{\"id\":\"3205\"}},\"x\":{\"value\":0},\"y\":{\"value\":1}},\"id\":\"3209\",\"type\":\"Wedge\"},{\"attributes\":{\"end_angle\":{\"expr\":{\"id\":\"3206\"}},\"fill_alpha\":{\"value\":0.1},\"fill_color\":{\"field\":\"color\"},\"line_alpha\":{\"value\":0.1},\"line_color\":{\"value\":\"white\"},\"radius\":{\"value\":0.8},\"start_angle\":{\"expr\":{\"id\":\"3205\"}},\"x\":{\"value\":0},\"y\":{\"value\":1}},\"id\":\"3210\",\"type\":\"Wedge\"},{\"attributes\":{\"label\":{\"field\":\"x\"},\"renderers\":[{\"id\":\"3211\"}]},\"id\":\"3223\",\"type\":\"LegendItem\"},{\"attributes\":{\"active_multi\":null,\"tools\":[{\"id\":\"3196\"},{\"id\":\"3197\"},{\"id\":\"3198\"},{\"id\":\"3199\"}]},\"id\":\"3200\",\"type\":\"Toolbar\"},{\"attributes\":{},\"id\":\"3180\",\"type\":\"DataRange1d\"},{\"attributes\":{\"data_source\":{\"id\":\"3207\"},\"glyph\":{\"id\":\"3209\"},\"hover_glyph\":null,\"muted_glyph\":null,\"nonselection_glyph\":{\"id\":\"3210\"},\"view\":{\"id\":\"3212\"}},\"id\":\"3211\",\"type\":\"GlyphRenderer\"},{\"attributes\":{\"data\":{\"angle\":{\"__ndarray__\":\"eQLEMwAC9z+3V8R09kHrP+QcmNXVFeo/hZ74ygF34j8vDs2tzcrZP1vToA6tntg/iJh0b4xy1z93BYbhOoTUPzmtw/IJwtI/0I8to/kr0j/Qjy2j+SvSP/xUAQTZ/9A/\",\"dtype\":\"float64\",\"order\":\"little\",\"shape\":[12]},\"color\":[\"#1f77b4\",\"#aec7e8\",\"#ff7f0e\",\"#ffbb78\",\"#2ca02c\",\"#98df8a\",\"#d62728\",\"#ff9896\",\"#9467bd\",\"#c5b0d5\",\"#8c564b\",\"#c49c94\"],\"index\":[0,1,2,3,4,5,6,7,8,9,10,11],\"percentage\":[\"                                                                                               22.9%\",\"                                                                                               13.6%\",\"                                                                                               13.0%\",\"                                                                                                9.2%\",\"                                                                                                6.4%\",\"                                                                                                6.1%\",\"                                                                                                5.8%\",\"                                                                                                5.1%\",\"                                                                                                4.7%\",\"                                                                                                4.5%\",\"                                                                                                4.5%\",\"                                                                                                4.2%\"],\"x\":[\"United States\",\"United Kingdom\",\"Japan\",\"China\",\"Germany\",\"India\",\"Italy\",\"Australia\",\"Brazil\",\"France\",\"Taiwan\",\"Spain\"],\"y\":[157,93,89,63,44,42,40,35,32,31,31,29]},\"selected\":{\"id\":\"3221\"},\"selection_policy\":{\"id\":\"3220\"}},\"id\":\"3207\",\"type\":\"ColumnDataSource\"},{\"attributes\":{},\"id\":\"3193\",\"type\":\"BasicTicker\"}],\"root_ids\":[\"3177\"]},\"title\":\"Bokeh Application\",\"version\":\"2.3.3\"}};\n  var render_items = [{\"docid\":\"e8244f31-4bad-49a6-99a3-97e1d78a6a64\",\"root_ids\":[\"3177\"],\"roots\":{\"3177\":\"8ec90746-16a4-4bf9-88db-ae897759fe35\"}}];\n  root.Bokeh.embed.embed_items_notebook(docs_json, render_items);\n\n  }\n  if (root.Bokeh !== undefined) {\n    embed_document(root);\n  } else {\n    var attempts = 0;\n    var timer = setInterval(function(root) {\n      if (root.Bokeh !== undefined) {\n        clearInterval(timer);\n        embed_document(root);\n      } else {\n        attempts++;\n        if (attempts > 100) {\n          clearInterval(timer);\n          console.log(\"Bokeh: ERROR: Unable to run BokehJS code because BokehJS library is missing\");\n        }\n      }\n    }, 10, root)\n  }\n})(window);",
      "application/vnd.bokehjs_exec.v0+json": ""
     },
     "metadata": {
      "application/vnd.bokehjs_exec.v0+json": {
       "id": "3177"
      }
     }
    }
   ],
   "metadata": {}
  },
  {
   "cell_type": "code",
   "execution_count": 37,
   "source": [
    "#export\n",
    "def datatable_from_dataframe(df, **kwargs):\n",
    "    df = df.fillna('nan')\n",
    "    columns = [TableColumn(field=o, title=o) for o in df.columns]\n",
    "    data_table = DataTable(columns=columns, source=ColumnDataSource(df), **kwargs)\n",
    "    return data_table\n"
   ],
   "outputs": [],
   "metadata": {}
  },
  {
   "cell_type": "code",
   "execution_count": 38,
   "source": [
    "show(datatable_from_dataframe(df))"
   ],
   "outputs": [
    {
     "output_type": "display_data",
     "data": {
      "text/html": [
       "\n",
       "\n",
       "\n",
       "\n",
       "\n",
       "\n",
       "  <div class=\"bk-root\" id=\"74f10f62-4c63-441b-be95-2dd4a9757bcc\" data-root-id=\"3450\"></div>\n"
      ]
     },
     "metadata": {}
    },
    {
     "output_type": "display_data",
     "data": {
      "application/javascript": "(function(root) {\n  function embed_document(root) {\n    \n  var docs_json = {\"d48c24f0-6301-423f-86cd-30b2d187d339\":{\"defs\":[],\"roots\":{\"references\":[{\"attributes\":{\"columns\":[{\"id\":\"3446\"},{\"id\":\"3447\"},{\"id\":\"3448\"}],\"source\":{\"id\":\"3449\"},\"view\":{\"id\":\"3452\"}},\"id\":\"3450\",\"type\":\"DataTable\"},{\"attributes\":{},\"id\":\"3622\",\"type\":\"StringFormatter\"},{\"attributes\":{},\"id\":\"3619\",\"type\":\"StringEditor\"},{\"attributes\":{\"editor\":{\"id\":\"3619\"},\"field\":\"y0\",\"formatter\":{\"id\":\"3618\"},\"title\":\"y0\"},\"id\":\"3446\",\"type\":\"TableColumn\"},{\"attributes\":{},\"id\":\"3617\",\"type\":\"Selection\"},{\"attributes\":{\"data\":{\"_index_col\":[0,1,2,3,4,5,6,7,8,9,10,11,12,13,14],\"y0\":[33,93,51,17,41,87,40,87,71,97,35,88,16,52,53],\"y1\":[93,63,74,83,30,46,81,54,55,71,44,35,16,72,74],\"y2\":[70,60,79,89,73,84,24,18,59,49,51,94,15,56,87]},\"selected\":{\"id\":\"3617\"},\"selection_policy\":{\"id\":\"3616\"}},\"id\":\"3449\",\"type\":\"ColumnDataSource\"},{\"attributes\":{},\"id\":\"3623\",\"type\":\"StringEditor\"},{\"attributes\":{\"editor\":{\"id\":\"3621\"},\"field\":\"y1\",\"formatter\":{\"id\":\"3620\"},\"title\":\"y1\"},\"id\":\"3447\",\"type\":\"TableColumn\"},{\"attributes\":{},\"id\":\"3621\",\"type\":\"StringEditor\"},{\"attributes\":{},\"id\":\"3618\",\"type\":\"StringFormatter\"},{\"attributes\":{},\"id\":\"3616\",\"type\":\"UnionRenderers\"},{\"attributes\":{\"source\":{\"id\":\"3449\"}},\"id\":\"3452\",\"type\":\"CDSView\"},{\"attributes\":{\"editor\":{\"id\":\"3623\"},\"field\":\"y2\",\"formatter\":{\"id\":\"3622\"},\"title\":\"y2\"},\"id\":\"3448\",\"type\":\"TableColumn\"},{\"attributes\":{},\"id\":\"3620\",\"type\":\"StringFormatter\"}],\"root_ids\":[\"3450\"]},\"title\":\"Bokeh Application\",\"version\":\"2.3.3\"}};\n  var render_items = [{\"docid\":\"d48c24f0-6301-423f-86cd-30b2d187d339\",\"root_ids\":[\"3450\"],\"roots\":{\"3450\":\"74f10f62-4c63-441b-be95-2dd4a9757bcc\"}}];\n  root.Bokeh.embed.embed_items_notebook(docs_json, render_items);\n\n  }\n  if (root.Bokeh !== undefined) {\n    embed_document(root);\n  } else {\n    var attempts = 0;\n    var timer = setInterval(function(root) {\n      if (root.Bokeh !== undefined) {\n        clearInterval(timer);\n        embed_document(root);\n      } else {\n        attempts++;\n        if (attempts > 100) {\n          clearInterval(timer);\n          console.log(\"Bokeh: ERROR: Unable to run BokehJS code because BokehJS library is missing\");\n        }\n      }\n    }, 10, root)\n  }\n})(window);",
      "application/vnd.bokehjs_exec.v0+json": ""
     },
     "metadata": {
      "application/vnd.bokehjs_exec.v0+json": {
       "id": "3450"
      }
     }
    }
   ],
   "metadata": {}
  },
  {
   "cell_type": "code",
   "execution_count": 39,
   "source": [
    "#export\n",
    "def bar_mixed_figure(df, group_keys:list, y_column_name, label_angle=0,\n",
    "                    agg_method='sum', tools=BOKEH_DEFAULT_TOOLS, title='mixed bar',\n",
    "                    toolbar_location=BOKEH_DEFAULT_TOOLBAR_LOC, draw_mean_line=False, line_alpha=0.8,\n",
    "                    legend_orientation = \"vertical\", legend_location = \"top_center\",\n",
    "                    label_offset_kwargs={'x_offset':-8, 'y_offset':2}, y_axis_label=None, x_axis_label=None,\n",
    "                    line_legend_label=\"平均值\", line_color=\"#4292c6\", hide_legend=True, **kwargs):\n",
    "    bar_group_keys = list(df[group_keys[-1]].unique())\n",
    "    palette = count2colors(len(bar_group_keys))\n",
    "    grouped_df = df.groupby(group_keys).agg(agg_method)\n",
    "    bar_legend_values = list(grouped_df.reset_index()[group_keys[-1]].values)\n",
    "    x = list(grouped_df.index)\n",
    "    counts = list(grouped_df[y_column_name].values)\n",
    "\n",
    "    source = ColumnDataSource(data=dict(x=x, counts=counts, bar_legend=bar_legend_values))\n",
    "\n",
    "    p = figure(x_range=FactorRange(*x), title=title, toolbar_location=toolbar_location, tools=tools, **kwargs)\n",
    "\n",
    "    p.vbar(x='x', top='counts', width=0.9, source=source, line_color=\"white\", legend_field='bar_legend',\n",
    "        fill_color=factor_cmap('x', palette=palette, factors=bar_group_keys, start=len(group_keys)-1, end=len(group_keys)))\n",
    "    labels = LabelSet(\n",
    "                x='x', y='counts', text='counts', level='glyph', angle=label_angle,\n",
    "                source=source, render_mode='canvas', text_font_size=\"9pt\", **label_offset_kwargs)\n",
    "    p.add_layout(labels)\n",
    "    if draw_mean_line:\n",
    "        line_data = df.groupby(group_keys[0])[y_column_name].mean().to_dict()\n",
    "        p.line(\n",
    "            x=list(line_data.keys()), y=list(line_data.values()), \n",
    "            color=line_color, line_width=2, legend_label=line_legend_label, alpha=line_alpha\n",
    "        )\n",
    "        p.circle(\n",
    "            x=list(line_data.keys()), y=list(line_data.values()), \n",
    "            fill_color='white', size=6, line_color='black', legend_label=line_legend_label, alpha=line_alpha\n",
    "        )\n",
    "        p.add_tools(HoverTool(tooltips=[('mean', '@y')]))\n",
    "    p.legend.orientation = legend_orientation\n",
    "    p.legend.location = legend_location\n",
    "    if hide_legend: p.legend.visible = False\n",
    "\n",
    "    p.y_range.start = 0\n",
    "    p.x_range.range_padding = 0.1\n",
    "    p.xaxis.major_label_orientation = 1\n",
    "    p.xgrid.grid_line_color = None\n",
    "    p.yaxis.axis_label = y_axis_label\n",
    "    p.xaxis.axis_label = x_axis_label\n",
    "    return p"
   ],
   "outputs": [],
   "metadata": {}
  },
  {
   "cell_type": "code",
   "execution_count": 40,
   "source": [
    "fruits_data_list = []\n",
    "fruits = ['Apples', 'Pears', 'Nectarines', 'Plums', 'Grapes', 'Strawberries']\n",
    "data = {\n",
    "    '2019'   : [2, 1, 4, 3, 2, 4],\n",
    "    '2020'   : [5, 3, 3, 2, 4, 6],\n",
    "    '2021'   : [3, 2, 4, 4, 5, 3]\n",
    "}\n",
    "for year in data:\n",
    "    for fruit, val in zip(fruits, data[year]):\n",
    "        fruits_data_list.append([fruit, year, val])\n",
    "fruits_df = pd.DataFrame(fruits_data_list, columns=['fruit', 'year', 'count'])"
   ],
   "outputs": [],
   "metadata": {}
  },
  {
   "cell_type": "code",
   "execution_count": 41,
   "source": [
    "p = bar_mixed_figure(fruits_df[:-2], ['fruit', 'year'], 'count', draw_mean_line=True)\n",
    "show(p)"
   ],
   "outputs": [
    {
     "output_type": "display_data",
     "data": {
      "text/html": [
       "\n",
       "\n",
       "\n",
       "\n",
       "\n",
       "\n",
       "  <div class=\"bk-root\" id=\"d71f62cf-48c9-4b13-8422-57f0f3c65b8b\" data-root-id=\"3666\"></div>\n"
      ]
     },
     "metadata": {}
    },
    {
     "output_type": "display_data",
     "data": {
      "application/javascript": "(function(root) {\n  function embed_document(root) {\n    \n  var docs_json = {\"46e24f9e-24c1-4fa8-91cb-6508adaa2776\":{\"defs\":[],\"roots\":{\"references\":[{\"attributes\":{\"below\":[{\"id\":\"3676\"}],\"center\":[{\"id\":\"3678\"},{\"id\":\"3682\"},{\"id\":\"3696\"},{\"id\":\"3714\"}],\"left\":[{\"id\":\"3679\"}],\"renderers\":[{\"id\":\"3694\"},{\"id\":\"3701\"},{\"id\":\"3719\"}],\"title\":{\"id\":\"3667\"},\"toolbar\":{\"id\":\"3686\"},\"toolbar_location\":\"above\",\"x_range\":{\"id\":\"3665\"},\"x_scale\":{\"id\":\"3672\"},\"y_range\":{\"id\":\"3670\"},\"y_scale\":{\"id\":\"3674\"}},\"id\":\"3666\",\"subtype\":\"Figure\",\"type\":\"Plot\"},{\"attributes\":{\"axis_label\":null,\"formatter\":{\"id\":\"3704\"},\"major_label_policy\":{\"id\":\"3705\"},\"ticker\":{\"id\":\"3680\"}},\"id\":\"3679\",\"type\":\"LinearAxis\"},{\"attributes\":{\"axis_label\":null,\"formatter\":{\"id\":\"3707\"},\"major_label_orientation\":1,\"major_label_policy\":{\"id\":\"3708\"},\"ticker\":{\"id\":\"3677\"}},\"id\":\"3676\",\"type\":\"CategoricalAxis\"},{\"attributes\":{\"fill_alpha\":{\"value\":0.1},\"fill_color\":{\"field\":\"x\",\"transform\":{\"id\":\"3690\"}},\"line_alpha\":{\"value\":0.1},\"line_color\":{\"value\":\"white\"},\"top\":{\"field\":\"counts\"},\"width\":{\"value\":0.9},\"x\":{\"field\":\"x\"}},\"id\":\"3693\",\"type\":\"VBar\"},{\"attributes\":{\"source\":{\"id\":\"3716\"}},\"id\":\"3720\",\"type\":\"CDSView\"},{\"attributes\":{\"data\":{\"counts\":[2,5,3,2,4,4,3,4,1,3,2,3,2,4,4,6],\"x\":[[\"Apples\",\"2019\"],[\"Apples\",\"2020\"],[\"Apples\",\"2021\"],[\"Grapes\",\"2019\"],[\"Grapes\",\"2020\"],[\"Nectarines\",\"2019\"],[\"Nectarines\",\"2020\"],[\"Nectarines\",\"2021\"],[\"Pears\",\"2019\"],[\"Pears\",\"2020\"],[\"Pears\",\"2021\"],[\"Plums\",\"2019\"],[\"Plums\",\"2020\"],[\"Plums\",\"2021\"],[\"Strawberries\",\"2019\"],[\"Strawberries\",\"2020\"]]},\"selected\":{\"id\":\"3711\"},\"selection_policy\":{\"id\":\"3710\"}},\"id\":\"3664\",\"type\":\"ColumnDataSource\"},{\"attributes\":{\"data\":{\"x\":[\"Apples\",\"Grapes\",\"Nectarines\",\"Pears\",\"Plums\",\"Strawberries\"],\"y\":[3.3333333333333335,3.0,3.6666666666666665,2.0,3.0,5.0]},\"selected\":{\"id\":\"3713\"},\"selection_policy\":{\"id\":\"3712\"}},\"id\":\"3698\",\"type\":\"ColumnDataSource\"},{\"attributes\":{},\"id\":\"3707\",\"type\":\"CategoricalTickFormatter\"},{\"attributes\":{},\"id\":\"3708\",\"type\":\"AllLabels\"},{\"attributes\":{\"level\":\"glyph\",\"source\":{\"id\":\"3664\"},\"text\":{\"field\":\"counts\"},\"text_font_size\":{\"value\":\"9pt\"},\"x\":{\"field\":\"x\"},\"x_offset\":{\"value\":-8},\"y\":{\"field\":\"counts\"},\"y_offset\":{\"value\":2}},\"id\":\"3696\",\"type\":\"LabelSet\"},{\"attributes\":{\"source\":{\"id\":\"3664\"}},\"id\":\"3695\",\"type\":\"CDSView\"},{\"attributes\":{\"text\":\"mixed bar\"},\"id\":\"3667\",\"type\":\"Title\"},{\"attributes\":{},\"id\":\"3674\",\"type\":\"LinearScale\"},{\"attributes\":{\"start\":0},\"id\":\"3670\",\"type\":\"DataRange1d\"},{\"attributes\":{},\"id\":\"3710\",\"type\":\"UnionRenderers\"},{\"attributes\":{},\"id\":\"3732\",\"type\":\"UnionRenderers\"},{\"attributes\":{},\"id\":\"3711\",\"type\":\"Selection\"},{\"attributes\":{\"data_source\":{\"id\":\"3664\"},\"glyph\":{\"id\":\"3692\"},\"hover_glyph\":null,\"muted_glyph\":null,\"nonselection_glyph\":{\"id\":\"3693\"},\"view\":{\"id\":\"3695\"}},\"id\":\"3694\",\"type\":\"GlyphRenderer\"},{\"attributes\":{},\"id\":\"3733\",\"type\":\"Selection\"},{\"attributes\":{},\"id\":\"3683\",\"type\":\"SaveTool\"},{\"attributes\":{},\"id\":\"3672\",\"type\":\"CategoricalScale\"},{\"attributes\":{},\"id\":\"3712\",\"type\":\"UnionRenderers\"},{\"attributes\":{\"items\":[{\"id\":\"3715\"}],\"location\":\"top_center\",\"visible\":false},\"id\":\"3714\",\"type\":\"Legend\"},{\"attributes\":{\"axis\":{\"id\":\"3679\"},\"dimension\":1,\"ticker\":null},\"id\":\"3682\",\"type\":\"Grid\"},{\"attributes\":{\"axis\":{\"id\":\"3676\"},\"grid_line_color\":null,\"ticker\":null},\"id\":\"3678\",\"type\":\"Grid\"},{\"attributes\":{\"factors\":[[\"Apples\",\"2019\"],[\"Apples\",\"2020\"],[\"Apples\",\"2021\"],[\"Grapes\",\"2019\"],[\"Grapes\",\"2020\"],[\"Nectarines\",\"2019\"],[\"Nectarines\",\"2020\"],[\"Nectarines\",\"2021\"],[\"Pears\",\"2019\"],[\"Pears\",\"2020\"],[\"Pears\",\"2021\"],[\"Plums\",\"2019\"],[\"Plums\",\"2020\"],[\"Plums\",\"2021\"],[\"Strawberries\",\"2019\"],[\"Strawberries\",\"2020\"]],\"range_padding\":0.1},\"id\":\"3665\",\"type\":\"FactorRange\"},{\"attributes\":{\"fill_color\":{\"field\":\"x\",\"transform\":{\"id\":\"3690\"}},\"line_color\":{\"value\":\"white\"},\"top\":{\"field\":\"counts\"},\"width\":{\"value\":0.9},\"x\":{\"field\":\"x\"}},\"id\":\"3692\",\"type\":\"VBar\"},{\"attributes\":{},\"id\":\"3713\",\"type\":\"Selection\"},{\"attributes\":{\"line_alpha\":0.1,\"line_color\":\"#4292c6\",\"line_width\":2,\"x\":{\"field\":\"x\"},\"y\":{\"field\":\"y\"}},\"id\":\"3700\",\"type\":\"Line\"},{\"attributes\":{\"data_source\":{\"id\":\"3698\"},\"glyph\":{\"id\":\"3699\"},\"hover_glyph\":null,\"muted_glyph\":null,\"nonselection_glyph\":{\"id\":\"3700\"},\"view\":{\"id\":\"3702\"}},\"id\":\"3701\",\"type\":\"GlyphRenderer\"},{\"attributes\":{},\"id\":\"3704\",\"type\":\"BasicTickFormatter\"},{\"attributes\":{},\"id\":\"3705\",\"type\":\"AllLabels\"},{\"attributes\":{\"fill_alpha\":{\"value\":0.8},\"fill_color\":{\"value\":\"white\"},\"line_alpha\":{\"value\":0.8},\"size\":{\"value\":6},\"x\":{\"field\":\"x\"},\"y\":{\"field\":\"y\"}},\"id\":\"3717\",\"type\":\"Circle\"},{\"attributes\":{},\"id\":\"3677\",\"type\":\"CategoricalTicker\"},{\"attributes\":{},\"id\":\"3684\",\"type\":\"ResetTool\"},{\"attributes\":{\"callback\":null,\"tooltips\":[[\"mean\",\"@y\"]]},\"id\":\"3734\",\"type\":\"HoverTool\"},{\"attributes\":{\"data\":{\"x\":[\"Apples\",\"Grapes\",\"Nectarines\",\"Pears\",\"Plums\",\"Strawberries\"],\"y\":[3.3333333333333335,3.0,3.6666666666666665,2.0,3.0,5.0]},\"selected\":{\"id\":\"3733\"},\"selection_policy\":{\"id\":\"3732\"}},\"id\":\"3716\",\"type\":\"ColumnDataSource\"},{\"attributes\":{\"line_alpha\":0.8,\"line_color\":\"#4292c6\",\"line_width\":2,\"x\":{\"field\":\"x\"},\"y\":{\"field\":\"y\"}},\"id\":\"3699\",\"type\":\"Line\"},{\"attributes\":{\"label\":{\"value\":\"\\u5e73\\u5747\\u503c\"},\"renderers\":[{\"id\":\"3701\"},{\"id\":\"3719\"}]},\"id\":\"3715\",\"type\":\"LegendItem\"},{\"attributes\":{},\"id\":\"3680\",\"type\":\"BasicTicker\"},{\"attributes\":{\"fill_alpha\":{\"value\":0.1},\"fill_color\":{\"value\":\"white\"},\"line_alpha\":{\"value\":0.1},\"size\":{\"value\":6},\"x\":{\"field\":\"x\"},\"y\":{\"field\":\"y\"}},\"id\":\"3718\",\"type\":\"Circle\"},{\"attributes\":{\"active_multi\":null,\"tools\":[{\"id\":\"3683\"},{\"id\":\"3684\"},{\"id\":\"3685\"},{\"id\":\"3734\"}]},\"id\":\"3686\",\"type\":\"Toolbar\"},{\"attributes\":{\"end\":2,\"factors\":[\"2019\",\"2020\",\"2021\"],\"palette\":[\"#66c2a5\",\"#fc8d62\",\"#8da0cb\"],\"start\":1},\"id\":\"3690\",\"type\":\"CategoricalColorMapper\"},{\"attributes\":{},\"id\":\"3685\",\"type\":\"PanTool\"},{\"attributes\":{\"source\":{\"id\":\"3698\"}},\"id\":\"3702\",\"type\":\"CDSView\"},{\"attributes\":{\"data_source\":{\"id\":\"3716\"},\"glyph\":{\"id\":\"3717\"},\"hover_glyph\":null,\"muted_glyph\":null,\"nonselection_glyph\":{\"id\":\"3718\"},\"view\":{\"id\":\"3720\"}},\"id\":\"3719\",\"type\":\"GlyphRenderer\"}],\"root_ids\":[\"3666\"]},\"title\":\"Bokeh Application\",\"version\":\"2.3.3\"}};\n  var render_items = [{\"docid\":\"46e24f9e-24c1-4fa8-91cb-6508adaa2776\",\"root_ids\":[\"3666\"],\"roots\":{\"3666\":\"d71f62cf-48c9-4b13-8422-57f0f3c65b8b\"}}];\n  root.Bokeh.embed.embed_items_notebook(docs_json, render_items);\n\n  }\n  if (root.Bokeh !== undefined) {\n    embed_document(root);\n  } else {\n    var attempts = 0;\n    var timer = setInterval(function(root) {\n      if (root.Bokeh !== undefined) {\n        clearInterval(timer);\n        embed_document(root);\n      } else {\n        attempts++;\n        if (attempts > 100) {\n          clearInterval(timer);\n          console.log(\"Bokeh: ERROR: Unable to run BokehJS code because BokehJS library is missing\");\n        }\n      }\n    }, 10, root)\n  }\n})(window);",
      "application/vnd.bokehjs_exec.v0+json": ""
     },
     "metadata": {
      "application/vnd.bokehjs_exec.v0+json": {
       "id": "3666"
      }
     }
    }
   ],
   "metadata": {}
  },
  {
   "cell_type": "code",
   "execution_count": 42,
   "source": [
    "#export\n",
    "def text_figure(text, plot_width=600, plot_height=200, **kwargs):\n",
    "    p = Paragraph(text=text, width=plot_width, height=plot_height, **kwargs)\n",
    "    return p\n"
   ],
   "outputs": [],
   "metadata": {}
  },
  {
   "cell_type": "code",
   "execution_count": 43,
   "source": [
    "text=\"\"\"Your text is initialized with the 'text' argument.  The\n",
    "remaining Paragraph arguments are 'width' and 'height'. For this example, those values\n",
    "are 200 and 100, respectively.\"\"\"\n",
    "show(text_figure(text, plot_width=800))"
   ],
   "outputs": [
    {
     "output_type": "display_data",
     "data": {
      "text/html": [
       "\n",
       "\n",
       "\n",
       "\n",
       "\n",
       "\n",
       "  <div class=\"bk-root\" id=\"077e4a24-1960-44f2-885a-c54d55be701b\" data-root-id=\"3985\"></div>\n"
      ]
     },
     "metadata": {}
    },
    {
     "output_type": "display_data",
     "data": {
      "application/javascript": "(function(root) {\n  function embed_document(root) {\n    \n  var docs_json = {\"330c674f-600b-450a-b63b-8fc6e7cd6a0c\":{\"defs\":[],\"roots\":{\"references\":[{\"attributes\":{\"height\":200,\"text\":\"Your text is initialized with the 'text' argument.  The\\nremaining Paragraph arguments are 'width' and 'height'. For this example, those values\\nare 200 and 100, respectively.\",\"width\":800},\"id\":\"3985\",\"type\":\"Paragraph\"}],\"root_ids\":[\"3985\"]},\"title\":\"Bokeh Application\",\"version\":\"2.3.3\"}};\n  var render_items = [{\"docid\":\"330c674f-600b-450a-b63b-8fc6e7cd6a0c\",\"root_ids\":[\"3985\"],\"roots\":{\"3985\":\"077e4a24-1960-44f2-885a-c54d55be701b\"}}];\n  root.Bokeh.embed.embed_items_notebook(docs_json, render_items);\n\n  }\n  if (root.Bokeh !== undefined) {\n    embed_document(root);\n  } else {\n    var attempts = 0;\n    var timer = setInterval(function(root) {\n      if (root.Bokeh !== undefined) {\n        clearInterval(timer);\n        embed_document(root);\n      } else {\n        attempts++;\n        if (attempts > 100) {\n          clearInterval(timer);\n          console.log(\"Bokeh: ERROR: Unable to run BokehJS code because BokehJS library is missing\");\n        }\n      }\n    }, 10, root)\n  }\n})(window);",
      "application/vnd.bokehjs_exec.v0+json": ""
     },
     "metadata": {
      "application/vnd.bokehjs_exec.v0+json": {
       "id": "3985"
      }
     }
    }
   ],
   "metadata": {}
  },
  {
   "cell_type": "code",
   "execution_count": null,
   "source": [],
   "outputs": [],
   "metadata": {}
  }
 ],
 "metadata": {
  "interpreter": {
   "hash": "a7fe057d0c9ee00873c1158c26f433bb93b25e835d748ab1d2b96b6108282de5"
  },
  "kernelspec": {
   "display_name": "Python 3",
   "language": "python",
   "name": "python3"
  }
 },
 "nbformat": 4,
 "nbformat_minor": 2
}