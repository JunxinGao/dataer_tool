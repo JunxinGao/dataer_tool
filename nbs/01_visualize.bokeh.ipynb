{
 "cells": [
  {
   "cell_type": "code",
   "execution_count": 1,
   "metadata": {},
   "outputs": [],
   "source": [
    "# default_exp visualize.bokeh"
   ]
  },
  {
   "cell_type": "markdown",
   "metadata": {},
   "source": [
    "# Visualize Bokeh\n",
    "\n",
    "> Use bokeh to do visualize"
   ]
  },
  {
   "cell_type": "code",
   "execution_count": 2,
   "metadata": {},
   "outputs": [],
   "source": [
    "#hide\n",
    "from nbdev.showdoc import *"
   ]
  },
  {
   "cell_type": "code",
   "execution_count": 3,
   "metadata": {},
   "outputs": [],
   "source": [
    "#export\n",
    "from dataer_tool.imports import *\n",
    "from bokeh.palettes import Spectral, Category20, Viridis256, Cividis256, Turbo256, Set2, brewer, Greys256, Inferno256, Magma256, Plasma256\n",
    "from bokeh.io import output_file, show\n",
    "from bokeh.palettes import Spectral6, Spectral\n",
    "from bokeh.plotting import figure\n",
    "from bokeh.models import ColumnDataSource, FactorRange, LabelSet, RangeTool, HoverTool, Label, Legend, Paragraph\n",
    "from bokeh.transform import cumsum, factor_cmap\n",
    "from bokeh.plotting import figure\n",
    "from bokeh.io import output_notebook, show\n",
    "from bokeh.layouts import column\n",
    "from bokeh.plotting.figure import get_range, get_scale\n",
    "from bokeh.models.widgets import DataTable, DateFormatter, TableColumn\n",
    "\n",
    "\n",
    "BOKEH_DEFAULT_TOOLS = 'save,reset,pan'\n",
    "BOKEH_DEFAULT_TOOLBAR_LOC = 'above' #'above', 'below', 'left', 'right', None\n"
   ]
  },
  {
   "cell_type": "code",
   "execution_count": 4,
   "metadata": {},
   "outputs": [],
   "source": [
    "#export\n",
    "def count2colors(count: int):\n",
    "    \"\"\"\n",
    "    colors from `bokeh.palettes`\n",
    "    range:\n",
    "        1:12    -> Spectral, \n",
    "        12:21   -> Category20, \n",
    "        21:257  -> Viridis256, \n",
    "        257:769 -> Turbo256+Cividis256+Viridis256\n",
    "    \"\"\"\n",
    "    if count <= 0:\n",
    "        raise ValueError(f\"Invalid count={count}, must > 0\")\n",
    "    elif count <= 3:\n",
    "        return Set2[3][:count]\n",
    "    elif count <= 8:\n",
    "        return Set2[count]\n",
    "    elif count <= 20:\n",
    "        return Category20[count]\n",
    "    elif count <= 256:\n",
    "        index = np.arange(256)\n",
    "        cmp_256 = random.choice([Viridis256, Cividis256, Turbo256, Inferno256, Magma256, Plasma256])\n",
    "        return tuple(np.array(cmp_256)[np.isin(index, np.arange(0, 256, 256/count, dtype=np.uint8))])\n",
    "    elif count <= 256 * 3:\n",
    "        return tuple(np.random.choice(Turbo256 + Cividis256 + Viridis256, count))\n",
    "    else:\n",
    "        raise ValueError(f\"Invalid count={count}, must <= 768\")"
   ]
  },
  {
   "cell_type": "code",
   "execution_count": 5,
   "metadata": {},
   "outputs": [
    {
     "name": "stderr",
     "output_type": "stream",
     "text": [
      "2021-11-29 05:51:30.926 | ERROR    | __main__:<module>:4 - Invalid count=-1, must > 0\n"
     ]
    }
   ],
   "source": [
    "try:\n",
    "    count2colors(-1)\n",
    "except ValueError as e:\n",
    "    logger.error(e)"
   ]
  },
  {
   "cell_type": "code",
   "execution_count": 6,
   "metadata": {},
   "outputs": [
    {
     "data": {
      "text/plain": [
       "('#66c2a5', '#fc8d62', '#8da0cb', '#e78ac3', '#a6d854')"
      ]
     },
     "execution_count": 6,
     "metadata": {},
     "output_type": "execute_result"
    }
   ],
   "source": [
    "count2colors(5)"
   ]
  },
  {
   "cell_type": "code",
   "execution_count": 7,
   "metadata": {},
   "outputs": [
    {
     "data": {
      "text/plain": [
       "('#1f77b4',\n",
       " '#aec7e8',\n",
       " '#ff7f0e',\n",
       " '#ffbb78',\n",
       " '#2ca02c',\n",
       " '#98df8a',\n",
       " '#d62728',\n",
       " '#ff9896',\n",
       " '#9467bd',\n",
       " '#c5b0d5',\n",
       " '#8c564b',\n",
       " '#c49c94',\n",
       " '#e377c2',\n",
       " '#f7b6d2',\n",
       " '#7f7f7f',\n",
       " '#c7c7c7',\n",
       " '#bcbd22',\n",
       " '#dbdb8d')"
      ]
     },
     "execution_count": 7,
     "metadata": {},
     "output_type": "execute_result"
    }
   ],
   "source": [
    "count2colors(18)"
   ]
  },
  {
   "cell_type": "code",
   "execution_count": 8,
   "metadata": {},
   "outputs": [
    {
     "name": "stderr",
     "output_type": "stream",
     "text": [
      "2021-11-29 05:51:31.142 | ERROR    | __main__:<module>:4 - Invalid count=1000, must <= 768\n"
     ]
    }
   ],
   "source": [
    "try:\n",
    "    count2colors(1000)\n",
    "except ValueError as e:\n",
    "    logger.error(e)"
   ]
  },
  {
   "cell_type": "code",
   "execution_count": 9,
   "metadata": {},
   "outputs": [],
   "source": [
    "#export\n",
    "def bar_figure(\n",
    "    data: dict, title=\"统计\", with_label=True, y_log_multiple_thresh=1000, eps=1e-1, hide_legend=False,\n",
    "    toolbar_location=BOKEH_DEFAULT_TOOLBAR_LOC, legend_orientation = \"vertical\", legend_location = \"top_right\", vertical_bar=True, \n",
    "    xaxis_major_label_orientation=math.pi/8, label_angle=0, bar_width=0.8, draw_line_circle=False, \n",
    "    tools=BOKEH_DEFAULT_TOOLS, x_axis_label=None, y_axis_label=None, **kwargs):\n",
    "    x = [str(o) for o in data.keys()]\n",
    "    y = list(data.values())\n",
    "    \n",
    "    source = ColumnDataSource(data=dict(x=x, y=y, color=count2colors(len(x))))\n",
    "    if vertical_bar:\n",
    "        p = figure(\n",
    "            x_range=x, title=title,\n",
    "            y_axis_type=\"log\" if max(y)/(min(y)+eps) > y_log_multiple_thresh else 'linear',\n",
    "            toolbar_location=toolbar_location, tools=tools, **kwargs)\n",
    "        p.vbar(x='x', top='y', width=bar_width, bottom=0.1, color='color', legend_field=\"x\", source=source)\n",
    "    else:\n",
    "        p = figure(\n",
    "            y_range=x, title=title,\n",
    "            toolbar_location=toolbar_location, tools=tools, **kwargs)\n",
    "        p.hbar(y='x', right='y', height=bar_width, color='color', legend_field=\"x\", source=source)\n",
    "    p.legend.orientation = legend_orientation\n",
    "    p.legend.location = legend_location\n",
    "    if hide_legend: p.legend.visible=False \n",
    "    \n",
    "    if with_label:\n",
    "        if vertical_bar:\n",
    "            labels = LabelSet(\n",
    "                x='x', y='y', text='y', angle=label_angle,\n",
    "                x_offset=-8, y_offset=2, source=source, render_mode='canvas', text_font_size=\"9pt\")\n",
    "            if draw_line_circle:\n",
    "                p.line(x='x', y='y', source=source, line_color='#4292c6')\n",
    "                p.circle(x='x', y='y', fill_color='white', size=6, source=source, line_color='black')\n",
    "        else:\n",
    "            labels = LabelSet(\n",
    "                x='y', y='x', text='y', angle=label_angle,\n",
    "                x_offset=2, y_offset=-8, source=source, render_mode='canvas', text_font_size=\"9pt\")\n",
    "        p.add_layout(labels)\n",
    "    p.xgrid.grid_line_color = None\n",
    "    p.xaxis.major_label_orientation = xaxis_major_label_orientation\n",
    "    p.yaxis.axis_label = y_axis_label\n",
    "    p.xaxis.axis_label = x_axis_label\n",
    "    return p"
   ]
  },
  {
   "cell_type": "code",
   "execution_count": 10,
   "metadata": {},
   "outputs": [
    {
     "data": {
      "text/html": [
       "\n",
       "    <div class=\"bk-root\">\n",
       "        <a href=\"https://bokeh.org\" target=\"_blank\" class=\"bk-logo bk-logo-small bk-logo-notebook\"></a>\n",
       "        <span id=\"1002\">Loading BokehJS ...</span>\n",
       "    </div>"
      ]
     },
     "metadata": {},
     "output_type": "display_data"
    },
    {
     "data": {
      "application/javascript": [
       "\n",
       "(function(root) {\n",
       "  function now() {\n",
       "    return new Date();\n",
       "  }\n",
       "\n",
       "  const force = true;\n",
       "\n",
       "  if (typeof root._bokeh_onload_callbacks === \"undefined\" || force === true) {\n",
       "    root._bokeh_onload_callbacks = [];\n",
       "    root._bokeh_is_loading = undefined;\n",
       "  }\n",
       "\n",
       "  const JS_MIME_TYPE = 'application/javascript';\n",
       "  const HTML_MIME_TYPE = 'text/html';\n",
       "  const EXEC_MIME_TYPE = 'application/vnd.bokehjs_exec.v0+json';\n",
       "  const CLASS_NAME = 'output_bokeh rendered_html';\n",
       "\n",
       "  /**\n",
       "   * Render data to the DOM node\n",
       "   */\n",
       "  function render(props, node) {\n",
       "    const script = document.createElement(\"script\");\n",
       "    node.appendChild(script);\n",
       "  }\n",
       "\n",
       "  /**\n",
       "   * Handle when an output is cleared or removed\n",
       "   */\n",
       "  function handleClearOutput(event, handle) {\n",
       "    const cell = handle.cell;\n",
       "\n",
       "    const id = cell.output_area._bokeh_element_id;\n",
       "    const server_id = cell.output_area._bokeh_server_id;\n",
       "    // Clean up Bokeh references\n",
       "    if (id != null && id in Bokeh.index) {\n",
       "      Bokeh.index[id].model.document.clear();\n",
       "      delete Bokeh.index[id];\n",
       "    }\n",
       "\n",
       "    if (server_id !== undefined) {\n",
       "      // Clean up Bokeh references\n",
       "      const cmd_clean = \"from bokeh.io.state import curstate; print(curstate().uuid_to_server['\" + server_id + \"'].get_sessions()[0].document.roots[0]._id)\";\n",
       "      cell.notebook.kernel.execute(cmd_clean, {\n",
       "        iopub: {\n",
       "          output: function(msg) {\n",
       "            const id = msg.content.text.trim();\n",
       "            if (id in Bokeh.index) {\n",
       "              Bokeh.index[id].model.document.clear();\n",
       "              delete Bokeh.index[id];\n",
       "            }\n",
       "          }\n",
       "        }\n",
       "      });\n",
       "      // Destroy server and session\n",
       "      const cmd_destroy = \"import bokeh.io.notebook as ion; ion.destroy_server('\" + server_id + \"')\";\n",
       "      cell.notebook.kernel.execute(cmd_destroy);\n",
       "    }\n",
       "  }\n",
       "\n",
       "  /**\n",
       "   * Handle when a new output is added\n",
       "   */\n",
       "  function handleAddOutput(event, handle) {\n",
       "    const output_area = handle.output_area;\n",
       "    const output = handle.output;\n",
       "\n",
       "    // limit handleAddOutput to display_data with EXEC_MIME_TYPE content only\n",
       "    if ((output.output_type != \"display_data\") || (!Object.prototype.hasOwnProperty.call(output.data, EXEC_MIME_TYPE))) {\n",
       "      return\n",
       "    }\n",
       "\n",
       "    const toinsert = output_area.element.find(\".\" + CLASS_NAME.split(' ')[0]);\n",
       "\n",
       "    if (output.metadata[EXEC_MIME_TYPE][\"id\"] !== undefined) {\n",
       "      toinsert[toinsert.length - 1].firstChild.textContent = output.data[JS_MIME_TYPE];\n",
       "      // store reference to embed id on output_area\n",
       "      output_area._bokeh_element_id = output.metadata[EXEC_MIME_TYPE][\"id\"];\n",
       "    }\n",
       "    if (output.metadata[EXEC_MIME_TYPE][\"server_id\"] !== undefined) {\n",
       "      const bk_div = document.createElement(\"div\");\n",
       "      bk_div.innerHTML = output.data[HTML_MIME_TYPE];\n",
       "      const script_attrs = bk_div.children[0].attributes;\n",
       "      for (let i = 0; i < script_attrs.length; i++) {\n",
       "        toinsert[toinsert.length - 1].firstChild.setAttribute(script_attrs[i].name, script_attrs[i].value);\n",
       "        toinsert[toinsert.length - 1].firstChild.textContent = bk_div.children[0].textContent\n",
       "      }\n",
       "      // store reference to server id on output_area\n",
       "      output_area._bokeh_server_id = output.metadata[EXEC_MIME_TYPE][\"server_id\"];\n",
       "    }\n",
       "  }\n",
       "\n",
       "  function register_renderer(events, OutputArea) {\n",
       "\n",
       "    function append_mime(data, metadata, element) {\n",
       "      // create a DOM node to render to\n",
       "      const toinsert = this.create_output_subarea(\n",
       "        metadata,\n",
       "        CLASS_NAME,\n",
       "        EXEC_MIME_TYPE\n",
       "      );\n",
       "      this.keyboard_manager.register_events(toinsert);\n",
       "      // Render to node\n",
       "      const props = {data: data, metadata: metadata[EXEC_MIME_TYPE]};\n",
       "      render(props, toinsert[toinsert.length - 1]);\n",
       "      element.append(toinsert);\n",
       "      return toinsert\n",
       "    }\n",
       "\n",
       "    /* Handle when an output is cleared or removed */\n",
       "    events.on('clear_output.CodeCell', handleClearOutput);\n",
       "    events.on('delete.Cell', handleClearOutput);\n",
       "\n",
       "    /* Handle when a new output is added */\n",
       "    events.on('output_added.OutputArea', handleAddOutput);\n",
       "\n",
       "    /**\n",
       "     * Register the mime type and append_mime function with output_area\n",
       "     */\n",
       "    OutputArea.prototype.register_mime_type(EXEC_MIME_TYPE, append_mime, {\n",
       "      /* Is output safe? */\n",
       "      safe: true,\n",
       "      /* Index of renderer in `output_area.display_order` */\n",
       "      index: 0\n",
       "    });\n",
       "  }\n",
       "\n",
       "  // register the mime type if in Jupyter Notebook environment and previously unregistered\n",
       "  if (root.Jupyter !== undefined) {\n",
       "    const events = require('base/js/events');\n",
       "    const OutputArea = require('notebook/js/outputarea').OutputArea;\n",
       "\n",
       "    if (OutputArea.prototype.mime_types().indexOf(EXEC_MIME_TYPE) == -1) {\n",
       "      register_renderer(events, OutputArea);\n",
       "    }\n",
       "  }\n",
       "\n",
       "  \n",
       "  if (typeof (root._bokeh_timeout) === \"undefined\" || force === true) {\n",
       "    root._bokeh_timeout = Date.now() + 5000;\n",
       "    root._bokeh_failed_load = false;\n",
       "  }\n",
       "\n",
       "  const NB_LOAD_WARNING = {'data': {'text/html':\n",
       "     \"<div style='background-color: #fdd'>\\n\"+\n",
       "     \"<p>\\n\"+\n",
       "     \"BokehJS does not appear to have successfully loaded. If loading BokehJS from CDN, this \\n\"+\n",
       "     \"may be due to a slow or bad network connection. Possible fixes:\\n\"+\n",
       "     \"</p>\\n\"+\n",
       "     \"<ul>\\n\"+\n",
       "     \"<li>re-rerun `output_notebook()` to attempt to load from CDN again, or</li>\\n\"+\n",
       "     \"<li>use INLINE resources instead, as so:</li>\\n\"+\n",
       "     \"</ul>\\n\"+\n",
       "     \"<code>\\n\"+\n",
       "     \"from bokeh.resources import INLINE\\n\"+\n",
       "     \"output_notebook(resources=INLINE)\\n\"+\n",
       "     \"</code>\\n\"+\n",
       "     \"</div>\"}};\n",
       "\n",
       "  function display_loaded() {\n",
       "    const el = document.getElementById(\"1002\");\n",
       "    if (el != null) {\n",
       "      el.textContent = \"BokehJS is loading...\";\n",
       "    }\n",
       "    if (root.Bokeh !== undefined) {\n",
       "      if (el != null) {\n",
       "        el.textContent = \"BokehJS \" + root.Bokeh.version + \" successfully loaded.\";\n",
       "      }\n",
       "    } else if (Date.now() < root._bokeh_timeout) {\n",
       "      setTimeout(display_loaded, 100)\n",
       "    }\n",
       "  }\n",
       "\n",
       "\n",
       "  function run_callbacks() {\n",
       "    try {\n",
       "      root._bokeh_onload_callbacks.forEach(function(callback) {\n",
       "        if (callback != null)\n",
       "          callback();\n",
       "      });\n",
       "    } finally {\n",
       "      delete root._bokeh_onload_callbacks\n",
       "    }\n",
       "    console.debug(\"Bokeh: all callbacks have finished\");\n",
       "  }\n",
       "\n",
       "  function load_libs(css_urls, js_urls, callback) {\n",
       "    if (css_urls == null) css_urls = [];\n",
       "    if (js_urls == null) js_urls = [];\n",
       "\n",
       "    root._bokeh_onload_callbacks.push(callback);\n",
       "    if (root._bokeh_is_loading > 0) {\n",
       "      console.debug(\"Bokeh: BokehJS is being loaded, scheduling callback at\", now());\n",
       "      return null;\n",
       "    }\n",
       "    if (js_urls == null || js_urls.length === 0) {\n",
       "      run_callbacks();\n",
       "      return null;\n",
       "    }\n",
       "    console.debug(\"Bokeh: BokehJS not loaded, scheduling load and callback at\", now());\n",
       "    root._bokeh_is_loading = css_urls.length + js_urls.length;\n",
       "\n",
       "    function on_load() {\n",
       "      root._bokeh_is_loading--;\n",
       "      if (root._bokeh_is_loading === 0) {\n",
       "        console.debug(\"Bokeh: all BokehJS libraries/stylesheets loaded\");\n",
       "        run_callbacks()\n",
       "      }\n",
       "    }\n",
       "\n",
       "    function on_error(url) {\n",
       "      console.error(\"failed to load \" + url);\n",
       "    }\n",
       "\n",
       "    for (let i = 0; i < css_urls.length; i++) {\n",
       "      const url = css_urls[i];\n",
       "      const element = document.createElement(\"link\");\n",
       "      element.onload = on_load;\n",
       "      element.onerror = on_error.bind(null, url);\n",
       "      element.rel = \"stylesheet\";\n",
       "      element.type = \"text/css\";\n",
       "      element.href = url;\n",
       "      console.debug(\"Bokeh: injecting link tag for BokehJS stylesheet: \", url);\n",
       "      document.body.appendChild(element);\n",
       "    }\n",
       "\n",
       "    for (let i = 0; i < js_urls.length; i++) {\n",
       "      const url = js_urls[i];\n",
       "      const element = document.createElement('script');\n",
       "      element.onload = on_load;\n",
       "      element.onerror = on_error.bind(null, url);\n",
       "      element.async = false;\n",
       "      element.src = url;\n",
       "      console.debug(\"Bokeh: injecting script tag for BokehJS library: \", url);\n",
       "      document.head.appendChild(element);\n",
       "    }\n",
       "  };\n",
       "\n",
       "  function inject_raw_css(css) {\n",
       "    const element = document.createElement(\"style\");\n",
       "    element.appendChild(document.createTextNode(css));\n",
       "    document.body.appendChild(element);\n",
       "  }\n",
       "\n",
       "  \n",
       "  const js_urls = [\"https://cdn.bokeh.org/bokeh/release/bokeh-2.4.2.min.js\", \"https://cdn.bokeh.org/bokeh/release/bokeh-gl-2.4.2.min.js\", \"https://cdn.bokeh.org/bokeh/release/bokeh-widgets-2.4.2.min.js\", \"https://cdn.bokeh.org/bokeh/release/bokeh-tables-2.4.2.min.js\", \"https://cdn.bokeh.org/bokeh/release/bokeh-mathjax-2.4.2.min.js\"];\n",
       "  const css_urls = [];\n",
       "  \n",
       "\n",
       "  const inline_js = [\n",
       "    function(Bokeh) {\n",
       "      Bokeh.set_log_level(\"info\");\n",
       "    },\n",
       "    function(Bokeh) {\n",
       "    \n",
       "    \n",
       "    }\n",
       "  ];\n",
       "\n",
       "  function run_inline_js() {\n",
       "    \n",
       "    if (root.Bokeh !== undefined || force === true) {\n",
       "      \n",
       "    for (let i = 0; i < inline_js.length; i++) {\n",
       "      inline_js[i].call(root, root.Bokeh);\n",
       "    }\n",
       "    if (force === true) {\n",
       "        display_loaded();\n",
       "      }} else if (Date.now() < root._bokeh_timeout) {\n",
       "      setTimeout(run_inline_js, 100);\n",
       "    } else if (!root._bokeh_failed_load) {\n",
       "      console.log(\"Bokeh: BokehJS failed to load within specified timeout.\");\n",
       "      root._bokeh_failed_load = true;\n",
       "    } else if (force !== true) {\n",
       "      const cell = $(document.getElementById(\"1002\")).parents('.cell').data().cell;\n",
       "      cell.output_area.append_execute_result(NB_LOAD_WARNING)\n",
       "    }\n",
       "\n",
       "  }\n",
       "\n",
       "  if (root._bokeh_is_loading === 0) {\n",
       "    console.debug(\"Bokeh: BokehJS loaded, going straight to plotting\");\n",
       "    run_inline_js();\n",
       "  } else {\n",
       "    load_libs(css_urls, js_urls, function() {\n",
       "      console.debug(\"Bokeh: BokehJS plotting callback run at\", now());\n",
       "      run_inline_js();\n",
       "    });\n",
       "  }\n",
       "}(window));"
      ],
      "application/vnd.bokehjs_load.v0+json": "\n(function(root) {\n  function now() {\n    return new Date();\n  }\n\n  const force = true;\n\n  if (typeof root._bokeh_onload_callbacks === \"undefined\" || force === true) {\n    root._bokeh_onload_callbacks = [];\n    root._bokeh_is_loading = undefined;\n  }\n\n  \n\n  \n  if (typeof (root._bokeh_timeout) === \"undefined\" || force === true) {\n    root._bokeh_timeout = Date.now() + 5000;\n    root._bokeh_failed_load = false;\n  }\n\n  const NB_LOAD_WARNING = {'data': {'text/html':\n     \"<div style='background-color: #fdd'>\\n\"+\n     \"<p>\\n\"+\n     \"BokehJS does not appear to have successfully loaded. If loading BokehJS from CDN, this \\n\"+\n     \"may be due to a slow or bad network connection. Possible fixes:\\n\"+\n     \"</p>\\n\"+\n     \"<ul>\\n\"+\n     \"<li>re-rerun `output_notebook()` to attempt to load from CDN again, or</li>\\n\"+\n     \"<li>use INLINE resources instead, as so:</li>\\n\"+\n     \"</ul>\\n\"+\n     \"<code>\\n\"+\n     \"from bokeh.resources import INLINE\\n\"+\n     \"output_notebook(resources=INLINE)\\n\"+\n     \"</code>\\n\"+\n     \"</div>\"}};\n\n  function display_loaded() {\n    const el = document.getElementById(\"1002\");\n    if (el != null) {\n      el.textContent = \"BokehJS is loading...\";\n    }\n    if (root.Bokeh !== undefined) {\n      if (el != null) {\n        el.textContent = \"BokehJS \" + root.Bokeh.version + \" successfully loaded.\";\n      }\n    } else if (Date.now() < root._bokeh_timeout) {\n      setTimeout(display_loaded, 100)\n    }\n  }\n\n\n  function run_callbacks() {\n    try {\n      root._bokeh_onload_callbacks.forEach(function(callback) {\n        if (callback != null)\n          callback();\n      });\n    } finally {\n      delete root._bokeh_onload_callbacks\n    }\n    console.debug(\"Bokeh: all callbacks have finished\");\n  }\n\n  function load_libs(css_urls, js_urls, callback) {\n    if (css_urls == null) css_urls = [];\n    if (js_urls == null) js_urls = [];\n\n    root._bokeh_onload_callbacks.push(callback);\n    if (root._bokeh_is_loading > 0) {\n      console.debug(\"Bokeh: BokehJS is being loaded, scheduling callback at\", now());\n      return null;\n    }\n    if (js_urls == null || js_urls.length === 0) {\n      run_callbacks();\n      return null;\n    }\n    console.debug(\"Bokeh: BokehJS not loaded, scheduling load and callback at\", now());\n    root._bokeh_is_loading = css_urls.length + js_urls.length;\n\n    function on_load() {\n      root._bokeh_is_loading--;\n      if (root._bokeh_is_loading === 0) {\n        console.debug(\"Bokeh: all BokehJS libraries/stylesheets loaded\");\n        run_callbacks()\n      }\n    }\n\n    function on_error(url) {\n      console.error(\"failed to load \" + url);\n    }\n\n    for (let i = 0; i < css_urls.length; i++) {\n      const url = css_urls[i];\n      const element = document.createElement(\"link\");\n      element.onload = on_load;\n      element.onerror = on_error.bind(null, url);\n      element.rel = \"stylesheet\";\n      element.type = \"text/css\";\n      element.href = url;\n      console.debug(\"Bokeh: injecting link tag for BokehJS stylesheet: \", url);\n      document.body.appendChild(element);\n    }\n\n    for (let i = 0; i < js_urls.length; i++) {\n      const url = js_urls[i];\n      const element = document.createElement('script');\n      element.onload = on_load;\n      element.onerror = on_error.bind(null, url);\n      element.async = false;\n      element.src = url;\n      console.debug(\"Bokeh: injecting script tag for BokehJS library: \", url);\n      document.head.appendChild(element);\n    }\n  };\n\n  function inject_raw_css(css) {\n    const element = document.createElement(\"style\");\n    element.appendChild(document.createTextNode(css));\n    document.body.appendChild(element);\n  }\n\n  \n  const js_urls = [\"https://cdn.bokeh.org/bokeh/release/bokeh-2.4.2.min.js\", \"https://cdn.bokeh.org/bokeh/release/bokeh-gl-2.4.2.min.js\", \"https://cdn.bokeh.org/bokeh/release/bokeh-widgets-2.4.2.min.js\", \"https://cdn.bokeh.org/bokeh/release/bokeh-tables-2.4.2.min.js\", \"https://cdn.bokeh.org/bokeh/release/bokeh-mathjax-2.4.2.min.js\"];\n  const css_urls = [];\n  \n\n  const inline_js = [\n    function(Bokeh) {\n      Bokeh.set_log_level(\"info\");\n    },\n    function(Bokeh) {\n    \n    \n    }\n  ];\n\n  function run_inline_js() {\n    \n    if (root.Bokeh !== undefined || force === true) {\n      \n    for (let i = 0; i < inline_js.length; i++) {\n      inline_js[i].call(root, root.Bokeh);\n    }\n    if (force === true) {\n        display_loaded();\n      }} else if (Date.now() < root._bokeh_timeout) {\n      setTimeout(run_inline_js, 100);\n    } else if (!root._bokeh_failed_load) {\n      console.log(\"Bokeh: BokehJS failed to load within specified timeout.\");\n      root._bokeh_failed_load = true;\n    } else if (force !== true) {\n      const cell = $(document.getElementById(\"1002\")).parents('.cell').data().cell;\n      cell.output_area.append_execute_result(NB_LOAD_WARNING)\n    }\n\n  }\n\n  if (root._bokeh_is_loading === 0) {\n    console.debug(\"Bokeh: BokehJS loaded, going straight to plotting\");\n    run_inline_js();\n  } else {\n    load_libs(css_urls, js_urls, function() {\n      console.debug(\"Bokeh: BokehJS plotting callback run at\", now());\n      run_inline_js();\n    });\n  }\n}(window));"
     },
     "metadata": {},
     "output_type": "display_data"
    }
   ],
   "source": [
    "output_notebook()"
   ]
  },
  {
   "cell_type": "code",
   "execution_count": 11,
   "metadata": {},
   "outputs": [
    {
     "data": {
      "text/html": [
       "\n",
       "\n",
       "\n",
       "\n",
       "\n",
       "\n",
       "  <div class=\"bk-root\" id=\"c420cbf6-4a8d-4eca-ad6e-0e980943aea8\" data-root-id=\"1004\"></div>\n"
      ]
     },
     "metadata": {},
     "output_type": "display_data"
    },
    {
     "data": {
      "application/javascript": [
       "(function(root) {\n",
       "  function embed_document(root) {\n",
       "    \n",
       "  const docs_json = {\"254d766d-64fa-4b85-a41c-197b4a91e830\":{\"defs\":[],\"roots\":{\"references\":[{\"attributes\":{\"below\":[{\"id\":\"1015\"}],\"center\":[{\"id\":\"1017\"},{\"id\":\"1021\"},{\"id\":\"1044\"},{\"id\":\"1046\"}],\"left\":[{\"id\":\"1018\"}],\"renderers\":[{\"id\":\"1033\"}],\"title\":{\"id\":\"1005\"},\"toolbar\":{\"id\":\"1025\"},\"toolbar_location\":\"above\",\"x_range\":{\"id\":\"1007\"},\"x_scale\":{\"id\":\"1011\"},\"y_range\":{\"id\":\"1009\"},\"y_scale\":{\"id\":\"1013\"}},\"id\":\"1004\",\"subtype\":\"Figure\",\"type\":\"Plot\"},{\"attributes\":{},\"id\":\"1022\",\"type\":\"SaveTool\"},{\"attributes\":{\"coordinates\":null,\"group\":null,\"items\":[{\"id\":\"1045\"}]},\"id\":\"1044\",\"type\":\"Legend\"},{\"attributes\":{},\"id\":\"1041\",\"type\":\"AllLabels\"},{\"attributes\":{\"coordinates\":null,\"data_source\":{\"id\":\"1003\"},\"glyph\":{\"id\":\"1030\"},\"group\":null,\"hover_glyph\":null,\"muted_glyph\":{\"id\":\"1032\"},\"nonselection_glyph\":{\"id\":\"1031\"},\"view\":{\"id\":\"1034\"}},\"id\":\"1033\",\"type\":\"GlyphRenderer\"},{\"attributes\":{},\"id\":\"1043\",\"type\":\"Selection\"},{\"attributes\":{\"data\":{\"color\":[\"#66c2a5\",\"#fc8d62\",\"#8da0cb\",\"#e78ac3\"],\"x\":[\"A\",\"B\",\"C\",\"D\"],\"y\":[10000,1000,100,10]},\"selected\":{\"id\":\"1043\"},\"selection_policy\":{\"id\":\"1042\"}},\"id\":\"1003\",\"type\":\"ColumnDataSource\"},{\"attributes\":{},\"id\":\"1037\",\"type\":\"BasicTickFormatter\"},{\"attributes\":{\"bottom\":{\"value\":0.1},\"fill_color\":{\"field\":\"color\"},\"hatch_color\":{\"field\":\"color\"},\"line_color\":{\"field\":\"color\"},\"top\":{\"field\":\"y\"},\"width\":{\"value\":0.8},\"x\":{\"field\":\"x\"}},\"id\":\"1030\",\"type\":\"VBar\"},{\"attributes\":{\"tools\":[{\"id\":\"1022\"},{\"id\":\"1023\"},{\"id\":\"1024\"}]},\"id\":\"1025\",\"type\":\"Toolbar\"},{\"attributes\":{\"factors\":[\"A\",\"B\",\"C\",\"D\"]},\"id\":\"1007\",\"type\":\"FactorRange\"},{\"attributes\":{},\"id\":\"1011\",\"type\":\"CategoricalScale\"},{\"attributes\":{\"angle\":{\"value\":0.39269908169872414},\"coordinates\":null,\"group\":null,\"source\":{\"id\":\"1003\"},\"text\":{\"field\":\"y\"},\"text_font_size\":{\"value\":\"9pt\"},\"x\":{\"field\":\"x\"},\"x_offset\":{\"value\":-8},\"y\":{\"field\":\"y\"},\"y_offset\":{\"value\":2}},\"id\":\"1046\",\"type\":\"LabelSet\"},{\"attributes\":{\"bottom\":{\"value\":0.1},\"fill_alpha\":{\"value\":0.1},\"fill_color\":{\"field\":\"color\"},\"hatch_alpha\":{\"value\":0.1},\"hatch_color\":{\"field\":\"color\"},\"line_alpha\":{\"value\":0.1},\"line_color\":{\"field\":\"color\"},\"top\":{\"field\":\"y\"},\"width\":{\"value\":0.8},\"x\":{\"field\":\"x\"}},\"id\":\"1031\",\"type\":\"VBar\"},{\"attributes\":{\"source\":{\"id\":\"1003\"}},\"id\":\"1034\",\"type\":\"CDSView\"},{\"attributes\":{\"coordinates\":null,\"group\":null,\"text\":\"\\u7edf\\u8ba1\"},\"id\":\"1005\",\"type\":\"Title\"},{\"attributes\":{\"label\":{\"field\":\"x\"},\"renderers\":[{\"id\":\"1033\"}]},\"id\":\"1045\",\"type\":\"LegendItem\"},{\"attributes\":{},\"id\":\"1013\",\"type\":\"LinearScale\"},{\"attributes\":{\"axis\":{\"id\":\"1015\"},\"coordinates\":null,\"grid_line_color\":null,\"group\":null,\"ticker\":null},\"id\":\"1017\",\"type\":\"Grid\"},{\"attributes\":{},\"id\":\"1040\",\"type\":\"CategoricalTickFormatter\"},{\"attributes\":{},\"id\":\"1009\",\"type\":\"DataRange1d\"},{\"attributes\":{\"coordinates\":null,\"formatter\":{\"id\":\"1040\"},\"group\":null,\"major_label_orientation\":0.39269908169872414,\"major_label_policy\":{\"id\":\"1041\"},\"ticker\":{\"id\":\"1016\"}},\"id\":\"1015\",\"type\":\"CategoricalAxis\"},{\"attributes\":{},\"id\":\"1038\",\"type\":\"AllLabels\"},{\"attributes\":{},\"id\":\"1016\",\"type\":\"CategoricalTicker\"},{\"attributes\":{\"coordinates\":null,\"formatter\":{\"id\":\"1037\"},\"group\":null,\"major_label_policy\":{\"id\":\"1038\"},\"ticker\":{\"id\":\"1019\"}},\"id\":\"1018\",\"type\":\"LinearAxis\"},{\"attributes\":{\"axis\":{\"id\":\"1018\"},\"coordinates\":null,\"dimension\":1,\"group\":null,\"ticker\":null},\"id\":\"1021\",\"type\":\"Grid\"},{\"attributes\":{},\"id\":\"1042\",\"type\":\"UnionRenderers\"},{\"attributes\":{},\"id\":\"1019\",\"type\":\"BasicTicker\"},{\"attributes\":{\"bottom\":{\"value\":0.1},\"fill_alpha\":{\"value\":0.2},\"fill_color\":{\"field\":\"color\"},\"hatch_alpha\":{\"value\":0.2},\"hatch_color\":{\"field\":\"color\"},\"line_alpha\":{\"value\":0.2},\"line_color\":{\"field\":\"color\"},\"top\":{\"field\":\"y\"},\"width\":{\"value\":0.8},\"x\":{\"field\":\"x\"}},\"id\":\"1032\",\"type\":\"VBar\"},{\"attributes\":{},\"id\":\"1024\",\"type\":\"PanTool\"},{\"attributes\":{},\"id\":\"1023\",\"type\":\"ResetTool\"}],\"root_ids\":[\"1004\"]},\"title\":\"Bokeh Application\",\"version\":\"2.4.2\"}};\n",
       "  const render_items = [{\"docid\":\"254d766d-64fa-4b85-a41c-197b4a91e830\",\"root_ids\":[\"1004\"],\"roots\":{\"1004\":\"c420cbf6-4a8d-4eca-ad6e-0e980943aea8\"}}];\n",
       "  root.Bokeh.embed.embed_items_notebook(docs_json, render_items);\n",
       "\n",
       "  }\n",
       "  if (root.Bokeh !== undefined) {\n",
       "    embed_document(root);\n",
       "  } else {\n",
       "    let attempts = 0;\n",
       "    const timer = setInterval(function(root) {\n",
       "      if (root.Bokeh !== undefined) {\n",
       "        clearInterval(timer);\n",
       "        embed_document(root);\n",
       "      } else {\n",
       "        attempts++;\n",
       "        if (attempts > 100) {\n",
       "          clearInterval(timer);\n",
       "          console.log(\"Bokeh: ERROR: Unable to run BokehJS code because BokehJS library is missing\");\n",
       "        }\n",
       "      }\n",
       "    }, 10, root)\n",
       "  }\n",
       "})(window);"
      ],
      "application/vnd.bokehjs_exec.v0+json": ""
     },
     "metadata": {
      "application/vnd.bokehjs_exec.v0+json": {
       "id": "1004"
      }
     },
     "output_type": "display_data"
    }
   ],
   "source": [
    "test_data = {\n",
    "    'A': 10000,\n",
    "    'B': 1000,\n",
    "    'C': 100,\n",
    "    'D': 10\n",
    "}\n",
    "p = bar_figure(test_data, label_angle=math.pi/8, with_label=True)\n",
    "show(p)"
   ]
  },
  {
   "cell_type": "code",
   "execution_count": 12,
   "metadata": {},
   "outputs": [
    {
     "data": {
      "text/html": [
       "\n",
       "\n",
       "\n",
       "\n",
       "\n",
       "\n",
       "  <div class=\"bk-root\" id=\"e8a29130-629f-4181-bf67-d7b65ab5f402\" data-root-id=\"1103\"></div>\n"
      ]
     },
     "metadata": {},
     "output_type": "display_data"
    },
    {
     "data": {
      "application/javascript": [
       "(function(root) {\n",
       "  function embed_document(root) {\n",
       "    \n",
       "  const docs_json = {\"ce767838-4e45-42ef-befe-9a51b6b43e29\":{\"defs\":[],\"roots\":{\"references\":[{\"attributes\":{\"below\":[{\"id\":\"1114\"}],\"center\":[{\"id\":\"1117\"},{\"id\":\"1120\"},{\"id\":\"1143\"},{\"id\":\"1145\"}],\"left\":[{\"id\":\"1118\"}],\"renderers\":[{\"id\":\"1132\"}],\"title\":{\"id\":\"1104\"},\"toolbar\":{\"id\":\"1124\"},\"toolbar_location\":\"above\",\"x_range\":{\"id\":\"1106\"},\"x_scale\":{\"id\":\"1110\"},\"y_range\":{\"id\":\"1108\"},\"y_scale\":{\"id\":\"1112\"}},\"id\":\"1103\",\"subtype\":\"Figure\",\"type\":\"Plot\"},{\"attributes\":{},\"id\":\"1141\",\"type\":\"UnionRenderers\"},{\"attributes\":{},\"id\":\"1112\",\"type\":\"CategoricalScale\"},{\"attributes\":{\"fill_alpha\":{\"value\":0.1},\"fill_color\":{\"field\":\"color\"},\"hatch_alpha\":{\"value\":0.1},\"hatch_color\":{\"field\":\"color\"},\"height\":{\"value\":0.8},\"line_alpha\":{\"value\":0.1},\"line_color\":{\"field\":\"color\"},\"right\":{\"field\":\"y\"},\"y\":{\"field\":\"x\"}},\"id\":\"1130\",\"type\":\"HBar\"},{\"attributes\":{\"tools\":[{\"id\":\"1121\"},{\"id\":\"1122\"},{\"id\":\"1123\"}]},\"id\":\"1124\",\"type\":\"Toolbar\"},{\"attributes\":{},\"id\":\"1122\",\"type\":\"ResetTool\"},{\"attributes\":{},\"id\":\"1142\",\"type\":\"Selection\"},{\"attributes\":{},\"id\":\"1106\",\"type\":\"DataRange1d\"},{\"attributes\":{\"fill_color\":{\"field\":\"color\"},\"hatch_color\":{\"field\":\"color\"},\"height\":{\"value\":0.8},\"line_color\":{\"field\":\"color\"},\"right\":{\"field\":\"y\"},\"y\":{\"field\":\"x\"}},\"id\":\"1129\",\"type\":\"HBar\"},{\"attributes\":{\"coordinates\":null,\"group\":null,\"text\":\"\\u7edf\\u8ba1\"},\"id\":\"1104\",\"type\":\"Title\"},{\"attributes\":{\"coordinates\":null,\"formatter\":{\"id\":\"1136\"},\"group\":null,\"major_label_policy\":{\"id\":\"1137\"},\"ticker\":{\"id\":\"1119\"}},\"id\":\"1118\",\"type\":\"CategoricalAxis\"},{\"attributes\":{\"axis\":{\"id\":\"1114\"},\"coordinates\":null,\"grid_line_color\":null,\"group\":null,\"ticker\":null},\"id\":\"1117\",\"type\":\"Grid\"},{\"attributes\":{\"coordinates\":null,\"group\":null,\"source\":{\"id\":\"1102\"},\"text\":{\"field\":\"y\"},\"text_font_size\":{\"value\":\"9pt\"},\"x\":{\"field\":\"y\"},\"x_offset\":{\"value\":2},\"y\":{\"field\":\"x\"},\"y_offset\":{\"value\":-8}},\"id\":\"1145\",\"type\":\"LabelSet\"},{\"attributes\":{\"coordinates\":null,\"formatter\":{\"id\":\"1139\"},\"group\":null,\"major_label_orientation\":0.39269908169872414,\"major_label_policy\":{\"id\":\"1140\"},\"ticker\":{\"id\":\"1115\"}},\"id\":\"1114\",\"type\":\"LinearAxis\"},{\"attributes\":{\"factors\":[\"A\",\"B\",\"C\",\"D\"]},\"id\":\"1108\",\"type\":\"FactorRange\"},{\"attributes\":{\"data\":{\"color\":[\"#66c2a5\",\"#fc8d62\",\"#8da0cb\",\"#e78ac3\"],\"x\":[\"A\",\"B\",\"C\",\"D\"],\"y\":[100,88,99,10]},\"selected\":{\"id\":\"1142\"},\"selection_policy\":{\"id\":\"1141\"}},\"id\":\"1102\",\"type\":\"ColumnDataSource\"},{\"attributes\":{},\"id\":\"1119\",\"type\":\"CategoricalTicker\"},{\"attributes\":{},\"id\":\"1123\",\"type\":\"PanTool\"},{\"attributes\":{},\"id\":\"1121\",\"type\":\"SaveTool\"},{\"attributes\":{\"label\":{\"field\":\"x\"},\"renderers\":[{\"id\":\"1132\"}]},\"id\":\"1144\",\"type\":\"LegendItem\"},{\"attributes\":{},\"id\":\"1136\",\"type\":\"CategoricalTickFormatter\"},{\"attributes\":{},\"id\":\"1137\",\"type\":\"AllLabels\"},{\"attributes\":{},\"id\":\"1110\",\"type\":\"LinearScale\"},{\"attributes\":{\"coordinates\":null,\"data_source\":{\"id\":\"1102\"},\"glyph\":{\"id\":\"1129\"},\"group\":null,\"hover_glyph\":null,\"muted_glyph\":{\"id\":\"1131\"},\"nonselection_glyph\":{\"id\":\"1130\"},\"view\":{\"id\":\"1133\"}},\"id\":\"1132\",\"type\":\"GlyphRenderer\"},{\"attributes\":{},\"id\":\"1139\",\"type\":\"BasicTickFormatter\"},{\"attributes\":{},\"id\":\"1140\",\"type\":\"AllLabels\"},{\"attributes\":{\"fill_alpha\":{\"value\":0.2},\"fill_color\":{\"field\":\"color\"},\"hatch_alpha\":{\"value\":0.2},\"hatch_color\":{\"field\":\"color\"},\"height\":{\"value\":0.8},\"line_alpha\":{\"value\":0.2},\"line_color\":{\"field\":\"color\"},\"right\":{\"field\":\"y\"},\"y\":{\"field\":\"x\"}},\"id\":\"1131\",\"type\":\"HBar\"},{\"attributes\":{\"source\":{\"id\":\"1102\"}},\"id\":\"1133\",\"type\":\"CDSView\"},{\"attributes\":{\"axis\":{\"id\":\"1118\"},\"coordinates\":null,\"dimension\":1,\"group\":null,\"ticker\":null},\"id\":\"1120\",\"type\":\"Grid\"},{\"attributes\":{\"coordinates\":null,\"group\":null,\"items\":[{\"id\":\"1144\"}]},\"id\":\"1143\",\"type\":\"Legend\"},{\"attributes\":{},\"id\":\"1115\",\"type\":\"BasicTicker\"}],\"root_ids\":[\"1103\"]},\"title\":\"Bokeh Application\",\"version\":\"2.4.2\"}};\n",
       "  const render_items = [{\"docid\":\"ce767838-4e45-42ef-befe-9a51b6b43e29\",\"root_ids\":[\"1103\"],\"roots\":{\"1103\":\"e8a29130-629f-4181-bf67-d7b65ab5f402\"}}];\n",
       "  root.Bokeh.embed.embed_items_notebook(docs_json, render_items);\n",
       "\n",
       "  }\n",
       "  if (root.Bokeh !== undefined) {\n",
       "    embed_document(root);\n",
       "  } else {\n",
       "    let attempts = 0;\n",
       "    const timer = setInterval(function(root) {\n",
       "      if (root.Bokeh !== undefined) {\n",
       "        clearInterval(timer);\n",
       "        embed_document(root);\n",
       "      } else {\n",
       "        attempts++;\n",
       "        if (attempts > 100) {\n",
       "          clearInterval(timer);\n",
       "          console.log(\"Bokeh: ERROR: Unable to run BokehJS code because BokehJS library is missing\");\n",
       "        }\n",
       "      }\n",
       "    }, 10, root)\n",
       "  }\n",
       "})(window);"
      ],
      "application/vnd.bokehjs_exec.v0+json": ""
     },
     "metadata": {
      "application/vnd.bokehjs_exec.v0+json": {
       "id": "1103"
      }
     },
     "output_type": "display_data"
    }
   ],
   "source": [
    "test_data = {\n",
    "    'A': 100,\n",
    "    'B': 88,\n",
    "    'C': 99,\n",
    "    'D': 10\n",
    "}\n",
    "p = bar_figure(test_data, vertical_bar=False)\n",
    "show(p)"
   ]
  },
  {
   "cell_type": "code",
   "execution_count": 13,
   "metadata": {},
   "outputs": [],
   "source": [
    "#export\n",
    "def line_figure_datetime(\n",
    "        data_list: list, plot_width=800, plot_height=500, x_dtype=np.datetime64,\n",
    "        select_title:str=None, draw_circle=False, tooltips_metadata:list=None,\n",
    "        x_name='x', y_name='y', legend_labels:list=None, tools=BOKEH_DEFAULT_TOOLS,\n",
    "        use_select_figure=True, toolbar_location=BOKEH_DEFAULT_TOOLBAR_LOC, legend_alpha=0.8, \n",
    "        legend_orientation = \"vertical\", legend_location = \"top_right\",\n",
    "        y_axis_label=None, x_axis_label=None, **kwargs\n",
    "    ):\n",
    "    if isinstance(data_list, dict): data_list = [data_list]\n",
    "    if isinstance(tooltips_metadata, dict): tooltips_metadata = [tooltips_metadata]\n",
    "    if not (isinstance(legend_labels, list) and len(legend_labels)) == len(data_list): legend_labels = None\n",
    "    if not (isinstance(tooltips_metadata, list) and len(tooltips_metadata)) == len(data_list):\n",
    "        tooltips_metadata = [{}]*len(data_list)\n",
    "    p = figure(\n",
    "        plot_height=int(0.65*plot_height), plot_width=plot_width,\n",
    "        x_axis_type=\"datetime\", x_axis_location=\"above\" if use_select_figure else 'below',\n",
    "        background_fill_color=\"#efefef\", x_range=None,\n",
    "        toolbar_location=toolbar_location,\n",
    "        tools=tools, **kwargs\n",
    "    )\n",
    "    colors = count2colors(len(data_list))\n",
    "    p.yaxis.axis_label = y_name if y_axis_label is None else y_axis_label\n",
    "    p.xaxis.axis_label = x_name if x_axis_label is None else x_axis_label\n",
    "    if use_select_figure:\n",
    "        select_title = select_title if select_title is not None else f\"拖动选择 {x_name} 区间\"\n",
    "        select = figure(\n",
    "            title=select_title, tools=tools, toolbar_location=toolbar_location,\n",
    "            plot_height=int(0.35*plot_height), plot_width=plot_width, y_range=p.y_range,\n",
    "            x_axis_type=\"datetime\", y_axis_type=None, background_fill_color=\"#efefef\"\n",
    "        )\n",
    "\n",
    "    max_x = []\n",
    "    for i, data in enumerate(data_list):\n",
    "        if not isinstance(data, dict):\n",
    "            logger.error(f\"invalid data_list[{i}] data format, must be dict\")\n",
    "        x = [str(o) for o in data.keys()]\n",
    "        if x_dtype: x = list(np.array(x, dtype=x_dtype))\n",
    "        y = list(data.values())\n",
    "        metadata = {}\n",
    "        if isinstance(tooltips_metadata[i], dict):\n",
    "            for k, v in tooltips_metadata[i].items():\n",
    "                if isinstance(v, list) and len(v) == len(x):\n",
    "                    metadata[k] = v\n",
    "                else:\n",
    "                    logger.warning(f\"tooltips_metadata->{k} values invalid, type={type(v)} length={len(v)}\")\n",
    "        tooltips = [(x_name, \"@{\"f\"{x_name}\"\"}{%F}\"),(y_name, \"@{\"f\"{y_name}\"\"}\")]\n",
    "        for k in metadata: tooltips.append((k, \"@{\"f\"{k}\"\"}\"))\n",
    "        column_data = {\n",
    "            x_name: x,\n",
    "            y_name: y\n",
    "        }\n",
    "        source = ColumnDataSource(data=dict(**column_data, **metadata))\n",
    "        legend_kwargs = {} if legend_labels is None else {'legend_label': legend_labels[i]}\n",
    "        p.line(x_name, y_name, source=source, line_color=colors[i], **legend_kwargs)\n",
    "        if draw_circle: p.circle(x_name, y_name, fill_color='white', size=6, source=source, line_color=colors[i], **legend_kwargs)\n",
    "        if len(x) > len(max_x): max_x = x\n",
    "        p.add_tools(HoverTool(tooltips=tooltips, formatters={\"@{\"f\"{x_name}\"\"}\": 'datetime'}))\n",
    "\n",
    "        if use_select_figure: select.line(x_name, y_name, source=source, line_color=colors[i])\n",
    "    p.x_scale = get_scale(p.x_range, 'datetime')\n",
    "    p.legend.background_fill_alpha = legend_alpha\n",
    "    p.legend.orientation = legend_orientation\n",
    "    p.legend.location = legend_location\n",
    "    if use_select_figure:\n",
    "        p.x_range = get_range((max_x[len(max_x)//2-min(len(max_x)//8, 300)], max_x[len(max_x)//2+min(len(max_x)//8, 300)]))\n",
    "        range_tool = RangeTool(x_range=p.x_range)\n",
    "        range_tool.overlay.fill_color = \"navy\"\n",
    "        range_tool.overlay.fill_alpha = 0.2\n",
    "\n",
    "        select.ygrid.grid_line_color = None\n",
    "        select.add_tools(range_tool)\n",
    "        select.toolbar.active_multi = range_tool\n",
    "        return column(p, select)\n",
    "    else:\n",
    "        return p"
   ]
  },
  {
   "cell_type": "code",
   "execution_count": 14,
   "metadata": {},
   "outputs": [
    {
     "name": "stdout",
     "output_type": "stream",
     "text": [
      "Using data directory: /home/junxin/.bokeh/data\n",
      "Skipping 'CGM.csv' (checksum match)\n",
      "Skipping 'US_Counties.zip' (checksum match)\n",
      "Skipping 'us_cities.json' (checksum match)\n",
      "Skipping 'unemployment09.csv' (checksum match)\n",
      "Skipping 'AAPL.csv' (checksum match)\n",
      "Skipping 'FB.csv' (checksum match)\n",
      "Skipping 'GOOG.csv' (checksum match)\n",
      "Skipping 'IBM.csv' (checksum match)\n",
      "Skipping 'MSFT.csv' (checksum match)\n",
      "Skipping 'WPP2012_SA_DB03_POPULATION_QUINQUENNIAL.zip' (checksum match)\n",
      "Skipping 'gapminder_fertility.csv' (checksum match)\n",
      "Skipping 'gapminder_population.csv' (checksum match)\n",
      "Skipping 'gapminder_life_expectancy.csv' (checksum match)\n",
      "Skipping 'gapminder_regions.csv' (checksum match)\n",
      "Skipping 'world_cities.zip' (checksum match)\n",
      "Skipping 'airports.json' (checksum match)\n",
      "Skipping 'movies.db.zip' (checksum match)\n",
      "Skipping 'airports.csv' (checksum match)\n",
      "Skipping 'routes.csv' (checksum match)\n",
      "Skipping 'haarcascade_frontalface_default.xml' (checksum match)\n"
     ]
    }
   ],
   "source": [
    "from bokeh.util.sampledata import _download_file\n",
    "from pathlib import Path\n",
    "import bokeh.sampledata\n",
    "bokeh.sampledata.download()"
   ]
  },
  {
   "cell_type": "code",
   "execution_count": 15,
   "metadata": {},
   "outputs": [
    {
     "name": "stderr",
     "output_type": "stream",
     "text": [
      "/home/junxin/.local/lib/python3.8/site-packages/bokeh/models/plots.py:815: UserWarning: \n",
      "You are attempting to set `plot.legend.background_fill_alpha` on a plot that has zero legends added, this will have no effect.\n",
      "\n",
      "Before legend properties can be set, you must add a Legend explicitly, or call a glyph method with a legend parameter set.\n",
      "\n",
      "  warnings.warn(_LEGEND_EMPTY_WARNING % attr)\n",
      "/home/junxin/.local/lib/python3.8/site-packages/bokeh/models/plots.py:815: UserWarning: \n",
      "You are attempting to set `plot.legend.orientation` on a plot that has zero legends added, this will have no effect.\n",
      "\n",
      "Before legend properties can be set, you must add a Legend explicitly, or call a glyph method with a legend parameter set.\n",
      "\n",
      "  warnings.warn(_LEGEND_EMPTY_WARNING % attr)\n",
      "/home/junxin/.local/lib/python3.8/site-packages/bokeh/models/plots.py:815: UserWarning: \n",
      "You are attempting to set `plot.legend.location` on a plot that has zero legends added, this will have no effect.\n",
      "\n",
      "Before legend properties can be set, you must add a Legend explicitly, or call a glyph method with a legend parameter set.\n",
      "\n",
      "  warnings.warn(_LEGEND_EMPTY_WARNING % attr)\n"
     ]
    },
    {
     "data": {
      "text/html": [
       "\n",
       "\n",
       "\n",
       "\n",
       "\n",
       "\n",
       "  <div class=\"bk-root\" id=\"65dc746a-77a3-441a-bde1-3a67a3a88381\" data-root-id=\"1210\"></div>\n"
      ]
     },
     "metadata": {},
     "output_type": "display_data"
    },
    {
     "data": {
      "application/javascript": [
       "(function(root) {\n",
       "  function embed_document(root) {\n",
       "    \n",
       "  const docs_json = {\"42d011d1-479f-443d-be4a-38b9b5b9206c\":{\"defs\":[],\"roots\":{\"references\":[{\"attributes\":{\"background_fill_color\":\"#efefef\",\"below\":[{\"id\":\"1221\"}],\"center\":[{\"id\":\"1224\"},{\"id\":\"1228\"}],\"height\":325,\"left\":[{\"id\":\"1225\"}],\"renderers\":[{\"id\":\"1241\"}],\"title\":{\"id\":\"1211\"},\"toolbar\":{\"id\":\"1232\"},\"toolbar_location\":\"above\",\"width\":800,\"x_range\":{\"id\":\"1213\"},\"x_scale\":{\"id\":\"1245\"},\"y_range\":{\"id\":\"1215\"},\"y_scale\":{\"id\":\"1219\"}},\"id\":\"1210\",\"subtype\":\"Figure\",\"type\":\"Plot\"},{\"attributes\":{},\"id\":\"1226\",\"type\":\"BasicTicker\"},{\"attributes\":{\"days\":[1,8,15,22]},\"id\":\"1278\",\"type\":\"DaysTicker\"},{\"attributes\":{},\"id\":\"1231\",\"type\":\"PanTool\"},{\"attributes\":{},\"id\":\"1271\",\"type\":\"UnionRenderers\"},{\"attributes\":{},\"id\":\"1266\",\"type\":\"BasicTickFormatter\"},{\"attributes\":{},\"id\":\"1230\",\"type\":\"ResetTool\"},{\"attributes\":{},\"id\":\"1229\",\"type\":\"SaveTool\"},{\"attributes\":{\"months\":[0,4,8]},\"id\":\"1282\",\"type\":\"MonthsTicker\"},{\"attributes\":{\"coordinates\":null,\"data_source\":{\"id\":\"1236\"},\"glyph\":{\"id\":\"1238\"},\"group\":null,\"hover_glyph\":null,\"muted_glyph\":{\"id\":\"1240\"},\"nonselection_glyph\":{\"id\":\"1239\"},\"view\":{\"id\":\"1242\"}},\"id\":\"1241\",\"type\":\"GlyphRenderer\"},{\"attributes\":{\"data\":{\"x\":[951868800000.0,951955200000.0,952041600000.0,952300800000.0,952387200000.0,952473600000.0,952560000000.0,952646400000.0,952905600000.0,952992000000.0,953078400000.0,953164800000.0,953251200000.0,953510400000.0,953596800000.0,953683200000.0,953769600000.0,953856000000.0,954115200000.0,954201600000.0,954288000000.0,954374400000.0,954460800000.0,954720000000.0,954806400000.0,954892800000.0,954979200000.0,955065600000.0,955324800000.0,955411200000.0,955497600000.0,955584000000.0,955670400000.0,955929600000.0,956016000000.0,956102400000.0,956188800000.0,956534400000.0,956620800000.0,956707200000.0,956793600000.0,956880000000.0,957139200000.0,957225600000.0,957312000000.0,957398400000.0,957484800000.0,957744000000.0,957830400000.0,957916800000.0,958003200000.0,958089600000.0,958348800000.0,958435200000.0,958521600000.0,958608000000.0,958694400000.0,958953600000.0,959040000000.0,959126400000.0,959212800000.0,959299200000.0,959644800000.0,959731200000.0,959817600000.0,959904000000.0,960163200000.0,960249600000.0,960336000000.0,960422400000.0,960508800000.0,960768000000.0,960854400000.0,960940800000.0,961027200000.0,961113600000.0,961372800000.0,961459200000.0,961545600000.0,961632000000.0,961718400000.0,961977600000.0,962064000000.0,962150400000.0,962236800000.0,962323200000.0,962582400000.0,962755200000.0,962841600000.0,962928000000.0,963187200000.0,963273600000.0,963360000000.0,963446400000.0,963532800000.0,963792000000.0,963878400000.0,963964800000.0,964051200000.0,964137600000.0,964396800000.0,964483200000.0,964569600000.0,964656000000.0,964742400000.0,965001600000.0,965088000000.0,965174400000.0,965260800000.0,965347200000.0,965606400000.0,965692800000.0,965779200000.0,965865600000.0,965952000000.0,966211200000.0,966297600000.0,966384000000.0,966470400000.0,966556800000.0,966816000000.0,966902400000.0,966988800000.0,967075200000.0,967161600000.0,967420800000.0,967507200000.0,967593600000.0,967680000000.0,967766400000.0,968112000000.0,968198400000.0,968284800000.0,968371200000.0,968630400000.0,968716800000.0,968803200000.0,968889600000.0,968976000000.0,969235200000.0,969321600000.0,969408000000.0,969494400000.0,969580800000.0,969840000000.0,969926400000.0,970012800000.0,970099200000.0,970185600000.0,970444800000.0,970531200000.0,970617600000.0,970704000000.0,970790400000.0,971049600000.0,971136000000.0,971222400000.0,971308800000.0,971395200000.0,971654400000.0,971740800000.0,971827200000.0,971913600000.0,972000000000.0,972259200000.0,972345600000.0,972432000000.0,972518400000.0,972604800000.0,972864000000.0,972950400000.0,973036800000.0,973123200000.0,973209600000.0,973468800000.0,973555200000.0,973641600000.0,973728000000.0,973814400000.0,974073600000.0,974160000000.0,974246400000.0,974332800000.0,974419200000.0,974678400000.0,974764800000.0,974851200000.0,975024000000.0,975283200000.0,975369600000.0,975456000000.0,975542400000.0,975628800000.0,975888000000.0,975974400000.0,976060800000.0,976147200000.0,976233600000.0,976492800000.0,976579200000.0,976665600000.0,976752000000.0,976838400000.0,977097600000.0,977184000000.0,977270400000.0,977356800000.0,977443200000.0,977788800000.0,977875200000.0,977961600000.0,978048000000.0,978393600000.0,978480000000.0,978566400000.0,978652800000.0,978912000000.0,978998400000.0,979084800000.0,979171200000.0,979257600000.0,979603200000.0,979689600000.0,979776000000.0,979862400000.0,980121600000.0,980208000000.0,980294400000.0,980380800000.0,980467200000.0,980726400000.0,980812800000.0,980899200000.0,980985600000.0,981072000000.0,981331200000.0,981417600000.0,981504000000.0,981590400000.0,981676800000.0,981936000000.0,982022400000.0,982108800000.0,982195200000.0,982281600000.0,982627200000.0,982713600000.0,982800000000.0,982886400000.0,983145600000.0,983232000000.0,983318400000.0,983404800000.0,983491200000.0,983750400000.0,983836800000.0,983923200000.0,984009600000.0,984096000000.0,984355200000.0,984441600000.0,984528000000.0,984614400000.0,984700800000.0,984960000000.0,985046400000.0,985132800000.0,985219200000.0,985305600000.0,985564800000.0,985651200000.0,985737600000.0,985824000000.0,985910400000.0,986169600000.0,986256000000.0,986342400000.0,986428800000.0,986515200000.0,986774400000.0,986860800000.0,986947200000.0,987033600000.0,987379200000.0,987465600000.0,987552000000.0,987638400000.0,987724800000.0,987984000000.0,988070400000.0,988156800000.0,988243200000.0,988329600000.0,988588800000.0,988675200000.0,988761600000.0,988848000000.0,988934400000.0,989193600000.0,989280000000.0],\"y\":[130.31,122.0,128.0,125.69,122.87,122.0,122.25,125.75,121.31,114.25,116.25,121.56,125.0,123.0,134.94,144.19,141.31,138.69,139.56,139.13,135.94,125.75,135.81,133.31,127.31,130.38,125.19,131.75,125.0,119.44,109.25,113.81,111.87,123.87,126.87,121.12,118.87,120.5,128.31,121.31,126.75,124.06,124.31,117.87,115.06,110.69,113.12,110.12,105.44,99.31,102.81,107.62,101.0,105.69,101.37,100.75,94.0,89.94,85.81,87.69,87.27,86.37,87.56,84.0,89.12,92.56,91.31,92.87,96.56,94.81,95.75,91.19,94.5,90.44,92.37,91.19,96.62,101.25,55.63,53.75,51.69,54.13,51.75,54.44,51.25,52.38,53.31,51.63,51.81,54.44,57.13,56.94,58.88,56.5,57.69,58.31,57.25,52.69,55.13,53.56,48.69,50.06,50.06,52.0,48.31,50.81,49.31,47.25,48.0,47.38,47.94,46.75,47.5,47.56,47.69,47.06,46.69,48.5,51.44,50.0,50.5,51.69,54.31,56.11,56.81,58.06,59.19,59.5,60.94,63.44,62.44,58.44,62.0,58.88,58.44,57.75,58.0,56.86,55.23,60.66,59.94,61.05,56.69,52.19,53.5,51.44,48.94,53.5,25.75,24.25,22.31,23.62,22.06,22.19,21.75,20.87,19.62,20.0,22.06,21.5,20.12,20.12,18.94,19.5,20.37,18.87,18.5,18.5,18.56,19.31,19.56,20.5,22.31,22.25,21.44,21.31,20.06,20.19,19.06,19.37,20.25,19.87,19.0,18.5,18.94,18.81,18.5,19.31,18.69,18.03,17.56,16.5,17.06,16.69,17.0,14.31,14.31,15.06,15.19,15.38,15.0,14.44,14.06,14.25,14.0,14.38,14.06,15.0,14.69,14.81,14.81,14.88,14.88,16.37,17.06,16.37,16.56,17.19,16.56,18.0,17.19,17.12,16.81,18.69,19.5,19.25,20.5,20.5,19.94,19.56,21.69,21.75,21.62,21.12,20.62,20.19,21.12,20.75,20.75,19.12,19.69,19.12,19.5,20.06,19.0,18.31,18.87,18.81,18.81,19.5,19.37,18.25,18.75,19.25,20.37,21.5,21.25,20.81,20.25,18.62,19.56,20.44,19.69,19.62,20.56,19.69,20.12,21.62,23.0,21.78,22.87,22.17,22.53,22.07,21.59,20.24,19.5,20.87,20.59,20.54,22.04,21.8,22.42,21.44,20.4,22.79,25.72,25.04,24.25,24.03,24.72,24.69,26.2,25.49,25.93,26.59,24.96,25.75,24.96,24.57]},\"selected\":{\"id\":\"1272\"},\"selection_policy\":{\"id\":\"1271\"}},\"id\":\"1236\",\"type\":\"ColumnDataSource\"},{\"attributes\":{\"callback\":null,\"formatters\":{\"@{x}\":\"datetime\"},\"tooltips\":[[\"x\",\"@{x}{%F}\"],[\"y\",\"@{y}\"]]},\"id\":\"1243\",\"type\":\"HoverTool\"},{\"attributes\":{},\"id\":\"1245\",\"type\":\"LinearScale\"},{\"attributes\":{},\"id\":\"1219\",\"type\":\"LinearScale\"},{\"attributes\":{\"axis\":{\"id\":\"1221\"},\"coordinates\":null,\"group\":null,\"ticker\":null},\"id\":\"1224\",\"type\":\"Grid\"},{\"attributes\":{\"coordinates\":null,\"group\":null,\"text\":\"\\u8d8b\\u52bf\\u56fe\"},\"id\":\"1211\",\"type\":\"Title\"},{\"attributes\":{},\"id\":\"1215\",\"type\":\"DataRange1d\"},{\"attributes\":{\"axis_label\":\"x\",\"coordinates\":null,\"formatter\":{\"id\":\"1269\"},\"group\":null,\"major_label_policy\":{\"id\":\"1270\"},\"ticker\":{\"id\":\"1222\"}},\"id\":\"1221\",\"type\":\"DatetimeAxis\"},{\"attributes\":{\"source\":{\"id\":\"1236\"}},\"id\":\"1242\",\"type\":\"CDSView\"},{\"attributes\":{\"axis_label\":\"y\",\"coordinates\":null,\"formatter\":{\"id\":\"1266\"},\"group\":null,\"major_label_policy\":{\"id\":\"1267\"},\"ticker\":{\"id\":\"1226\"}},\"id\":\"1225\",\"type\":\"LinearAxis\"},{\"attributes\":{\"tools\":[{\"id\":\"1229\"},{\"id\":\"1230\"},{\"id\":\"1231\"},{\"id\":\"1243\"}]},\"id\":\"1232\",\"type\":\"Toolbar\"},{\"attributes\":{\"mantissas\":[1,2,5],\"max_interval\":500.0,\"num_minor_ticks\":0},\"id\":\"1273\",\"type\":\"AdaptiveTicker\"},{\"attributes\":{\"num_minor_ticks\":5,\"tickers\":[{\"id\":\"1273\"},{\"id\":\"1274\"},{\"id\":\"1275\"},{\"id\":\"1276\"},{\"id\":\"1277\"},{\"id\":\"1278\"},{\"id\":\"1279\"},{\"id\":\"1280\"},{\"id\":\"1281\"},{\"id\":\"1282\"},{\"id\":\"1283\"},{\"id\":\"1284\"}]},\"id\":\"1222\",\"type\":\"DatetimeTicker\"},{\"attributes\":{\"base\":60,\"mantissas\":[1,2,5,10,15,20,30],\"max_interval\":1800000.0,\"min_interval\":1000.0,\"num_minor_ticks\":0},\"id\":\"1274\",\"type\":\"AdaptiveTicker\"},{\"attributes\":{},\"id\":\"1267\",\"type\":\"AllLabels\"},{\"attributes\":{\"axis\":{\"id\":\"1225\"},\"coordinates\":null,\"dimension\":1,\"group\":null,\"ticker\":null},\"id\":\"1228\",\"type\":\"Grid\"},{\"attributes\":{\"days\":[1,2,3,4,5,6,7,8,9,10,11,12,13,14,15,16,17,18,19,20,21,22,23,24,25,26,27,28,29,30,31]},\"id\":\"1276\",\"type\":\"DaysTicker\"},{\"attributes\":{\"base\":24,\"mantissas\":[1,2,4,6,8,12],\"max_interval\":43200000.0,\"min_interval\":3600000.0,\"num_minor_ticks\":0},\"id\":\"1275\",\"type\":\"AdaptiveTicker\"},{\"attributes\":{},\"id\":\"1269\",\"type\":\"DatetimeTickFormatter\"},{\"attributes\":{},\"id\":\"1272\",\"type\":\"Selection\"},{\"attributes\":{\"months\":[0,1,2,3,4,5,6,7,8,9,10,11]},\"id\":\"1280\",\"type\":\"MonthsTicker\"},{\"attributes\":{\"months\":[0,2,4,6,8,10]},\"id\":\"1281\",\"type\":\"MonthsTicker\"},{\"attributes\":{\"line_color\":\"#66c2a5\",\"x\":{\"field\":\"x\"},\"y\":{\"field\":\"y\"}},\"id\":\"1238\",\"type\":\"Line\"},{\"attributes\":{\"days\":[1,4,7,10,13,16,19,22,25,28]},\"id\":\"1277\",\"type\":\"DaysTicker\"},{\"attributes\":{\"days\":[1,15]},\"id\":\"1279\",\"type\":\"DaysTicker\"},{\"attributes\":{\"line_alpha\":0.1,\"line_color\":\"#66c2a5\",\"x\":{\"field\":\"x\"},\"y\":{\"field\":\"y\"}},\"id\":\"1239\",\"type\":\"Line\"},{\"attributes\":{\"months\":[0,6]},\"id\":\"1283\",\"type\":\"MonthsTicker\"},{\"attributes\":{},\"id\":\"1270\",\"type\":\"AllLabels\"},{\"attributes\":{\"line_alpha\":0.2,\"line_color\":\"#66c2a5\",\"x\":{\"field\":\"x\"},\"y\":{\"field\":\"y\"}},\"id\":\"1240\",\"type\":\"Line\"},{\"attributes\":{},\"id\":\"1213\",\"type\":\"DataRange1d\"},{\"attributes\":{},\"id\":\"1284\",\"type\":\"YearsTicker\"}],\"root_ids\":[\"1210\"]},\"title\":\"Bokeh Application\",\"version\":\"2.4.2\"}};\n",
       "  const render_items = [{\"docid\":\"42d011d1-479f-443d-be4a-38b9b5b9206c\",\"root_ids\":[\"1210\"],\"roots\":{\"1210\":\"65dc746a-77a3-441a-bde1-3a67a3a88381\"}}];\n",
       "  root.Bokeh.embed.embed_items_notebook(docs_json, render_items);\n",
       "\n",
       "  }\n",
       "  if (root.Bokeh !== undefined) {\n",
       "    embed_document(root);\n",
       "  } else {\n",
       "    let attempts = 0;\n",
       "    const timer = setInterval(function(root) {\n",
       "      if (root.Bokeh !== undefined) {\n",
       "        clearInterval(timer);\n",
       "        embed_document(root);\n",
       "      } else {\n",
       "        attempts++;\n",
       "        if (attempts > 100) {\n",
       "          clearInterval(timer);\n",
       "          console.log(\"Bokeh: ERROR: Unable to run BokehJS code because BokehJS library is missing\");\n",
       "        }\n",
       "      }\n",
       "    }, 10, root)\n",
       "  }\n",
       "})(window);"
      ],
      "application/vnd.bokehjs_exec.v0+json": ""
     },
     "metadata": {
      "application/vnd.bokehjs_exec.v0+json": {
       "id": "1210"
      }
     },
     "output_type": "display_data"
    }
   ],
   "source": [
    "from bokeh.sampledata.stocks import AAPL\n",
    "\n",
    "test_data = { x:y for x,y in zip(AAPL['date'][:300], AAPL['close'][:300])}\n",
    "p = line_figure_datetime(test_data, title=\"趋势图\", draw_circle=False, use_select_figure=False)\n",
    "show(p)"
   ]
  },
  {
   "cell_type": "code",
   "execution_count": 16,
   "metadata": {},
   "outputs": [
    {
     "data": {
      "text/plain": [
       "dict_keys(['date', 'open', 'high', 'low', 'close', 'volume', 'adj_close'])"
      ]
     },
     "execution_count": 16,
     "metadata": {},
     "output_type": "execute_result"
    }
   ],
   "source": [
    "AAPL.keys()"
   ]
  },
  {
   "cell_type": "code",
   "execution_count": 17,
   "metadata": {},
   "outputs": [
    {
     "data": {
      "text/html": [
       "\n",
       "\n",
       "\n",
       "\n",
       "\n",
       "\n",
       "  <div class=\"bk-root\" id=\"acfe8e4a-89fc-43d7-bb83-42d9e915d5ba\" data-root-id=\"1465\"></div>\n"
      ]
     },
     "metadata": {},
     "output_type": "display_data"
    },
    {
     "data": {
      "application/javascript": [
       "(function(root) {\n",
       "  function embed_document(root) {\n",
       "    \n",
       "  const docs_json = {\"fa185d89-9237-42b5-916c-f2c833eb3472\":{\"defs\":[],\"roots\":{\"references\":[{\"attributes\":{\"children\":[{\"id\":\"1390\"},{\"id\":\"1416\"}]},\"id\":\"1465\",\"type\":\"Column\"},{\"attributes\":{\"coordinates\":null,\"group\":null,\"text\":\"\\u8d8b\\u52bf\\u56fe\"},\"id\":\"1391\",\"type\":\"Title\"},{\"attributes\":{\"axis\":{\"id\":\"1401\"},\"coordinates\":null,\"group\":null,\"ticker\":null},\"id\":\"1404\",\"type\":\"Grid\"},{\"attributes\":{\"line_color\":\"#66c2a5\",\"x\":{\"field\":\"\\u65f6\\u95f4\"},\"y\":{\"field\":\"\\u4ef7\\u683c\"}},\"id\":\"1453\",\"type\":\"Line\"},{\"attributes\":{\"axis_label\":\"\\u4ef7\\u683c\",\"coordinates\":null,\"formatter\":{\"id\":\"1508\"},\"group\":null,\"major_label_policy\":{\"id\":\"1509\"},\"ticker\":{\"id\":\"1406\"}},\"id\":\"1405\",\"type\":\"LinearAxis\"},{\"attributes\":{\"line_alpha\":0.1,\"line_color\":\"#66c2a5\",\"x\":{\"field\":\"\\u65f6\\u95f4\"},\"y\":{\"field\":\"\\u4ef7\\u683c\"}},\"id\":\"1454\",\"type\":\"Line\"},{\"attributes\":{\"axis\":{\"id\":\"1405\"},\"coordinates\":null,\"dimension\":1,\"group\":null,\"ticker\":null},\"id\":\"1408\",\"type\":\"Grid\"},{\"attributes\":{\"line_alpha\":0.2,\"line_color\":\"#66c2a5\",\"x\":{\"field\":\"\\u65f6\\u95f4\"},\"y\":{\"field\":\"\\u4ef7\\u683c\"}},\"id\":\"1455\",\"type\":\"Line\"},{\"attributes\":{\"num_minor_ticks\":5,\"tickers\":[{\"id\":\"1518\"},{\"id\":\"1519\"},{\"id\":\"1520\"},{\"id\":\"1521\"},{\"id\":\"1522\"},{\"id\":\"1523\"},{\"id\":\"1524\"},{\"id\":\"1525\"},{\"id\":\"1526\"},{\"id\":\"1527\"},{\"id\":\"1528\"},{\"id\":\"1529\"}]},\"id\":\"1402\",\"type\":\"DatetimeTicker\"},{\"attributes\":{\"source\":{\"id\":\"1437\"}},\"id\":\"1457\",\"type\":\"CDSView\"},{\"attributes\":{},\"id\":\"1406\",\"type\":\"BasicTicker\"},{\"attributes\":{},\"id\":\"1411\",\"type\":\"PanTool\"},{\"attributes\":{},\"id\":\"1410\",\"type\":\"ResetTool\"},{\"attributes\":{},\"id\":\"1409\",\"type\":\"SaveTool\"},{\"attributes\":{},\"id\":\"1422\",\"type\":\"LinearScale\"},{\"attributes\":{},\"id\":\"1431\",\"type\":\"ResetTool\"},{\"attributes\":{},\"id\":\"1432\",\"type\":\"PanTool\"},{\"attributes\":{},\"id\":\"1458\",\"type\":\"LinearScale\"},{\"attributes\":{\"axis\":{\"id\":\"1426\"},\"coordinates\":null,\"group\":null,\"ticker\":null},\"id\":\"1429\",\"type\":\"Grid\"},{\"attributes\":{},\"id\":\"1419\",\"type\":\"DataRange1d\"},{\"attributes\":{},\"id\":\"1430\",\"type\":\"SaveTool\"},{\"attributes\":{\"tools\":[{\"id\":\"1409\"},{\"id\":\"1410\"},{\"id\":\"1411\"},{\"id\":\"1450\"}]},\"id\":\"1412\",\"type\":\"Toolbar\"},{\"attributes\":{\"coordinates\":null,\"formatter\":{\"id\":\"1514\"},\"group\":null,\"major_label_policy\":{\"id\":\"1515\"},\"ticker\":{\"id\":\"1427\"}},\"id\":\"1426\",\"type\":\"DatetimeAxis\"},{\"attributes\":{\"data\":{\"\\u4ef7\\u683c\":[130.31,122.0,128.0,125.69,122.87,122.0,122.25,125.75,121.31,114.25,116.25,121.56,125.0,123.0,134.94,144.19,141.31,138.69,139.56,139.13,135.94,125.75,135.81,133.31,127.31,130.38,125.19,131.75,125.0,119.44,109.25,113.81,111.87,123.87,126.87,121.12,118.87,120.5,128.31,121.31,126.75,124.06,124.31,117.87,115.06,110.69,113.12,110.12,105.44,99.31,102.81,107.62,101.0,105.69,101.37,100.75,94.0,89.94,85.81,87.69,87.27,86.37,87.56,84.0,89.12,92.56,91.31,92.87,96.56,94.81,95.75,91.19,94.5,90.44,92.37,91.19,96.62,101.25,55.63,53.75,51.69,54.13,51.75,54.44,51.25,52.38,53.31,51.63,51.81,54.44,57.13,56.94,58.88,56.5,57.69,58.31,57.25,52.69,55.13,53.56,48.69,50.06,50.06,52.0,48.31,50.81,49.31,47.25,48.0,47.38,47.94,46.75,47.5,47.56,47.69,47.06,46.69,48.5,51.44,50.0,50.5,51.69,54.31,56.11,56.81,58.06,59.19,59.5,60.94,63.44,62.44,58.44,62.0,58.88,58.44,57.75,58.0,56.86,55.23,60.66,59.94,61.05,56.69,52.19,53.5,51.44,48.94,53.5,25.75,24.25,22.31,23.62,22.06,22.19,21.75,20.87,19.62,20.0,22.06,21.5,20.12,20.12,18.94,19.5,20.37,18.87,18.5,18.5,18.56,19.31,19.56,20.5,22.31,22.25,21.44,21.31,20.06,20.19,19.06,19.37,20.25,19.87,19.0,18.5,18.94,18.81,18.5,19.31,18.69,18.03,17.56,16.5,17.06,16.69,17.0,14.31,14.31,15.06,15.19,15.38,15.0,14.44,14.06,14.25,14.0,14.38,14.06,15.0,14.69,14.81,14.81,14.88,14.88,16.37,17.06,16.37,16.56,17.19,16.56,18.0,17.19,17.12,16.81,18.69,19.5,19.25,20.5,20.5,19.94,19.56,21.69,21.75,21.62,21.12,20.62,20.19,21.12,20.75,20.75,19.12,19.69,19.12,19.5,20.06,19.0,18.31,18.87,18.81,18.81,19.5,19.37,18.25,18.75,19.25,20.37,21.5,21.25,20.81,20.25,18.62,19.56,20.44,19.69,19.62,20.56,19.69,20.12,21.62,23.0,21.78,22.87,22.17,22.53,22.07,21.59,20.24,19.5,20.87,20.59,20.54,22.04,21.8,22.42,21.44,20.4,22.79,25.72,25.04,24.25,24.03,24.72,24.69,26.2,25.49,25.93,26.59,24.96,25.75,24.96,24.57],\"\\u4f53\\u91cf\":[38478000,11136800,11565200,7520000,9767600,9690800,9884400,8900800,10864400,15321200,15845200,13516800,10902400,7316400,18729200,20288800,20098000,15962000,9976800,7253600,8568800,14800000,14457600,11742400,23596400,16359200,9290800,8668800,7592400,19368000,33618800,18923600,23845600,14642400,13962400,18586400,25806800,15845600,14002400,13117600,11678000,8932400,8100000,8446400,17500000,14284400,10160000,6605600,11685600,19127600,17852400,10962000,24252000,15736400,14227600,13365600,26459200,26995200,18488000,24248000,14530800,6486400,25481200,15483600,32280000,28336400,11582000,18771200,12056800,8540800,9020000,10374400,12570000,9925200,8898800,10842400,14089200,17922000,17500000,16706200,7320400,6631000,7270600,10235000,7281200,11550000,2535000,9478800,11063800,9422600,14211000,12783200,8057600,15925600,6804400,9289000,11378200,16359600,16631800,7013200,14720600,7567200,7526200,10543800,8505400,5550000,4904600,5808800,12150000,9406800,6697200,6315400,13569000,8995400,8503200,5603400,4089000,5137600,9683400,6798800,4803800,9889000,8470400,11109400,11947800,12822600,9546200,10199600,14988800,9181800,10669000,12700400,7770400,6984400,6699000,6722200,10932600,15241800,14095400,15163200,9706200,8121600,18238400,25961200,15564000,10396600,14370000,34988200,265069000,86610600,72795600,52368200,31189400,21881000,21342600,24683400,42801200,42548200,44564000,29298800,21495600,29803800,53818200,28270400,19694000,28736200,23720600,25780600,26594600,22832800,31649000,20553800,21105400,18423400,14060000,10786800,15082800,17035400,15080600,15423200,14611200,10086600,8554000,15943400,14581600,10786200,10029600,5751800,9244000,9618200,17586200,28922200,13783800,13273400,21932200,49092400,14606600,15568200,11884000,13803400,12327200,9406600,18363800,11645000,13367200,20196200,13102600,11369600,7745400,11626000,10910000,22518800,16161800,29181800,26411000,14731000,13350000,21040600,20743400,28707600,15121000,10940000,30037600,43822800,27748200,18551600,31418400,25616200,17495000,17245600,30562800,24734600,26106000,13205400,15263400,10228800,16528400,14071600,21585000,21082600,9795600,8470600,11040000,11123200,9428400,11249600,13947800,15431200,10503800,7380000,12451000,18157600,11803400,14511200,11587600,26144600,14985600,7325600,10685400,13967800,15840600,17065400,18906600,16806600,12722800,17833800,13265400,25839000,33749400,26230400,19422200,20880800,21895200,14298200,12175400,13167400,24481600,15955800,11603200,9520800,16334800,11932000,10676200,10186600,24471400,39315800,66916800,24764400,19340200,13469200,11813600,28560600,16179000,17670600,15259000,13161600,10769400,10037600,9876800,11265600],\"\\u65f6\\u95f4\":[951868800000.0,951955200000.0,952041600000.0,952300800000.0,952387200000.0,952473600000.0,952560000000.0,952646400000.0,952905600000.0,952992000000.0,953078400000.0,953164800000.0,953251200000.0,953510400000.0,953596800000.0,953683200000.0,953769600000.0,953856000000.0,954115200000.0,954201600000.0,954288000000.0,954374400000.0,954460800000.0,954720000000.0,954806400000.0,954892800000.0,954979200000.0,955065600000.0,955324800000.0,955411200000.0,955497600000.0,955584000000.0,955670400000.0,955929600000.0,956016000000.0,956102400000.0,956188800000.0,956534400000.0,956620800000.0,956707200000.0,956793600000.0,956880000000.0,957139200000.0,957225600000.0,957312000000.0,957398400000.0,957484800000.0,957744000000.0,957830400000.0,957916800000.0,958003200000.0,958089600000.0,958348800000.0,958435200000.0,958521600000.0,958608000000.0,958694400000.0,958953600000.0,959040000000.0,959126400000.0,959212800000.0,959299200000.0,959644800000.0,959731200000.0,959817600000.0,959904000000.0,960163200000.0,960249600000.0,960336000000.0,960422400000.0,960508800000.0,960768000000.0,960854400000.0,960940800000.0,961027200000.0,961113600000.0,961372800000.0,961459200000.0,961545600000.0,961632000000.0,961718400000.0,961977600000.0,962064000000.0,962150400000.0,962236800000.0,962323200000.0,962582400000.0,962755200000.0,962841600000.0,962928000000.0,963187200000.0,963273600000.0,963360000000.0,963446400000.0,963532800000.0,963792000000.0,963878400000.0,963964800000.0,964051200000.0,964137600000.0,964396800000.0,964483200000.0,964569600000.0,964656000000.0,964742400000.0,965001600000.0,965088000000.0,965174400000.0,965260800000.0,965347200000.0,965606400000.0,965692800000.0,965779200000.0,965865600000.0,965952000000.0,966211200000.0,966297600000.0,966384000000.0,966470400000.0,966556800000.0,966816000000.0,966902400000.0,966988800000.0,967075200000.0,967161600000.0,967420800000.0,967507200000.0,967593600000.0,967680000000.0,967766400000.0,968112000000.0,968198400000.0,968284800000.0,968371200000.0,968630400000.0,968716800000.0,968803200000.0,968889600000.0,968976000000.0,969235200000.0,969321600000.0,969408000000.0,969494400000.0,969580800000.0,969840000000.0,969926400000.0,970012800000.0,970099200000.0,970185600000.0,970444800000.0,970531200000.0,970617600000.0,970704000000.0,970790400000.0,971049600000.0,971136000000.0,971222400000.0,971308800000.0,971395200000.0,971654400000.0,971740800000.0,971827200000.0,971913600000.0,972000000000.0,972259200000.0,972345600000.0,972432000000.0,972518400000.0,972604800000.0,972864000000.0,972950400000.0,973036800000.0,973123200000.0,973209600000.0,973468800000.0,973555200000.0,973641600000.0,973728000000.0,973814400000.0,974073600000.0,974160000000.0,974246400000.0,974332800000.0,974419200000.0,974678400000.0,974764800000.0,974851200000.0,975024000000.0,975283200000.0,975369600000.0,975456000000.0,975542400000.0,975628800000.0,975888000000.0,975974400000.0,976060800000.0,976147200000.0,976233600000.0,976492800000.0,976579200000.0,976665600000.0,976752000000.0,976838400000.0,977097600000.0,977184000000.0,977270400000.0,977356800000.0,977443200000.0,977788800000.0,977875200000.0,977961600000.0,978048000000.0,978393600000.0,978480000000.0,978566400000.0,978652800000.0,978912000000.0,978998400000.0,979084800000.0,979171200000.0,979257600000.0,979603200000.0,979689600000.0,979776000000.0,979862400000.0,980121600000.0,980208000000.0,980294400000.0,980380800000.0,980467200000.0,980726400000.0,980812800000.0,980899200000.0,980985600000.0,981072000000.0,981331200000.0,981417600000.0,981504000000.0,981590400000.0,981676800000.0,981936000000.0,982022400000.0,982108800000.0,982195200000.0,982281600000.0,982627200000.0,982713600000.0,982800000000.0,982886400000.0,983145600000.0,983232000000.0,983318400000.0,983404800000.0,983491200000.0,983750400000.0,983836800000.0,983923200000.0,984009600000.0,984096000000.0,984355200000.0,984441600000.0,984528000000.0,984614400000.0,984700800000.0,984960000000.0,985046400000.0,985132800000.0,985219200000.0,985305600000.0,985564800000.0,985651200000.0,985737600000.0,985824000000.0,985910400000.0,986169600000.0,986256000000.0,986342400000.0,986428800000.0,986515200000.0,986774400000.0,986860800000.0,986947200000.0,987033600000.0,987379200000.0,987465600000.0,987552000000.0,987638400000.0,987724800000.0,987984000000.0,988070400000.0,988156800000.0,988243200000.0,988329600000.0,988588800000.0,988675200000.0,988761600000.0,988848000000.0,988934400000.0,989193600000.0,989280000000.0]},\"selected\":{\"id\":\"1517\"},\"selection_policy\":{\"id\":\"1516\"}},\"id\":\"1437\",\"type\":\"ColumnDataSource\"},{\"attributes\":{\"coordinates\":null,\"group\":null,\"text\":\"\\u62d6\\u52a8\\u9009\\u62e9 \\u65f6\\u95f4 \\u533a\\u95f4\"},\"id\":\"1417\",\"type\":\"Title\"},{\"attributes\":{\"fill_alpha\":{\"value\":0.1},\"fill_color\":{\"value\":\"white\"},\"hatch_alpha\":{\"value\":0.1},\"line_alpha\":{\"value\":0.1},\"line_color\":{\"value\":\"#66c2a5\"},\"size\":{\"value\":6},\"x\":{\"field\":\"\\u65f6\\u95f4\"},\"y\":{\"field\":\"\\u4ef7\\u683c\"}},\"id\":\"1446\",\"type\":\"Circle\"},{\"attributes\":{\"coordinates\":null,\"data_source\":{\"id\":\"1437\"},\"glyph\":{\"id\":\"1439\"},\"group\":null,\"hover_glyph\":null,\"muted_glyph\":{\"id\":\"1441\"},\"nonselection_glyph\":{\"id\":\"1440\"},\"view\":{\"id\":\"1443\"}},\"id\":\"1442\",\"type\":\"GlyphRenderer\"},{\"attributes\":{\"callback\":null,\"formatters\":{\"@{\\u65f6\\u95f4}\":\"datetime\"},\"tooltips\":[[\"\\u65f6\\u95f4\",\"@{\\u65f6\\u95f4}{%F}\"],[\"\\u4ef7\\u683c\",\"@{\\u4ef7\\u683c}\"],[\"\\u4f53\\u91cf\",\"@{\\u4f53\\u91cf}\"]]},\"id\":\"1450\",\"type\":\"HoverTool\"},{\"attributes\":{},\"id\":\"1508\",\"type\":\"BasicTickFormatter\"},{\"attributes\":{},\"id\":\"1509\",\"type\":\"AllLabels\"},{\"attributes\":{},\"id\":\"1517\",\"type\":\"Selection\"},{\"attributes\":{},\"id\":\"1511\",\"type\":\"DatetimeTickFormatter\"},{\"attributes\":{\"source\":{\"id\":\"1437\"}},\"id\":\"1449\",\"type\":\"CDSView\"},{\"attributes\":{},\"id\":\"1512\",\"type\":\"AllLabels\"},{\"attributes\":{\"line_alpha\":0.1,\"line_color\":\"#66c2a5\",\"x\":{\"field\":\"\\u65f6\\u95f4\"},\"y\":{\"field\":\"\\u4ef7\\u683c\"}},\"id\":\"1440\",\"type\":\"Line\"},{\"attributes\":{\"active_multi\":{\"id\":\"1460\"},\"tools\":[{\"id\":\"1430\"},{\"id\":\"1431\"},{\"id\":\"1432\"},{\"id\":\"1460\"}]},\"id\":\"1433\",\"type\":\"Toolbar\"},{\"attributes\":{},\"id\":\"1516\",\"type\":\"UnionRenderers\"},{\"attributes\":{\"line_color\":\"#66c2a5\",\"x\":{\"field\":\"\\u65f6\\u95f4\"},\"y\":{\"field\":\"\\u4ef7\\u683c\"}},\"id\":\"1439\",\"type\":\"Line\"},{\"attributes\":{\"fill_color\":{\"value\":\"white\"},\"line_color\":{\"value\":\"#66c2a5\"},\"size\":{\"value\":6},\"x\":{\"field\":\"\\u65f6\\u95f4\"},\"y\":{\"field\":\"\\u4ef7\\u683c\"}},\"id\":\"1445\",\"type\":\"Circle\"},{\"attributes\":{\"fill_alpha\":{\"value\":0.2},\"fill_color\":{\"value\":\"white\"},\"hatch_alpha\":{\"value\":0.2},\"line_alpha\":{\"value\":0.2},\"line_color\":{\"value\":\"#66c2a5\"},\"size\":{\"value\":6},\"x\":{\"field\":\"\\u65f6\\u95f4\"},\"y\":{\"field\":\"\\u4ef7\\u683c\"}},\"id\":\"1447\",\"type\":\"Circle\"},{\"attributes\":{\"line_alpha\":0.2,\"line_color\":\"#66c2a5\",\"x\":{\"field\":\"\\u65f6\\u95f4\"},\"y\":{\"field\":\"\\u4ef7\\u683c\"}},\"id\":\"1441\",\"type\":\"Line\"},{\"attributes\":{\"coordinates\":null,\"data_source\":{\"id\":\"1437\"},\"glyph\":{\"id\":\"1453\"},\"group\":null,\"hover_glyph\":null,\"muted_glyph\":{\"id\":\"1455\"},\"nonselection_glyph\":{\"id\":\"1454\"},\"view\":{\"id\":\"1457\"}},\"id\":\"1456\",\"type\":\"GlyphRenderer\"},{\"attributes\":{\"coordinates\":null,\"data_source\":{\"id\":\"1437\"},\"glyph\":{\"id\":\"1445\"},\"group\":null,\"hover_glyph\":null,\"muted_glyph\":{\"id\":\"1447\"},\"nonselection_glyph\":{\"id\":\"1446\"},\"view\":{\"id\":\"1449\"}},\"id\":\"1448\",\"type\":\"GlyphRenderer\"},{\"attributes\":{\"num_minor_ticks\":5,\"tickers\":[{\"id\":\"1531\"},{\"id\":\"1532\"},{\"id\":\"1533\"},{\"id\":\"1534\"},{\"id\":\"1535\"},{\"id\":\"1536\"},{\"id\":\"1537\"},{\"id\":\"1538\"},{\"id\":\"1539\"},{\"id\":\"1540\"},{\"id\":\"1541\"},{\"id\":\"1542\"}]},\"id\":\"1427\",\"type\":\"DatetimeTicker\"},{\"attributes\":{\"source\":{\"id\":\"1437\"}},\"id\":\"1443\",\"type\":\"CDSView\"},{\"attributes\":{\"end\":975024000000.0,\"start\":965865600000.0},\"id\":\"1459\",\"type\":\"Range1d\"},{\"attributes\":{},\"id\":\"1514\",\"type\":\"DatetimeTickFormatter\"},{\"attributes\":{\"mantissas\":[1,2,5],\"max_interval\":500.0,\"num_minor_ticks\":0},\"id\":\"1531\",\"type\":\"AdaptiveTicker\"},{\"attributes\":{},\"id\":\"1515\",\"type\":\"AllLabels\"},{\"attributes\":{\"base\":60,\"mantissas\":[1,2,5,10,15,20,30],\"max_interval\":1800000.0,\"min_interval\":1000.0,\"num_minor_ticks\":0},\"id\":\"1532\",\"type\":\"AdaptiveTicker\"},{\"attributes\":{\"days\":[1,2,3,4,5,6,7,8,9,10,11,12,13,14,15,16,17,18,19,20,21,22,23,24,25,26,27,28,29,30,31]},\"id\":\"1534\",\"type\":\"DaysTicker\"},{\"attributes\":{\"base\":24,\"mantissas\":[1,2,4,6,8,12],\"max_interval\":43200000.0,\"min_interval\":3600000.0,\"num_minor_ticks\":0},\"id\":\"1533\",\"type\":\"AdaptiveTicker\"},{\"attributes\":{\"months\":[0,1,2,3,4,5,6,7,8,9,10,11]},\"id\":\"1538\",\"type\":\"MonthsTicker\"},{\"attributes\":{\"months\":[0,2,4,6,8,10]},\"id\":\"1539\",\"type\":\"MonthsTicker\"},{\"attributes\":{\"days\":[1,4,7,10,13,16,19,22,25,28]},\"id\":\"1535\",\"type\":\"DaysTicker\"},{\"attributes\":{\"days\":[1,15]},\"id\":\"1537\",\"type\":\"DaysTicker\"},{\"attributes\":{\"months\":[0,6]},\"id\":\"1541\",\"type\":\"MonthsTicker\"},{\"attributes\":{\"days\":[1,8,15,22]},\"id\":\"1536\",\"type\":\"DaysTicker\"},{\"attributes\":{},\"id\":\"1542\",\"type\":\"YearsTicker\"},{\"attributes\":{\"months\":[0,4,8]},\"id\":\"1540\",\"type\":\"MonthsTicker\"},{\"attributes\":{},\"id\":\"1424\",\"type\":\"LinearScale\"},{\"attributes\":{},\"id\":\"1399\",\"type\":\"LinearScale\"},{\"attributes\":{\"mantissas\":[1,2,5],\"max_interval\":500.0,\"num_minor_ticks\":0},\"id\":\"1518\",\"type\":\"AdaptiveTicker\"},{\"attributes\":{\"base\":60,\"mantissas\":[1,2,5,10,15,20,30],\"max_interval\":1800000.0,\"min_interval\":1000.0,\"num_minor_ticks\":0},\"id\":\"1519\",\"type\":\"AdaptiveTicker\"},{\"attributes\":{\"days\":[1,2,3,4,5,6,7,8,9,10,11,12,13,14,15,16,17,18,19,20,21,22,23,24,25,26,27,28,29,30,31]},\"id\":\"1521\",\"type\":\"DaysTicker\"},{\"attributes\":{\"axis_label\":\"\\u65f6\\u95f4\",\"coordinates\":null,\"formatter\":{\"id\":\"1511\"},\"group\":null,\"major_label_policy\":{\"id\":\"1512\"},\"ticker\":{\"id\":\"1402\"}},\"id\":\"1401\",\"type\":\"DatetimeAxis\"},{\"attributes\":{\"base\":24,\"mantissas\":[1,2,4,6,8,12],\"max_interval\":43200000.0,\"min_interval\":3600000.0,\"num_minor_ticks\":0},\"id\":\"1520\",\"type\":\"AdaptiveTicker\"},{\"attributes\":{\"months\":[0,1,2,3,4,5,6,7,8,9,10,11]},\"id\":\"1525\",\"type\":\"MonthsTicker\"},{\"attributes\":{\"months\":[0,2,4,6,8,10]},\"id\":\"1526\",\"type\":\"MonthsTicker\"},{\"attributes\":{\"days\":[1,4,7,10,13,16,19,22,25,28]},\"id\":\"1522\",\"type\":\"DaysTicker\"},{\"attributes\":{\"days\":[1,15]},\"id\":\"1524\",\"type\":\"DaysTicker\"},{\"attributes\":{\"background_fill_color\":\"#efefef\",\"below\":[{\"id\":\"1426\"}],\"center\":[{\"id\":\"1429\"}],\"height\":175,\"renderers\":[{\"id\":\"1456\"}],\"title\":{\"id\":\"1417\"},\"toolbar\":{\"id\":\"1433\"},\"toolbar_location\":\"above\",\"width\":800,\"x_range\":{\"id\":\"1419\"},\"x_scale\":{\"id\":\"1422\"},\"y_range\":{\"id\":\"1395\"},\"y_scale\":{\"id\":\"1424\"}},\"id\":\"1416\",\"subtype\":\"Figure\",\"type\":\"Plot\"},{\"attributes\":{\"months\":[0,6]},\"id\":\"1528\",\"type\":\"MonthsTicker\"},{\"attributes\":{\"days\":[1,8,15,22]},\"id\":\"1523\",\"type\":\"DaysTicker\"},{\"attributes\":{},\"id\":\"1529\",\"type\":\"YearsTicker\"},{\"attributes\":{\"months\":[0,4,8]},\"id\":\"1527\",\"type\":\"MonthsTicker\"},{\"attributes\":{\"overlay\":{\"id\":\"1461\"},\"x_range\":{\"id\":\"1459\"},\"y_range\":null},\"id\":\"1460\",\"type\":\"RangeTool\"},{\"attributes\":{\"above\":[{\"id\":\"1401\"}],\"background_fill_color\":\"#efefef\",\"center\":[{\"id\":\"1404\"},{\"id\":\"1408\"}],\"height\":325,\"left\":[{\"id\":\"1405\"}],\"renderers\":[{\"id\":\"1442\"},{\"id\":\"1448\"}],\"title\":{\"id\":\"1391\"},\"toolbar\":{\"id\":\"1412\"},\"toolbar_location\":\"above\",\"width\":800,\"x_range\":{\"id\":\"1459\"},\"x_scale\":{\"id\":\"1458\"},\"y_range\":{\"id\":\"1395\"},\"y_scale\":{\"id\":\"1399\"}},\"id\":\"1390\",\"subtype\":\"Figure\",\"type\":\"Plot\"},{\"attributes\":{},\"id\":\"1395\",\"type\":\"DataRange1d\"},{\"attributes\":{\"coordinates\":null,\"fill_alpha\":0.2,\"fill_color\":\"navy\",\"group\":null,\"level\":\"overlay\",\"line_alpha\":1.0,\"line_color\":\"black\",\"line_dash\":[2,2],\"line_width\":0.5,\"syncable\":false},\"id\":\"1461\",\"type\":\"BoxAnnotation\"}],\"root_ids\":[\"1465\"]},\"title\":\"Bokeh Application\",\"version\":\"2.4.2\"}};\n",
       "  const render_items = [{\"docid\":\"fa185d89-9237-42b5-916c-f2c833eb3472\",\"root_ids\":[\"1465\"],\"roots\":{\"1465\":\"acfe8e4a-89fc-43d7-bb83-42d9e915d5ba\"}}];\n",
       "  root.Bokeh.embed.embed_items_notebook(docs_json, render_items);\n",
       "\n",
       "  }\n",
       "  if (root.Bokeh !== undefined) {\n",
       "    embed_document(root);\n",
       "  } else {\n",
       "    let attempts = 0;\n",
       "    const timer = setInterval(function(root) {\n",
       "      if (root.Bokeh !== undefined) {\n",
       "        clearInterval(timer);\n",
       "        embed_document(root);\n",
       "      } else {\n",
       "        attempts++;\n",
       "        if (attempts > 100) {\n",
       "          clearInterval(timer);\n",
       "          console.log(\"Bokeh: ERROR: Unable to run BokehJS code because BokehJS library is missing\");\n",
       "        }\n",
       "      }\n",
       "    }, 10, root)\n",
       "  }\n",
       "})(window);"
      ],
      "application/vnd.bokehjs_exec.v0+json": ""
     },
     "metadata": {
      "application/vnd.bokehjs_exec.v0+json": {
       "id": "1465"
      }
     },
     "output_type": "display_data"
    }
   ],
   "source": [
    "tooltips_metadata = {'体量': AAPL['volume'][:300]}\n",
    "p = line_figure_datetime(test_data, title=\"趋势图\", draw_circle=True,\n",
    "                         tooltips_metadata=tooltips_metadata, x_name='时间',\n",
    "                         y_name='价格')\n",
    "show(p)"
   ]
  },
  {
   "cell_type": "code",
   "execution_count": 18,
   "metadata": {},
   "outputs": [],
   "source": [
    "#export\n",
    "def boxplot_figure(\n",
    "    data_df, group_column='group', value_column='value', toolbar_location=BOKEH_DEFAULT_TOOLBAR_LOC,\n",
    "    tools=BOKEH_DEFAULT_TOOLS, y_axis_label=None, x_axis_label=None, **kwargs):\n",
    "    # find the quartiles and IQR for each category\n",
    "    groups = df.groupby(group_column)\n",
    "    q1 = groups.quantile(q=0.25)\n",
    "    q2 = groups.quantile(q=0.5)\n",
    "    q3 = groups.quantile(q=0.75)\n",
    "    iqr = q3 - q1\n",
    "    upper = q3 + 1.5*iqr\n",
    "    lower = q1 - 1.5*iqr\n",
    "        # find the outliers for each category\n",
    "    def outliers(group):\n",
    "        cat = group.name\n",
    "        return group[(group.score > upper.loc[cat][value_column]) | (group.score < lower.loc[cat][value_column])][value_column]\n",
    "    out = groups.apply(outliers).dropna()\n",
    "\n",
    "    # prepare outlier data for plotting, we need coordinates for every outlier.\n",
    "    if not out.empty:\n",
    "        outx = list(out.index.get_level_values(0))\n",
    "        outy = list(out.values)\n",
    "\n",
    "    p = figure(tools=tools, background_fill_color=\"#efefef\", x_range=cats, toolbar_location=toolbar_location, **kwargs)\n",
    "\n",
    "    # if no outliers, shrink lengths of stems to be no longer than the minimums or maximums\n",
    "    qmin = groups.quantile(q=0.00)\n",
    "    qmax = groups.quantile(q=1.00)\n",
    "    upper.score = [min([x,y]) for (x,y) in zip(list(qmax.loc[:,value_column]),upper.score)]\n",
    "    lower.score = [max([x,y]) for (x,y) in zip(list(qmin.loc[:,value_column]),lower.score)]\n",
    "\n",
    "    # stems\n",
    "    p.segment(cats, upper.score, cats, q3.score, line_color=\"black\")\n",
    "    p.segment(cats, lower.score, cats, q1.score, line_color=\"black\")\n",
    "\n",
    "    # boxes\n",
    "    p.vbar(cats, 0.7, q2.score, q3.score, fill_color=\"#E08E79\", line_color=\"black\")\n",
    "    p.vbar(cats, 0.7, q1.score, q2.score, fill_color=\"#3B8686\", line_color=\"black\")\n",
    "\n",
    "    # whiskers (almost-0 height rects simpler than segments)\n",
    "    p.rect(cats, lower.score, 0.2, 0.01, line_color=\"black\")\n",
    "    p.rect(cats, upper.score, 0.2, 0.01, line_color=\"black\")\n",
    "\n",
    "    # outliers\n",
    "    if not out.empty:\n",
    "        p.circle(outx, outy, size=6, color=\"#F38630\", fill_alpha=0.6)\n",
    "\n",
    "    p.xgrid.grid_line_color = None\n",
    "    p.ygrid.grid_line_color = \"white\"\n",
    "    p.grid.grid_line_width = 2\n",
    "    p.xaxis.major_label_text_font_size=\"16px\"\n",
    "    p.yaxis.axis_label = y_axis_label\n",
    "    p.xaxis.axis_label = x_axis_label\n",
    "    return p"
   ]
  },
  {
   "cell_type": "code",
   "execution_count": 19,
   "metadata": {},
   "outputs": [
    {
     "data": {
      "text/html": [
       "<div>\n",
       "<style scoped>\n",
       "    .dataframe tbody tr th:only-of-type {\n",
       "        vertical-align: middle;\n",
       "    }\n",
       "\n",
       "    .dataframe tbody tr th {\n",
       "        vertical-align: top;\n",
       "    }\n",
       "\n",
       "    .dataframe thead th {\n",
       "        text-align: right;\n",
       "    }\n",
       "</style>\n",
       "<table border=\"1\" class=\"dataframe\">\n",
       "  <thead>\n",
       "    <tr style=\"text-align: right;\">\n",
       "      <th></th>\n",
       "      <th>score</th>\n",
       "      <th>group</th>\n",
       "    </tr>\n",
       "  </thead>\n",
       "  <tbody>\n",
       "    <tr>\n",
       "      <th>0</th>\n",
       "      <td>1.056522</td>\n",
       "      <td>e</td>\n",
       "    </tr>\n",
       "    <tr>\n",
       "      <th>1</th>\n",
       "      <td>2.871342</td>\n",
       "      <td>e</td>\n",
       "    </tr>\n",
       "    <tr>\n",
       "      <th>2</th>\n",
       "      <td>0.398220</td>\n",
       "      <td>b</td>\n",
       "    </tr>\n",
       "    <tr>\n",
       "      <th>3</th>\n",
       "      <td>-1.624127</td>\n",
       "      <td>a</td>\n",
       "    </tr>\n",
       "    <tr>\n",
       "      <th>4</th>\n",
       "      <td>1.015604</td>\n",
       "      <td>e</td>\n",
       "    </tr>\n",
       "  </tbody>\n",
       "</table>\n",
       "</div>"
      ],
      "text/plain": [
       "      score group\n",
       "0  1.056522     e\n",
       "1  2.871342     e\n",
       "2  0.398220     b\n",
       "3 -1.624127     a\n",
       "4  1.015604     e"
      ]
     },
     "execution_count": 19,
     "metadata": {},
     "output_type": "execute_result"
    }
   ],
   "source": [
    "# generate some synthetic time series for six different categories\n",
    "cats = list(\"abcdef\")\n",
    "yy = np.random.randn(2000)\n",
    "g = np.random.choice(cats, 2000)\n",
    "for i, l in enumerate(cats):\n",
    "    yy[g == l] += i // 2\n",
    "df = pd.DataFrame(dict(score=yy, group=g))\n",
    "df.head()"
   ]
  },
  {
   "cell_type": "code",
   "execution_count": 20,
   "metadata": {},
   "outputs": [
    {
     "data": {
      "text/html": [
       "\n",
       "\n",
       "\n",
       "\n",
       "\n",
       "\n",
       "  <div class=\"bk-root\" id=\"08870a4b-faa6-4828-80b0-e1e50b294788\" data-root-id=\"1733\"></div>\n"
      ]
     },
     "metadata": {},
     "output_type": "display_data"
    },
    {
     "data": {
      "application/javascript": [
       "(function(root) {\n",
       "  function embed_document(root) {\n",
       "    \n",
       "  const docs_json = {\"678617f3-90a4-48f5-a9b4-27a0e06e8155\":{\"defs\":[],\"roots\":{\"references\":[{\"attributes\":{\"background_fill_color\":\"#efefef\",\"below\":[{\"id\":\"1742\"}],\"center\":[{\"id\":\"1744\"},{\"id\":\"1748\"}],\"left\":[{\"id\":\"1745\"}],\"renderers\":[{\"id\":\"1760\"},{\"id\":\"1766\"},{\"id\":\"1772\"},{\"id\":\"1778\"},{\"id\":\"1784\"},{\"id\":\"1790\"},{\"id\":\"1796\"}],\"title\":{\"id\":\"1875\"},\"toolbar\":{\"id\":\"1752\"},\"toolbar_location\":\"above\",\"x_range\":{\"id\":\"1734\"},\"x_scale\":{\"id\":\"1738\"},\"y_range\":{\"id\":\"1736\"},\"y_scale\":{\"id\":\"1740\"}},\"id\":\"1733\",\"subtype\":\"Figure\",\"type\":\"Plot\"},{\"attributes\":{\"data\":{\"x\":[\"a\",\"a\",\"a\",\"a\",\"a\",\"a\",\"b\",\"b\",\"c\",\"c\",\"c\",\"c\",\"c\",\"c\",\"d\",\"d\",\"e\",\"e\",\"e\",\"e\",\"e\",\"e\",\"e\",\"e\",\"e\",\"f\"],\"y\":[2.848959512168627,-2.8293669325837247,3.9058159951789007,-3.2043678580114427,-2.767053174698966,2.9920621471922253,-2.787970052044736,-3.044480466710696,3.9083205769198104,-1.7836192477994515,3.7068303354431538,3.790605942104526,-1.7794337424838726,-2.180802596665581,3.6453670473849002,3.761471944182639,5.097863143992399,4.783217487873186,-0.5921364333682231,4.698997372320481,-0.817073508597506,4.575361913182608,-0.9841799464481236,4.906032941592794,-0.7106137194375974,4.872065975543618]},\"selected\":{\"id\":\"1896\"},\"selection_policy\":{\"id\":\"1895\"}},\"id\":\"1792\",\"type\":\"ColumnDataSource\"},{\"attributes\":{\"fill_alpha\":{\"value\":0.6},\"fill_color\":{\"value\":\"#F38630\"},\"hatch_color\":{\"value\":\"#F38630\"},\"line_color\":{\"value\":\"#F38630\"},\"size\":{\"value\":6},\"x\":{\"field\":\"x\"},\"y\":{\"field\":\"y\"}},\"id\":\"1793\",\"type\":\"Circle\"},{\"attributes\":{\"source\":{\"id\":\"1786\"}},\"id\":\"1791\",\"type\":\"CDSView\"},{\"attributes\":{\"data\":{\"x0\":[\"a\",\"b\",\"c\",\"d\",\"e\",\"f\"],\"x1\":[\"a\",\"b\",\"c\",\"d\",\"e\",\"f\"],\"y0\":{\"__ndarray__\":\"DsyHpoPYBcCSYeZBRYMFwM+eo/WzyfW/5MUMr6AZ9L8amd/ZmY7iv6iV2G0A1dm/\",\"dtype\":\"float64\",\"order\":\"little\",\"shape\":[6]},\"y1\":{\"__ndarray__\":\"ZvFFkw2K5r+lB0ynFv3mv/TJpLEIT90/7SeJoy9a0z+uubH0CGz1P6rhxbfhLfU/\",\"dtype\":\"float64\",\"order\":\"little\",\"shape\":[6]}},\"selected\":{\"id\":\"1886\"},\"selection_policy\":{\"id\":\"1885\"}},\"id\":\"1762\",\"type\":\"ColumnDataSource\"},{\"attributes\":{},\"id\":\"1881\",\"type\":\"CategoricalTickFormatter\"},{\"attributes\":{\"fill_alpha\":{\"value\":0.1},\"fill_color\":{\"value\":\"#F38630\"},\"hatch_alpha\":{\"value\":0.1},\"hatch_color\":{\"value\":\"#F38630\"},\"line_alpha\":{\"value\":0.1},\"line_color\":{\"value\":\"#F38630\"},\"size\":{\"value\":6},\"x\":{\"field\":\"x\"},\"y\":{\"field\":\"y\"}},\"id\":\"1794\",\"type\":\"Circle\"},{\"attributes\":{\"fill_alpha\":{\"value\":0.2},\"fill_color\":{\"value\":\"#1f77b4\"},\"hatch_alpha\":{\"value\":0.2},\"height\":{\"value\":0.01},\"line_alpha\":{\"value\":0.2},\"width\":{\"value\":0.2},\"x\":{\"field\":\"x\"},\"y\":{\"field\":\"y\"}},\"id\":\"1789\",\"type\":\"Rect\"},{\"attributes\":{},\"id\":\"1750\",\"type\":\"ResetTool\"},{\"attributes\":{},\"id\":\"1887\",\"type\":\"UnionRenderers\"},{\"attributes\":{\"line_alpha\":{\"value\":0.1},\"x0\":{\"field\":\"x0\"},\"x1\":{\"field\":\"x1\"},\"y0\":{\"field\":\"y0\"},\"y1\":{\"field\":\"y1\"}},\"id\":\"1764\",\"type\":\"Segment\"},{\"attributes\":{},\"id\":\"1891\",\"type\":\"UnionRenderers\"},{\"attributes\":{},\"id\":\"1895\",\"type\":\"UnionRenderers\"},{\"attributes\":{},\"id\":\"1888\",\"type\":\"Selection\"},{\"attributes\":{},\"id\":\"1896\",\"type\":\"Selection\"},{\"attributes\":{\"x0\":{\"field\":\"x0\"},\"x1\":{\"field\":\"x1\"},\"y0\":{\"field\":\"y0\"},\"y1\":{\"field\":\"y1\"}},\"id\":\"1757\",\"type\":\"Segment\"},{\"attributes\":{\"coordinates\":null,\"data_source\":{\"id\":\"1780\"},\"glyph\":{\"id\":\"1781\"},\"group\":null,\"hover_glyph\":null,\"muted_glyph\":{\"id\":\"1783\"},\"nonselection_glyph\":{\"id\":\"1782\"},\"view\":{\"id\":\"1785\"}},\"id\":\"1784\",\"type\":\"GlyphRenderer\"},{\"attributes\":{\"source\":{\"id\":\"1792\"}},\"id\":\"1797\",\"type\":\"CDSView\"},{\"attributes\":{\"coordinates\":null,\"group\":null},\"id\":\"1875\",\"type\":\"Title\"},{\"attributes\":{},\"id\":\"1892\",\"type\":\"Selection\"},{\"attributes\":{\"line_alpha\":{\"value\":0.2},\"x0\":{\"field\":\"x0\"},\"x1\":{\"field\":\"x1\"},\"y0\":{\"field\":\"y0\"},\"y1\":{\"field\":\"y1\"}},\"id\":\"1765\",\"type\":\"Segment\"},{\"attributes\":{\"fill_alpha\":{\"value\":0.2},\"fill_color\":{\"value\":\"#F38630\"},\"hatch_alpha\":{\"value\":0.2},\"hatch_color\":{\"value\":\"#F38630\"},\"line_alpha\":{\"value\":0.2},\"line_color\":{\"value\":\"#F38630\"},\"size\":{\"value\":6},\"x\":{\"field\":\"x\"},\"y\":{\"field\":\"y\"}},\"id\":\"1795\",\"type\":\"Circle\"},{\"attributes\":{\"coordinates\":null,\"data_source\":{\"id\":\"1762\"},\"glyph\":{\"id\":\"1763\"},\"group\":null,\"hover_glyph\":null,\"muted_glyph\":{\"id\":\"1765\"},\"nonselection_glyph\":{\"id\":\"1764\"},\"view\":{\"id\":\"1767\"}},\"id\":\"1766\",\"type\":\"GlyphRenderer\"},{\"attributes\":{\"coordinates\":null,\"data_source\":{\"id\":\"1792\"},\"glyph\":{\"id\":\"1793\"},\"group\":null,\"hover_glyph\":null,\"muted_glyph\":{\"id\":\"1795\"},\"nonselection_glyph\":{\"id\":\"1794\"},\"view\":{\"id\":\"1797\"}},\"id\":\"1796\",\"type\":\"GlyphRenderer\"},{\"attributes\":{},\"id\":\"1883\",\"type\":\"UnionRenderers\"},{\"attributes\":{\"data\":{\"x\":[\"a\",\"b\",\"c\",\"d\",\"e\",\"f\"],\"y\":{\"__ndarray__\":\"1F1esydiBUCBXJIoXCMCQKhHP90Y7QtAyKlEzWvWDECvuy9buyUSQJG1eAFBNhNA\",\"dtype\":\"float64\",\"order\":\"little\",\"shape\":[6]}},\"selected\":{\"id\":\"1894\"},\"selection_policy\":{\"id\":\"1893\"}},\"id\":\"1786\",\"type\":\"ColumnDataSource\"},{\"attributes\":{},\"id\":\"1884\",\"type\":\"Selection\"},{\"attributes\":{\"source\":{\"id\":\"1762\"}},\"id\":\"1767\",\"type\":\"CDSView\"},{\"attributes\":{\"bottom\":{\"field\":\"bottom\"},\"fill_alpha\":{\"value\":0.2},\"fill_color\":{\"value\":\"#3B8686\"},\"hatch_alpha\":{\"value\":0.2},\"line_alpha\":{\"value\":0.2},\"top\":{\"field\":\"top\"},\"width\":{\"value\":0.7},\"x\":{\"field\":\"x\"}},\"id\":\"1777\",\"type\":\"VBar\"},{\"attributes\":{},\"id\":\"1740\",\"type\":\"LinearScale\"},{\"attributes\":{\"bottom\":{\"field\":\"bottom\"},\"fill_color\":{\"value\":\"#E08E79\"},\"top\":{\"field\":\"top\"},\"width\":{\"value\":0.7},\"x\":{\"field\":\"x\"}},\"id\":\"1769\",\"type\":\"VBar\"},{\"attributes\":{\"data\":{\"bottom\":{\"__ndarray__\":\"fDigxp2w5D9y9zzukg3jPwW+cZi7vPo/0E1YlhD5+T9AtI7Fy/EEQPRUgusquQVA\",\"dtype\":\"float64\",\"order\":\"little\",\"shape\":[6]},\"top\":{\"__ndarray__\":\"lY/ZfmeYt7++3w2knrGwv0qOq7VGwPE/SSgARetZ8D8XwEj1gkr+P3c5br8YvABA\",\"dtype\":\"float64\",\"order\":\"little\",\"shape\":[6]},\"x\":[\"a\",\"b\",\"c\",\"d\",\"e\",\"f\"]},\"selected\":{\"id\":\"1888\"},\"selection_policy\":{\"id\":\"1887\"}},\"id\":\"1768\",\"type\":\"ColumnDataSource\"},{\"attributes\":{\"factors\":[\"a\",\"b\",\"c\",\"d\",\"e\",\"f\"]},\"id\":\"1734\",\"type\":\"FactorRange\"},{\"attributes\":{\"bottom\":{\"field\":\"bottom\"},\"fill_alpha\":{\"value\":0.1},\"fill_color\":{\"value\":\"#E08E79\"},\"hatch_alpha\":{\"value\":0.1},\"line_alpha\":{\"value\":0.1},\"top\":{\"field\":\"top\"},\"width\":{\"value\":0.7},\"x\":{\"field\":\"x\"}},\"id\":\"1770\",\"type\":\"VBar\"},{\"attributes\":{},\"id\":\"1882\",\"type\":\"AllLabels\"},{\"attributes\":{\"data\":{\"bottom\":{\"__ndarray__\":\"lY/ZfmeYt7++3w2knrGwv0qOq7VGwPE/SSgARetZ8D8XwEj1gkr+P3c5br8YvABA\",\"dtype\":\"float64\",\"order\":\"little\",\"shape\":[6]},\"top\":{\"__ndarray__\":\"ZvFFkw2K5r+lB0ynFv3mv/TJpLEIT90/7SeJoy9a0z+uubH0CGz1P6rhxbfhLfU/\",\"dtype\":\"float64\",\"order\":\"little\",\"shape\":[6]},\"x\":[\"a\",\"b\",\"c\",\"d\",\"e\",\"f\"]},\"selected\":{\"id\":\"1890\"},\"selection_policy\":{\"id\":\"1889\"}},\"id\":\"1774\",\"type\":\"ColumnDataSource\"},{\"attributes\":{},\"id\":\"1893\",\"type\":\"UnionRenderers\"},{\"attributes\":{\"coordinates\":null,\"formatter\":{\"id\":\"1878\"},\"group\":null,\"major_label_policy\":{\"id\":\"1879\"},\"ticker\":{\"id\":\"1746\"}},\"id\":\"1745\",\"type\":\"LinearAxis\"},{\"attributes\":{\"bottom\":{\"field\":\"bottom\"},\"fill_color\":{\"value\":\"#3B8686\"},\"top\":{\"field\":\"top\"},\"width\":{\"value\":0.7},\"x\":{\"field\":\"x\"}},\"id\":\"1775\",\"type\":\"VBar\"},{\"attributes\":{},\"id\":\"1889\",\"type\":\"UnionRenderers\"},{\"attributes\":{\"bottom\":{\"field\":\"bottom\"},\"fill_alpha\":{\"value\":0.2},\"fill_color\":{\"value\":\"#E08E79\"},\"hatch_alpha\":{\"value\":0.2},\"line_alpha\":{\"value\":0.2},\"top\":{\"field\":\"top\"},\"width\":{\"value\":0.7},\"x\":{\"field\":\"x\"}},\"id\":\"1771\",\"type\":\"VBar\"},{\"attributes\":{},\"id\":\"1736\",\"type\":\"DataRange1d\"},{\"attributes\":{\"coordinates\":null,\"data_source\":{\"id\":\"1768\"},\"glyph\":{\"id\":\"1769\"},\"group\":null,\"hover_glyph\":null,\"muted_glyph\":{\"id\":\"1771\"},\"nonselection_glyph\":{\"id\":\"1770\"},\"view\":{\"id\":\"1773\"}},\"id\":\"1772\",\"type\":\"GlyphRenderer\"},{\"attributes\":{},\"id\":\"1885\",\"type\":\"UnionRenderers\"},{\"attributes\":{\"axis\":{\"id\":\"1742\"},\"coordinates\":null,\"grid_line_color\":null,\"grid_line_width\":2,\"group\":null,\"ticker\":null},\"id\":\"1744\",\"type\":\"Grid\"},{\"attributes\":{\"source\":{\"id\":\"1768\"}},\"id\":\"1773\",\"type\":\"CDSView\"},{\"attributes\":{\"data\":{\"x0\":[\"a\",\"b\",\"c\",\"d\",\"e\",\"f\"],\"x1\":[\"a\",\"b\",\"c\",\"d\",\"e\",\"f\"],\"y0\":{\"__ndarray__\":\"1F1esydiBUCBXJIoXCMCQKhHP90Y7QtAyKlEzWvWDECvuy9buyUSQJG1eAFBNhNA\",\"dtype\":\"float64\",\"order\":\"little\",\"shape\":[6]},\"y1\":{\"__ndarray__\":\"fDigxp2w5D9y9zzukg3jPwW+cZi7vPo/0E1YlhD5+T9AtI7Fy/EEQPRUgusquQVA\",\"dtype\":\"float64\",\"order\":\"little\",\"shape\":[6]}},\"selected\":{\"id\":\"1884\"},\"selection_policy\":{\"id\":\"1883\"}},\"id\":\"1756\",\"type\":\"ColumnDataSource\"},{\"attributes\":{\"bottom\":{\"field\":\"bottom\"},\"fill_alpha\":{\"value\":0.1},\"fill_color\":{\"value\":\"#3B8686\"},\"hatch_alpha\":{\"value\":0.1},\"line_alpha\":{\"value\":0.1},\"top\":{\"field\":\"top\"},\"width\":{\"value\":0.7},\"x\":{\"field\":\"x\"}},\"id\":\"1776\",\"type\":\"VBar\"},{\"attributes\":{},\"id\":\"1749\",\"type\":\"SaveTool\"},{\"attributes\":{\"line_alpha\":{\"value\":0.1},\"x0\":{\"field\":\"x0\"},\"x1\":{\"field\":\"x1\"},\"y0\":{\"field\":\"y0\"},\"y1\":{\"field\":\"y1\"}},\"id\":\"1758\",\"type\":\"Segment\"},{\"attributes\":{\"coordinates\":null,\"data_source\":{\"id\":\"1774\"},\"glyph\":{\"id\":\"1775\"},\"group\":null,\"hover_glyph\":null,\"muted_glyph\":{\"id\":\"1777\"},\"nonselection_glyph\":{\"id\":\"1776\"},\"view\":{\"id\":\"1779\"}},\"id\":\"1778\",\"type\":\"GlyphRenderer\"},{\"attributes\":{},\"id\":\"1743\",\"type\":\"CategoricalTicker\"},{\"attributes\":{},\"id\":\"1886\",\"type\":\"Selection\"},{\"attributes\":{\"fill_color\":{\"value\":\"#1f77b4\"},\"height\":{\"value\":0.01},\"width\":{\"value\":0.2},\"x\":{\"field\":\"x\"},\"y\":{\"field\":\"y\"}},\"id\":\"1781\",\"type\":\"Rect\"},{\"attributes\":{},\"id\":\"1890\",\"type\":\"Selection\"},{\"attributes\":{},\"id\":\"1738\",\"type\":\"CategoricalScale\"},{\"attributes\":{\"data\":{\"x\":[\"a\",\"b\",\"c\",\"d\",\"e\",\"f\"],\"y\":{\"__ndarray__\":\"DsyHpoPYBcCSYeZBRYMFwM+eo/WzyfW/5MUMr6AZ9L8amd/ZmY7iv6iV2G0A1dm/\",\"dtype\":\"float64\",\"order\":\"little\",\"shape\":[6]}},\"selected\":{\"id\":\"1892\"},\"selection_policy\":{\"id\":\"1891\"}},\"id\":\"1780\",\"type\":\"ColumnDataSource\"},{\"attributes\":{},\"id\":\"1894\",\"type\":\"Selection\"},{\"attributes\":{\"coordinates\":null,\"formatter\":{\"id\":\"1881\"},\"group\":null,\"major_label_policy\":{\"id\":\"1882\"},\"major_label_text_font_size\":\"16px\",\"ticker\":{\"id\":\"1743\"}},\"id\":\"1742\",\"type\":\"CategoricalAxis\"},{\"attributes\":{\"source\":{\"id\":\"1774\"}},\"id\":\"1779\",\"type\":\"CDSView\"},{\"attributes\":{\"coordinates\":null,\"data_source\":{\"id\":\"1756\"},\"glyph\":{\"id\":\"1757\"},\"group\":null,\"hover_glyph\":null,\"muted_glyph\":{\"id\":\"1759\"},\"nonselection_glyph\":{\"id\":\"1758\"},\"view\":{\"id\":\"1761\"}},\"id\":\"1760\",\"type\":\"GlyphRenderer\"},{\"attributes\":{\"fill_alpha\":{\"value\":0.1},\"fill_color\":{\"value\":\"#1f77b4\"},\"hatch_alpha\":{\"value\":0.1},\"height\":{\"value\":0.01},\"line_alpha\":{\"value\":0.1},\"width\":{\"value\":0.2},\"x\":{\"field\":\"x\"},\"y\":{\"field\":\"y\"}},\"id\":\"1782\",\"type\":\"Rect\"},{\"attributes\":{},\"id\":\"1746\",\"type\":\"BasicTicker\"},{\"attributes\":{},\"id\":\"1879\",\"type\":\"AllLabels\"},{\"attributes\":{\"source\":{\"id\":\"1780\"}},\"id\":\"1785\",\"type\":\"CDSView\"},{\"attributes\":{\"line_alpha\":{\"value\":0.2},\"x0\":{\"field\":\"x0\"},\"x1\":{\"field\":\"x1\"},\"y0\":{\"field\":\"y0\"},\"y1\":{\"field\":\"y1\"}},\"id\":\"1759\",\"type\":\"Segment\"},{\"attributes\":{\"axis\":{\"id\":\"1745\"},\"coordinates\":null,\"dimension\":1,\"grid_line_color\":\"white\",\"grid_line_width\":2,\"group\":null,\"ticker\":null},\"id\":\"1748\",\"type\":\"Grid\"},{\"attributes\":{\"tools\":[{\"id\":\"1749\"},{\"id\":\"1750\"},{\"id\":\"1751\"}]},\"id\":\"1752\",\"type\":\"Toolbar\"},{\"attributes\":{\"source\":{\"id\":\"1756\"}},\"id\":\"1761\",\"type\":\"CDSView\"},{\"attributes\":{},\"id\":\"1751\",\"type\":\"PanTool\"},{\"attributes\":{\"fill_alpha\":{\"value\":0.2},\"fill_color\":{\"value\":\"#1f77b4\"},\"hatch_alpha\":{\"value\":0.2},\"height\":{\"value\":0.01},\"line_alpha\":{\"value\":0.2},\"width\":{\"value\":0.2},\"x\":{\"field\":\"x\"},\"y\":{\"field\":\"y\"}},\"id\":\"1783\",\"type\":\"Rect\"},{\"attributes\":{\"coordinates\":null,\"data_source\":{\"id\":\"1786\"},\"glyph\":{\"id\":\"1787\"},\"group\":null,\"hover_glyph\":null,\"muted_glyph\":{\"id\":\"1789\"},\"nonselection_glyph\":{\"id\":\"1788\"},\"view\":{\"id\":\"1791\"}},\"id\":\"1790\",\"type\":\"GlyphRenderer\"},{\"attributes\":{},\"id\":\"1878\",\"type\":\"BasicTickFormatter\"},{\"attributes\":{\"fill_color\":{\"value\":\"#1f77b4\"},\"height\":{\"value\":0.01},\"width\":{\"value\":0.2},\"x\":{\"field\":\"x\"},\"y\":{\"field\":\"y\"}},\"id\":\"1787\",\"type\":\"Rect\"},{\"attributes\":{\"fill_alpha\":{\"value\":0.1},\"fill_color\":{\"value\":\"#1f77b4\"},\"hatch_alpha\":{\"value\":0.1},\"height\":{\"value\":0.01},\"line_alpha\":{\"value\":0.1},\"width\":{\"value\":0.2},\"x\":{\"field\":\"x\"},\"y\":{\"field\":\"y\"}},\"id\":\"1788\",\"type\":\"Rect\"},{\"attributes\":{\"x0\":{\"field\":\"x0\"},\"x1\":{\"field\":\"x1\"},\"y0\":{\"field\":\"y0\"},\"y1\":{\"field\":\"y1\"}},\"id\":\"1763\",\"type\":\"Segment\"}],\"root_ids\":[\"1733\"]},\"title\":\"Bokeh Application\",\"version\":\"2.4.2\"}};\n",
       "  const render_items = [{\"docid\":\"678617f3-90a4-48f5-a9b4-27a0e06e8155\",\"root_ids\":[\"1733\"],\"roots\":{\"1733\":\"08870a4b-faa6-4828-80b0-e1e50b294788\"}}];\n",
       "  root.Bokeh.embed.embed_items_notebook(docs_json, render_items);\n",
       "\n",
       "  }\n",
       "  if (root.Bokeh !== undefined) {\n",
       "    embed_document(root);\n",
       "  } else {\n",
       "    let attempts = 0;\n",
       "    const timer = setInterval(function(root) {\n",
       "      if (root.Bokeh !== undefined) {\n",
       "        clearInterval(timer);\n",
       "        embed_document(root);\n",
       "      } else {\n",
       "        attempts++;\n",
       "        if (attempts > 100) {\n",
       "          clearInterval(timer);\n",
       "          console.log(\"Bokeh: ERROR: Unable to run BokehJS code because BokehJS library is missing\");\n",
       "        }\n",
       "      }\n",
       "    }, 10, root)\n",
       "  }\n",
       "})(window);"
      ],
      "application/vnd.bokehjs_exec.v0+json": ""
     },
     "metadata": {
      "application/vnd.bokehjs_exec.v0+json": {
       "id": "1733"
      }
     },
     "output_type": "display_data"
    }
   ],
   "source": [
    "p = boxplot_figure(df, group_column='group', value_column='score')\n",
    "show(p)"
   ]
  },
  {
   "cell_type": "code",
   "execution_count": 21,
   "metadata": {},
   "outputs": [],
   "source": [
    "#export\n",
    "def histogram_figure(\n",
    "       hist, edges, title='histogram', x_axis_label='x', y_axis_label='y',\n",
    "       fill_color='navy', toolbar_location=BOKEH_DEFAULT_TOOLBAR_LOC,\n",
    "       tools=BOKEH_DEFAULT_TOOLS, **kwargs):\n",
    "    p = figure(title=title, tools=tools, background_fill_color=\"#fafafa\", toolbar_location=toolbar_location, **kwargs)\n",
    "    p.quad(top=hist, bottom=0, left=edges[:-1], right=edges[1:],\n",
    "           fill_color=fill_color, line_color=\"white\", alpha=0.5)\n",
    "    p.y_range.start = 0\n",
    "    p.xaxis.axis_label = x_axis_label\n",
    "    p.yaxis.axis_label = y_axis_label\n",
    "    p.grid.grid_line_color=\"white\"\n",
    "    return p"
   ]
  },
  {
   "cell_type": "code",
   "execution_count": 22,
   "metadata": {},
   "outputs": [],
   "source": [
    "# Normal Distribution\n",
    "\n",
    "mu, sigma = 0, 0.5\n",
    "\n",
    "measured = np.random.normal(mu, sigma, 1000)\n",
    "hist, edges = np.histogram(measured, density=True, bins=50)"
   ]
  },
  {
   "cell_type": "code",
   "execution_count": 23,
   "metadata": {},
   "outputs": [
    {
     "data": {
      "text/html": [
       "\n",
       "\n",
       "\n",
       "\n",
       "\n",
       "\n",
       "  <div class=\"bk-root\" id=\"e3ecf9bc-759d-45b5-9caf-a740da45b4f9\" data-root-id=\"2007\"></div>\n"
      ]
     },
     "metadata": {},
     "output_type": "display_data"
    },
    {
     "data": {
      "application/javascript": [
       "(function(root) {\n",
       "  function embed_document(root) {\n",
       "    \n",
       "  const docs_json = {\"b4125fae-60dc-46da-b44d-45c1bc3cdcf2\":{\"defs\":[],\"roots\":{\"references\":[{\"attributes\":{\"background_fill_color\":\"#fafafa\",\"below\":[{\"id\":\"2018\"}],\"center\":[{\"id\":\"2021\"},{\"id\":\"2025\"}],\"left\":[{\"id\":\"2022\"}],\"renderers\":[{\"id\":\"2037\"}],\"title\":{\"id\":\"2008\"},\"toolbar\":{\"id\":\"2029\"},\"toolbar_location\":\"above\",\"x_range\":{\"id\":\"2010\"},\"x_scale\":{\"id\":\"2014\"},\"y_range\":{\"id\":\"2012\"},\"y_scale\":{\"id\":\"2016\"}},\"id\":\"2007\",\"subtype\":\"Figure\",\"type\":\"Plot\"},{\"attributes\":{},\"id\":\"2145\",\"type\":\"UnionRenderers\"},{\"attributes\":{},\"id\":\"2141\",\"type\":\"AllLabels\"},{\"attributes\":{\"bottom\":{\"value\":0},\"fill_alpha\":{\"value\":0.5},\"fill_color\":{\"value\":\"navy\"},\"hatch_alpha\":{\"value\":0.5},\"left\":{\"field\":\"left\"},\"line_alpha\":{\"value\":0.5},\"line_color\":{\"value\":\"white\"},\"right\":{\"field\":\"right\"},\"top\":{\"field\":\"top\"}},\"id\":\"2034\",\"type\":\"Quad\"},{\"attributes\":{\"bottom\":{\"value\":0},\"fill_alpha\":{\"value\":0.2},\"fill_color\":{\"value\":\"navy\"},\"hatch_alpha\":{\"value\":0.2},\"left\":{\"field\":\"left\"},\"line_alpha\":{\"value\":0.2},\"line_color\":{\"value\":\"white\"},\"right\":{\"field\":\"right\"},\"top\":{\"field\":\"top\"}},\"id\":\"2036\",\"type\":\"Quad\"},{\"attributes\":{},\"id\":\"2010\",\"type\":\"DataRange1d\"},{\"attributes\":{\"coordinates\":null,\"group\":null,\"text\":\"histogram\"},\"id\":\"2008\",\"type\":\"Title\"},{\"attributes\":{},\"id\":\"2014\",\"type\":\"LinearScale\"},{\"attributes\":{\"coordinates\":null,\"data_source\":{\"id\":\"2033\"},\"glyph\":{\"id\":\"2034\"},\"group\":null,\"hover_glyph\":null,\"muted_glyph\":{\"id\":\"2036\"},\"nonselection_glyph\":{\"id\":\"2035\"},\"view\":{\"id\":\"2038\"}},\"id\":\"2037\",\"type\":\"GlyphRenderer\"},{\"attributes\":{\"source\":{\"id\":\"2033\"}},\"id\":\"2038\",\"type\":\"CDSView\"},{\"attributes\":{\"start\":0},\"id\":\"2012\",\"type\":\"DataRange1d\"},{\"attributes\":{},\"id\":\"2026\",\"type\":\"SaveTool\"},{\"attributes\":{},\"id\":\"2023\",\"type\":\"BasicTicker\"},{\"attributes\":{\"axis\":{\"id\":\"2022\"},\"coordinates\":null,\"dimension\":1,\"grid_line_color\":\"white\",\"group\":null,\"ticker\":null},\"id\":\"2025\",\"type\":\"Grid\"},{\"attributes\":{},\"id\":\"2016\",\"type\":\"LinearScale\"},{\"attributes\":{\"bottom\":{\"value\":0},\"fill_alpha\":{\"value\":0.1},\"fill_color\":{\"value\":\"navy\"},\"hatch_alpha\":{\"value\":0.1},\"left\":{\"field\":\"left\"},\"line_alpha\":{\"value\":0.1},\"line_color\":{\"value\":\"white\"},\"right\":{\"field\":\"right\"},\"top\":{\"field\":\"top\"}},\"id\":\"2035\",\"type\":\"Quad\"},{\"attributes\":{},\"id\":\"2027\",\"type\":\"ResetTool\"},{\"attributes\":{\"data\":{\"left\":{\"__ndarray__\":\"+AlRvdfW9L/TIom8ueTzv647wbub8vK/iVT5un0A8r9kbTG6Xw7xv0CGablBHPC/NT5DcUdU7r/sb7NvC3Dsv6KhI27Pi+q/WNOTbJOn6L8OBQRrV8Pmv8Q2dGkb3+S/emjkZ9/64r8wmlRmoxbhv86XicnOZN6/Ovtpxlac2r+mXkrD3tPWvxTCKsBmC9O/AEsWet2Fzr/YEddz7fTGv2CxL9v6x76/IH5inTVMr78AmFlGWIdgvyBLl5RKO60/4BfKVoW/vT8YRaSxsnDGP0B+47eiAc4/sFsRX0nJ0j9E+DBiwZHWP9iUUGU5Wto/bDFwaLEi3j8A58e1lPXgP0q1V7fQ2eI/lIPnuAy+5D/cUXe6SKLmPyggB7yEhug/cO6WvcBq6j+8vCa//E7sPwSLtsA4M+4/qCwjYboL8D/ME+th2P3wP/L6smL27/E/FuJ6YxTi8j86yUJkMtTzP2CwCmVQxvQ/hJfSZW649T+qfppmjKr2P85lYmeqnPc/9EwqaMiO+D8YNPJo5oD5Pw==\",\"dtype\":\"float64\",\"order\":\"little\",\"shape\":[50]},\"right\":{\"__ndarray__\":\"0yKJvLnk87+uO8G7m/Lyv4lU+bp9APK/ZG0xul8O8b9Ahmm5QRzwvzU+Q3FHVO6/7G+zbwtw7L+ioSNuz4vqv1jTk2yTp+i/DgUEa1fD5r/ENnRpG9/kv3po5Gff+uK/MJpUZqMW4b/Ol4nJzmTevzr7acZWnNq/pl5Kw97T1r8UwirAZgvTvwBLFnrdhc6/2BHXc+30xr9gsS/b+se+vyB+Yp01TK+/AJhZRliHYL8gS5eUSjutP+AXylaFv70/GEWksbJwxj9AfuO3ogHOP7BbEV9JydI/RPgwYsGR1j/YlFBlOVraP2wxcGixIt4/AOfHtZT14D9KtVe30NniP5SD57gMvuQ/3FF3ukii5j8oIAe8hIboP3Dulr3Aauo/vLwmv/xO7D8Ei7bAODPuP6gsI2G6C/A/zBPrYdj98D/y+rJi9u/xPxbiemMU4vI/OslCZDLU8z9gsAplUMb0P4SX0mVuuPU/qn6aZoyq9j/OZWJnqpz3P/RMKmjIjvg/GDTyaOaA+T8+G7ppBHP6Pw==\",\"dtype\":\"float64\",\"order\":\"little\",\"shape\":[50]},\"top\":{\"__ndarray__\":\"WKB8S81SsT8AAAAAAAAAAFigfEvNUpE/WKB8S81SwT+g8DrxM/y5P2LIW56Ap8U/qhgaROdQvj95XMtH2tHHP2M07PQmfcM/WKB8S81S0T+E8DrxM/zJP2j+o8lTktQ/UtbEdqA94D9euyDhNsjgP1igfEvNUuE/WKB8S81S4T+YuvLFYBHrP3lcy0fa0ec/YE+QipDy4j95XMtH2tHnP4fVllvKhuo/jJ9OMPeb6z+PhKqajSbsP4fVllvKhuo/fyaDHAfn6D9s4/8z6hzlP62EqpqNJuw/bOP/M+oc5T9uyFuegKflP4+EqpqNJtw/dJITc6281j9YoHxLzVLRP3SSE3OtvNY/rYSqmo0mzD96GBpE51DOP3g07PQmfdM/aPA68TP8yT+6GBpE51DOP0agfEvNUrE/aqB8S81SsT9GoHxLzVKhP2qgfEvNUqE/hchbnoCntT9GoHxLzVKhP2qgfEvNUrE/RqB8S81SoT9qoHxLzVKRPwAAAAAAAAAAAAAAAAAAAABGoHxLzVKRPw==\",\"dtype\":\"float64\",\"order\":\"little\",\"shape\":[50]}},\"selected\":{\"id\":\"2146\"},\"selection_policy\":{\"id\":\"2145\"}},\"id\":\"2033\",\"type\":\"ColumnDataSource\"},{\"attributes\":{\"axis\":{\"id\":\"2018\"},\"coordinates\":null,\"grid_line_color\":\"white\",\"group\":null,\"ticker\":null},\"id\":\"2021\",\"type\":\"Grid\"},{\"attributes\":{\"tools\":[{\"id\":\"2026\"},{\"id\":\"2027\"},{\"id\":\"2028\"}]},\"id\":\"2029\",\"type\":\"Toolbar\"},{\"attributes\":{},\"id\":\"2143\",\"type\":\"BasicTickFormatter\"},{\"attributes\":{},\"id\":\"2028\",\"type\":\"PanTool\"},{\"attributes\":{},\"id\":\"2019\",\"type\":\"BasicTicker\"},{\"attributes\":{\"axis_label\":\"x\",\"coordinates\":null,\"formatter\":{\"id\":\"2143\"},\"group\":null,\"major_label_policy\":{\"id\":\"2144\"},\"ticker\":{\"id\":\"2019\"}},\"id\":\"2018\",\"type\":\"LinearAxis\"},{\"attributes\":{\"axis_label\":\"y\",\"coordinates\":null,\"formatter\":{\"id\":\"2140\"},\"group\":null,\"major_label_policy\":{\"id\":\"2141\"},\"ticker\":{\"id\":\"2023\"}},\"id\":\"2022\",\"type\":\"LinearAxis\"},{\"attributes\":{},\"id\":\"2144\",\"type\":\"AllLabels\"},{\"attributes\":{},\"id\":\"2146\",\"type\":\"Selection\"},{\"attributes\":{},\"id\":\"2140\",\"type\":\"BasicTickFormatter\"}],\"root_ids\":[\"2007\"]},\"title\":\"Bokeh Application\",\"version\":\"2.4.2\"}};\n",
       "  const render_items = [{\"docid\":\"b4125fae-60dc-46da-b44d-45c1bc3cdcf2\",\"root_ids\":[\"2007\"],\"roots\":{\"2007\":\"e3ecf9bc-759d-45b5-9caf-a740da45b4f9\"}}];\n",
       "  root.Bokeh.embed.embed_items_notebook(docs_json, render_items);\n",
       "\n",
       "  }\n",
       "  if (root.Bokeh !== undefined) {\n",
       "    embed_document(root);\n",
       "  } else {\n",
       "    let attempts = 0;\n",
       "    const timer = setInterval(function(root) {\n",
       "      if (root.Bokeh !== undefined) {\n",
       "        clearInterval(timer);\n",
       "        embed_document(root);\n",
       "      } else {\n",
       "        attempts++;\n",
       "        if (attempts > 100) {\n",
       "          clearInterval(timer);\n",
       "          console.log(\"Bokeh: ERROR: Unable to run BokehJS code because BokehJS library is missing\");\n",
       "        }\n",
       "      }\n",
       "    }, 10, root)\n",
       "  }\n",
       "})(window);"
      ],
      "application/vnd.bokehjs_exec.v0+json": ""
     },
     "metadata": {
      "application/vnd.bokehjs_exec.v0+json": {
       "id": "2007"
      }
     },
     "output_type": "display_data"
    }
   ],
   "source": [
    "p = histogram_figure(hist, edges)\n",
    "show(p)"
   ]
  },
  {
   "cell_type": "code",
   "execution_count": 24,
   "metadata": {},
   "outputs": [],
   "source": [
    "#export\n",
    "def scatter_figure(\n",
    "        x, y, x_axis_label='x', y_axis_label='y', title='scatter',\n",
    "        toolbar_location=BOKEH_DEFAULT_TOOLBAR_LOC, tools=BOKEH_DEFAULT_TOOLS, **kwargs\n",
    "    ):\n",
    "    assert len(x) == len(y)\n",
    "    p = figure(title=title, tools=tools, toolbar_location=toolbar_location, **kwargs)\n",
    "    p.xaxis.axis_label = x_axis_label\n",
    "    p.yaxis.axis_label = y_axis_label\n",
    "\n",
    "    p.circle(x, y, fill_alpha=0.2, size=10)\n",
    "    return p"
   ]
  },
  {
   "cell_type": "code",
   "execution_count": 25,
   "metadata": {},
   "outputs": [
    {
     "data": {
      "text/html": [
       "\n",
       "\n",
       "\n",
       "\n",
       "\n",
       "\n",
       "  <div class=\"bk-root\" id=\"2b30ffbc-47d6-4193-9e7d-4f7659e72f1e\" data-root-id=\"2192\"></div>\n"
      ]
     },
     "metadata": {},
     "output_type": "display_data"
    },
    {
     "data": {
      "application/javascript": [
       "(function(root) {\n",
       "  function embed_document(root) {\n",
       "    \n",
       "  const docs_json = {\"9a1e61b6-c649-4044-ad8e-749d1360644b\":{\"defs\":[],\"roots\":{\"references\":[{\"attributes\":{\"below\":[{\"id\":\"2203\"}],\"center\":[{\"id\":\"2206\"},{\"id\":\"2210\"}],\"left\":[{\"id\":\"2207\"}],\"renderers\":[{\"id\":\"2222\"}],\"title\":{\"id\":\"2193\"},\"toolbar\":{\"id\":\"2214\"},\"toolbar_location\":\"above\",\"x_range\":{\"id\":\"2195\"},\"x_scale\":{\"id\":\"2199\"},\"y_range\":{\"id\":\"2197\"},\"y_scale\":{\"id\":\"2201\"}},\"id\":\"2192\",\"subtype\":\"Figure\",\"type\":\"Plot\"},{\"attributes\":{\"tools\":[{\"id\":\"2211\"},{\"id\":\"2212\"},{\"id\":\"2213\"}]},\"id\":\"2214\",\"type\":\"Toolbar\"},{\"attributes\":{\"fill_alpha\":{\"value\":0.1},\"fill_color\":{\"value\":\"#1f77b4\"},\"hatch_alpha\":{\"value\":0.1},\"line_alpha\":{\"value\":0.1},\"line_color\":{\"value\":\"#1f77b4\"},\"size\":{\"value\":10},\"x\":{\"field\":\"x\"},\"y\":{\"field\":\"y\"}},\"id\":\"2220\",\"type\":\"Circle\"},{\"attributes\":{\"fill_alpha\":{\"value\":0.2},\"fill_color\":{\"value\":\"#1f77b4\"},\"hatch_alpha\":{\"value\":0.2},\"line_alpha\":{\"value\":0.2},\"line_color\":{\"value\":\"#1f77b4\"},\"size\":{\"value\":10},\"x\":{\"field\":\"x\"},\"y\":{\"field\":\"y\"}},\"id\":\"2221\",\"type\":\"Circle\"},{\"attributes\":{\"coordinates\":null,\"data_source\":{\"id\":\"2218\"},\"glyph\":{\"id\":\"2219\"},\"group\":null,\"hover_glyph\":null,\"muted_glyph\":{\"id\":\"2221\"},\"nonselection_glyph\":{\"id\":\"2220\"},\"view\":{\"id\":\"2223\"}},\"id\":\"2222\",\"type\":\"GlyphRenderer\"},{\"attributes\":{},\"id\":\"2199\",\"type\":\"LinearScale\"},{\"attributes\":{\"data\":{\"x\":{\"__ndarray__\":\"ZmZmZmZm9j9mZmZmZmb2P83MzMzMzPQ/AAAAAAAA+D9mZmZmZmb2PzMzMzMzM/s/ZmZmZmZm9j8AAAAAAAD4P2ZmZmZmZvY/AAAAAAAA+D8AAAAAAAD4P5qZmZmZmfk/ZmZmZmZm9j+amZmZmZnxPzMzMzMzM/M/AAAAAAAA+D/NzMzMzMz0P2ZmZmZmZvY/MzMzMzMz+z8AAAAAAAD4PzMzMzMzM/s/AAAAAAAA+D8AAAAAAADwPzMzMzMzM/s/ZmZmZmZm/j+amZmZmZn5P5qZmZmZmfk/AAAAAAAA+D9mZmZmZmb2P5qZmZmZmfk/mpmZmZmZ+T8AAAAAAAD4PwAAAAAAAPg/ZmZmZmZm9j8AAAAAAAD4PzMzMzMzM/M/zczMzMzM9D9mZmZmZmb2P83MzMzMzPQ/AAAAAAAA+D/NzMzMzMz0P83MzMzMzPQ/zczMzMzM9D+amZmZmZn5P2ZmZmZmZv4/ZmZmZmZm9j+amZmZmZn5P2ZmZmZmZvY/AAAAAAAA+D9mZmZmZmb2P83MzMzMzBJAAAAAAAAAEkCamZmZmZkTQAAAAAAAABBAZmZmZmZmEkAAAAAAAAASQM3MzMzMzBJAZmZmZmZmCkBmZmZmZmYSQDMzMzMzMw9AAAAAAAAADEDNzMzMzMwQQAAAAAAAABBAzczMzMzMEkDNzMzMzMwMQJqZmZmZmRFAAAAAAAAAEkBmZmZmZmYQQAAAAAAAABJAMzMzMzMzD0AzMzMzMzMTQAAAAAAAABBAmpmZmZmZE0DNzMzMzMwSQDMzMzMzMxFAmpmZmZmZEUAzMzMzMzMTQAAAAAAAABRAAAAAAAAAEkAAAAAAAAAMQGZmZmZmZg5AmpmZmZmZDUAzMzMzMzMPQGZmZmZmZhRAAAAAAAAAEkAAAAAAAAASQM3MzMzMzBJAmpmZmZmZEUBmZmZmZmYQQAAAAAAAABBAmpmZmZmZEUBmZmZmZmYSQAAAAAAAABBAZmZmZmZmCkDNzMzMzMwQQM3MzMzMzBBAzczMzMzMEEAzMzMzMzMRQAAAAAAAAAhAZmZmZmZmEEAAAAAAAAAYQGZmZmZmZhRAmpmZmZmZF0BmZmZmZmYWQDMzMzMzMxdAZmZmZmZmGkAAAAAAAAASQDMzMzMzMxlAMzMzMzMzF0BmZmZmZmYYQGZmZmZmZhRAMzMzMzMzFUAAAAAAAAAWQAAAAAAAABRAZmZmZmZmFEAzMzMzMzMVQAAAAAAAABZAzczMzMzMGkCamZmZmZkbQAAAAAAAABRAzczMzMzMFkCamZmZmZkTQM3MzMzMzBpAmpmZmZmZE0DNzMzMzMwWQAAAAAAAABhAMzMzMzMzE0CamZmZmZkTQGZmZmZmZhZAMzMzMzMzF0BmZmZmZmYYQJqZmZmZmRlAZmZmZmZmFkBmZmZmZmYUQGZmZmZmZhZAZmZmZmZmGEBmZmZmZmYWQAAAAAAAABZAMzMzMzMzE0CamZmZmZkVQGZmZmZmZhZAZmZmZmZmFEBmZmZmZmYUQJqZmZmZmRdAzczMzMzMFkDNzMzMzMwUQAAAAAAAABRAzczMzMzMFECamZmZmZkVQGZmZmZmZhRA\",\"dtype\":\"float64\",\"order\":\"little\",\"shape\":[150]},\"y\":{\"__ndarray__\":\"mpmZmZmZyT+amZmZmZnJP5qZmZmZmck/mpmZmZmZyT+amZmZmZnJP5qZmZmZmdk/MzMzMzMz0z+amZmZmZnJP5qZmZmZmck/mpmZmZmZuT+amZmZmZnJP5qZmZmZmck/mpmZmZmZuT+amZmZmZm5P5qZmZmZmck/mpmZmZmZ2T+amZmZmZnZPzMzMzMzM9M/MzMzMzMz0z8zMzMzMzPTP5qZmZmZmck/mpmZmZmZ2T+amZmZmZnJPwAAAAAAAOA/mpmZmZmZyT+amZmZmZnJP5qZmZmZmdk/mpmZmZmZyT+amZmZmZnJP5qZmZmZmck/mpmZmZmZyT+amZmZmZnZP5qZmZmZmbk/mpmZmZmZyT+amZmZmZnJP5qZmZmZmck/mpmZmZmZyT+amZmZmZm5P5qZmZmZmck/mpmZmZmZyT8zMzMzMzPTPzMzMzMzM9M/mpmZmZmZyT8zMzMzMzPjP5qZmZmZmdk/MzMzMzMz0z+amZmZmZnJP5qZmZmZmck/mpmZmZmZyT+amZmZmZnJP2ZmZmZmZvY/AAAAAAAA+D8AAAAAAAD4P83MzMzMzPQ/AAAAAAAA+D/NzMzMzMz0P5qZmZmZmfk/AAAAAAAA8D/NzMzMzMz0P2ZmZmZmZvY/AAAAAAAA8D8AAAAAAAD4PwAAAAAAAPA/ZmZmZmZm9j/NzMzMzMz0P2ZmZmZmZvY/AAAAAAAA+D8AAAAAAADwPwAAAAAAAPg/mpmZmZmZ8T/NzMzMzMz8P83MzMzMzPQ/AAAAAAAA+D8zMzMzMzPzP83MzMzMzPQ/ZmZmZmZm9j9mZmZmZmb2PzMzMzMzM/s/AAAAAAAA+D8AAAAAAADwP5qZmZmZmfE/AAAAAAAA8D8zMzMzMzPzP5qZmZmZmfk/AAAAAAAA+D+amZmZmZn5PwAAAAAAAPg/zczMzMzM9D/NzMzMzMz0P83MzMzMzPQ/MzMzMzMz8z9mZmZmZmb2PzMzMzMzM/M/AAAAAAAA8D/NzMzMzMz0PzMzMzMzM/M/zczMzMzM9D/NzMzMzMz0P5qZmZmZmfE/zczMzMzM9D8AAAAAAAAEQGZmZmZmZv4/zczMzMzMAEDNzMzMzMz8P5qZmZmZmQFAzczMzMzMAEAzMzMzMzP7P83MzMzMzPw/zczMzMzM/D8AAAAAAAAEQAAAAAAAAABAZmZmZmZm/j/NzMzMzMwAQAAAAAAAAABAMzMzMzMzA0BmZmZmZmYCQM3MzMzMzPw/mpmZmZmZAUBmZmZmZmYCQAAAAAAAAPg/ZmZmZmZmAkAAAAAAAAAAQAAAAAAAAABAzczMzMzM/D/NzMzMzMwAQM3MzMzMzPw/zczMzMzM/D/NzMzMzMz8P83MzMzMzABAmpmZmZmZ+T9mZmZmZmb+PwAAAAAAAABAmpmZmZmZAUAAAAAAAAD4P2ZmZmZmZvY/ZmZmZmZmAkAzMzMzMzMDQM3MzMzMzPw/zczMzMzM/D/NzMzMzMwAQDMzMzMzMwNAZmZmZmZmAkBmZmZmZmb+P2ZmZmZmZgJAAAAAAAAABEBmZmZmZmYCQGZmZmZmZv4/AAAAAAAAAEBmZmZmZmYCQM3MzMzMzPw/\",\"dtype\":\"float64\",\"order\":\"little\",\"shape\":[150]}},\"selected\":{\"id\":\"2340\"},\"selection_policy\":{\"id\":\"2339\"}},\"id\":\"2218\",\"type\":\"ColumnDataSource\"},{\"attributes\":{},\"id\":\"2339\",\"type\":\"UnionRenderers\"},{\"attributes\":{\"source\":{\"id\":\"2218\"}},\"id\":\"2223\",\"type\":\"CDSView\"},{\"attributes\":{\"axis_label\":\"y\",\"coordinates\":null,\"formatter\":{\"id\":\"2334\"},\"group\":null,\"major_label_policy\":{\"id\":\"2335\"},\"ticker\":{\"id\":\"2208\"}},\"id\":\"2207\",\"type\":\"LinearAxis\"},{\"attributes\":{\"axis_label\":\"x\",\"coordinates\":null,\"formatter\":{\"id\":\"2337\"},\"group\":null,\"major_label_policy\":{\"id\":\"2338\"},\"ticker\":{\"id\":\"2204\"}},\"id\":\"2203\",\"type\":\"LinearAxis\"},{\"attributes\":{},\"id\":\"2340\",\"type\":\"Selection\"},{\"attributes\":{},\"id\":\"2204\",\"type\":\"BasicTicker\"},{\"attributes\":{},\"id\":\"2201\",\"type\":\"LinearScale\"},{\"attributes\":{\"coordinates\":null,\"group\":null,\"text\":\"scatter\"},\"id\":\"2193\",\"type\":\"Title\"},{\"attributes\":{},\"id\":\"2195\",\"type\":\"DataRange1d\"},{\"attributes\":{\"axis\":{\"id\":\"2203\"},\"coordinates\":null,\"group\":null,\"ticker\":null},\"id\":\"2206\",\"type\":\"Grid\"},{\"attributes\":{},\"id\":\"2197\",\"type\":\"DataRange1d\"},{\"attributes\":{},\"id\":\"2212\",\"type\":\"ResetTool\"},{\"attributes\":{},\"id\":\"2334\",\"type\":\"BasicTickFormatter\"},{\"attributes\":{},\"id\":\"2213\",\"type\":\"PanTool\"},{\"attributes\":{\"axis\":{\"id\":\"2207\"},\"coordinates\":null,\"dimension\":1,\"group\":null,\"ticker\":null},\"id\":\"2210\",\"type\":\"Grid\"},{\"attributes\":{},\"id\":\"2335\",\"type\":\"AllLabels\"},{\"attributes\":{},\"id\":\"2211\",\"type\":\"SaveTool\"},{\"attributes\":{},\"id\":\"2337\",\"type\":\"BasicTickFormatter\"},{\"attributes\":{},\"id\":\"2208\",\"type\":\"BasicTicker\"},{\"attributes\":{\"fill_alpha\":{\"value\":0.2},\"fill_color\":{\"value\":\"#1f77b4\"},\"line_color\":{\"value\":\"#1f77b4\"},\"size\":{\"value\":10},\"x\":{\"field\":\"x\"},\"y\":{\"field\":\"y\"}},\"id\":\"2219\",\"type\":\"Circle\"},{\"attributes\":{},\"id\":\"2338\",\"type\":\"AllLabels\"}],\"root_ids\":[\"2192\"]},\"title\":\"Bokeh Application\",\"version\":\"2.4.2\"}};\n",
       "  const render_items = [{\"docid\":\"9a1e61b6-c649-4044-ad8e-749d1360644b\",\"root_ids\":[\"2192\"],\"roots\":{\"2192\":\"2b30ffbc-47d6-4193-9e7d-4f7659e72f1e\"}}];\n",
       "  root.Bokeh.embed.embed_items_notebook(docs_json, render_items);\n",
       "\n",
       "  }\n",
       "  if (root.Bokeh !== undefined) {\n",
       "    embed_document(root);\n",
       "  } else {\n",
       "    let attempts = 0;\n",
       "    const timer = setInterval(function(root) {\n",
       "      if (root.Bokeh !== undefined) {\n",
       "        clearInterval(timer);\n",
       "        embed_document(root);\n",
       "      } else {\n",
       "        attempts++;\n",
       "        if (attempts > 100) {\n",
       "          clearInterval(timer);\n",
       "          console.log(\"Bokeh: ERROR: Unable to run BokehJS code because BokehJS library is missing\");\n",
       "        }\n",
       "      }\n",
       "    }, 10, root)\n",
       "  }\n",
       "})(window);"
      ],
      "application/vnd.bokehjs_exec.v0+json": ""
     },
     "metadata": {
      "application/vnd.bokehjs_exec.v0+json": {
       "id": "2192"
      }
     },
     "output_type": "display_data"
    }
   ],
   "source": [
    "from bokeh.sampledata.iris import flowers\n",
    "p = scatter_figure(flowers[\"petal_length\"], flowers[\"petal_width\"])\n",
    "show(p)"
   ]
  },
  {
   "cell_type": "code",
   "execution_count": 26,
   "metadata": {},
   "outputs": [],
   "source": [
    "#export\n",
    "def bubble_figure(\n",
    "    x, y, z=None, title='bubble', tools=BOKEH_DEFAULT_TOOLS, toolbar_location=BOKEH_DEFAULT_TOOLBAR_LOC,\n",
    "    y_axis_label=None, x_axis_label=None, **kwargs):\n",
    "    p = figure(tools=tools, title=title, toolbar_location=toolbar_location, **kwargs)\n",
    "    if z is not None:\n",
    "        z = np.array(z)\n",
    "        z -= np.mean(z)\n",
    "        z /= np.std(z)\n",
    "        z /= ((max(z) - min(z))/2)\n",
    "        z -= min(z)\n",
    "        z /= 5\n",
    "        z += 0.1\n",
    "        p.scatter(x, y, fill_alpha=0.6, radius=z)\n",
    "    else:\n",
    "        p.scatter(x, y, fill_alpha=0.6)\n",
    "    p.yaxis.axis_label = y_axis_label\n",
    "    p.xaxis.axis_label = x_axis_label\n",
    "\n",
    "    return p"
   ]
  },
  {
   "cell_type": "code",
   "execution_count": 27,
   "metadata": {},
   "outputs": [
    {
     "data": {
      "text/html": [
       "<div>\n",
       "<style scoped>\n",
       "    .dataframe tbody tr th:only-of-type {\n",
       "        vertical-align: middle;\n",
       "    }\n",
       "\n",
       "    .dataframe tbody tr th {\n",
       "        vertical-align: top;\n",
       "    }\n",
       "\n",
       "    .dataframe thead th {\n",
       "        text-align: right;\n",
       "    }\n",
       "</style>\n",
       "<table border=\"1\" class=\"dataframe\">\n",
       "  <thead>\n",
       "    <tr style=\"text-align: right;\">\n",
       "      <th></th>\n",
       "      <th>sepal_length</th>\n",
       "      <th>sepal_width</th>\n",
       "      <th>petal_length</th>\n",
       "      <th>petal_width</th>\n",
       "      <th>species</th>\n",
       "    </tr>\n",
       "  </thead>\n",
       "  <tbody>\n",
       "    <tr>\n",
       "      <th>0</th>\n",
       "      <td>5.1</td>\n",
       "      <td>3.5</td>\n",
       "      <td>1.4</td>\n",
       "      <td>0.2</td>\n",
       "      <td>setosa</td>\n",
       "    </tr>\n",
       "    <tr>\n",
       "      <th>1</th>\n",
       "      <td>4.9</td>\n",
       "      <td>3.0</td>\n",
       "      <td>1.4</td>\n",
       "      <td>0.2</td>\n",
       "      <td>setosa</td>\n",
       "    </tr>\n",
       "    <tr>\n",
       "      <th>2</th>\n",
       "      <td>4.7</td>\n",
       "      <td>3.2</td>\n",
       "      <td>1.3</td>\n",
       "      <td>0.2</td>\n",
       "      <td>setosa</td>\n",
       "    </tr>\n",
       "    <tr>\n",
       "      <th>3</th>\n",
       "      <td>4.6</td>\n",
       "      <td>3.1</td>\n",
       "      <td>1.5</td>\n",
       "      <td>0.2</td>\n",
       "      <td>setosa</td>\n",
       "    </tr>\n",
       "    <tr>\n",
       "      <th>4</th>\n",
       "      <td>5.0</td>\n",
       "      <td>3.6</td>\n",
       "      <td>1.4</td>\n",
       "      <td>0.2</td>\n",
       "      <td>setosa</td>\n",
       "    </tr>\n",
       "  </tbody>\n",
       "</table>\n",
       "</div>"
      ],
      "text/plain": [
       "   sepal_length  sepal_width  petal_length  petal_width species\n",
       "0           5.1          3.5           1.4          0.2  setosa\n",
       "1           4.9          3.0           1.4          0.2  setosa\n",
       "2           4.7          3.2           1.3          0.2  setosa\n",
       "3           4.6          3.1           1.5          0.2  setosa\n",
       "4           5.0          3.6           1.4          0.2  setosa"
      ]
     },
     "execution_count": 27,
     "metadata": {},
     "output_type": "execute_result"
    }
   ],
   "source": [
    "flowers.head()"
   ]
  },
  {
   "cell_type": "code",
   "execution_count": 28,
   "metadata": {},
   "outputs": [
    {
     "data": {
      "text/html": [
       "\n",
       "\n",
       "\n",
       "\n",
       "\n",
       "\n",
       "  <div class=\"bk-root\" id=\"49b66568-8027-4862-866f-ff0d09dcb659\" data-root-id=\"2386\"></div>\n"
      ]
     },
     "metadata": {},
     "output_type": "display_data"
    },
    {
     "data": {
      "application/javascript": [
       "(function(root) {\n",
       "  function embed_document(root) {\n",
       "    \n",
       "  const docs_json = {\"9260f7d9-524a-4181-86c0-052d4b9468b1\":{\"defs\":[],\"roots\":{\"references\":[{\"attributes\":{\"below\":[{\"id\":\"2397\"}],\"center\":[{\"id\":\"2400\"},{\"id\":\"2404\"}],\"left\":[{\"id\":\"2401\"}],\"renderers\":[{\"id\":\"2416\"}],\"title\":{\"id\":\"2387\"},\"toolbar\":{\"id\":\"2408\"},\"toolbar_location\":\"above\",\"x_range\":{\"id\":\"2389\"},\"x_scale\":{\"id\":\"2393\"},\"y_range\":{\"id\":\"2391\"},\"y_scale\":{\"id\":\"2395\"}},\"id\":\"2386\",\"subtype\":\"Figure\",\"type\":\"Plot\"},{\"attributes\":{},\"id\":\"2542\",\"type\":\"UnionRenderers\"},{\"attributes\":{\"fill_alpha\":{\"value\":0.1},\"fill_color\":{\"value\":\"#1f77b4\"},\"hatch_alpha\":{\"value\":0.1},\"line_alpha\":{\"value\":0.1},\"line_color\":{\"value\":\"#1f77b4\"},\"radius\":{\"field\":\"radius\"},\"x\":{\"field\":\"x\"},\"y\":{\"field\":\"y\"}},\"id\":\"2414\",\"type\":\"Circle\"},{\"attributes\":{},\"id\":\"2543\",\"type\":\"Selection\"},{\"attributes\":{\"fill_alpha\":{\"value\":0.2},\"fill_color\":{\"value\":\"#1f77b4\"},\"hatch_alpha\":{\"value\":0.2},\"line_alpha\":{\"value\":0.2},\"line_color\":{\"value\":\"#1f77b4\"},\"radius\":{\"field\":\"radius\"},\"x\":{\"field\":\"x\"},\"y\":{\"field\":\"y\"}},\"id\":\"2415\",\"type\":\"Circle\"},{\"attributes\":{\"coordinates\":null,\"data_source\":{\"id\":\"2412\"},\"glyph\":{\"id\":\"2413\"},\"group\":null,\"hover_glyph\":null,\"muted_glyph\":{\"id\":\"2415\"},\"nonselection_glyph\":{\"id\":\"2414\"},\"view\":{\"id\":\"2417\"}},\"id\":\"2416\",\"type\":\"GlyphRenderer\"},{\"attributes\":{\"source\":{\"id\":\"2412\"}},\"id\":\"2417\",\"type\":\"CDSView\"},{\"attributes\":{\"coordinates\":null,\"formatter\":{\"id\":\"2540\"},\"group\":null,\"major_label_policy\":{\"id\":\"2541\"},\"ticker\":{\"id\":\"2398\"}},\"id\":\"2397\",\"type\":\"LinearAxis\"},{\"attributes\":{\"coordinates\":null,\"formatter\":{\"id\":\"2537\"},\"group\":null,\"major_label_policy\":{\"id\":\"2538\"},\"ticker\":{\"id\":\"2402\"}},\"id\":\"2401\",\"type\":\"LinearAxis\"},{\"attributes\":{},\"id\":\"2537\",\"type\":\"BasicTickFormatter\"},{\"attributes\":{},\"id\":\"2538\",\"type\":\"AllLabels\"},{\"attributes\":{\"data\":{\"radius\":{\"__ndarray__\":\"ZmZmZmZm1j8QERERERHRPzMzMzMzM9M/IiIiIiIi0j92d3d3d3fXP6qqqqqqqto/VFVVVVVV1T9UVVVVVVXVP////////88/IiIiIiIi0j+IiIiIiIjYP1RVVVVVVdU/EBERERER0T8QERERERHRP7q7u7u7u9s/AAAAAAAA4D+qqqqqqqraP2ZmZmZmZtY/mJmZmZmZ2T+YmZmZmZnZP1RVVVVVVdU/iIiIiIiI2D92d3d3d3fXP0RERERERNQ/VFVVVVVV1T8QERERERHRP1RVVVVVVdU/ZmZmZmZm1j9UVVVVVVXVPzMzMzMzM9M/IiIiIiIi0j9UVVVVVVXVP8rMzMzMzNw/3N3d3d3d3T8iIiIiIiLSPzMzMzMzM9M/ZmZmZmZm1j92d3d3d3fXPxAREREREdE/VFVVVVVV1T9mZmZmZmbWPzIzMzMzM8M/MzMzMzMz0z9mZmZmZmbWP5iZmZmZmdk/EBERERER0T+YmZmZmZnZPzMzMzMzM9M/iIiIiIiI2D9ERERERETUPzMzMzMzM9M/MzMzMzMz0z8iIiIiIiLSPzIzMzMzM8M/293d3d3dzT/b3d3d3d3NP0RERERERNQ/VFVVVVVVxT/////////PP7y7u7u7u8s/mpmZmZmZuT8QERERERHRPxIREREREcE/////////zz/////////PPyIiIiIiItI/EBERERER0T+8u7u7u7vLPxIREREREcE/dnd3d3d3xz8zMzMzMzPTP9vd3d3d3c0/dnd3d3d3xz/b3d3d3d3NP////////88/EBERERER0T/b3d3d3d3NPxAREREREdE/////////zz+amZmZmZnJP1RVVVVVVcU/VFVVVVVVxT+8u7u7u7vLP7y7u7u7u8s/EBERERER0T9UVVVVVVXVPyIiIiIiItI/MjMzMzMzwz8QERERERHRP3Z3d3d3d8c/mpmZmZmZyT8QERERERHRP5qZmZmZmck/MjMzMzMzwz+8u7u7u7vLPxAREREREdE/////////zz/////////PP3Z3d3d3d8c/293d3d3dzT9ERERERETUP7y7u7u7u8s/EBERERER0T/////////PPxAREREREdE/EBERERER0T92d3d3d3fHP////////88/dnd3d3d3xz92d3d3d3fXPzMzMzMzM9M/vLu7u7u7yz8QERERERHRP3Z3d3d3d8c/293d3d3dzT8zMzMzMzPTPxAREREREdE/mJmZmZmZ2T+amZmZmZnJPxIREREREcE/MzMzMzMz0z/b3d3d3d3NP9vd3d3d3c0/vLu7u7u7yz9ERERERETUPzMzMzMzM9M/293d3d3dzT8QERERERHRP9vd3d3d3c0/EBERERER0T/b3d3d3d3NP5iZmZmZmdk/293d3d3dzT/b3d3d3d3NP5qZmZmZmck/EBERERER0T9UVVVVVVXVPyIiIiIiItI/EBERERER0T8iIiIiIiLSPyIiIiIiItI/IiIiIiIi0j+8u7u7u7vLPzMzMzMzM9M/RERERERE1D8QERERERHRP3Z3d3d3d8c/EBERERER0T9UVVVVVVXVPxAREREREdE/\",\"dtype\":\"float64\",\"order\":\"little\",\"shape\":[150]},\"x\":{\"__ndarray__\":\"ZmZmZmZm9j9mZmZmZmb2P83MzMzMzPQ/AAAAAAAA+D9mZmZmZmb2PzMzMzMzM/s/ZmZmZmZm9j8AAAAAAAD4P2ZmZmZmZvY/AAAAAAAA+D8AAAAAAAD4P5qZmZmZmfk/ZmZmZmZm9j+amZmZmZnxPzMzMzMzM/M/AAAAAAAA+D/NzMzMzMz0P2ZmZmZmZvY/MzMzMzMz+z8AAAAAAAD4PzMzMzMzM/s/AAAAAAAA+D8AAAAAAADwPzMzMzMzM/s/ZmZmZmZm/j+amZmZmZn5P5qZmZmZmfk/AAAAAAAA+D9mZmZmZmb2P5qZmZmZmfk/mpmZmZmZ+T8AAAAAAAD4PwAAAAAAAPg/ZmZmZmZm9j8AAAAAAAD4PzMzMzMzM/M/zczMzMzM9D9mZmZmZmb2P83MzMzMzPQ/AAAAAAAA+D/NzMzMzMz0P83MzMzMzPQ/zczMzMzM9D+amZmZmZn5P2ZmZmZmZv4/ZmZmZmZm9j+amZmZmZn5P2ZmZmZmZvY/AAAAAAAA+D9mZmZmZmb2P83MzMzMzBJAAAAAAAAAEkCamZmZmZkTQAAAAAAAABBAZmZmZmZmEkAAAAAAAAASQM3MzMzMzBJAZmZmZmZmCkBmZmZmZmYSQDMzMzMzMw9AAAAAAAAADEDNzMzMzMwQQAAAAAAAABBAzczMzMzMEkDNzMzMzMwMQJqZmZmZmRFAAAAAAAAAEkBmZmZmZmYQQAAAAAAAABJAMzMzMzMzD0AzMzMzMzMTQAAAAAAAABBAmpmZmZmZE0DNzMzMzMwSQDMzMzMzMxFAmpmZmZmZEUAzMzMzMzMTQAAAAAAAABRAAAAAAAAAEkAAAAAAAAAMQGZmZmZmZg5AmpmZmZmZDUAzMzMzMzMPQGZmZmZmZhRAAAAAAAAAEkAAAAAAAAASQM3MzMzMzBJAmpmZmZmZEUBmZmZmZmYQQAAAAAAAABBAmpmZmZmZEUBmZmZmZmYSQAAAAAAAABBAZmZmZmZmCkDNzMzMzMwQQM3MzMzMzBBAzczMzMzMEEAzMzMzMzMRQAAAAAAAAAhAZmZmZmZmEEAAAAAAAAAYQGZmZmZmZhRAmpmZmZmZF0BmZmZmZmYWQDMzMzMzMxdAZmZmZmZmGkAAAAAAAAASQDMzMzMzMxlAMzMzMzMzF0BmZmZmZmYYQGZmZmZmZhRAMzMzMzMzFUAAAAAAAAAWQAAAAAAAABRAZmZmZmZmFEAzMzMzMzMVQAAAAAAAABZAzczMzMzMGkCamZmZmZkbQAAAAAAAABRAzczMzMzMFkCamZmZmZkTQM3MzMzMzBpAmpmZmZmZE0DNzMzMzMwWQAAAAAAAABhAMzMzMzMzE0CamZmZmZkTQGZmZmZmZhZAMzMzMzMzF0BmZmZmZmYYQJqZmZmZmRlAZmZmZmZmFkBmZmZmZmYUQGZmZmZmZhZAZmZmZmZmGEBmZmZmZmYWQAAAAAAAABZAMzMzMzMzE0CamZmZmZkVQGZmZmZmZhZAZmZmZmZmFEBmZmZmZmYUQJqZmZmZmRdAzczMzMzMFkDNzMzMzMwUQAAAAAAAABRAzczMzMzMFECamZmZmZkVQGZmZmZmZhRA\",\"dtype\":\"float64\",\"order\":\"little\",\"shape\":[150]},\"y\":{\"__ndarray__\":\"mpmZmZmZyT+amZmZmZnJP5qZmZmZmck/mpmZmZmZyT+amZmZmZnJP5qZmZmZmdk/MzMzMzMz0z+amZmZmZnJP5qZmZmZmck/mpmZmZmZuT+amZmZmZnJP5qZmZmZmck/mpmZmZmZuT+amZmZmZm5P5qZmZmZmck/mpmZmZmZ2T+amZmZmZnZPzMzMzMzM9M/MzMzMzMz0z8zMzMzMzPTP5qZmZmZmck/mpmZmZmZ2T+amZmZmZnJPwAAAAAAAOA/mpmZmZmZyT+amZmZmZnJP5qZmZmZmdk/mpmZmZmZyT+amZmZmZnJP5qZmZmZmck/mpmZmZmZyT+amZmZmZnZP5qZmZmZmbk/mpmZmZmZyT+amZmZmZnJP5qZmZmZmck/mpmZmZmZyT+amZmZmZm5P5qZmZmZmck/mpmZmZmZyT8zMzMzMzPTPzMzMzMzM9M/mpmZmZmZyT8zMzMzMzPjP5qZmZmZmdk/MzMzMzMz0z+amZmZmZnJP5qZmZmZmck/mpmZmZmZyT+amZmZmZnJP2ZmZmZmZvY/AAAAAAAA+D8AAAAAAAD4P83MzMzMzPQ/AAAAAAAA+D/NzMzMzMz0P5qZmZmZmfk/AAAAAAAA8D/NzMzMzMz0P2ZmZmZmZvY/AAAAAAAA8D8AAAAAAAD4PwAAAAAAAPA/ZmZmZmZm9j/NzMzMzMz0P2ZmZmZmZvY/AAAAAAAA+D8AAAAAAADwPwAAAAAAAPg/mpmZmZmZ8T/NzMzMzMz8P83MzMzMzPQ/AAAAAAAA+D8zMzMzMzPzP83MzMzMzPQ/ZmZmZmZm9j9mZmZmZmb2PzMzMzMzM/s/AAAAAAAA+D8AAAAAAADwP5qZmZmZmfE/AAAAAAAA8D8zMzMzMzPzP5qZmZmZmfk/AAAAAAAA+D+amZmZmZn5PwAAAAAAAPg/zczMzMzM9D/NzMzMzMz0P83MzMzMzPQ/MzMzMzMz8z9mZmZmZmb2PzMzMzMzM/M/AAAAAAAA8D/NzMzMzMz0PzMzMzMzM/M/zczMzMzM9D/NzMzMzMz0P5qZmZmZmfE/zczMzMzM9D8AAAAAAAAEQGZmZmZmZv4/zczMzMzMAEDNzMzMzMz8P5qZmZmZmQFAzczMzMzMAEAzMzMzMzP7P83MzMzMzPw/zczMzMzM/D8AAAAAAAAEQAAAAAAAAABAZmZmZmZm/j/NzMzMzMwAQAAAAAAAAABAMzMzMzMzA0BmZmZmZmYCQM3MzMzMzPw/mpmZmZmZAUBmZmZmZmYCQAAAAAAAAPg/ZmZmZmZmAkAAAAAAAAAAQAAAAAAAAABAzczMzMzM/D/NzMzMzMwAQM3MzMzMzPw/zczMzMzM/D/NzMzMzMz8P83MzMzMzABAmpmZmZmZ+T9mZmZmZmb+PwAAAAAAAABAmpmZmZmZAUAAAAAAAAD4P2ZmZmZmZvY/ZmZmZmZmAkAzMzMzMzMDQM3MzMzMzPw/zczMzMzM/D/NzMzMzMwAQDMzMzMzMwNAZmZmZmZmAkBmZmZmZmb+P2ZmZmZmZgJAAAAAAAAABEBmZmZmZmYCQGZmZmZmZv4/AAAAAAAAAEBmZmZmZmYCQM3MzMzMzPw/\",\"dtype\":\"float64\",\"order\":\"little\",\"shape\":[150]}},\"selected\":{\"id\":\"2543\"},\"selection_policy\":{\"id\":\"2542\"}},\"id\":\"2412\",\"type\":\"ColumnDataSource\"},{\"attributes\":{},\"id\":\"2395\",\"type\":\"LinearScale\"},{\"attributes\":{},\"id\":\"2391\",\"type\":\"DataRange1d\"},{\"attributes\":{},\"id\":\"2540\",\"type\":\"BasicTickFormatter\"},{\"attributes\":{\"fill_alpha\":{\"value\":0.6},\"fill_color\":{\"value\":\"#1f77b4\"},\"line_color\":{\"value\":\"#1f77b4\"},\"radius\":{\"field\":\"radius\"},\"x\":{\"field\":\"x\"},\"y\":{\"field\":\"y\"}},\"id\":\"2413\",\"type\":\"Circle\"},{\"attributes\":{},\"id\":\"2389\",\"type\":\"DataRange1d\"},{\"attributes\":{},\"id\":\"2541\",\"type\":\"AllLabels\"},{\"attributes\":{},\"id\":\"2398\",\"type\":\"BasicTicker\"},{\"attributes\":{},\"id\":\"2393\",\"type\":\"LinearScale\"},{\"attributes\":{\"axis\":{\"id\":\"2397\"},\"coordinates\":null,\"group\":null,\"ticker\":null},\"id\":\"2400\",\"type\":\"Grid\"},{\"attributes\":{\"coordinates\":null,\"group\":null,\"text\":\"bubble\"},\"id\":\"2387\",\"type\":\"Title\"},{\"attributes\":{\"tools\":[{\"id\":\"2405\"},{\"id\":\"2406\"},{\"id\":\"2407\"}]},\"id\":\"2408\",\"type\":\"Toolbar\"},{\"attributes\":{\"axis\":{\"id\":\"2401\"},\"coordinates\":null,\"dimension\":1,\"group\":null,\"ticker\":null},\"id\":\"2404\",\"type\":\"Grid\"},{\"attributes\":{},\"id\":\"2405\",\"type\":\"SaveTool\"},{\"attributes\":{},\"id\":\"2406\",\"type\":\"ResetTool\"},{\"attributes\":{},\"id\":\"2407\",\"type\":\"PanTool\"},{\"attributes\":{},\"id\":\"2402\",\"type\":\"BasicTicker\"}],\"root_ids\":[\"2386\"]},\"title\":\"Bokeh Application\",\"version\":\"2.4.2\"}};\n",
       "  const render_items = [{\"docid\":\"9260f7d9-524a-4181-86c0-052d4b9468b1\",\"root_ids\":[\"2386\"],\"roots\":{\"2386\":\"49b66568-8027-4862-866f-ff0d09dcb659\"}}];\n",
       "  root.Bokeh.embed.embed_items_notebook(docs_json, render_items);\n",
       "\n",
       "  }\n",
       "  if (root.Bokeh !== undefined) {\n",
       "    embed_document(root);\n",
       "  } else {\n",
       "    let attempts = 0;\n",
       "    const timer = setInterval(function(root) {\n",
       "      if (root.Bokeh !== undefined) {\n",
       "        clearInterval(timer);\n",
       "        embed_document(root);\n",
       "      } else {\n",
       "        attempts++;\n",
       "        if (attempts > 100) {\n",
       "          clearInterval(timer);\n",
       "          console.log(\"Bokeh: ERROR: Unable to run BokehJS code because BokehJS library is missing\");\n",
       "        }\n",
       "      }\n",
       "    }, 10, root)\n",
       "  }\n",
       "})(window);"
      ],
      "application/vnd.bokehjs_exec.v0+json": ""
     },
     "metadata": {
      "application/vnd.bokehjs_exec.v0+json": {
       "id": "2386"
      }
     },
     "output_type": "display_data"
    }
   ],
   "source": [
    "p = bubble_figure(flowers[\"petal_length\"], flowers[\"petal_width\"], flowers[\"sepal_width\"])\n",
    "show(p)"
   ]
  },
  {
   "cell_type": "code",
   "execution_count": 29,
   "metadata": {},
   "outputs": [],
   "source": [
    "#export\n",
    "def stacked_bar_figure(\n",
    "    data:dict, x_key, y_keys:list, title='stacked bar',\n",
    "    toolbar_location=BOKEH_DEFAULT_TOOLBAR_LOC, tools=BOKEH_DEFAULT_TOOLS,\n",
    "    y_axis_label=None, x_axis_label=None, **kwargs\n",
    "):\n",
    "    p = figure(title=title, toolbar_location=toolbar_location, tools=tools, x_range=data[x_key], **kwargs)\n",
    "\n",
    "    p.vbar_stack(y_keys, x=x_key, width=0.9, color=colors, source=data, legend_label=y_keys)\n",
    "\n",
    "    p.y_range.start = 0\n",
    "    p.x_range.range_padding = 0.1\n",
    "    p.xgrid.grid_line_color = None\n",
    "    p.axis.minor_tick_line_color = None\n",
    "    p.outline_line_color = None\n",
    "    p.legend.location = \"top_left\"\n",
    "    p.legend.orientation = \"horizontal\"\n",
    "    p.yaxis.axis_label = y_axis_label\n",
    "    p.xaxis.axis_label = x_axis_label\n",
    "    return p"
   ]
  },
  {
   "cell_type": "code",
   "execution_count": 30,
   "metadata": {},
   "outputs": [
    {
     "data": {
      "text/html": [
       "\n",
       "\n",
       "\n",
       "\n",
       "\n",
       "\n",
       "  <div class=\"bk-root\" id=\"ff1887ac-2864-4e8b-a172-4d0171dea384\" data-root-id=\"2589\"></div>\n"
      ]
     },
     "metadata": {},
     "output_type": "display_data"
    },
    {
     "data": {
      "application/javascript": [
       "(function(root) {\n",
       "  function embed_document(root) {\n",
       "    \n",
       "  const docs_json = {\"74f73bf3-b09b-43ab-ba02-2b31ec9ecc72\":{\"defs\":[],\"roots\":{\"references\":[{\"attributes\":{\"below\":[{\"id\":\"2600\"}],\"center\":[{\"id\":\"2602\"},{\"id\":\"2606\"},{\"id\":\"2636\"}],\"left\":[{\"id\":\"2603\"}],\"outline_line_color\":null,\"renderers\":[{\"id\":\"2625\"},{\"id\":\"2643\"},{\"id\":\"2662\"}],\"title\":{\"id\":\"2590\"},\"toolbar\":{\"id\":\"2610\"},\"toolbar_location\":\"above\",\"x_range\":{\"id\":\"2592\"},\"x_scale\":{\"id\":\"2596\"},\"y_range\":{\"id\":\"2594\"},\"y_scale\":{\"id\":\"2598\"}},\"id\":\"2589\",\"subtype\":\"Figure\",\"type\":\"Plot\"},{\"attributes\":{\"coordinates\":null,\"formatter\":{\"id\":\"2629\"},\"group\":null,\"major_label_policy\":{\"id\":\"2630\"},\"minor_tick_line_color\":null,\"ticker\":{\"id\":\"2604\"}},\"id\":\"2603\",\"type\":\"LinearAxis\"},{\"attributes\":{\"bottom\":{\"expr\":{\"id\":\"2618\"}},\"fill_color\":{\"value\":\"#e84d60\"},\"hatch_color\":{\"value\":\"#e84d60\"},\"line_color\":{\"value\":\"#e84d60\"},\"top\":{\"expr\":{\"id\":\"2619\"}},\"width\":{\"value\":0.9},\"x\":{\"field\":\"fruits\"}},\"id\":\"2659\",\"type\":\"VBar\"},{\"attributes\":{},\"id\":\"2655\",\"type\":\"Selection\"},{\"attributes\":{\"coordinates\":null,\"formatter\":{\"id\":\"2632\"},\"group\":null,\"major_label_policy\":{\"id\":\"2633\"},\"minor_tick_line_color\":null,\"ticker\":{\"id\":\"2601\"}},\"id\":\"2600\",\"type\":\"CategoricalAxis\"},{\"attributes\":{\"axis\":{\"id\":\"2600\"},\"coordinates\":null,\"grid_line_color\":null,\"group\":null,\"ticker\":null},\"id\":\"2602\",\"type\":\"Grid\"},{\"attributes\":{\"coordinates\":null,\"data_source\":{\"id\":\"2657\"},\"glyph\":{\"id\":\"2659\"},\"group\":null,\"hover_glyph\":null,\"muted_glyph\":{\"id\":\"2661\"},\"name\":\"2017\",\"nonselection_glyph\":{\"id\":\"2660\"},\"view\":{\"id\":\"2663\"}},\"id\":\"2662\",\"type\":\"GlyphRenderer\"},{\"attributes\":{\"coordinates\":null,\"group\":null,\"items\":[{\"id\":\"2637\"},{\"id\":\"2656\"},{\"id\":\"2677\"}],\"location\":\"top_left\",\"orientation\":\"horizontal\"},\"id\":\"2636\",\"type\":\"Legend\"},{\"attributes\":{\"axis\":{\"id\":\"2603\"},\"coordinates\":null,\"dimension\":1,\"group\":null,\"ticker\":null},\"id\":\"2606\",\"type\":\"Grid\"},{\"attributes\":{\"bottom\":{\"expr\":{\"id\":\"2614\"}},\"fill_alpha\":{\"value\":0.1},\"fill_color\":{\"value\":\"#c9d9d3\"},\"hatch_alpha\":{\"value\":0.1},\"hatch_color\":{\"value\":\"#c9d9d3\"},\"line_alpha\":{\"value\":0.1},\"line_color\":{\"value\":\"#c9d9d3\"},\"top\":{\"expr\":{\"id\":\"2615\"}},\"width\":{\"value\":0.9},\"x\":{\"field\":\"fruits\"}},\"id\":\"2623\",\"type\":\"VBar\"},{\"attributes\":{},\"id\":\"2654\",\"type\":\"UnionRenderers\"},{\"attributes\":{\"bottom\":{\"expr\":{\"id\":\"2618\"}},\"fill_alpha\":{\"value\":0.2},\"fill_color\":{\"value\":\"#e84d60\"},\"hatch_alpha\":{\"value\":0.2},\"hatch_color\":{\"value\":\"#e84d60\"},\"line_alpha\":{\"value\":0.2},\"line_color\":{\"value\":\"#e84d60\"},\"top\":{\"expr\":{\"id\":\"2619\"}},\"width\":{\"value\":0.9},\"x\":{\"field\":\"fruits\"}},\"id\":\"2661\",\"type\":\"VBar\"},{\"attributes\":{\"source\":{\"id\":\"2657\"}},\"id\":\"2663\",\"type\":\"CDSView\"},{\"attributes\":{},\"id\":\"2634\",\"type\":\"UnionRenderers\"},{\"attributes\":{},\"id\":\"2604\",\"type\":\"BasicTicker\"},{\"attributes\":{\"source\":{\"id\":\"2620\"}},\"id\":\"2626\",\"type\":\"CDSView\"},{\"attributes\":{\"fields\":[\"2015\",\"2016\"]},\"id\":\"2617\",\"type\":\"Stack\"},{\"attributes\":{},\"id\":\"2609\",\"type\":\"PanTool\"},{\"attributes\":{},\"id\":\"2635\",\"type\":\"Selection\"},{\"attributes\":{},\"id\":\"2608\",\"type\":\"ResetTool\"},{\"attributes\":{\"coordinates\":null,\"data_source\":{\"id\":\"2620\"},\"glyph\":{\"id\":\"2622\"},\"group\":null,\"hover_glyph\":null,\"muted_glyph\":{\"id\":\"2624\"},\"name\":\"2015\",\"nonselection_glyph\":{\"id\":\"2623\"},\"view\":{\"id\":\"2626\"}},\"id\":\"2625\",\"type\":\"GlyphRenderer\"},{\"attributes\":{},\"id\":\"2607\",\"type\":\"SaveTool\"},{\"attributes\":{\"bottom\":{\"expr\":{\"id\":\"2614\"}},\"fill_alpha\":{\"value\":0.2},\"fill_color\":{\"value\":\"#c9d9d3\"},\"hatch_alpha\":{\"value\":0.2},\"hatch_color\":{\"value\":\"#c9d9d3\"},\"line_alpha\":{\"value\":0.2},\"line_color\":{\"value\":\"#c9d9d3\"},\"top\":{\"expr\":{\"id\":\"2615\"}},\"width\":{\"value\":0.9},\"x\":{\"field\":\"fruits\"}},\"id\":\"2624\",\"type\":\"VBar\"},{\"attributes\":{\"label\":{\"value\":\"2017\"},\"renderers\":[{\"id\":\"2662\"}]},\"id\":\"2677\",\"type\":\"LegendItem\"},{\"attributes\":{\"fields\":[\"2015\",\"2016\",\"2017\"]},\"id\":\"2619\",\"type\":\"Stack\"},{\"attributes\":{\"factors\":[\"Apples\",\"Pears\",\"Nectarines\",\"Plums\",\"Grapes\",\"Strawberries\"],\"range_padding\":0.1},\"id\":\"2592\",\"type\":\"FactorRange\"},{\"attributes\":{\"fields\":[\"2015\"]},\"id\":\"2616\",\"type\":\"Stack\"},{\"attributes\":{},\"id\":\"2596\",\"type\":\"CategoricalScale\"},{\"attributes\":{\"label\":{\"value\":\"2015\"},\"renderers\":[{\"id\":\"2625\"}]},\"id\":\"2637\",\"type\":\"LegendItem\"},{\"attributes\":{\"bottom\":{\"expr\":{\"id\":\"2616\"}},\"fill_alpha\":{\"value\":0.1},\"fill_color\":{\"value\":\"#718dbf\"},\"hatch_alpha\":{\"value\":0.1},\"hatch_color\":{\"value\":\"#718dbf\"},\"line_alpha\":{\"value\":0.1},\"line_color\":{\"value\":\"#718dbf\"},\"top\":{\"expr\":{\"id\":\"2617\"}},\"width\":{\"value\":0.9},\"x\":{\"field\":\"fruits\"}},\"id\":\"2641\",\"type\":\"VBar\"},{\"attributes\":{},\"id\":\"2601\",\"type\":\"CategoricalTicker\"},{\"attributes\":{},\"id\":\"2676\",\"type\":\"Selection\"},{\"attributes\":{\"data\":{\"2015\":[2,1,4,3,2,4],\"2016\":[5,3,4,2,4,6],\"2017\":[3,2,4,4,5,3],\"fruits\":[\"Apples\",\"Pears\",\"Nectarines\",\"Plums\",\"Grapes\",\"Strawberries\"]},\"selected\":{\"id\":\"2655\"},\"selection_policy\":{\"id\":\"2654\"}},\"id\":\"2638\",\"type\":\"ColumnDataSource\"},{\"attributes\":{\"label\":{\"value\":\"2016\"},\"renderers\":[{\"id\":\"2643\"}]},\"id\":\"2656\",\"type\":\"LegendItem\"},{\"attributes\":{\"data\":{\"2015\":[2,1,4,3,2,4],\"2016\":[5,3,4,2,4,6],\"2017\":[3,2,4,4,5,3],\"fruits\":[\"Apples\",\"Pears\",\"Nectarines\",\"Plums\",\"Grapes\",\"Strawberries\"]},\"selected\":{\"id\":\"2676\"},\"selection_policy\":{\"id\":\"2675\"}},\"id\":\"2657\",\"type\":\"ColumnDataSource\"},{\"attributes\":{\"bottom\":{\"expr\":{\"id\":\"2616\"}},\"fill_color\":{\"value\":\"#718dbf\"},\"hatch_color\":{\"value\":\"#718dbf\"},\"line_color\":{\"value\":\"#718dbf\"},\"top\":{\"expr\":{\"id\":\"2617\"}},\"width\":{\"value\":0.9},\"x\":{\"field\":\"fruits\"}},\"id\":\"2640\",\"type\":\"VBar\"},{\"attributes\":{},\"id\":\"2632\",\"type\":\"CategoricalTickFormatter\"},{\"attributes\":{\"coordinates\":null,\"data_source\":{\"id\":\"2638\"},\"glyph\":{\"id\":\"2640\"},\"group\":null,\"hover_glyph\":null,\"muted_glyph\":{\"id\":\"2642\"},\"name\":\"2016\",\"nonselection_glyph\":{\"id\":\"2641\"},\"view\":{\"id\":\"2644\"}},\"id\":\"2643\",\"type\":\"GlyphRenderer\"},{\"attributes\":{},\"id\":\"2633\",\"type\":\"AllLabels\"},{\"attributes\":{},\"id\":\"2675\",\"type\":\"UnionRenderers\"},{\"attributes\":{\"bottom\":{\"expr\":{\"id\":\"2616\"}},\"fill_alpha\":{\"value\":0.2},\"fill_color\":{\"value\":\"#718dbf\"},\"hatch_alpha\":{\"value\":0.2},\"hatch_color\":{\"value\":\"#718dbf\"},\"line_alpha\":{\"value\":0.2},\"line_color\":{\"value\":\"#718dbf\"},\"top\":{\"expr\":{\"id\":\"2617\"}},\"width\":{\"value\":0.9},\"x\":{\"field\":\"fruits\"}},\"id\":\"2642\",\"type\":\"VBar\"},{\"attributes\":{\"fields\":[\"2015\",\"2016\"]},\"id\":\"2618\",\"type\":\"Stack\"},{\"attributes\":{},\"id\":\"2629\",\"type\":\"BasicTickFormatter\"},{\"attributes\":{\"fields\":[]},\"id\":\"2614\",\"type\":\"Stack\"},{\"attributes\":{\"tools\":[{\"id\":\"2607\"},{\"id\":\"2608\"},{\"id\":\"2609\"}]},\"id\":\"2610\",\"type\":\"Toolbar\"},{\"attributes\":{\"fields\":[\"2015\"]},\"id\":\"2615\",\"type\":\"Stack\"},{\"attributes\":{},\"id\":\"2598\",\"type\":\"LinearScale\"},{\"attributes\":{},\"id\":\"2630\",\"type\":\"AllLabels\"},{\"attributes\":{\"data\":{\"2015\":[2,1,4,3,2,4],\"2016\":[5,3,4,2,4,6],\"2017\":[3,2,4,4,5,3],\"fruits\":[\"Apples\",\"Pears\",\"Nectarines\",\"Plums\",\"Grapes\",\"Strawberries\"]},\"selected\":{\"id\":\"2635\"},\"selection_policy\":{\"id\":\"2634\"}},\"id\":\"2620\",\"type\":\"ColumnDataSource\"},{\"attributes\":{\"start\":0},\"id\":\"2594\",\"type\":\"DataRange1d\"},{\"attributes\":{\"bottom\":{\"expr\":{\"id\":\"2614\"}},\"fill_color\":{\"value\":\"#c9d9d3\"},\"hatch_color\":{\"value\":\"#c9d9d3\"},\"line_color\":{\"value\":\"#c9d9d3\"},\"top\":{\"expr\":{\"id\":\"2615\"}},\"width\":{\"value\":0.9},\"x\":{\"field\":\"fruits\"}},\"id\":\"2622\",\"type\":\"VBar\"},{\"attributes\":{\"coordinates\":null,\"group\":null,\"text\":\"stacked bar\"},\"id\":\"2590\",\"type\":\"Title\"},{\"attributes\":{\"bottom\":{\"expr\":{\"id\":\"2618\"}},\"fill_alpha\":{\"value\":0.1},\"fill_color\":{\"value\":\"#e84d60\"},\"hatch_alpha\":{\"value\":0.1},\"hatch_color\":{\"value\":\"#e84d60\"},\"line_alpha\":{\"value\":0.1},\"line_color\":{\"value\":\"#e84d60\"},\"top\":{\"expr\":{\"id\":\"2619\"}},\"width\":{\"value\":0.9},\"x\":{\"field\":\"fruits\"}},\"id\":\"2660\",\"type\":\"VBar\"},{\"attributes\":{\"source\":{\"id\":\"2638\"}},\"id\":\"2644\",\"type\":\"CDSView\"}],\"root_ids\":[\"2589\"]},\"title\":\"Bokeh Application\",\"version\":\"2.4.2\"}};\n",
       "  const render_items = [{\"docid\":\"74f73bf3-b09b-43ab-ba02-2b31ec9ecc72\",\"root_ids\":[\"2589\"],\"roots\":{\"2589\":\"ff1887ac-2864-4e8b-a172-4d0171dea384\"}}];\n",
       "  root.Bokeh.embed.embed_items_notebook(docs_json, render_items);\n",
       "\n",
       "  }\n",
       "  if (root.Bokeh !== undefined) {\n",
       "    embed_document(root);\n",
       "  } else {\n",
       "    let attempts = 0;\n",
       "    const timer = setInterval(function(root) {\n",
       "      if (root.Bokeh !== undefined) {\n",
       "        clearInterval(timer);\n",
       "        embed_document(root);\n",
       "      } else {\n",
       "        attempts++;\n",
       "        if (attempts > 100) {\n",
       "          clearInterval(timer);\n",
       "          console.log(\"Bokeh: ERROR: Unable to run BokehJS code because BokehJS library is missing\");\n",
       "        }\n",
       "      }\n",
       "    }, 10, root)\n",
       "  }\n",
       "})(window);"
      ],
      "application/vnd.bokehjs_exec.v0+json": ""
     },
     "metadata": {
      "application/vnd.bokehjs_exec.v0+json": {
       "id": "2589"
      }
     },
     "output_type": "display_data"
    }
   ],
   "source": [
    "fruits = ['Apples', 'Pears', 'Nectarines', 'Plums', 'Grapes', 'Strawberries']\n",
    "years = [\"2015\", \"2016\", \"2017\"]\n",
    "colors = [\"#c9d9d3\", \"#718dbf\", \"#e84d60\"]\n",
    "\n",
    "data = {'fruits' : fruits,\n",
    "        '2015'   : [2, 1, 4, 3, 2, 4],\n",
    "        '2016'   : [5, 3, 4, 2, 4, 6],\n",
    "        '2017'   : [3, 2, 4, 4, 5, 3]}\n",
    "p = stacked_bar_figure(data, x_key='fruits', y_keys=['2015', '2016', '2017'])\n",
    "show(p)"
   ]
  },
  {
   "cell_type": "code",
   "execution_count": 31,
   "metadata": {},
   "outputs": [],
   "source": [
    "#export\n",
    "def stacked_area_figure(\n",
    "    df, stackers:list, title='stacked_area', tools=BOKEH_DEFAULT_TOOLS,\n",
    "    toolbar_location=BOKEH_DEFAULT_TOOLBAR_LOC,\n",
    "    y_axis_label=None, x_axis_label=None, **kwargs):\n",
    "    p = figure(x_range=(0, len(df)-1), title=title, tools=tools, toolbar_location=toolbar_location, **kwargs)\n",
    "    p.grid.minor_grid_line_color = '#eeeeee'\n",
    "    if df.index.name is None: df.index.name = '_index_col'\n",
    "\n",
    "    p.varea_stack(stackers=stackers, x=df.index.name, color=count2colors(len(stackers)), legend_label=stackers, source=df)\n",
    "\n",
    "    # reverse the legend entries to match the stacked order\n",
    "    p.legend.items.reverse()\n",
    "    p.yaxis.axis_label = y_axis_label\n",
    "    p.xaxis.axis_label = x_axis_label\n",
    "    return p"
   ]
  },
  {
   "cell_type": "code",
   "execution_count": 32,
   "metadata": {},
   "outputs": [
    {
     "data": {
      "text/html": [
       "<div>\n",
       "<style scoped>\n",
       "    .dataframe tbody tr th:only-of-type {\n",
       "        vertical-align: middle;\n",
       "    }\n",
       "\n",
       "    .dataframe tbody tr th {\n",
       "        vertical-align: top;\n",
       "    }\n",
       "\n",
       "    .dataframe thead th {\n",
       "        text-align: right;\n",
       "    }\n",
       "</style>\n",
       "<table border=\"1\" class=\"dataframe\">\n",
       "  <thead>\n",
       "    <tr style=\"text-align: right;\">\n",
       "      <th></th>\n",
       "      <th>y0</th>\n",
       "      <th>y1</th>\n",
       "      <th>y2</th>\n",
       "    </tr>\n",
       "  </thead>\n",
       "  <tbody>\n",
       "    <tr>\n",
       "      <th>0</th>\n",
       "      <td>97</td>\n",
       "      <td>88</td>\n",
       "      <td>73</td>\n",
       "    </tr>\n",
       "    <tr>\n",
       "      <th>1</th>\n",
       "      <td>43</td>\n",
       "      <td>92</td>\n",
       "      <td>62</td>\n",
       "    </tr>\n",
       "    <tr>\n",
       "      <th>2</th>\n",
       "      <td>73</td>\n",
       "      <td>79</td>\n",
       "      <td>59</td>\n",
       "    </tr>\n",
       "    <tr>\n",
       "      <th>3</th>\n",
       "      <td>61</td>\n",
       "      <td>72</td>\n",
       "      <td>44</td>\n",
       "    </tr>\n",
       "    <tr>\n",
       "      <th>4</th>\n",
       "      <td>46</td>\n",
       "      <td>96</td>\n",
       "      <td>36</td>\n",
       "    </tr>\n",
       "  </tbody>\n",
       "</table>\n",
       "</div>"
      ],
      "text/plain": [
       "   y0  y1  y2\n",
       "0  97  88  73\n",
       "1  43  92  62\n",
       "2  73  79  59\n",
       "3  61  72  44\n",
       "4  46  96  36"
      ]
     },
     "execution_count": 32,
     "metadata": {},
     "output_type": "execute_result"
    }
   ],
   "source": [
    "df = pd.DataFrame(np.random.randint(10, 100, size=(15, 3))).add_prefix('y')\n",
    "df.head()"
   ]
  },
  {
   "cell_type": "code",
   "execution_count": 33,
   "metadata": {},
   "outputs": [
    {
     "data": {
      "text/html": [
       "\n",
       "\n",
       "\n",
       "\n",
       "\n",
       "\n",
       "  <div class=\"bk-root\" id=\"a94c7814-2186-4065-b150-aa25ecb9d8b3\" data-root-id=\"2882\"></div>\n"
      ]
     },
     "metadata": {},
     "output_type": "display_data"
    },
    {
     "data": {
      "application/javascript": [
       "(function(root) {\n",
       "  function embed_document(root) {\n",
       "    \n",
       "  const docs_json = {\"ad3f9cb8-8460-4bbe-9cb5-fee3d89b6bc4\":{\"defs\":[],\"roots\":{\"references\":[{\"attributes\":{\"below\":[{\"id\":\"2893\"}],\"center\":[{\"id\":\"2896\"},{\"id\":\"2900\"},{\"id\":\"2930\"}],\"left\":[{\"id\":\"2897\"}],\"renderers\":[{\"id\":\"2919\"},{\"id\":\"2937\"},{\"id\":\"2956\"}],\"title\":{\"id\":\"2883\"},\"toolbar\":{\"id\":\"2904\"},\"toolbar_location\":\"above\",\"x_range\":{\"id\":\"2885\"},\"x_scale\":{\"id\":\"2889\"},\"y_range\":{\"id\":\"2887\"},\"y_scale\":{\"id\":\"2891\"}},\"id\":\"2882\",\"subtype\":\"Figure\",\"type\":\"Plot\"},{\"attributes\":{\"coordinates\":null,\"group\":null,\"text\":\"stacked_area\"},\"id\":\"2883\",\"type\":\"Title\"},{\"attributes\":{\"axis\":{\"id\":\"2897\"},\"coordinates\":null,\"dimension\":1,\"group\":null,\"minor_grid_line_color\":\"#eeeeee\",\"ticker\":null},\"id\":\"2900\",\"type\":\"Grid\"},{\"attributes\":{},\"id\":\"2894\",\"type\":\"BasicTicker\"},{\"attributes\":{},\"id\":\"2927\",\"type\":\"AllLabels\"},{\"attributes\":{\"coordinates\":null,\"data_source\":{\"id\":\"2914\"},\"glyph\":{\"id\":\"2916\"},\"group\":null,\"hover_glyph\":null,\"muted_glyph\":{\"id\":\"2918\"},\"name\":\"y0\",\"nonselection_glyph\":{\"id\":\"2917\"},\"view\":{\"id\":\"2920\"}},\"id\":\"2919\",\"type\":\"GlyphRenderer\"},{\"attributes\":{},\"id\":\"2889\",\"type\":\"LinearScale\"},{\"attributes\":{\"source\":{\"id\":\"2932\"}},\"id\":\"2938\",\"type\":\"CDSView\"},{\"attributes\":{},\"id\":\"2928\",\"type\":\"UnionRenderers\"},{\"attributes\":{\"end\":14},\"id\":\"2885\",\"type\":\"Range1d\"},{\"attributes\":{\"data\":{\"_index_col\":[0,1,2,3,4,5,6,7,8,9,10,11,12,13,14],\"y0\":[97,43,73,61,46,72,19,86,41,60,63,55,15,17,42],\"y1\":[88,92,79,72,96,33,68,75,17,21,43,96,64,53,91],\"y2\":[73,62,59,44,36,16,43,50,18,49,18,24,28,69,90]},\"selected\":{\"id\":\"2949\"},\"selection_policy\":{\"id\":\"2948\"}},\"id\":\"2932\",\"type\":\"ColumnDataSource\"},{\"attributes\":{\"fill_color\":\"#66c2a5\",\"hatch_color\":{\"value\":\"#66c2a5\"},\"x\":{\"field\":\"_index_col\"},\"y1\":{\"expr\":{\"id\":\"2908\"}},\"y2\":{\"expr\":{\"id\":\"2909\"}}},\"id\":\"2916\",\"type\":\"VArea\"},{\"attributes\":{},\"id\":\"2924\",\"type\":\"AllLabels\"},{\"attributes\":{\"fields\":[\"y0\"]},\"id\":\"2910\",\"type\":\"Stack\"},{\"attributes\":{\"fill_alpha\":0.1,\"fill_color\":\"#fc8d62\",\"hatch_alpha\":{\"value\":0.1},\"hatch_color\":{\"value\":\"#fc8d62\"},\"x\":{\"field\":\"_index_col\"},\"y1\":{\"expr\":{\"id\":\"2910\"}},\"y2\":{\"expr\":{\"id\":\"2911\"}}},\"id\":\"2935\",\"type\":\"VArea\"},{\"attributes\":{},\"id\":\"2923\",\"type\":\"BasicTickFormatter\"},{\"attributes\":{\"fill_color\":\"#fc8d62\",\"hatch_color\":{\"value\":\"#fc8d62\"},\"x\":{\"field\":\"_index_col\"},\"y1\":{\"expr\":{\"id\":\"2910\"}},\"y2\":{\"expr\":{\"id\":\"2911\"}}},\"id\":\"2934\",\"type\":\"VArea\"},{\"attributes\":{},\"id\":\"2949\",\"type\":\"Selection\"},{\"attributes\":{\"fields\":[]},\"id\":\"2908\",\"type\":\"Stack\"},{\"attributes\":{\"source\":{\"id\":\"2914\"}},\"id\":\"2920\",\"type\":\"CDSView\"},{\"attributes\":{\"data\":{\"_index_col\":[0,1,2,3,4,5,6,7,8,9,10,11,12,13,14],\"y0\":[97,43,73,61,46,72,19,86,41,60,63,55,15,17,42],\"y1\":[88,92,79,72,96,33,68,75,17,21,43,96,64,53,91],\"y2\":[73,62,59,44,36,16,43,50,18,49,18,24,28,69,90]},\"selected\":{\"id\":\"2929\"},\"selection_policy\":{\"id\":\"2928\"}},\"id\":\"2914\",\"type\":\"ColumnDataSource\"},{\"attributes\":{\"coordinates\":null,\"formatter\":{\"id\":\"2923\"},\"group\":null,\"major_label_policy\":{\"id\":\"2924\"},\"ticker\":{\"id\":\"2898\"}},\"id\":\"2897\",\"type\":\"LinearAxis\"},{\"attributes\":{\"coordinates\":null,\"data_source\":{\"id\":\"2932\"},\"glyph\":{\"id\":\"2934\"},\"group\":null,\"hover_glyph\":null,\"muted_glyph\":{\"id\":\"2936\"},\"name\":\"y1\",\"nonselection_glyph\":{\"id\":\"2935\"},\"view\":{\"id\":\"2938\"}},\"id\":\"2937\",\"type\":\"GlyphRenderer\"},{\"attributes\":{},\"id\":\"2969\",\"type\":\"UnionRenderers\"},{\"attributes\":{\"fill_alpha\":0.1,\"fill_color\":\"#66c2a5\",\"hatch_alpha\":{\"value\":0.1},\"hatch_color\":{\"value\":\"#66c2a5\"},\"x\":{\"field\":\"_index_col\"},\"y1\":{\"expr\":{\"id\":\"2908\"}},\"y2\":{\"expr\":{\"id\":\"2909\"}}},\"id\":\"2917\",\"type\":\"VArea\"},{\"attributes\":{\"data\":{\"_index_col\":[0,1,2,3,4,5,6,7,8,9,10,11,12,13,14],\"y0\":[97,43,73,61,46,72,19,86,41,60,63,55,15,17,42],\"y1\":[88,92,79,72,96,33,68,75,17,21,43,96,64,53,91],\"y2\":[73,62,59,44,36,16,43,50,18,49,18,24,28,69,90]},\"selected\":{\"id\":\"2970\"},\"selection_policy\":{\"id\":\"2969\"}},\"id\":\"2951\",\"type\":\"ColumnDataSource\"},{\"attributes\":{},\"id\":\"2970\",\"type\":\"Selection\"},{\"attributes\":{\"coordinates\":null,\"formatter\":{\"id\":\"2926\"},\"group\":null,\"major_label_policy\":{\"id\":\"2927\"},\"ticker\":{\"id\":\"2894\"}},\"id\":\"2893\",\"type\":\"LinearAxis\"},{\"attributes\":{\"fill_alpha\":0.2,\"fill_color\":\"#fc8d62\",\"hatch_alpha\":{\"value\":0.2},\"hatch_color\":{\"value\":\"#fc8d62\"},\"x\":{\"field\":\"_index_col\"},\"y1\":{\"expr\":{\"id\":\"2910\"}},\"y2\":{\"expr\":{\"id\":\"2911\"}}},\"id\":\"2936\",\"type\":\"VArea\"},{\"attributes\":{\"fields\":[\"y0\",\"y1\",\"y2\"]},\"id\":\"2913\",\"type\":\"Stack\"},{\"attributes\":{\"axis\":{\"id\":\"2893\"},\"coordinates\":null,\"group\":null,\"minor_grid_line_color\":\"#eeeeee\",\"ticker\":null},\"id\":\"2896\",\"type\":\"Grid\"},{\"attributes\":{\"fields\":[\"y0\",\"y1\"]},\"id\":\"2912\",\"type\":\"Stack\"},{\"attributes\":{},\"id\":\"2887\",\"type\":\"DataRange1d\"},{\"attributes\":{\"label\":{\"value\":\"y1\"},\"renderers\":[{\"id\":\"2937\"}]},\"id\":\"2950\",\"type\":\"LegendItem\"},{\"attributes\":{},\"id\":\"2898\",\"type\":\"BasicTicker\"},{\"attributes\":{},\"id\":\"2891\",\"type\":\"LinearScale\"},{\"attributes\":{\"source\":{\"id\":\"2951\"}},\"id\":\"2957\",\"type\":\"CDSView\"},{\"attributes\":{},\"id\":\"2929\",\"type\":\"Selection\"},{\"attributes\":{\"fill_alpha\":0.1,\"fill_color\":\"#8da0cb\",\"hatch_alpha\":{\"value\":0.1},\"hatch_color\":{\"value\":\"#8da0cb\"},\"x\":{\"field\":\"_index_col\"},\"y1\":{\"expr\":{\"id\":\"2912\"}},\"y2\":{\"expr\":{\"id\":\"2913\"}}},\"id\":\"2954\",\"type\":\"VArea\"},{\"attributes\":{\"fill_color\":\"#8da0cb\",\"hatch_color\":{\"value\":\"#8da0cb\"},\"x\":{\"field\":\"_index_col\"},\"y1\":{\"expr\":{\"id\":\"2912\"}},\"y2\":{\"expr\":{\"id\":\"2913\"}}},\"id\":\"2953\",\"type\":\"VArea\"},{\"attributes\":{\"label\":{\"value\":\"y0\"},\"renderers\":[{\"id\":\"2919\"}]},\"id\":\"2931\",\"type\":\"LegendItem\"},{\"attributes\":{\"fields\":[\"y0\",\"y1\"]},\"id\":\"2911\",\"type\":\"Stack\"},{\"attributes\":{\"tools\":[{\"id\":\"2901\"},{\"id\":\"2902\"},{\"id\":\"2903\"}]},\"id\":\"2904\",\"type\":\"Toolbar\"},{\"attributes\":{},\"id\":\"2948\",\"type\":\"UnionRenderers\"},{\"attributes\":{\"coordinates\":null,\"group\":null,\"items\":[{\"id\":\"2971\"},{\"id\":\"2950\"},{\"id\":\"2931\"}]},\"id\":\"2930\",\"type\":\"Legend\"},{\"attributes\":{},\"id\":\"2926\",\"type\":\"BasicTickFormatter\"},{\"attributes\":{\"coordinates\":null,\"data_source\":{\"id\":\"2951\"},\"glyph\":{\"id\":\"2953\"},\"group\":null,\"hover_glyph\":null,\"muted_glyph\":{\"id\":\"2955\"},\"name\":\"y2\",\"nonselection_glyph\":{\"id\":\"2954\"},\"view\":{\"id\":\"2957\"}},\"id\":\"2956\",\"type\":\"GlyphRenderer\"},{\"attributes\":{\"fields\":[\"y0\"]},\"id\":\"2909\",\"type\":\"Stack\"},{\"attributes\":{},\"id\":\"2903\",\"type\":\"PanTool\"},{\"attributes\":{\"fill_alpha\":0.2,\"fill_color\":\"#66c2a5\",\"hatch_alpha\":{\"value\":0.2},\"hatch_color\":{\"value\":\"#66c2a5\"},\"x\":{\"field\":\"_index_col\"},\"y1\":{\"expr\":{\"id\":\"2908\"}},\"y2\":{\"expr\":{\"id\":\"2909\"}}},\"id\":\"2918\",\"type\":\"VArea\"},{\"attributes\":{\"fill_alpha\":0.2,\"fill_color\":\"#8da0cb\",\"hatch_alpha\":{\"value\":0.2},\"hatch_color\":{\"value\":\"#8da0cb\"},\"x\":{\"field\":\"_index_col\"},\"y1\":{\"expr\":{\"id\":\"2912\"}},\"y2\":{\"expr\":{\"id\":\"2913\"}}},\"id\":\"2955\",\"type\":\"VArea\"},{\"attributes\":{},\"id\":\"2902\",\"type\":\"ResetTool\"},{\"attributes\":{},\"id\":\"2901\",\"type\":\"SaveTool\"},{\"attributes\":{\"label\":{\"value\":\"y2\"},\"renderers\":[{\"id\":\"2956\"}]},\"id\":\"2971\",\"type\":\"LegendItem\"}],\"root_ids\":[\"2882\"]},\"title\":\"Bokeh Application\",\"version\":\"2.4.2\"}};\n",
       "  const render_items = [{\"docid\":\"ad3f9cb8-8460-4bbe-9cb5-fee3d89b6bc4\",\"root_ids\":[\"2882\"],\"roots\":{\"2882\":\"a94c7814-2186-4065-b150-aa25ecb9d8b3\"}}];\n",
       "  root.Bokeh.embed.embed_items_notebook(docs_json, render_items);\n",
       "\n",
       "  }\n",
       "  if (root.Bokeh !== undefined) {\n",
       "    embed_document(root);\n",
       "  } else {\n",
       "    let attempts = 0;\n",
       "    const timer = setInterval(function(root) {\n",
       "      if (root.Bokeh !== undefined) {\n",
       "        clearInterval(timer);\n",
       "        embed_document(root);\n",
       "      } else {\n",
       "        attempts++;\n",
       "        if (attempts > 100) {\n",
       "          clearInterval(timer);\n",
       "          console.log(\"Bokeh: ERROR: Unable to run BokehJS code because BokehJS library is missing\");\n",
       "        }\n",
       "      }\n",
       "    }, 10, root)\n",
       "  }\n",
       "})(window);"
      ],
      "application/vnd.bokehjs_exec.v0+json": ""
     },
     "metadata": {
      "application/vnd.bokehjs_exec.v0+json": {
       "id": "2882"
      }
     },
     "output_type": "display_data"
    }
   ],
   "source": [
    "p = stacked_area_figure(df, stackers=['y0', 'y1', 'y2'])\n",
    "show(p)"
   ]
  },
  {
   "cell_type": "code",
   "execution_count": 34,
   "metadata": {},
   "outputs": [],
   "source": [
    "#export\n",
    "def pie_figure(data, title='pie', tools=BOKEH_DEFAULT_TOOLS, toolbar_location=BOKEH_DEFAULT_TOOLBAR_LOC,\n",
    "                min_pct=0.01, others_name='OTHERS', legend_orientation=\"horizontal\", legend_location=\"top_center\",\n",
    "                radius=0.8, pct_text_pad=100, **kwargs):\n",
    "    x = list(data.keys())\n",
    "    y = list(data.values())\n",
    "    df = pd.Series(data).reset_index(name='y').rename(columns={'index':'x'})\n",
    "    df[\"percentage\"] = df[\"y\"] / df[\"y\"].sum()\n",
    "    if isinstance(min_pct, float) and 0<min_pct<1 and len(df[df[\"percentage\"] < min_pct]) > 0:\n",
    "        others_y = df[df[\"percentage\"] < min_pct]['y'].sum()\n",
    "        others_pct = df[df[\"percentage\"] < min_pct]['percentage'].sum()\n",
    "        df = df[df[\"percentage\"] >= min_pct]\n",
    "        df = df.append({'x': others_name, 'y': others_y, 'percentage': others_pct}, ignore_index=True)\n",
    "    df['percentage'] = df['percentage'].astype(float).map(lambda n: '{:.1%}'.format(n))\n",
    "    df[\"percentage\"] = df['percentage'].astype(str)\n",
    "    df[\"percentage\"] = df[\"percentage\"].str.pad(pct_text_pad, side=\"left\")\n",
    "    df['angle'] = df['y']/df['y'].sum() * 2 * math.pi\n",
    "    df['color'] = count2colors(len(df))\n",
    "    tooltips = [(\"category\", \"@x\"), (\"count\", \"@y\"), (\"percentage\", \"@percentage\")\n",
    "\n",
    "]\n",
    "    p = figure(title=title, tools=tools, tooltips=tooltips, toolbar_location=toolbar_location, **kwargs)\n",
    "\n",
    "    p.wedge(x=0, y=1, radius=radius,\n",
    "        start_angle=cumsum('angle', include_zero=True), end_angle=cumsum('angle'),\n",
    "        line_color=\"white\", fill_color='color', legend_field='x', source=df)\n",
    "    # labels = LabelSet(x=\"cos\", y=\"sin\", y_offset=0, text='percentage', text_align=\"center\", angle=0, source=ColumnDataSource(df), render_mode='canvas')\n",
    "    labels = LabelSet(x=0, y=1, y_offset=0, text='percentage', text_align=\"center\", angle=cumsum('angle', include_zero=True), source=ColumnDataSource(df), render_mode='canvas')\n",
    "    p.add_layout(labels)\n",
    "\n",
    "    p.axis.axis_label=None\n",
    "    p.axis.visible=False\n",
    "    p.grid.grid_line_color = None\n",
    "    p.legend.orientation = legend_orientation\n",
    "    p.legend.location = legend_location\n",
    "    return p"
   ]
  },
  {
   "cell_type": "code",
   "execution_count": 35,
   "metadata": {},
   "outputs": [
    {
     "data": {
      "text/html": [
       "\n",
       "\n",
       "\n",
       "\n",
       "\n",
       "\n",
       "  <div class=\"bk-root\" id=\"626b0040-0b23-4203-a533-eef2577b2867\" data-root-id=\"3189\"></div>\n"
      ]
     },
     "metadata": {},
     "output_type": "display_data"
    },
    {
     "data": {
      "application/javascript": [
       "(function(root) {\n",
       "  function embed_document(root) {\n",
       "    \n",
       "  const docs_json = {\"a3944ce9-1f50-4c85-bea5-e050e1c5a91c\":{\"defs\":[],\"roots\":{\"references\":[{\"attributes\":{\"below\":[{\"id\":\"3200\"}],\"center\":[{\"id\":\"3203\"},{\"id\":\"3207\"},{\"id\":\"3235\"},{\"id\":\"3239\"}],\"left\":[{\"id\":\"3204\"}],\"renderers\":[{\"id\":\"3224\"}],\"title\":{\"id\":\"3190\"},\"toolbar\":{\"id\":\"3212\"},\"toolbar_location\":\"above\",\"x_range\":{\"id\":\"3192\"},\"x_scale\":{\"id\":\"3196\"},\"y_range\":{\"id\":\"3194\"},\"y_scale\":{\"id\":\"3198\"}},\"id\":\"3189\",\"subtype\":\"Figure\",\"type\":\"Plot\"},{\"attributes\":{},\"id\":\"3196\",\"type\":\"LinearScale\"},{\"attributes\":{\"angle\":{\"expr\":{\"id\":\"3237\"}},\"coordinates\":null,\"group\":null,\"source\":{\"id\":\"3238\"},\"text\":{\"field\":\"percentage\"},\"text_align\":{\"value\":\"center\"},\"x\":{\"value\":0},\"y\":{\"value\":1}},\"id\":\"3239\",\"type\":\"LabelSet\"},{\"attributes\":{\"coordinates\":null,\"formatter\":{\"id\":\"3228\"},\"group\":null,\"major_label_policy\":{\"id\":\"3229\"},\"ticker\":{\"id\":\"3205\"},\"visible\":false},\"id\":\"3204\",\"type\":\"LinearAxis\"},{\"attributes\":{\"data\":{\"angle\":{\"__ndarray__\":\"eQLEMwAC9z+3V8R09kHrP+QcmNXVFeo/hZ74ygF34j8vDs2tzcrZP1vToA6tntg/iJh0b4xy1z93BYbhOoTUPzmtw/IJwtI/0I8to/kr0j/Qjy2j+SvSP/xUAQTZ/9A/\",\"dtype\":\"float64\",\"order\":\"little\",\"shape\":[12]},\"color\":[\"#1f77b4\",\"#aec7e8\",\"#ff7f0e\",\"#ffbb78\",\"#2ca02c\",\"#98df8a\",\"#d62728\",\"#ff9896\",\"#9467bd\",\"#c5b0d5\",\"#8c564b\",\"#c49c94\"],\"index\":[0,1,2,3,4,5,6,7,8,9,10,11],\"percentage\":[\"                                                                                               22.9%\",\"                                                                                               13.6%\",\"                                                                                               13.0%\",\"                                                                                                9.2%\",\"                                                                                                6.4%\",\"                                                                                                6.1%\",\"                                                                                                5.8%\",\"                                                                                                5.1%\",\"                                                                                                4.7%\",\"                                                                                                4.5%\",\"                                                                                                4.5%\",\"                                                                                                4.2%\"],\"x\":[\"United States\",\"United Kingdom\",\"Japan\",\"China\",\"Germany\",\"India\",\"Italy\",\"Australia\",\"Brazil\",\"France\",\"Taiwan\",\"Spain\"],\"y\":[157,93,89,63,44,42,40,35,32,31,31,29]},\"selected\":{\"id\":\"3234\"},\"selection_policy\":{\"id\":\"3233\"}},\"id\":\"3219\",\"type\":\"ColumnDataSource\"},{\"attributes\":{},\"id\":\"3228\",\"type\":\"BasicTickFormatter\"},{\"attributes\":{\"end_angle\":{\"expr\":{\"id\":\"3218\"}},\"fill_alpha\":{\"value\":0.1},\"fill_color\":{\"field\":\"color\"},\"hatch_alpha\":{\"value\":0.1},\"line_alpha\":{\"value\":0.1},\"line_color\":{\"value\":\"white\"},\"radius\":{\"value\":0.8},\"start_angle\":{\"expr\":{\"id\":\"3217\"}},\"x\":{\"value\":0},\"y\":{\"value\":1}},\"id\":\"3222\",\"type\":\"Wedge\"},{\"attributes\":{\"coordinates\":null,\"group\":null,\"text\":\"pie\"},\"id\":\"3190\",\"type\":\"Title\"},{\"attributes\":{},\"id\":\"3229\",\"type\":\"AllLabels\"},{\"attributes\":{\"coordinates\":null,\"formatter\":{\"id\":\"3231\"},\"group\":null,\"major_label_policy\":{\"id\":\"3232\"},\"ticker\":{\"id\":\"3201\"},\"visible\":false},\"id\":\"3200\",\"type\":\"LinearAxis\"},{\"attributes\":{},\"id\":\"3231\",\"type\":\"BasicTickFormatter\"},{\"attributes\":{},\"id\":\"3402\",\"type\":\"UnionRenderers\"},{\"attributes\":{},\"id\":\"3201\",\"type\":\"BasicTicker\"},{\"attributes\":{\"axis\":{\"id\":\"3200\"},\"coordinates\":null,\"grid_line_color\":null,\"group\":null,\"ticker\":null},\"id\":\"3203\",\"type\":\"Grid\"},{\"attributes\":{},\"id\":\"3403\",\"type\":\"Selection\"},{\"attributes\":{},\"id\":\"3198\",\"type\":\"LinearScale\"},{\"attributes\":{},\"id\":\"3232\",\"type\":\"AllLabels\"},{\"attributes\":{},\"id\":\"3194\",\"type\":\"DataRange1d\"},{\"attributes\":{\"coordinates\":null,\"group\":null,\"items\":[{\"id\":\"3236\"}],\"location\":\"top_center\",\"orientation\":\"horizontal\"},\"id\":\"3235\",\"type\":\"Legend\"},{\"attributes\":{\"label\":{\"field\":\"x\"},\"renderers\":[{\"id\":\"3224\"}]},\"id\":\"3236\",\"type\":\"LegendItem\"},{\"attributes\":{\"axis\":{\"id\":\"3204\"},\"coordinates\":null,\"dimension\":1,\"grid_line_color\":null,\"group\":null,\"ticker\":null},\"id\":\"3207\",\"type\":\"Grid\"},{\"attributes\":{},\"id\":\"3205\",\"type\":\"BasicTicker\"},{\"attributes\":{\"source\":{\"id\":\"3219\"}},\"id\":\"3225\",\"type\":\"CDSView\"},{\"attributes\":{\"callback\":null,\"tooltips\":[[\"category\",\"@x\"],[\"count\",\"@y\"],[\"percentage\",\"@percentage\"]]},\"id\":\"3211\",\"type\":\"HoverTool\"},{\"attributes\":{},\"id\":\"3210\",\"type\":\"PanTool\"},{\"attributes\":{},\"id\":\"3209\",\"type\":\"ResetTool\"},{\"attributes\":{},\"id\":\"3233\",\"type\":\"UnionRenderers\"},{\"attributes\":{},\"id\":\"3208\",\"type\":\"SaveTool\"},{\"attributes\":{},\"id\":\"3234\",\"type\":\"Selection\"},{\"attributes\":{\"coordinates\":null,\"data_source\":{\"id\":\"3219\"},\"glyph\":{\"id\":\"3221\"},\"group\":null,\"hover_glyph\":null,\"muted_glyph\":{\"id\":\"3223\"},\"nonselection_glyph\":{\"id\":\"3222\"},\"view\":{\"id\":\"3225\"}},\"id\":\"3224\",\"type\":\"GlyphRenderer\"},{\"attributes\":{},\"id\":\"3192\",\"type\":\"DataRange1d\"},{\"attributes\":{\"end_angle\":{\"expr\":{\"id\":\"3218\"}},\"fill_alpha\":{\"value\":0.2},\"fill_color\":{\"field\":\"color\"},\"hatch_alpha\":{\"value\":0.2},\"line_alpha\":{\"value\":0.2},\"line_color\":{\"value\":\"white\"},\"radius\":{\"value\":0.8},\"start_angle\":{\"expr\":{\"id\":\"3217\"}},\"x\":{\"value\":0},\"y\":{\"value\":1}},\"id\":\"3223\",\"type\":\"Wedge\"},{\"attributes\":{\"tools\":[{\"id\":\"3208\"},{\"id\":\"3209\"},{\"id\":\"3210\"},{\"id\":\"3211\"}]},\"id\":\"3212\",\"type\":\"Toolbar\"},{\"attributes\":{\"field\":\"angle\",\"include_zero\":true},\"id\":\"3217\",\"type\":\"CumSum\"},{\"attributes\":{\"field\":\"angle\"},\"id\":\"3218\",\"type\":\"CumSum\"},{\"attributes\":{\"field\":\"angle\",\"include_zero\":true},\"id\":\"3237\",\"type\":\"CumSum\"},{\"attributes\":{\"end_angle\":{\"expr\":{\"id\":\"3218\"}},\"fill_color\":{\"field\":\"color\"},\"line_color\":{\"value\":\"white\"},\"radius\":{\"value\":0.8},\"start_angle\":{\"expr\":{\"id\":\"3217\"}},\"x\":{\"value\":0},\"y\":{\"value\":1}},\"id\":\"3221\",\"type\":\"Wedge\"},{\"attributes\":{\"data\":{\"angle\":{\"__ndarray__\":\"eQLEMwAC9z+3V8R09kHrP+QcmNXVFeo/hZ74ygF34j8vDs2tzcrZP1vToA6tntg/iJh0b4xy1z93BYbhOoTUPzmtw/IJwtI/0I8to/kr0j/Qjy2j+SvSP/xUAQTZ/9A/\",\"dtype\":\"float64\",\"order\":\"little\",\"shape\":[12]},\"color\":[\"#1f77b4\",\"#aec7e8\",\"#ff7f0e\",\"#ffbb78\",\"#2ca02c\",\"#98df8a\",\"#d62728\",\"#ff9896\",\"#9467bd\",\"#c5b0d5\",\"#8c564b\",\"#c49c94\"],\"index\":[0,1,2,3,4,5,6,7,8,9,10,11],\"percentage\":[\"                                                                                               22.9%\",\"                                                                                               13.6%\",\"                                                                                               13.0%\",\"                                                                                                9.2%\",\"                                                                                                6.4%\",\"                                                                                                6.1%\",\"                                                                                                5.8%\",\"                                                                                                5.1%\",\"                                                                                                4.7%\",\"                                                                                                4.5%\",\"                                                                                                4.5%\",\"                                                                                                4.2%\"],\"x\":[\"United States\",\"United Kingdom\",\"Japan\",\"China\",\"Germany\",\"India\",\"Italy\",\"Australia\",\"Brazil\",\"France\",\"Taiwan\",\"Spain\"],\"y\":[157,93,89,63,44,42,40,35,32,31,31,29]},\"selected\":{\"id\":\"3403\"},\"selection_policy\":{\"id\":\"3402\"}},\"id\":\"3238\",\"type\":\"ColumnDataSource\"}],\"root_ids\":[\"3189\"]},\"title\":\"Bokeh Application\",\"version\":\"2.4.2\"}};\n",
       "  const render_items = [{\"docid\":\"a3944ce9-1f50-4c85-bea5-e050e1c5a91c\",\"root_ids\":[\"3189\"],\"roots\":{\"3189\":\"626b0040-0b23-4203-a533-eef2577b2867\"}}];\n",
       "  root.Bokeh.embed.embed_items_notebook(docs_json, render_items);\n",
       "\n",
       "  }\n",
       "  if (root.Bokeh !== undefined) {\n",
       "    embed_document(root);\n",
       "  } else {\n",
       "    let attempts = 0;\n",
       "    const timer = setInterval(function(root) {\n",
       "      if (root.Bokeh !== undefined) {\n",
       "        clearInterval(timer);\n",
       "        embed_document(root);\n",
       "      } else {\n",
       "        attempts++;\n",
       "        if (attempts > 100) {\n",
       "          clearInterval(timer);\n",
       "          console.log(\"Bokeh: ERROR: Unable to run BokehJS code because BokehJS library is missing\");\n",
       "        }\n",
       "      }\n",
       "    }, 10, root)\n",
       "  }\n",
       "})(window);"
      ],
      "application/vnd.bokehjs_exec.v0+json": ""
     },
     "metadata": {
      "application/vnd.bokehjs_exec.v0+json": {
       "id": "3189"
      }
     },
     "output_type": "display_data"
    }
   ],
   "source": [
    "x = {\n",
    "    'United States': 157,\n",
    "    'United Kingdom': 93,\n",
    "    'Japan': 89,\n",
    "    'China': 63,\n",
    "    'Germany': 44,\n",
    "    'India': 42,\n",
    "    'Italy': 40,\n",
    "    'Australia': 35,\n",
    "    'Brazil': 32,\n",
    "    'France': 31,\n",
    "    'Taiwan': 31,\n",
    "    'Spain': 29\n",
    "}\n",
    "p = pie_figure(x)\n",
    "show(p)"
   ]
  },
  {
   "cell_type": "code",
   "execution_count": 36,
   "metadata": {},
   "outputs": [],
   "source": [
    "#export\n",
    "def datatable_from_dataframe(df, **kwargs):\n",
    "    df = df.fillna('nan')\n",
    "    columns = [TableColumn(field=o, title=o) for o in df.columns]\n",
    "    data_table = DataTable(columns=columns, source=ColumnDataSource(df), **kwargs)\n",
    "    return data_table\n"
   ]
  },
  {
   "cell_type": "code",
   "execution_count": 37,
   "metadata": {},
   "outputs": [
    {
     "data": {
      "text/html": [
       "\n",
       "\n",
       "\n",
       "\n",
       "\n",
       "\n",
       "  <div class=\"bk-root\" id=\"bc8b9a1a-7c25-4880-abce-2a2568b6bb11\" data-root-id=\"3463\"></div>\n"
      ]
     },
     "metadata": {},
     "output_type": "display_data"
    },
    {
     "data": {
      "application/javascript": [
       "(function(root) {\n",
       "  function embed_document(root) {\n",
       "    \n",
       "  const docs_json = {\"ad6c8a9f-e408-4d6d-947f-2d5f1f46965a\":{\"defs\":[],\"roots\":{\"references\":[{\"attributes\":{\"columns\":[{\"id\":\"3459\"},{\"id\":\"3460\"},{\"id\":\"3461\"}],\"source\":{\"id\":\"3462\"},\"view\":{\"id\":\"3465\"}},\"id\":\"3463\",\"type\":\"DataTable\"},{\"attributes\":{\"editor\":{\"id\":\"3632\"},\"field\":\"y1\",\"formatter\":{\"id\":\"3631\"},\"title\":\"y1\"},\"id\":\"3460\",\"type\":\"TableColumn\"},{\"attributes\":{},\"id\":\"3630\",\"type\":\"StringEditor\"},{\"attributes\":{},\"id\":\"3631\",\"type\":\"StringFormatter\"},{\"attributes\":{\"editor\":{\"id\":\"3634\"},\"field\":\"y2\",\"formatter\":{\"id\":\"3633\"},\"title\":\"y2\"},\"id\":\"3461\",\"type\":\"TableColumn\"},{\"attributes\":{},\"id\":\"3633\",\"type\":\"StringFormatter\"},{\"attributes\":{},\"id\":\"3634\",\"type\":\"StringEditor\"},{\"attributes\":{},\"id\":\"3632\",\"type\":\"StringEditor\"},{\"attributes\":{\"source\":{\"id\":\"3462\"}},\"id\":\"3465\",\"type\":\"CDSView\"},{\"attributes\":{\"editor\":{\"id\":\"3630\"},\"field\":\"y0\",\"formatter\":{\"id\":\"3629\"},\"title\":\"y0\"},\"id\":\"3459\",\"type\":\"TableColumn\"},{\"attributes\":{},\"id\":\"3635\",\"type\":\"UnionRenderers\"},{\"attributes\":{},\"id\":\"3636\",\"type\":\"Selection\"},{\"attributes\":{\"data\":{\"_index_col\":[0,1,2,3,4,5,6,7,8,9,10,11,12,13,14],\"y0\":[97,43,73,61,46,72,19,86,41,60,63,55,15,17,42],\"y1\":[88,92,79,72,96,33,68,75,17,21,43,96,64,53,91],\"y2\":[73,62,59,44,36,16,43,50,18,49,18,24,28,69,90]},\"selected\":{\"id\":\"3636\"},\"selection_policy\":{\"id\":\"3635\"}},\"id\":\"3462\",\"type\":\"ColumnDataSource\"},{\"attributes\":{},\"id\":\"3629\",\"type\":\"StringFormatter\"}],\"root_ids\":[\"3463\"]},\"title\":\"Bokeh Application\",\"version\":\"2.4.2\"}};\n",
       "  const render_items = [{\"docid\":\"ad6c8a9f-e408-4d6d-947f-2d5f1f46965a\",\"root_ids\":[\"3463\"],\"roots\":{\"3463\":\"bc8b9a1a-7c25-4880-abce-2a2568b6bb11\"}}];\n",
       "  root.Bokeh.embed.embed_items_notebook(docs_json, render_items);\n",
       "\n",
       "  }\n",
       "  if (root.Bokeh !== undefined) {\n",
       "    embed_document(root);\n",
       "  } else {\n",
       "    let attempts = 0;\n",
       "    const timer = setInterval(function(root) {\n",
       "      if (root.Bokeh !== undefined) {\n",
       "        clearInterval(timer);\n",
       "        embed_document(root);\n",
       "      } else {\n",
       "        attempts++;\n",
       "        if (attempts > 100) {\n",
       "          clearInterval(timer);\n",
       "          console.log(\"Bokeh: ERROR: Unable to run BokehJS code because BokehJS library is missing\");\n",
       "        }\n",
       "      }\n",
       "    }, 10, root)\n",
       "  }\n",
       "})(window);"
      ],
      "application/vnd.bokehjs_exec.v0+json": ""
     },
     "metadata": {
      "application/vnd.bokehjs_exec.v0+json": {
       "id": "3463"
      }
     },
     "output_type": "display_data"
    }
   ],
   "source": [
    "show(datatable_from_dataframe(df))"
   ]
  },
  {
   "cell_type": "code",
   "execution_count": 38,
   "metadata": {},
   "outputs": [],
   "source": [
    "#export\n",
    "def bar_mixed_figure(df, group_keys:list, y_column_name, label_angle=0,\n",
    "                    agg_method='sum', tools=BOKEH_DEFAULT_TOOLS, title='mixed bar',\n",
    "                    toolbar_location=BOKEH_DEFAULT_TOOLBAR_LOC, draw_mean_line=False, line_alpha=0.8,\n",
    "                    legend_orientation = \"vertical\", legend_location = \"top_center\",\n",
    "                    label_offset_kwargs={'x_offset':-8, 'y_offset':2}, y_axis_label=None, x_axis_label=None,\n",
    "                    line_legend_label=\"平均值\", line_color=\"#4292c6\", hide_legend=True, **kwargs):\n",
    "    bar_group_keys = list(df[group_keys[-1]].unique())\n",
    "    palette = count2colors(len(bar_group_keys))\n",
    "    grouped_df = df.groupby(group_keys).agg(agg_method)\n",
    "    bar_legend_values = list(grouped_df.reset_index()[group_keys[-1]].values)\n",
    "    x = list(grouped_df.index)\n",
    "    counts = list(grouped_df[y_column_name].values)\n",
    "\n",
    "    source = ColumnDataSource(data=dict(x=x, counts=counts, bar_legend=bar_legend_values))\n",
    "\n",
    "    p = figure(x_range=FactorRange(*x), title=title, toolbar_location=toolbar_location, tools=tools, **kwargs)\n",
    "\n",
    "    p.vbar(x='x', top='counts', width=0.9, source=source, line_color=\"white\", legend_field='bar_legend',\n",
    "        fill_color=factor_cmap('x', palette=palette, factors=bar_group_keys, start=len(group_keys)-1, end=len(group_keys)))\n",
    "    labels = LabelSet(\n",
    "                x='x', y='counts', text='counts', angle=label_angle,\n",
    "                source=source, render_mode='canvas', text_font_size=\"9pt\", **label_offset_kwargs)\n",
    "    p.add_layout(labels)\n",
    "    if draw_mean_line:\n",
    "        line_data = df.groupby(group_keys[0])[y_column_name].mean().to_dict()\n",
    "        p.line(\n",
    "            x=list(line_data.keys()), y=list(line_data.values()), \n",
    "            color=line_color, line_width=2, legend_label=line_legend_label, alpha=line_alpha\n",
    "        )\n",
    "        p.circle(\n",
    "            x=list(line_data.keys()), y=list(line_data.values()), \n",
    "            fill_color='white', size=6, line_color='black', legend_label=line_legend_label, alpha=line_alpha\n",
    "        )\n",
    "        p.add_tools(HoverTool(tooltips=[('mean', '@y')]))\n",
    "    p.legend.orientation = legend_orientation\n",
    "    p.legend.location = legend_location\n",
    "    if hide_legend: p.legend.visible = False\n",
    "\n",
    "    p.y_range.start = 0\n",
    "    p.x_range.range_padding = 0.1\n",
    "    p.xaxis.major_label_orientation = 1\n",
    "    p.xgrid.grid_line_color = None\n",
    "    p.yaxis.axis_label = y_axis_label\n",
    "    p.xaxis.axis_label = x_axis_label\n",
    "    return p"
   ]
  },
  {
   "cell_type": "code",
   "execution_count": 39,
   "metadata": {},
   "outputs": [],
   "source": [
    "fruits_data_list = []\n",
    "fruits = ['Apples', 'Pears', 'Nectarines', 'Plums', 'Grapes', 'Strawberries']\n",
    "data = {\n",
    "    '2019'   : [2, 1, 4, 3, 2, 4],\n",
    "    '2020'   : [5, 3, 3, 2, 4, 6],\n",
    "    '2021'   : [3, 2, 4, 4, 5, 3]\n",
    "}\n",
    "for year in data:\n",
    "    for fruit, val in zip(fruits, data[year]):\n",
    "        fruits_data_list.append([fruit, year, val])\n",
    "fruits_df = pd.DataFrame(fruits_data_list, columns=['fruit', 'year', 'count'])"
   ]
  },
  {
   "cell_type": "code",
   "execution_count": 40,
   "metadata": {},
   "outputs": [
    {
     "data": {
      "text/html": [
       "\n",
       "\n",
       "\n",
       "\n",
       "\n",
       "\n",
       "  <div class=\"bk-root\" id=\"cc4b770d-d139-459b-8c0a-a39be183de89\" data-root-id=\"3679\"></div>\n"
      ]
     },
     "metadata": {},
     "output_type": "display_data"
    },
    {
     "data": {
      "application/javascript": [
       "(function(root) {\n",
       "  function embed_document(root) {\n",
       "    \n",
       "  const docs_json = {\"46d77e4b-b72a-4f55-9688-9659aae4f662\":{\"defs\":[],\"roots\":{\"references\":[{\"attributes\":{\"below\":[{\"id\":\"3689\"}],\"center\":[{\"id\":\"3691\"},{\"id\":\"3695\"},{\"id\":\"3719\"},{\"id\":\"3721\"}],\"left\":[{\"id\":\"3692\"}],\"renderers\":[{\"id\":\"3708\"},{\"id\":\"3727\"},{\"id\":\"3745\"}],\"title\":{\"id\":\"3680\"},\"toolbar\":{\"id\":\"3699\"},\"toolbar_location\":\"above\",\"x_range\":{\"id\":\"3678\"},\"x_scale\":{\"id\":\"3685\"},\"y_range\":{\"id\":\"3683\"},\"y_scale\":{\"id\":\"3687\"}},\"id\":\"3679\",\"subtype\":\"Figure\",\"type\":\"Plot\"},{\"attributes\":{\"coordinates\":null,\"group\":null,\"text\":\"mixed bar\"},\"id\":\"3680\",\"type\":\"Title\"},{\"attributes\":{},\"id\":\"3685\",\"type\":\"CategoricalScale\"},{\"attributes\":{\"coordinates\":null,\"formatter\":{\"id\":\"3715\"},\"group\":null,\"major_label_orientation\":1,\"major_label_policy\":{\"id\":\"3716\"},\"ticker\":{\"id\":\"3690\"}},\"id\":\"3689\",\"type\":\"CategoricalAxis\"},{\"attributes\":{\"fill_alpha\":{\"value\":0.2},\"fill_color\":{\"value\":\"white\"},\"hatch_alpha\":{\"value\":0.2},\"line_alpha\":{\"value\":0.2},\"size\":{\"value\":6},\"x\":{\"field\":\"x\"},\"y\":{\"field\":\"y\"}},\"id\":\"3744\",\"type\":\"Circle\"},{\"attributes\":{},\"id\":\"3713\",\"type\":\"AllLabels\"},{\"attributes\":{\"coordinates\":null,\"data_source\":{\"id\":\"3741\"},\"glyph\":{\"id\":\"3742\"},\"group\":null,\"hover_glyph\":null,\"muted_glyph\":{\"id\":\"3744\"},\"nonselection_glyph\":{\"id\":\"3743\"},\"view\":{\"id\":\"3746\"}},\"id\":\"3745\",\"type\":\"GlyphRenderer\"},{\"attributes\":{\"fill_alpha\":{\"value\":0.1},\"fill_color\":{\"field\":\"x\",\"transform\":{\"id\":\"3703\"}},\"hatch_alpha\":{\"value\":0.1},\"line_alpha\":{\"value\":0.1},\"line_color\":{\"value\":\"white\"},\"top\":{\"field\":\"counts\"},\"width\":{\"value\":0.9},\"x\":{\"field\":\"x\"}},\"id\":\"3706\",\"type\":\"VBar\"},{\"attributes\":{},\"id\":\"3712\",\"type\":\"BasicTickFormatter\"},{\"attributes\":{},\"id\":\"3716\",\"type\":\"AllLabels\"},{\"attributes\":{},\"id\":\"3715\",\"type\":\"CategoricalTickFormatter\"},{\"attributes\":{},\"id\":\"3739\",\"type\":\"Selection\"},{\"attributes\":{\"source\":{\"id\":\"3741\"}},\"id\":\"3746\",\"type\":\"CDSView\"},{\"attributes\":{\"data\":{\"x\":[\"Apples\",\"Grapes\",\"Nectarines\",\"Pears\",\"Plums\",\"Strawberries\"],\"y\":[3.3333333333333335,3.0,3.6666666666666665,2.0,3.0,5.0]},\"selected\":{\"id\":\"3759\"},\"selection_policy\":{\"id\":\"3758\"}},\"id\":\"3741\",\"type\":\"ColumnDataSource\"},{\"attributes\":{\"fill_color\":{\"field\":\"x\",\"transform\":{\"id\":\"3703\"}},\"line_color\":{\"value\":\"white\"},\"top\":{\"field\":\"counts\"},\"width\":{\"value\":0.9},\"x\":{\"field\":\"x\"}},\"id\":\"3705\",\"type\":\"VBar\"},{\"attributes\":{\"coordinates\":null,\"formatter\":{\"id\":\"3712\"},\"group\":null,\"major_label_policy\":{\"id\":\"3713\"},\"ticker\":{\"id\":\"3693\"}},\"id\":\"3692\",\"type\":\"LinearAxis\"},{\"attributes\":{},\"id\":\"3738\",\"type\":\"UnionRenderers\"},{\"attributes\":{},\"id\":\"3759\",\"type\":\"Selection\"},{\"attributes\":{\"tools\":[{\"id\":\"3696\"},{\"id\":\"3697\"},{\"id\":\"3698\"},{\"id\":\"3760\"}]},\"id\":\"3699\",\"type\":\"Toolbar\"},{\"attributes\":{},\"id\":\"3717\",\"type\":\"UnionRenderers\"},{\"attributes\":{\"coordinates\":null,\"group\":null,\"items\":[{\"id\":\"3720\"},{\"id\":\"3740\"}],\"location\":\"top_center\",\"visible\":false},\"id\":\"3719\",\"type\":\"Legend\"},{\"attributes\":{\"fill_alpha\":{\"value\":0.2},\"fill_color\":{\"field\":\"x\",\"transform\":{\"id\":\"3703\"}},\"hatch_alpha\":{\"value\":0.2},\"line_alpha\":{\"value\":0.2},\"line_color\":{\"value\":\"white\"},\"top\":{\"field\":\"counts\"},\"width\":{\"value\":0.9},\"x\":{\"field\":\"x\"}},\"id\":\"3707\",\"type\":\"VBar\"},{\"attributes\":{},\"id\":\"3718\",\"type\":\"Selection\"},{\"attributes\":{},\"id\":\"3687\",\"type\":\"LinearScale\"},{\"attributes\":{\"data\":{\"bar_legend\":[\"2019\",\"2020\",\"2021\",\"2019\",\"2020\",\"2019\",\"2020\",\"2021\",\"2019\",\"2020\",\"2021\",\"2019\",\"2020\",\"2021\",\"2019\",\"2020\"],\"counts\":[2,5,3,2,4,4,3,4,1,3,2,3,2,4,4,6],\"x\":[[\"Apples\",\"2019\"],[\"Apples\",\"2020\"],[\"Apples\",\"2021\"],[\"Grapes\",\"2019\"],[\"Grapes\",\"2020\"],[\"Nectarines\",\"2019\"],[\"Nectarines\",\"2020\"],[\"Nectarines\",\"2021\"],[\"Pears\",\"2019\"],[\"Pears\",\"2020\"],[\"Pears\",\"2021\"],[\"Plums\",\"2019\"],[\"Plums\",\"2020\"],[\"Plums\",\"2021\"],[\"Strawberries\",\"2019\"],[\"Strawberries\",\"2020\"]]},\"selected\":{\"id\":\"3718\"},\"selection_policy\":{\"id\":\"3717\"}},\"id\":\"3677\",\"type\":\"ColumnDataSource\"},{\"attributes\":{\"source\":{\"id\":\"3677\"}},\"id\":\"3709\",\"type\":\"CDSView\"},{\"attributes\":{\"axis\":{\"id\":\"3692\"},\"coordinates\":null,\"dimension\":1,\"group\":null,\"ticker\":null},\"id\":\"3695\",\"type\":\"Grid\"},{\"attributes\":{\"label\":{\"field\":\"bar_legend\"},\"renderers\":[{\"id\":\"3708\"}]},\"id\":\"3720\",\"type\":\"LegendItem\"},{\"attributes\":{\"line_alpha\":0.8,\"line_color\":\"#4292c6\",\"line_width\":2,\"x\":{\"field\":\"x\"},\"y\":{\"field\":\"y\"}},\"id\":\"3724\",\"type\":\"Line\"},{\"attributes\":{\"end\":2,\"factors\":[\"2019\",\"2020\",\"2021\"],\"palette\":[\"#66c2a5\",\"#fc8d62\",\"#8da0cb\"],\"start\":1},\"id\":\"3703\",\"type\":\"CategoricalColorMapper\"},{\"attributes\":{\"coordinates\":null,\"group\":null,\"source\":{\"id\":\"3677\"},\"text\":{\"field\":\"counts\"},\"text_font_size\":{\"value\":\"9pt\"},\"x\":{\"field\":\"x\"},\"x_offset\":{\"value\":-8},\"y\":{\"field\":\"counts\"},\"y_offset\":{\"value\":2}},\"id\":\"3721\",\"type\":\"LabelSet\"},{\"attributes\":{},\"id\":\"3690\",\"type\":\"CategoricalTicker\"},{\"attributes\":{\"start\":0},\"id\":\"3683\",\"type\":\"DataRange1d\"},{\"attributes\":{\"fill_alpha\":{\"value\":0.8},\"fill_color\":{\"value\":\"white\"},\"hatch_alpha\":{\"value\":0.8},\"line_alpha\":{\"value\":0.8},\"size\":{\"value\":6},\"x\":{\"field\":\"x\"},\"y\":{\"field\":\"y\"}},\"id\":\"3742\",\"type\":\"Circle\"},{\"attributes\":{},\"id\":\"3693\",\"type\":\"BasicTicker\"},{\"attributes\":{\"line_alpha\":0.2,\"line_color\":\"#4292c6\",\"line_width\":2,\"x\":{\"field\":\"x\"},\"y\":{\"field\":\"y\"}},\"id\":\"3726\",\"type\":\"Line\"},{\"attributes\":{\"axis\":{\"id\":\"3689\"},\"coordinates\":null,\"grid_line_color\":null,\"group\":null,\"ticker\":null},\"id\":\"3691\",\"type\":\"Grid\"},{\"attributes\":{},\"id\":\"3698\",\"type\":\"PanTool\"},{\"attributes\":{},\"id\":\"3697\",\"type\":\"ResetTool\"},{\"attributes\":{\"factors\":[[\"Apples\",\"2019\"],[\"Apples\",\"2020\"],[\"Apples\",\"2021\"],[\"Grapes\",\"2019\"],[\"Grapes\",\"2020\"],[\"Nectarines\",\"2019\"],[\"Nectarines\",\"2020\"],[\"Nectarines\",\"2021\"],[\"Pears\",\"2019\"],[\"Pears\",\"2020\"],[\"Pears\",\"2021\"],[\"Plums\",\"2019\"],[\"Plums\",\"2020\"],[\"Plums\",\"2021\"],[\"Strawberries\",\"2019\"],[\"Strawberries\",\"2020\"]],\"range_padding\":0.1},\"id\":\"3678\",\"type\":\"FactorRange\"},{\"attributes\":{\"coordinates\":null,\"data_source\":{\"id\":\"3723\"},\"glyph\":{\"id\":\"3724\"},\"group\":null,\"hover_glyph\":null,\"muted_glyph\":{\"id\":\"3726\"},\"nonselection_glyph\":{\"id\":\"3725\"},\"view\":{\"id\":\"3728\"}},\"id\":\"3727\",\"type\":\"GlyphRenderer\"},{\"attributes\":{},\"id\":\"3696\",\"type\":\"SaveTool\"},{\"attributes\":{\"callback\":null,\"tooltips\":[[\"mean\",\"@y\"]]},\"id\":\"3760\",\"type\":\"HoverTool\"},{\"attributes\":{\"source\":{\"id\":\"3723\"}},\"id\":\"3728\",\"type\":\"CDSView\"},{\"attributes\":{},\"id\":\"3758\",\"type\":\"UnionRenderers\"},{\"attributes\":{\"data\":{\"x\":[\"Apples\",\"Grapes\",\"Nectarines\",\"Pears\",\"Plums\",\"Strawberries\"],\"y\":[3.3333333333333335,3.0,3.6666666666666665,2.0,3.0,5.0]},\"selected\":{\"id\":\"3739\"},\"selection_policy\":{\"id\":\"3738\"}},\"id\":\"3723\",\"type\":\"ColumnDataSource\"},{\"attributes\":{\"fill_alpha\":{\"value\":0.1},\"fill_color\":{\"value\":\"white\"},\"hatch_alpha\":{\"value\":0.1},\"line_alpha\":{\"value\":0.1},\"size\":{\"value\":6},\"x\":{\"field\":\"x\"},\"y\":{\"field\":\"y\"}},\"id\":\"3743\",\"type\":\"Circle\"},{\"attributes\":{\"line_alpha\":0.1,\"line_color\":\"#4292c6\",\"line_width\":2,\"x\":{\"field\":\"x\"},\"y\":{\"field\":\"y\"}},\"id\":\"3725\",\"type\":\"Line\"},{\"attributes\":{\"coordinates\":null,\"data_source\":{\"id\":\"3677\"},\"glyph\":{\"id\":\"3705\"},\"group\":null,\"hover_glyph\":null,\"muted_glyph\":{\"id\":\"3707\"},\"nonselection_glyph\":{\"id\":\"3706\"},\"view\":{\"id\":\"3709\"}},\"id\":\"3708\",\"type\":\"GlyphRenderer\"},{\"attributes\":{\"label\":{\"value\":\"\\u5e73\\u5747\\u503c\"},\"renderers\":[{\"id\":\"3727\"},{\"id\":\"3745\"}]},\"id\":\"3740\",\"type\":\"LegendItem\"}],\"root_ids\":[\"3679\"]},\"title\":\"Bokeh Application\",\"version\":\"2.4.2\"}};\n",
       "  const render_items = [{\"docid\":\"46d77e4b-b72a-4f55-9688-9659aae4f662\",\"root_ids\":[\"3679\"],\"roots\":{\"3679\":\"cc4b770d-d139-459b-8c0a-a39be183de89\"}}];\n",
       "  root.Bokeh.embed.embed_items_notebook(docs_json, render_items);\n",
       "\n",
       "  }\n",
       "  if (root.Bokeh !== undefined) {\n",
       "    embed_document(root);\n",
       "  } else {\n",
       "    let attempts = 0;\n",
       "    const timer = setInterval(function(root) {\n",
       "      if (root.Bokeh !== undefined) {\n",
       "        clearInterval(timer);\n",
       "        embed_document(root);\n",
       "      } else {\n",
       "        attempts++;\n",
       "        if (attempts > 100) {\n",
       "          clearInterval(timer);\n",
       "          console.log(\"Bokeh: ERROR: Unable to run BokehJS code because BokehJS library is missing\");\n",
       "        }\n",
       "      }\n",
       "    }, 10, root)\n",
       "  }\n",
       "})(window);"
      ],
      "application/vnd.bokehjs_exec.v0+json": ""
     },
     "metadata": {
      "application/vnd.bokehjs_exec.v0+json": {
       "id": "3679"
      }
     },
     "output_type": "display_data"
    }
   ],
   "source": [
    "p = bar_mixed_figure(fruits_df[:-2], ['fruit', 'year'], 'count', draw_mean_line=True)\n",
    "show(p)"
   ]
  },
  {
   "cell_type": "code",
   "execution_count": 41,
   "metadata": {},
   "outputs": [],
   "source": [
    "#export\n",
    "def text_figure(text, plot_width=600, plot_height=200, **kwargs):\n",
    "    p = Paragraph(text=text, width=plot_width, height=plot_height, **kwargs)\n",
    "    return p\n"
   ]
  },
  {
   "cell_type": "code",
   "execution_count": 42,
   "metadata": {},
   "outputs": [
    {
     "data": {
      "text/html": [
       "\n",
       "\n",
       "\n",
       "\n",
       "\n",
       "\n",
       "  <div class=\"bk-root\" id=\"b0148a6b-d03a-4b37-b7dd-d521c919c34c\" data-root-id=\"4011\"></div>\n"
      ]
     },
     "metadata": {},
     "output_type": "display_data"
    },
    {
     "data": {
      "application/javascript": [
       "(function(root) {\n",
       "  function embed_document(root) {\n",
       "    \n",
       "  const docs_json = {\"82b77209-5111-4d75-8a48-f24ed4832449\":{\"defs\":[],\"roots\":{\"references\":[{\"attributes\":{\"height\":200,\"text\":\"Your text is initialized with the 'text' argument.  The\\nremaining Paragraph arguments are 'width' and 'height'. For this example, those values\\nare 200 and 100, respectively.\",\"width\":800},\"id\":\"4011\",\"type\":\"Paragraph\"}],\"root_ids\":[\"4011\"]},\"title\":\"Bokeh Application\",\"version\":\"2.4.2\"}};\n",
       "  const render_items = [{\"docid\":\"82b77209-5111-4d75-8a48-f24ed4832449\",\"root_ids\":[\"4011\"],\"roots\":{\"4011\":\"b0148a6b-d03a-4b37-b7dd-d521c919c34c\"}}];\n",
       "  root.Bokeh.embed.embed_items_notebook(docs_json, render_items);\n",
       "\n",
       "  }\n",
       "  if (root.Bokeh !== undefined) {\n",
       "    embed_document(root);\n",
       "  } else {\n",
       "    let attempts = 0;\n",
       "    const timer = setInterval(function(root) {\n",
       "      if (root.Bokeh !== undefined) {\n",
       "        clearInterval(timer);\n",
       "        embed_document(root);\n",
       "      } else {\n",
       "        attempts++;\n",
       "        if (attempts > 100) {\n",
       "          clearInterval(timer);\n",
       "          console.log(\"Bokeh: ERROR: Unable to run BokehJS code because BokehJS library is missing\");\n",
       "        }\n",
       "      }\n",
       "    }, 10, root)\n",
       "  }\n",
       "})(window);"
      ],
      "application/vnd.bokehjs_exec.v0+json": ""
     },
     "metadata": {
      "application/vnd.bokehjs_exec.v0+json": {
       "id": "4011"
      }
     },
     "output_type": "display_data"
    }
   ],
   "source": [
    "text=\"\"\"Your text is initialized with the 'text' argument.  The\n",
    "remaining Paragraph arguments are 'width' and 'height'. For this example, those values\n",
    "are 200 and 100, respectively.\"\"\"\n",
    "show(text_figure(text, plot_width=800))"
   ]
  },
  {
   "cell_type": "code",
   "execution_count": null,
   "metadata": {},
   "outputs": [],
   "source": []
  }
 ],
 "metadata": {
  "interpreter": {
   "hash": "a7fe057d0c9ee00873c1158c26f433bb93b25e835d748ab1d2b96b6108282de5"
  },
  "kernelspec": {
   "display_name": "Python 3",
   "language": "python",
   "name": "python3"
  },
  "language_info": {
   "codemirror_mode": {
    "name": "ipython",
    "version": 3
   },
   "file_extension": ".py",
   "mimetype": "text/x-python",
   "name": "python",
   "nbconvert_exporter": "python",
   "pygments_lexer": "ipython3",
   "version": "3.8.5"
  }
 },
 "nbformat": 4,
 "nbformat_minor": 2
}
