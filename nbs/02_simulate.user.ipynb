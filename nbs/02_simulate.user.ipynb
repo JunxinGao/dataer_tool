{
 "cells": [
  {
   "cell_type": "code",
   "execution_count": 1,
   "source": [
    "# default_exp simulate.user"
   ],
   "outputs": [],
   "metadata": {}
  },
  {
   "cell_type": "markdown",
   "source": [
    "# Simulate User\n",
    "\n",
    "> call randomuser.me API to simulate users."
   ],
   "metadata": {}
  },
  {
   "cell_type": "code",
   "execution_count": 2,
   "source": [
    "#hide\n",
    "from nbdev.showdoc import *"
   ],
   "outputs": [],
   "metadata": {}
  },
  {
   "cell_type": "code",
   "execution_count": 3,
   "source": [
    "#export\n",
    "from dataer_tool.imports import *"
   ],
   "outputs": [],
   "metadata": {}
  },
  {
   "cell_type": "code",
   "execution_count": 15,
   "source": [
    "#export\n",
    "def api2data(api_url):\n",
    "    r = requests.get(api_url)\n",
    "    return r.json()"
   ],
   "outputs": [],
   "metadata": {}
  },
  {
   "cell_type": "code",
   "execution_count": 16,
   "source": [
    "#export\n",
    "def random_user(api_url='https://randomuser.me/api/?exec=login'):\n",
    "    return api2data(api_url)"
   ],
   "outputs": [],
   "metadata": {}
  },
  {
   "cell_type": "code",
   "execution_count": 20,
   "source": [
    "random_user()['results']"
   ],
   "outputs": [
    {
     "output_type": "execute_result",
     "data": {
      "text/plain": [
       "[{'gender': 'male',\n",
       "  'name': {'title': 'Mr', 'first': 'Christian', 'last': 'Hansen'},\n",
       "  'location': {'street': {'number': 4083, 'name': 'Pilevangen'},\n",
       "   'city': 'Haslev',\n",
       "   'state': 'Nordjylland',\n",
       "   'country': 'Denmark',\n",
       "   'postcode': 46317,\n",
       "   'coordinates': {'latitude': '-29.1630', 'longitude': '-155.4933'},\n",
       "   'timezone': {'offset': '+10:00',\n",
       "    'description': 'Eastern Australia, Guam, Vladivostok'}},\n",
       "  'email': 'christian.hansen@example.com',\n",
       "  'login': {'uuid': '32f69486-28a2-4b04-bfb6-5c764f733034',\n",
       "   'username': 'redgorilla416',\n",
       "   'password': 'wizards',\n",
       "   'salt': 'hFOkTdrS',\n",
       "   'md5': 'b4336a881577c0f727c43bbb838dde7e',\n",
       "   'sha1': '0dea244ec6ab79dbaaab33fe686159ddd5c2061a',\n",
       "   'sha256': '09524a126ab3f9f95bde7514994ed993b8410aaa115bc7fbf38f969af08aab94'},\n",
       "  'dob': {'date': '1986-10-02T15:43:28.195Z', 'age': 35},\n",
       "  'registered': {'date': '2010-12-22T06:31:06.930Z', 'age': 11},\n",
       "  'phone': '29422023',\n",
       "  'cell': '82441589',\n",
       "  'id': {'name': 'CPR', 'value': '021086-7774'},\n",
       "  'picture': {'large': 'https://randomuser.me/api/portraits/men/41.jpg',\n",
       "   'medium': 'https://randomuser.me/api/portraits/med/men/41.jpg',\n",
       "   'thumbnail': 'https://randomuser.me/api/portraits/thumb/men/41.jpg'},\n",
       "  'nat': 'DK'}]"
      ]
     },
     "metadata": {},
     "execution_count": 20
    }
   ],
   "metadata": {}
  },
  {
   "cell_type": "code",
   "execution_count": null,
   "source": [],
   "outputs": [],
   "metadata": {}
  }
 ],
 "metadata": {
  "interpreter": {
   "hash": "a7fe057d0c9ee00873c1158c26f433bb93b25e835d748ab1d2b96b6108282de5"
  },
  "kernelspec": {
   "display_name": "Python 3",
   "language": "python",
   "name": "python3"
  },
  "language_info": {
   "name": "python",
   "version": "3.8.5",
   "mimetype": "text/x-python",
   "codemirror_mode": {
    "name": "ipython",
    "version": 3
   },
   "pygments_lexer": "ipython3",
   "nbconvert_exporter": "python",
   "file_extension": ".py"
  }
 },
 "nbformat": 4,
 "nbformat_minor": 2
}